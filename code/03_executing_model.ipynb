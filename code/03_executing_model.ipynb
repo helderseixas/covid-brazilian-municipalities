{
 "cells": [
  {
   "cell_type": "markdown",
   "source": [
    "# Executing fuzzy SIRDS model to data from the selected municipalities"
   ],
   "metadata": {
    "collapsed": false
   }
  },
  {
   "cell_type": "code",
   "execution_count": 1,
   "metadata": {
    "collapsed": true,
    "ExecuteTime": {
     "end_time": "2024-01-24T12:49:57.711992988Z",
     "start_time": "2024-01-24T12:49:57.130413660Z"
    }
   },
   "outputs": [],
   "source": [
    "import pandas as pd\n",
    "from scipy.optimize import differential_evolution\n",
    "from datetime import datetime\n",
    "\n",
    "from model.sirds_model import get_bounds_and_arguments, sirds_objective_function"
   ]
  },
  {
   "cell_type": "markdown",
   "source": [
    "## Reading data"
   ],
   "metadata": {
    "collapsed": false
   }
  },
  {
   "cell_type": "code",
   "execution_count": 2,
   "outputs": [],
   "source": [
    "df = pd.read_csv('../data/df_ts_epidemic_episodes.csv', index_col=0)\n",
    "df.DATA = pd.to_datetime(df.DATA)"
   ],
   "metadata": {
    "collapsed": false,
    "ExecuteTime": {
     "end_time": "2024-01-24T12:49:58.088575368Z",
     "start_time": "2024-01-24T12:49:57.714785648Z"
    }
   }
  },
  {
   "cell_type": "code",
   "execution_count": 3,
   "outputs": [
    {
     "data": {
      "text/plain": "Timestamp('2022-12-31 00:00:00')"
     },
     "execution_count": 3,
     "metadata": {},
     "output_type": "execute_result"
    }
   ],
   "source": [
    "max_date_to_fit = df.DATA.max()\n",
    "max_date_to_fit"
   ],
   "metadata": {
    "collapsed": false,
    "ExecuteTime": {
     "end_time": "2024-01-24T12:49:58.110134970Z",
     "start_time": "2024-01-24T12:49:58.090698737Z"
    }
   }
  },
  {
   "cell_type": "code",
   "execution_count": 4,
   "outputs": [],
   "source": [
    "cumulative_days_in_first_outbreak_to_max_bound_I0 = 56"
   ],
   "metadata": {
    "collapsed": false,
    "ExecuteTime": {
     "end_time": "2024-01-24T12:49:58.154874329Z",
     "start_time": "2024-01-24T12:49:58.104682139Z"
    }
   }
  },
  {
   "cell_type": "markdown",
   "source": [
    "## Execution SIRDS model"
   ],
   "metadata": {
    "collapsed": false
   }
  },
  {
   "cell_type": "code",
   "execution_count": 5,
   "outputs": [],
   "source": [
    "df = df.sort_values(by=['MUNICIPIO', 'DATA'])"
   ],
   "metadata": {
    "collapsed": false,
    "ExecuteTime": {
     "end_time": "2024-01-24T12:49:58.203509465Z",
     "start_time": "2024-01-24T12:49:58.148108556Z"
    }
   }
  },
  {
   "cell_type": "code",
   "outputs": [
    {
     "data": {
      "text/plain": "Index(['DATA', 'CODIGO_MUNICIPIO_6', 'OBITOS_NOVOS', 'OBITOS', 'day_of_week',\n       'OBITOS_NOVOS_MEDIA_MOVEL_7_DIAS', 'MUNICIPIO', 'SIGLA_ESTADO',\n       'ESTADO', 'REGIAO', 'POPULACAO_2022', 'TAXA_OBITOS_NOVOS',\n       'TAXA_OBITOS_NOVOS_MEDIA_MOVEL_7_DIAS', 'TAXA_OBITOS',\n       'NOVOS_CASOS_SRAG', 'casosNovos', 'casosAcumulado',\n       'CASOS_NOVOS_MEDIA_MOVEL_7_DIAS',\n       'NUMERO_REPRODUCAO_EFETIVO_SRAG_MEDIA',\n       'NUMERO_REPRODUCAO_EFETIVO_SRAG_VARIANCIA',\n       'NUMERO_REPRODUCAO_EFETIVO_SRAG_QUANTIL_0.025',\n       'NUMERO_REPRODUCAO_EFETIVO_SRAG_MEDIANA',\n       'NUMERO_REPRODUCAO_EFETIVO_SRAG_QUANTIL_0.975',\n       'NUMERO_REPRODUCAO_EFETIVO_MEDIA',\n       'NUMERO_REPRODUCAO_EFETIVO_VARIANCIA',\n       'NUMERO_REPRODUCAO_EFETIVO_QUANTIL_0.025',\n       'NUMERO_REPRODUCAO_EFETIVO_MEDIANA',\n       'NUMERO_REPRODUCAO_EFETIVO_QUANTIL_0.975',\n       'NUMERO_REPRODUCAO_EFETIVO_ATRASADO_MEDIA',\n       'NUMERO_REPRODUCAO_EFETIVO_ATRASADO_VARIANCIA',\n       'NUMERO_REPRODUCAO_EFETIVO_ATRASADO_QUANTIL_0.025',\n       'NUMERO_REPRODUCAO_EFETIVO_ATRASADO_MEDIANA',\n       'NUMERO_REPRODUCAO_EFETIVO_ATRASADO_QUANTIL_0.975', 'TAXA_FATALIDADE',\n       'EPIDEMIC_EPISODE', 'ONSET_NUMERO_REPRODUCAO_EFETIVO_MEDIA',\n       'ONSET_TAXA_OBITOS_NOVOS_MEDIA_MOVEL_7_DIAS'],\n      dtype='object')"
     },
     "execution_count": 6,
     "metadata": {},
     "output_type": "execute_result"
    }
   ],
   "source": [
    "df.columns"
   ],
   "metadata": {
    "collapsed": false,
    "ExecuteTime": {
     "end_time": "2024-01-24T12:49:58.251382750Z",
     "start_time": "2024-01-24T12:49:58.204485958Z"
    }
   },
   "execution_count": 6
  },
  {
   "cell_type": "code",
   "outputs": [
    {
     "data": {
      "text/plain": "            DATA  NOVOS_CASOS_SRAG\n9225  2020-03-12              88.0\n9226  2020-03-13              89.0\n9227  2020-03-14             136.0\n9228  2020-03-15             153.0\n9229  2020-03-16             196.0\n...          ...               ...\n10245 2022-12-27              25.0\n10246 2022-12-28              15.0\n10247 2022-12-29              15.0\n10248 2022-12-30              12.0\n10249 2022-12-31              25.0\n\n[1025 rows x 2 columns]",
      "text/html": "<div>\n<style scoped>\n    .dataframe tbody tr th:only-of-type {\n        vertical-align: middle;\n    }\n\n    .dataframe tbody tr th {\n        vertical-align: top;\n    }\n\n    .dataframe thead th {\n        text-align: right;\n    }\n</style>\n<table border=\"1\" class=\"dataframe\">\n  <thead>\n    <tr style=\"text-align: right;\">\n      <th></th>\n      <th>DATA</th>\n      <th>NOVOS_CASOS_SRAG</th>\n    </tr>\n  </thead>\n  <tbody>\n    <tr>\n      <th>9225</th>\n      <td>2020-03-12</td>\n      <td>88.0</td>\n    </tr>\n    <tr>\n      <th>9226</th>\n      <td>2020-03-13</td>\n      <td>89.0</td>\n    </tr>\n    <tr>\n      <th>9227</th>\n      <td>2020-03-14</td>\n      <td>136.0</td>\n    </tr>\n    <tr>\n      <th>9228</th>\n      <td>2020-03-15</td>\n      <td>153.0</td>\n    </tr>\n    <tr>\n      <th>9229</th>\n      <td>2020-03-16</td>\n      <td>196.0</td>\n    </tr>\n    <tr>\n      <th>...</th>\n      <td>...</td>\n      <td>...</td>\n    </tr>\n    <tr>\n      <th>10245</th>\n      <td>2022-12-27</td>\n      <td>25.0</td>\n    </tr>\n    <tr>\n      <th>10246</th>\n      <td>2022-12-28</td>\n      <td>15.0</td>\n    </tr>\n    <tr>\n      <th>10247</th>\n      <td>2022-12-29</td>\n      <td>15.0</td>\n    </tr>\n    <tr>\n      <th>10248</th>\n      <td>2022-12-30</td>\n      <td>12.0</td>\n    </tr>\n    <tr>\n      <th>10249</th>\n      <td>2022-12-31</td>\n      <td>25.0</td>\n    </tr>\n  </tbody>\n</table>\n<p>1025 rows × 2 columns</p>\n</div>"
     },
     "execution_count": 10,
     "metadata": {},
     "output_type": "execute_result"
    }
   ],
   "source": [
    "df[df.MUNICIPIO == 'São Paulo'][['DATA','NOVOS_CASOS_SRAG']]"
   ],
   "metadata": {
    "collapsed": false,
    "ExecuteTime": {
     "end_time": "2024-01-24T12:58:13.909413450Z",
     "start_time": "2024-01-24T12:58:13.896335405Z"
    }
   },
   "execution_count": 10
  },
  {
   "cell_type": "code",
   "outputs": [],
   "source": [
    "df['TAXA_CASOS_NOVOS_MEDIA_MOVEL_7_DIAS'] = df['CASOS_NOVOS_MEDIA_MOVEL_7_DIAS'] / df['POPULACAO_2022'] * 100000"
   ],
   "metadata": {
    "collapsed": false,
    "ExecuteTime": {
     "end_time": "2024-01-11T21:20:20.741541741Z",
     "start_time": "2024-01-11T21:20:20.663716614Z"
    }
   },
   "execution_count": 7
  },
  {
   "cell_type": "code",
   "execution_count": null,
   "outputs": [
    {
     "name": "stdout",
     "output_type": "stream",
     "text": [
      "municipality:  520140   Aparecida de Goiânia\n",
      "municipality:  280030   Aracaju\n",
      "municipality:  310620   Belo Horizonte\n",
      "municipality:  150140   Belém\n",
      "municipality:  350950   Campinas\n",
      "municipality:  500270   Campo Grande\n",
      "municipality:  311860   Contagem\n",
      "municipality:  510340   Cuiabá\n",
      "municipality:  410690   Curitiba\n",
      "municipality:  330170   Duque de Caxias\n",
      "municipality:  291080   Feira de Santana\n",
      "estimation: 0\n",
      "[(0.1622631693129248, 693.1067641010351), (5.3182840658122075, 5.934409094895811), (0.0007465742086202607, 0.013300999999999999), (0.0008937709907826997, 0.013300999999999999), (0.00017749058624421722, 0.007678734569747729), (9.900000000000001e-05, 0.0030672771665941523), (89.999999, 365.000001), (89.999999, 365.000001), (89.999999, 365.000001), (89.999999, 365.000001), (5.3182840658122075, 8.557512083272576), (1.9713107732406654, 6.571040244135553), (1.9713107732406654, 8.904070653853912), (2.3530170927474963, 7.843394642491655), (2.3530170927474963, 9.00407328160982), (1.862027758218169, 6.206763527393897), (1.862027758218169, 9.037465404049293), (2.0910730507025335, 6.970247835675113), (2.0910730507025335, 9.435122827235876), (2.176966420949409, 7.256559069831364), (2.176966420949409, 8.128189681327576), (2.3452106516922315, 7.817373172307439), (1.7212863667701104, 5.737625555900368), (1.7212863667701104, 10.63762398330413), (1.8125933461457997, 6.041982153819332), (1.8125933461457997, 8.993928640852262), (1.6571297494803932, 5.5237701649346445), (1.6571297494803932, 11.042294422780513), (48.999999, 79.000001), (178.999999, 238.000001), (237.999999, 251.000001), (287.999999, 290.000001), (289.999999, 294.000001), (309.999999, 341.000001), (340.999999, 353.000001), (370.999999, 381.000001), (380.999999, 418.000001), (495.999999, 502.000001), (501.999999, 515.000001), (536.999999, 544.000001), (563.999999, 662.000001), (661.999999, 680.000001), (735.999999, 826.000001), (825.999999, 844.000001), (885.999999, 968.000001), (967.999999, 985.000001), (-1e-06, 56.000001), (-1e-06, 56.000001), (-1e-06, 56.000001), (-1e-06, 56.000001), (-1e-06, 56.000001), (-1e-06, 56.000001), (-1e-06, 56.000001), (-1e-06, 56.000001), (-1e-06, 56.000001), (-1e-06, 56.000001), (-1e-06, 56.000001), (-1e-06, 56.000001), (-1e-06, 56.000001), (-1e-06, 56.000001), (-1e-06, 56.000001), (-1e-06, 56.000001), (-1e-06, 56.000001), (-1e-06, 56.000001)]\n",
      "2024-01-11 18:20:20.731824\n"
     ]
    }
   ],
   "source": [
    "try:\n",
    "    df_initial_results = pd.read_csv('data/execution_results.csv')\n",
    "except:\n",
    "    df_initial_results = pd.DataFrame({'municipality_id':[]})\n",
    "\n",
    "df_results = df_initial_results.copy()\n",
    "\n",
    "DAYS_TO_RECOVERY = 8\n",
    "\n",
    "DIFFERENTIAL_EVOLUTION_POP_SIZE_FACTOR = 5\n",
    "NUMBER_ESTIMATON_PER_COUNTRY = 20\n",
    "\n",
    "for estimation in range(NUMBER_ESTIMATON_PER_COUNTRY):        \n",
    "    for municipality_id in df.CODIGO_MUNICIPIO_6.unique():       \n",
    "        df_municipality = df[(df.CODIGO_MUNICIPIO_6 == municipality_id) & (df.DATA <= max_date_to_fit)].reset_index(drop=True)\n",
    "        municipality = df_municipality.MUNICIPIO.unique()[0]\n",
    "        print('municipality: ', municipality_id, ' ', municipality)\n",
    "        \n",
    "        # Dates about begin time series and first case        \n",
    "        date_first_case = min(df_municipality[(df_municipality.NOVOS_CASOS_SRAG > 0)].iloc[0].DATA, df_municipality[(df_municipality.casosNovos > 0)].iloc[0].DATA)       \n",
    "\n",
    "        # Period of analysis\n",
    "        period_in_days = (max_date_to_fit - date_first_case).days + 1\n",
    "                           \n",
    "        estimations_performed = len(df_results[(df_results.municipality_id == municipality_id)])\n",
    "    \n",
    "        if (estimation == estimations_performed):\n",
    "            print('estimation: '+str(estimation))\n",
    "            \n",
    "            rt_column = 'NUMERO_REPRODUCAO_EFETIVO_SRAG_MEDIA'\n",
    "            # rt_column = 'reproduction_rate'\n",
    "            \n",
    "            bounds, args = get_bounds_and_arguments(df_municipality, 'DATA', 'TAXA_OBITOS_NOVOS_MEDIA_MOVEL_7_DIAS', rt_column, 'TAXA_CASOS_NOVOS_MEDIA_MOVEL_7_DIAS', 'ONSET_NUMERO_REPRODUCAO_EFETIVO_MEDIA', DAYS_TO_RECOVERY, date_first_case, max_date_to_fit, df_municipality.POPULACAO_2022.iloc[0], period_in_days, cumulative_days_in_first_outbreak_to_max_bound_I0)\n",
    "            \n",
    "            print(bounds)\n",
    "            \n",
    "            # Record the start time\n",
    "            start_time = datetime.now()\n",
    "            print(start_time)\n",
    "\n",
    "            result = differential_evolution(sirds_objective_function, bounds, args=args, popsize=DIFFERENTIAL_EVOLUTION_POP_SIZE_FACTOR, maxiter=10000, workers=11, updating='deferred')\n",
    "    \n",
    "            # Record the end time\n",
    "            end_time = datetime.now()\n",
    "    \n",
    "            # Calculate the duration (in seconds) for the optimization\n",
    "            duration = (end_time - start_time).total_seconds()\n",
    "            print(duration)\n",
    "            \n",
    "            list_breakpoints_in_slow_transition = args[4]\n",
    "            quantity_outbreaks = args[5]\n",
    "            quantity_outbreak_adjustments = args[6]\n",
    "    \n",
    "            # Create a dictionary to store results\n",
    "            estimation_result = {\n",
    "                'municipality_id': municipality_id,\n",
    "                'municipality': municipality,\n",
    "                'estimation': estimation,  # To differentiate between multiple estimations\n",
    "                'result_fun': result.fun,\n",
    "                'result_nfev': result.nfev,\n",
    "                'result_nit': result.nit,\n",
    "                'result_success': result.success,\n",
    "                'start_time': start_time.strftime('%Y-%m-%d %H:%M:%S'),  # Format start time as a string\n",
    "                'end_time': end_time.strftime('%Y-%m-%d %H:%M:%S'),  # Format end time as a string\n",
    "                'duration_seconds': duration,  # Duration in seconds\n",
    "                'pop_size': DIFFERENTIAL_EVOLUTION_POP_SIZE_FACTOR,\n",
    "                'period_in_days': period_in_days,\n",
    "                'days_to_recovery': DAYS_TO_RECOVERY,\n",
    "                'cumulative_days_in_first_outbreak_to_max_bound_I0': cumulative_days_in_first_outbreak_to_max_bound_I0,\n",
    "                'date_first_case': date_first_case,\n",
    "                'list_breakpoints_in_slow_transition': list_breakpoints_in_slow_transition,\n",
    "                'x_initial_infected_population': result.x[0],\n",
    "                'x_days_between_infections_0': result.x[1]\n",
    "            }\n",
    "            \n",
    "            quantity_epidemic_periods_with_slow_transition = len(list_breakpoints_in_slow_transition) + 1\n",
    "            \n",
    "            for p in range(quantity_epidemic_periods_with_slow_transition):\n",
    "                estimation_result['x_case_fatality_probability_'+str(p)] = result.x[2 + p]\n",
    "                estimation_result['x_loss_immunity_in_days_'+str(p)] = result.x[2 + quantity_epidemic_periods_with_slow_transition + p]                                                 \n",
    "            quantity_breakpoints = (quantity_outbreaks - 1) + (quantity_outbreak_adjustments)\n",
    "            begin_breakpoint_parameters = 2 + 2*quantity_epidemic_periods_with_slow_transition\n",
    "            for b in range(quantity_breakpoints):\n",
    "                estimation_result['x_days_between_infections_'+str(b+1)] = result.x[begin_breakpoint_parameters + b]\n",
    "                estimation_result['x_breakpoint_'+str(b+1)] = result.x[begin_breakpoint_parameters + quantity_breakpoints + b]\n",
    "                estimation_result['x_transition_days_between_epidemic_periods_'+str(b+1)] = result.x[begin_breakpoint_parameters + 2*quantity_breakpoints + b]\n",
    "    \n",
    "            print(estimation_result)\n",
    "    \n",
    "            # Append the estimation result to the list            \n",
    "            df_results = pd.concat([df_results, pd.DataFrame.from_records([estimation_result])])\n",
    "    \n",
    "            df_results.to_csv('../data/execution_results.csv', index=False)           "
   ],
   "metadata": {
    "collapsed": false,
    "is_executing": true,
    "ExecuteTime": {
     "start_time": "2024-01-11T21:20:20.707461503Z"
    }
   }
  },
  {
   "cell_type": "code",
   "execution_count": null,
   "outputs": [],
   "source": [
    "bounds[0]"
   ],
   "metadata": {
    "collapsed": false,
    "is_executing": true
   }
  },
  {
   "cell_type": "code",
   "execution_count": null,
   "outputs": [],
   "source": [
    "df_municipality[['date', 'rate_new_deaths_moving_average', 'rate_new_cases_moving_average', 'estimated_onset_by_deaths', 'NUMERO_REPRODUCAO_EFETIVO_ATRASADO_MEDIA']]"
   ],
   "metadata": {
    "collapsed": false,
    "is_executing": true
   }
  },
  {
   "cell_type": "code",
   "execution_count": null,
   "outputs": [],
   "source": [
    "min(df_municipality[(df_municipality.rate_new_cases_moving_average > 0)].iloc[0].date, df_municipality[(df_municipality.estimated_onset_by_deaths > 0)].iloc[0].date)"
   ],
   "metadata": {
    "collapsed": false,
    "is_executing": true
   }
  },
  {
   "cell_type": "code",
   "execution_count": null,
   "outputs": [],
   "source": [
    "df_municipality[(df_municipality.rate_new_cases_moving_average > 0)].iloc[0].date"
   ],
   "metadata": {
    "collapsed": false,
    "is_executing": true
   }
  },
  {
   "cell_type": "code",
   "execution_count": null,
   "outputs": [],
   "source": [
    "df_municipality[(df_municipality.estimated_onset_by_deaths > 0)].iloc[0].date"
   ],
   "metadata": {
    "collapsed": false,
    "is_executing": true
   }
  },
  {
   "cell_type": "code",
   "execution_count": null,
   "outputs": [],
   "source": [
    "outbreaks = df.groupby('ONSET_NUMERO_REPRODUCAO_EFETIVO_MEDIA').agg({'date': ['min', 'max']})\n",
    "outbreaks"
   ],
   "metadata": {
    "collapsed": false,
    "is_executing": true
   }
  },
  {
   "cell_type": "code",
   "execution_count": null,
   "outputs": [],
   "source": [
    "outbreaks.iloc[0][('date','min')]"
   ],
   "metadata": {
    "collapsed": false,
    "is_executing": true
   }
  },
  {
   "cell_type": "code",
   "execution_count": null,
   "outputs": [],
   "source": [
    "rt_in_outbreak = df_municipality[\n",
    "    (df_municipality['date'] >= outbreaks.iloc[0][('date', 'min')]) &\n",
    "    (df_municipality['date'] <= outbreaks.iloc[0][('date', 'max')])][rt_column].values\n",
    "rt_in_outbreak"
   ],
   "metadata": {
    "collapsed": false,
    "is_executing": true
   }
  },
  {
   "cell_type": "code",
   "execution_count": null,
   "outputs": [],
   "source": [
    "df_results"
   ],
   "metadata": {
    "collapsed": false,
    "is_executing": true
   }
  }
 ],
 "metadata": {
  "kernelspec": {
   "display_name": "Python 3",
   "language": "python",
   "name": "python3"
  },
  "language_info": {
   "codemirror_mode": {
    "name": "ipython",
    "version": 2
   },
   "file_extension": ".py",
   "mimetype": "text/x-python",
   "name": "python",
   "nbconvert_exporter": "python",
   "pygments_lexer": "ipython2",
   "version": "2.7.6"
  }
 },
 "nbformat": 4,
 "nbformat_minor": 0
}
