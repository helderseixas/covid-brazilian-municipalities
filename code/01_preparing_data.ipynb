{
 "cells": [
  {
   "cell_type": "markdown",
   "source": [
    "# Selecting sample and producing municipal measures as Rt and CFR "
   ],
   "metadata": {
    "collapsed": false
   }
  },
  {
   "cell_type": "code",
   "execution_count": 94,
   "outputs": [],
   "source": [
    "from math import exp\n",
    "\n",
    "import epyestim\n",
    "import numpy as np\n",
    "import pandas as pd\n",
    "import matplotlib.pyplot as plt\n",
    "from epyestim import covid19\n",
    "from scipy.stats import gamma, lognorm"
   ],
   "metadata": {
    "collapsed": false,
    "ExecuteTime": {
     "end_time": "2024-01-24T14:39:40.040649001Z",
     "start_time": "2024-01-24T14:39:39.931110343Z"
    }
   }
  },
  {
   "cell_type": "markdown",
   "source": [
    "## Loading data"
   ],
   "metadata": {
    "collapsed": false
   }
  },
  {
   "cell_type": "code",
   "execution_count": 95,
   "outputs": [],
   "source": [
    "df_municipalities = pd.read_csv('../data/df_municpal.csv')"
   ],
   "metadata": {
    "collapsed": false,
    "ExecuteTime": {
     "end_time": "2024-01-24T14:39:40.266550005Z",
     "start_time": "2024-01-24T14:39:40.042621484Z"
    }
   }
  },
  {
   "cell_type": "code",
   "execution_count": 96,
   "outputs": [],
   "source": [
    "df_sim_municipal = pd.read_csv('../data/df_sim_municipal.csv')\n",
    "df_sim_municipal.DATA = pd.to_datetime(df_sim_municipal.DATA)"
   ],
   "metadata": {
    "collapsed": false,
    "ExecuteTime": {
     "end_time": "2024-01-24T14:39:49.772394236Z",
     "start_time": "2024-01-24T14:39:40.287036564Z"
    }
   }
  },
  {
   "cell_type": "code",
   "outputs": [],
   "source": [
    "df_srag_municipal = pd.read_csv('../data/df_ts_srag_municipal.csv')\n",
    "df_srag_municipal.DATA = pd.to_datetime(df_srag_municipal.DATA)"
   ],
   "metadata": {
    "collapsed": false,
    "ExecuteTime": {
     "end_time": "2024-01-24T14:39:51.859633370Z",
     "start_time": "2024-01-24T14:39:49.807084543Z"
    }
   },
   "execution_count": 97
  },
  {
   "cell_type": "code",
   "outputs": [],
   "source": [
    "df_srag_municipal = df_srag_municipal.rename(columns = {'NOVOS_CASOS': 'NOVOS_CASOS_SRAG'})"
   ],
   "metadata": {
    "collapsed": false,
    "ExecuteTime": {
     "end_time": "2024-01-24T14:39:51.900989809Z",
     "start_time": "2024-01-24T14:39:51.861382147Z"
    }
   },
   "execution_count": 98
  },
  {
   "cell_type": "code",
   "outputs": [],
   "source": [
    "df_monitoring_panel_municipal = pd.read_csv('../data/df_ts_monitoring_panel_treated_municipal.csv')\n",
    "df_monitoring_panel_municipal.data = pd.to_datetime(df_monitoring_panel_municipal.data)\n",
    "df_monitoring_panel_municipal = df_monitoring_panel_municipal.rename(columns= {'data': 'DATA'})"
   ],
   "metadata": {
    "collapsed": false,
    "ExecuteTime": {
     "end_time": "2024-01-24T14:39:55.964264482Z",
     "start_time": "2024-01-24T14:39:51.897498193Z"
    }
   },
   "execution_count": 99
  },
  {
   "cell_type": "markdown",
   "source": [
    "## Treating data"
   ],
   "metadata": {
    "collapsed": false
   }
  },
  {
   "cell_type": "markdown",
   "source": [
    "### Removing invalid municipality"
   ],
   "metadata": {
    "collapsed": false
   }
  },
  {
   "cell_type": "code",
   "outputs": [],
   "source": [
    "df_srag_municipal = df_srag_municipal[df_srag_municipal.CODIGO_MUNICIPIO_6 != 999999].copy()"
   ],
   "metadata": {
    "collapsed": false,
    "ExecuteTime": {
     "end_time": "2024-01-24T14:39:56.156168017Z",
     "start_time": "2024-01-24T14:39:55.967216044Z"
    }
   },
   "execution_count": 100
  },
  {
   "cell_type": "markdown",
   "source": [
    "### Treating data from Brasília that is splited by satelity cities in SRAG database"
   ],
   "metadata": {
    "collapsed": false
   }
  },
  {
   "cell_type": "code",
   "outputs": [],
   "source": [
    "# Filter rows where CODIGO_MUNICIPIO_6 starts with 53\n",
    "filtered_df = df_srag_municipal[df_srag_municipal['CODIGO_MUNICIPIO_6'].astype(str).str.startswith('53')]\n",
    "\n",
    "# Group by 'DATA' and sum the 'NOVOS_CASOS_SRAG'\n",
    "summed_df = filtered_df.groupby('DATA')['NOVOS_CASOS_SRAG'].sum().reset_index()\n",
    "\n",
    "# Update df_srag_municipal for CODIGO_MUNICIPIO_6 = 530010\n",
    "df_srag_municipal.loc[df_srag_municipal['CODIGO_MUNICIPIO_6'] == 530010, 'NOVOS_CASOS_SRAG'] = summed_df['NOVOS_CASOS_SRAG'].values\n",
    "\n",
    "# Drop rows with CODIGO_MUNICIPIO_6 starting with 53 (excluding CODIGO_MUNICIPIO_6 = 530010)\n",
    "df_srag_municipal = df_srag_municipal[(~df_srag_municipal['CODIGO_MUNICIPIO_6'].astype(str).str.startswith('53')) | (df_srag_municipal['CODIGO_MUNICIPIO_6'] == 530010)]\n",
    "\n",
    "# Reset index\n",
    "df_srag_municipal.reset_index(drop=True, inplace=True)"
   ],
   "metadata": {
    "collapsed": false,
    "ExecuteTime": {
     "end_time": "2024-01-24T14:40:07.982077705Z",
     "start_time": "2024-01-24T14:39:59.934717621Z"
    }
   },
   "execution_count": 101
  },
  {
   "cell_type": "markdown",
   "source": [
    "### Merging data frames"
   ],
   "metadata": {
    "collapsed": false
   }
  },
  {
   "cell_type": "code",
   "outputs": [],
   "source": [
    "df = df_srag_municipal.merge(df_sim_municipal[['DATA', 'CODIGO_MUNICIPIO_6', 'OBITOS_NOVOS', 'OBITOS', 'OBITOS_NOVOS_MEDIA_MOVEL_7_DIAS', 'TAXA_OBITOS_NOVOS', 'TAXA_OBITOS_NOVOS_MEDIA_MOVEL_7_DIAS', 'TAXA_OBITOS']], how='left', on=['DATA', 'CODIGO_MUNICIPIO_6'])"
   ],
   "metadata": {
    "collapsed": false,
    "ExecuteTime": {
     "end_time": "2024-01-24T14:40:11.137835756Z",
     "start_time": "2024-01-24T14:40:08.070970283Z"
    }
   },
   "execution_count": 102
  },
  {
   "cell_type": "code",
   "outputs": [],
   "source": [
    "df = df.merge(df_monitoring_panel_municipal[['DATA', 'CODIGO_MUNICIPIO_6', 'casosNovos', 'casosAcumulado', 'CASOS_NOVOS_MEDIA_MOVEL_7_DIAS']], how='left', on=['DATA', 'CODIGO_MUNICIPIO_6'])"
   ],
   "metadata": {
    "collapsed": false,
    "ExecuteTime": {
     "end_time": "2024-01-24T14:40:12.987128315Z",
     "start_time": "2024-01-24T14:40:11.198094713Z"
    }
   },
   "execution_count": 103
  },
  {
   "cell_type": "code",
   "outputs": [],
   "source": [
    "df = df.merge(df_municipalities[['CODIGO_MUNICIPIO_6','MUNICIPIO', 'SIGLA_ESTADO', 'ESTADO', 'REGIAO', 'POPULACAO_2022']], how='left', on=['CODIGO_MUNICIPIO_6'])"
   ],
   "metadata": {
    "collapsed": false,
    "ExecuteTime": {
     "end_time": "2024-01-24T14:40:13.803582660Z",
     "start_time": "2024-01-24T14:40:12.991004295Z"
    }
   },
   "execution_count": 104
  },
  {
   "cell_type": "markdown",
   "source": [
    "### Fill null values"
   ],
   "metadata": {
    "collapsed": false
   }
  },
  {
   "cell_type": "code",
   "outputs": [],
   "source": [
    "df = df.fillna(0)"
   ],
   "metadata": {
    "collapsed": false,
    "ExecuteTime": {
     "end_time": "2024-01-24T14:41:16.384488285Z",
     "start_time": "2024-01-24T14:41:14.952281720Z"
    }
   },
   "execution_count": 107
  },
  {
   "cell_type": "code",
   "outputs": [
    {
     "data": {
      "text/plain": "array([110001, 110002, 110003, ..., 522220, 522230, 530010])"
     },
     "execution_count": 108,
     "metadata": {},
     "output_type": "execute_result"
    }
   ],
   "source": [
    "df.CODIGO_MUNICIPIO_6.unique()"
   ],
   "metadata": {
    "collapsed": false,
    "ExecuteTime": {
     "end_time": "2024-01-24T14:41:19.031101933Z",
     "start_time": "2024-01-24T14:41:18.982867921Z"
    }
   },
   "execution_count": 108
  },
  {
   "cell_type": "code",
   "outputs": [
    {
     "data": {
      "text/plain": "DATA                                    False\nCODIGO_MUNICIPIO_6                      False\nNOVOS_CASOS_SRAG                        False\nOBITOS_NOVOS                            False\nOBITOS                                  False\nOBITOS_NOVOS_MEDIA_MOVEL_7_DIAS         False\nTAXA_OBITOS_NOVOS                       False\nTAXA_OBITOS_NOVOS_MEDIA_MOVEL_7_DIAS    False\nTAXA_OBITOS                             False\ncasosNovos                              False\ncasosAcumulado                          False\nCASOS_NOVOS_MEDIA_MOVEL_7_DIAS          False\nMUNICIPIO                               False\nSIGLA_ESTADO                            False\nESTADO                                  False\nREGIAO                                  False\nPOPULACAO_2022                          False\ndtype: bool"
     },
     "execution_count": 109,
     "metadata": {},
     "output_type": "execute_result"
    }
   ],
   "source": [
    "df.isna().any()"
   ],
   "metadata": {
    "collapsed": false,
    "ExecuteTime": {
     "end_time": "2024-01-24T14:41:24.145563706Z",
     "start_time": "2024-01-24T14:41:23.254586749Z"
    }
   },
   "execution_count": 109
  },
  {
   "cell_type": "markdown",
   "source": [
    "## Selecting sample"
   ],
   "metadata": {
    "collapsed": false
   }
  },
  {
   "cell_type": "code",
   "outputs": [],
   "source": [
    "df = df[df.POPULACAO_2022 > 500000].copy()"
   ],
   "metadata": {
    "collapsed": false,
    "ExecuteTime": {
     "end_time": "2024-01-24T14:41:43.380820714Z",
     "start_time": "2024-01-24T14:41:42.884230407Z"
    }
   },
   "execution_count": 110
  },
  {
   "cell_type": "code",
   "outputs": [
    {
     "data": {
      "text/plain": "                       MUNICIPIO               ESTADO\n116550                    Manaus             Amazonas\n177450                     Belém                 Pará\n666750                  São Luís             Maranhão\n926100                  Teresina                Piauí\n996450                 Fortaleza                Ceará\n1221150                    Natal  Rio Grande do Norte\n1403850              João Pessoa              Paraíba\n1629600  Jaboatão dos Guararapes           Pernambuco\n1675800                   Recife           Pernambuco\n1780800                   Maceió              Alagoas\n1841700                  Aracaju              Sergipe\n2054850         Feira de Santana                Bahia\n2270100                 Salvador                Bahia\n2424450           Belo Horizonte         Minas Gerais\n2570400                 Contagem         Minas Gerais\n2796150             Juiz de Fora         Minas Gerais\n3219300               Uberlândia         Minas Gerais\n3323250                    Serra       Espírito Santo\n3357900          Duque de Caxias       Rio de Janeiro\n3384150              Nova Iguaçu       Rio de Janeiro\n3403050           Rio de Janeiro       Rio de Janeiro\n3408300              São Gonçalo       Rio de Janeiro\n3542700                 Campinas            São Paulo\n3651900                Guarulhos            São Paulo\n3835650                   Osasco            São Paulo\n3940650           Ribeirão Preto            São Paulo\n3990000              Santo André            São Paulo\n4000500    São Bernardo do Campo            São Paulo\n4014150      São José dos Campos            São Paulo\n4019400                São Paulo            São Paulo\n4039350                 Sorocaba            São Paulo\n4204200                 Curitiba               Paraná\n4306050                 Londrina               Paraná\n4616850            Florianópolis       Santa Catarina\n4668300                Joinville       Santa Catarina\n5176500             Porto Alegre    Rio Grande do Sul\n5377050             Campo Grande   Mato Grosso do Sul\n5478900                   Cuiabá          Mato Grosso\n5607000     Aparecida de Goiânia                Goiás\n5686800                  Goiânia                Goiás\n5846400                 Brasília     Distrito Federal",
      "text/html": "<div>\n<style scoped>\n    .dataframe tbody tr th:only-of-type {\n        vertical-align: middle;\n    }\n\n    .dataframe tbody tr th {\n        vertical-align: top;\n    }\n\n    .dataframe thead th {\n        text-align: right;\n    }\n</style>\n<table border=\"1\" class=\"dataframe\">\n  <thead>\n    <tr style=\"text-align: right;\">\n      <th></th>\n      <th>MUNICIPIO</th>\n      <th>ESTADO</th>\n    </tr>\n  </thead>\n  <tbody>\n    <tr>\n      <th>116550</th>\n      <td>Manaus</td>\n      <td>Amazonas</td>\n    </tr>\n    <tr>\n      <th>177450</th>\n      <td>Belém</td>\n      <td>Pará</td>\n    </tr>\n    <tr>\n      <th>666750</th>\n      <td>São Luís</td>\n      <td>Maranhão</td>\n    </tr>\n    <tr>\n      <th>926100</th>\n      <td>Teresina</td>\n      <td>Piauí</td>\n    </tr>\n    <tr>\n      <th>996450</th>\n      <td>Fortaleza</td>\n      <td>Ceará</td>\n    </tr>\n    <tr>\n      <th>1221150</th>\n      <td>Natal</td>\n      <td>Rio Grande do Norte</td>\n    </tr>\n    <tr>\n      <th>1403850</th>\n      <td>João Pessoa</td>\n      <td>Paraíba</td>\n    </tr>\n    <tr>\n      <th>1629600</th>\n      <td>Jaboatão dos Guararapes</td>\n      <td>Pernambuco</td>\n    </tr>\n    <tr>\n      <th>1675800</th>\n      <td>Recife</td>\n      <td>Pernambuco</td>\n    </tr>\n    <tr>\n      <th>1780800</th>\n      <td>Maceió</td>\n      <td>Alagoas</td>\n    </tr>\n    <tr>\n      <th>1841700</th>\n      <td>Aracaju</td>\n      <td>Sergipe</td>\n    </tr>\n    <tr>\n      <th>2054850</th>\n      <td>Feira de Santana</td>\n      <td>Bahia</td>\n    </tr>\n    <tr>\n      <th>2270100</th>\n      <td>Salvador</td>\n      <td>Bahia</td>\n    </tr>\n    <tr>\n      <th>2424450</th>\n      <td>Belo Horizonte</td>\n      <td>Minas Gerais</td>\n    </tr>\n    <tr>\n      <th>2570400</th>\n      <td>Contagem</td>\n      <td>Minas Gerais</td>\n    </tr>\n    <tr>\n      <th>2796150</th>\n      <td>Juiz de Fora</td>\n      <td>Minas Gerais</td>\n    </tr>\n    <tr>\n      <th>3219300</th>\n      <td>Uberlândia</td>\n      <td>Minas Gerais</td>\n    </tr>\n    <tr>\n      <th>3323250</th>\n      <td>Serra</td>\n      <td>Espírito Santo</td>\n    </tr>\n    <tr>\n      <th>3357900</th>\n      <td>Duque de Caxias</td>\n      <td>Rio de Janeiro</td>\n    </tr>\n    <tr>\n      <th>3384150</th>\n      <td>Nova Iguaçu</td>\n      <td>Rio de Janeiro</td>\n    </tr>\n    <tr>\n      <th>3403050</th>\n      <td>Rio de Janeiro</td>\n      <td>Rio de Janeiro</td>\n    </tr>\n    <tr>\n      <th>3408300</th>\n      <td>São Gonçalo</td>\n      <td>Rio de Janeiro</td>\n    </tr>\n    <tr>\n      <th>3542700</th>\n      <td>Campinas</td>\n      <td>São Paulo</td>\n    </tr>\n    <tr>\n      <th>3651900</th>\n      <td>Guarulhos</td>\n      <td>São Paulo</td>\n    </tr>\n    <tr>\n      <th>3835650</th>\n      <td>Osasco</td>\n      <td>São Paulo</td>\n    </tr>\n    <tr>\n      <th>3940650</th>\n      <td>Ribeirão Preto</td>\n      <td>São Paulo</td>\n    </tr>\n    <tr>\n      <th>3990000</th>\n      <td>Santo André</td>\n      <td>São Paulo</td>\n    </tr>\n    <tr>\n      <th>4000500</th>\n      <td>São Bernardo do Campo</td>\n      <td>São Paulo</td>\n    </tr>\n    <tr>\n      <th>4014150</th>\n      <td>São José dos Campos</td>\n      <td>São Paulo</td>\n    </tr>\n    <tr>\n      <th>4019400</th>\n      <td>São Paulo</td>\n      <td>São Paulo</td>\n    </tr>\n    <tr>\n      <th>4039350</th>\n      <td>Sorocaba</td>\n      <td>São Paulo</td>\n    </tr>\n    <tr>\n      <th>4204200</th>\n      <td>Curitiba</td>\n      <td>Paraná</td>\n    </tr>\n    <tr>\n      <th>4306050</th>\n      <td>Londrina</td>\n      <td>Paraná</td>\n    </tr>\n    <tr>\n      <th>4616850</th>\n      <td>Florianópolis</td>\n      <td>Santa Catarina</td>\n    </tr>\n    <tr>\n      <th>4668300</th>\n      <td>Joinville</td>\n      <td>Santa Catarina</td>\n    </tr>\n    <tr>\n      <th>5176500</th>\n      <td>Porto Alegre</td>\n      <td>Rio Grande do Sul</td>\n    </tr>\n    <tr>\n      <th>5377050</th>\n      <td>Campo Grande</td>\n      <td>Mato Grosso do Sul</td>\n    </tr>\n    <tr>\n      <th>5478900</th>\n      <td>Cuiabá</td>\n      <td>Mato Grosso</td>\n    </tr>\n    <tr>\n      <th>5607000</th>\n      <td>Aparecida de Goiânia</td>\n      <td>Goiás</td>\n    </tr>\n    <tr>\n      <th>5686800</th>\n      <td>Goiânia</td>\n      <td>Goiás</td>\n    </tr>\n    <tr>\n      <th>5846400</th>\n      <td>Brasília</td>\n      <td>Distrito Federal</td>\n    </tr>\n  </tbody>\n</table>\n</div>"
     },
     "execution_count": 112,
     "metadata": {},
     "output_type": "execute_result"
    }
   ],
   "source": [
    "df[['MUNICIPIO', 'ESTADO']].drop_duplicates()"
   ],
   "metadata": {
    "collapsed": false,
    "ExecuteTime": {
     "end_time": "2024-01-24T14:42:03.114133703Z",
     "start_time": "2024-01-24T14:42:03.098927507Z"
    }
   },
   "execution_count": 112
  },
  {
   "cell_type": "markdown",
   "source": [
    "## Estimating effective reproduction number for national time series\n"
   ],
   "metadata": {
    "collapsed": false
   }
  },
  {
   "cell_type": "code",
   "execution_count": 113,
   "outputs": [],
   "source": [
    "#Bi, Qifang, et al. \"Epidemiology and transmission of COVID-19 in 391 cases and 1286 of their close contacts in Shenzhen, China: a retrospective cohort study.\" The Lancet infectious diseases 20.8 (2020): 911-919.\n",
    "# Gamma distribution with serial interval mean equal to 6.36 days, gamma(a=2.29, b=0.36)\n",
    "standard_serial_inteval_distribution = epyestim.discrete_distrb(gamma(a=2.29, scale=1/0.36))\n",
    "\n",
    "#Bi, Qifang, et al. \"Epidemiology and transmission of COVID-19 in 391 cases and 1286 of their close contacts in Shenzhen, China: a retrospective cohort study.\" The Lancet infectious diseases 20.8 (2020): 911-919.\n",
    "# Lognormal distribution with incabation mean equal to 5.93 days, Lognormal(mu=1.57, sigma²=0.42)\n",
    "incubation_time_distribution = epyestim.discrete_distrb(lognorm(scale=exp(1.57), s=0.65))\n",
    "\n",
    "# Chagas, Eduarda TC, et al. \"Effects of population mobility on the COVID-19 spread in Brazil.\" PloS one 16.12 (2021): e0260610.\n",
    "# Exponential distribution with delay mean equal to 10.85 days, gamma(a=12.26, b=1.13)\n",
    "# Tip to calulate parameters: https://www.quora.com/How-can-I-calculate-a-gamma-distribution-using-mean-and-SD\n",
    "# delay_onset_to_notification_distribution = epyestim.discrete_distrb(gamma(a=12.26, scale=1/1.13))\n",
    "\n",
    "#Barros, Gabriela Pereira, et al. \"Estimation of Reproduction Number for Covid-19 with Statistical Correction of Notifications Delay.\" IEEE Latin America Transactions 20.7 (2022): 1085-1091.\n",
    "#Gamma distribution for BH city with mean equal 6.56 days SD 5.34, gamma(a=1.51, b=0.23)\n",
    "delay_onset_to_notification_distribution = epyestim.discrete_distrb(gamma(a=1.51, scale=1/0.23))\n",
    "\n",
    "# Distribution resultant of convolution incubation_time_distribution and delay_onset_to_notification_distribution.\n",
    "# Represent delay of infection to notification with delay mean equal to 12.5 days.\n",
    "delay_infecton_to_notification_distribution = np.convolve(incubation_time_distribution, delay_onset_to_notification_distribution)\n",
    "\n",
    "# Verity, Robert, et al. \"Estimates of the severity of coronavirus disease 2019: a model-based analysis.\" The Lancet infectious diseases 20.6 (2020): 669-677.\n",
    "# Gamma distribution with delay mean equal to 18.8 days\n",
    "mean_days_delay_onset_to_death = 18.8  # mean days onset to death.\n",
    "s_death = 0.45\n",
    "shape_death = 1/(s_death**2)\n",
    "scale_death= mean_days_delay_onset_to_death * s_death ** 2\n",
    "delay_onset_to_death_distribution = epyestim.discrete_distrb(gamma(a=shape_death, scale=scale_death))\n",
    "\n",
    "# Distribution resultant of convolution incubation_time_distribution and delay_onset_to_notification_distribution.\n",
    "# Represent delay of infection to notification with delay mean equal to 24.02 days.\n",
    "delay_infecton_to_death_distribution = np.convolve(incubation_time_distribution, delay_onset_to_death_distribution)"
   ],
   "metadata": {
    "collapsed": false,
    "ExecuteTime": {
     "end_time": "2024-01-24T14:42:20.685839252Z",
     "start_time": "2024-01-24T14:42:20.598512460Z"
    }
   }
  },
  {
   "cell_type": "code",
   "execution_count": 114,
   "outputs": [
    {
     "data": {
      "text/plain": "<Figure size 2592x216 with 6 Axes>",
      "image/png": "[encoded data removed]"
     },
     "metadata": {
      "needs_background": "light"
     },
     "output_type": "display_data"
    }
   ],
   "source": [
    "fig, axs = plt.subplots(1, 6, figsize=(36,3))\n",
    "\n",
    "axs[0].bar(range(len(standard_serial_inteval_distribution)), standard_serial_inteval_distribution, width=1)\n",
    "axs[1].bar(range(len(incubation_time_distribution)), incubation_time_distribution, width=1)\n",
    "axs[2].bar(range(len(delay_onset_to_notification_distribution)), delay_onset_to_notification_distribution, width=1)\n",
    "# axs[3].bar(range(50), delay_infecton_to_notification_distribution[:50], width=1)\n",
    "axs[3].bar(range(len(delay_infecton_to_notification_distribution)), delay_infecton_to_notification_distribution, width=1)\n",
    "axs[4].bar(range(len(delay_onset_to_death_distribution)), delay_onset_to_death_distribution, width=1)\n",
    "axs[5].bar(range(len(delay_infecton_to_death_distribution)), delay_infecton_to_death_distribution, width=1)\n",
    "\n",
    "axs[0].set_title('Default serial interval distribution')\n",
    "axs[1].set_title('Default incubation time distribution')\n",
    "axs[2].set_title('Onset-to-reporting delay distribution in Brazil context')\n",
    "axs[3].set_title('Infection-to-reporting delay distribution')\n",
    "axs[4].set_title('Onset-to-death delay distribution')\n",
    "axs[5].set_title('Infection-to-death delay distribution')\n",
    "plt.show()"
   ],
   "metadata": {
    "collapsed": false,
    "ExecuteTime": {
     "end_time": "2024-01-24T14:42:23.024748990Z",
     "start_time": "2024-01-24T14:42:20.687595733Z"
    }
   }
  },
  {
   "cell_type": "code",
   "outputs": [
    {
     "data": {
      "text/plain": "19"
     },
     "execution_count": 115,
     "metadata": {},
     "output_type": "execute_result"
    }
   ],
   "source": [
    "window_days_onset_to_death = round(mean_days_delay_onset_to_death)\n",
    "window_days_onset_to_death"
   ],
   "metadata": {
    "collapsed": false,
    "ExecuteTime": {
     "end_time": "2024-01-24T14:42:23.026963936Z",
     "start_time": "2024-01-24T14:42:22.979068803Z"
    }
   },
   "execution_count": 115
  },
  {
   "cell_type": "code",
   "outputs": [],
   "source": [
    "df_national = pd.read_csv('data/output/df_national.csv')"
   ],
   "metadata": {
    "collapsed": false,
    "ExecuteTime": {
     "end_time": "2024-01-24T14:42:23.028244443Z",
     "start_time": "2024-01-24T14:42:22.979221866Z"
    }
   },
   "execution_count": 116
  },
  {
   "cell_type": "code",
   "outputs": [
    {
     "data": {
      "text/plain": "51.7129300540739"
     },
     "execution_count": 117,
     "metadata": {},
     "output_type": "execute_result"
    }
   ],
   "source": [
    "survival_rate = (df_national.CASOS_NOVOS_PAINEL.sum() / df_national.OBITOS_NOVOS_SIM.sum())\n",
    "survival_rate"
   ],
   "metadata": {
    "collapsed": false,
    "ExecuteTime": {
     "end_time": "2024-01-24T14:42:23.077836594Z",
     "start_time": "2024-01-24T14:42:22.995441218Z"
    }
   },
   "execution_count": 117
  },
  {
   "cell_type": "markdown",
   "source": [
    "### SRAG"
   ],
   "metadata": {
    "collapsed": false
   }
  },
  {
   "cell_type": "code",
   "outputs": [
    {
     "name": "stdout",
     "output_type": "stream",
     "text": [
      "130260\n",
      "150140\n",
      "211130\n",
      "221100\n",
      "230440\n",
      "240810\n",
      "250750\n",
      "260790\n",
      "261160\n",
      "270430\n",
      "280030\n",
      "291080\n",
      "292740\n",
      "310620\n",
      "311860\n",
      "313670\n",
      "317020\n",
      "320500\n",
      "330170\n",
      "330350\n",
      "330455\n",
      "330490\n",
      "350950\n",
      "351880\n",
      "353440\n",
      "354340\n",
      "354780\n",
      "354870\n",
      "354990\n",
      "355030\n",
      "355220\n",
      "410690\n",
      "411370\n",
      "420540\n",
      "420910\n",
      "431490\n",
      "500270\n",
      "510340\n",
      "520140\n",
      "520870\n",
      "530010\n"
     ]
    }
   ],
   "source": [
    "df_with_reproduction_number = pd.DataFrame()\n",
    "\n",
    "for id_municipality in df.CODIGO_MUNICIPIO_6.unique():\n",
    "    print(id_municipality)\n",
    "    df_municipality = df[df.CODIGO_MUNICIPIO_6 == id_municipality]\n",
    "    df_cases_srag = df_municipality.set_index('DATA')['NOVOS_CASOS_SRAG']\n",
    "    \n",
    "    # Cori, A., Ferguson, N. M., Fraser, C., & Cauchemez, S. (2013). A new framework and software to estimate time-varying reproduction numbers during epidemics. American journal of epidemiology, 178(9), 1505-1512.\n",
    "    # https://github.com/lo-hfk/epyestim\n",
    "    df_effective_reproduction_number_srag = covid19.r_covid(df_cases_srag, smoothing_window = 28, r_window_size = 14, auto_cutoff=True, n_samples=100, delay_distribution=incubation_time_distribution, gt_distribution=standard_serial_inteval_distribution, a_prior=9.9, b_prior=1/9.25)\n",
    "    \n",
    "    df_effective_reproduction_number_srag = df_effective_reproduction_number_srag.reset_index()\n",
    "    df_effective_reproduction_number_srag = df_effective_reproduction_number_srag.rename(columns={'index': 'DATA', 'R_mean': 'NUMERO_REPRODUCAO_EFETIVO_SRAG_MEDIA', 'R_var': 'NUMERO_REPRODUCAO_EFETIVO_SRAG_VARIANCIA', 'Q0.025': 'NUMERO_REPRODUCAO_EFETIVO_SRAG_QUANTIL_0.025', 'Q0.5': 'NUMERO_REPRODUCAO_EFETIVO_SRAG_MEDIANA', 'Q0.975': 'NUMERO_REPRODUCAO_EFETIVO_SRAG_QUANTIL_0.975' })    \n",
    "    df_effective_reproduction_number_srag = df_effective_reproduction_number_srag.drop(columns=['cases'])\n",
    "    df_effective_reproduction_number_srag['CODIGO_MUNICIPIO_6'] = id_municipality\n",
    "    \n",
    "    df_with_reproduction_number = pd.concat([df_with_reproduction_number, df_effective_reproduction_number_srag])\n",
    "    \n",
    "df = df.merge(df_with_reproduction_number, how='left', on=['DATA', 'CODIGO_MUNICIPIO_6'])"
   ],
   "metadata": {
    "collapsed": false,
    "ExecuteTime": {
     "end_time": "2024-01-24T14:50:11.747871330Z",
     "start_time": "2024-01-24T14:42:23.013026172Z"
    }
   },
   "execution_count": 118
  },
  {
   "cell_type": "markdown",
   "source": [
    "### Cases"
   ],
   "metadata": {
    "collapsed": false
   }
  },
  {
   "cell_type": "code",
   "outputs": [
    {
     "name": "stdout",
     "output_type": "stream",
     "text": [
      "130260\n",
      "150140\n",
      "211130\n",
      "221100\n",
      "230440\n",
      "240810\n",
      "250750\n",
      "260790\n",
      "261160\n",
      "270430\n",
      "280030\n",
      "291080\n",
      "292740\n",
      "310620\n",
      "311860\n",
      "313670\n",
      "317020\n",
      "320500\n",
      "330170\n",
      "330350\n",
      "330455\n",
      "330490\n",
      "350950\n",
      "351880\n",
      "353440\n",
      "354340\n",
      "354780\n",
      "354870\n",
      "354990\n",
      "355030\n",
      "355220\n",
      "410690\n",
      "411370\n",
      "420540\n",
      "420910\n",
      "431490\n",
      "500270\n",
      "510340\n",
      "520140\n",
      "520870\n",
      "530010\n"
     ]
    }
   ],
   "source": [
    "df_with_reproduction_number = pd.DataFrame()\n",
    "\n",
    "for id_municipality in df.CODIGO_MUNICIPIO_6.unique():\n",
    "    print(id_municipality)\n",
    "    df_municipality = df[df.CODIGO_MUNICIPIO_6 == id_municipality].copy()\n",
    "    df_municipality.loc[df_municipality.casosNovos < 0, 'casosNovos'] = 0\n",
    "    df_cases = df_municipality.set_index('DATA')['casosNovos'].dropna()\n",
    "    \n",
    "    df_effective_reproduction_number = covid19.r_covid(df_cases, smoothing_window = 28, r_window_size = 14, auto_cutoff=True, n_samples=100, delay_distribution=delay_infecton_to_notification_distribution, gt_distribution=standard_serial_inteval_distribution, a_prior=9.9, b_prior=1/9.25)\n",
    "    \n",
    "    df_effective_reproduction_number = df_effective_reproduction_number.reset_index()\n",
    "    df_effective_reproduction_number = df_effective_reproduction_number.rename(columns={'index': 'DATA', 'R_mean': 'NUMERO_REPRODUCAO_EFETIVO_MEDIA', 'R_var': 'NUMERO_REPRODUCAO_EFETIVO_VARIANCIA', 'Q0.025': 'NUMERO_REPRODUCAO_EFETIVO_QUANTIL_0.025', 'Q0.5': 'NUMERO_REPRODUCAO_EFETIVO_MEDIANA', 'Q0.975': 'NUMERO_REPRODUCAO_EFETIVO_QUANTIL_0.975' })\n",
    "    df_effective_reproduction_number = df_effective_reproduction_number.drop(columns=['cases'])\n",
    "    df_effective_reproduction_number['CODIGO_MUNICIPIO_6'] = id_municipality\n",
    "    \n",
    "    df_with_reproduction_number = pd.concat([df_with_reproduction_number, df_effective_reproduction_number])\n",
    "    \n",
    "df = df.merge(df_with_reproduction_number, how='left', on=['DATA', 'CODIGO_MUNICIPIO_6'])"
   ],
   "metadata": {
    "collapsed": false,
    "ExecuteTime": {
     "end_time": "2024-01-24T15:01:28.518376454Z",
     "start_time": "2024-01-24T14:50:11.753144055Z"
    }
   },
   "execution_count": 119
  },
  {
   "cell_type": "markdown",
   "source": [
    "### Reproduction number from deaths"
   ],
   "metadata": {
    "collapsed": false
   }
  },
  {
   "cell_type": "code",
   "outputs": [
    {
     "data": {
      "text/plain": "Index(['DATA', 'CODIGO_MUNICIPIO_6', 'NOVOS_CASOS_SRAG', 'OBITOS_NOVOS',\n       'OBITOS', 'OBITOS_NOVOS_MEDIA_MOVEL_7_DIAS', 'TAXA_OBITOS_NOVOS',\n       'TAXA_OBITOS_NOVOS_MEDIA_MOVEL_7_DIAS', 'TAXA_OBITOS', 'casosNovos',\n       'casosAcumulado', 'CASOS_NOVOS_MEDIA_MOVEL_7_DIAS', 'MUNICIPIO',\n       'SIGLA_ESTADO', 'ESTADO', 'REGIAO', 'POPULACAO_2022',\n       'NUMERO_REPRODUCAO_EFETIVO_SRAG_MEDIA',\n       'NUMERO_REPRODUCAO_EFETIVO_SRAG_VARIANCIA',\n       'NUMERO_REPRODUCAO_EFETIVO_SRAG_QUANTIL_0.025',\n       'NUMERO_REPRODUCAO_EFETIVO_SRAG_MEDIANA',\n       'NUMERO_REPRODUCAO_EFETIVO_SRAG_QUANTIL_0.975',\n       'NUMERO_REPRODUCAO_EFETIVO_MEDIA',\n       'NUMERO_REPRODUCAO_EFETIVO_VARIANCIA',\n       'NUMERO_REPRODUCAO_EFETIVO_QUANTIL_0.025',\n       'NUMERO_REPRODUCAO_EFETIVO_MEDIANA',\n       'NUMERO_REPRODUCAO_EFETIVO_QUANTIL_0.975'],\n      dtype='object')"
     },
     "execution_count": 120,
     "metadata": {},
     "output_type": "execute_result"
    }
   ],
   "source": [
    "df.columns"
   ],
   "metadata": {
    "collapsed": false,
    "ExecuteTime": {
     "end_time": "2024-01-24T15:01:28.529326841Z",
     "start_time": "2024-01-24T15:01:28.522034122Z"
    }
   },
   "execution_count": 120
  },
  {
   "cell_type": "code",
   "outputs": [
    {
     "name": "stdout",
     "output_type": "stream",
     "text": [
      "130260\n",
      "150140\n",
      "211130\n",
      "221100\n",
      "230440\n",
      "240810\n",
      "250750\n",
      "260790\n",
      "261160\n",
      "270430\n",
      "280030\n",
      "291080\n",
      "292740\n",
      "310620\n",
      "311860\n",
      "313670\n",
      "317020\n",
      "320500\n",
      "330170\n",
      "330350\n",
      "330455\n",
      "330490\n",
      "350950\n",
      "351880\n",
      "353440\n",
      "354340\n",
      "354780\n",
      "354870\n",
      "354990\n",
      "355030\n",
      "355220\n",
      "410690\n",
      "411370\n",
      "420540\n",
      "420910\n",
      "431490\n",
      "500270\n",
      "510340\n",
      "520140\n",
      "520870\n",
      "530010\n"
     ]
    }
   ],
   "source": [
    "df_with_reproduction_number = pd.DataFrame()\n",
    "\n",
    "for id_municipality in df.CODIGO_MUNICIPIO_6.unique():\n",
    "    print(id_municipality)\n",
    "    df_municipality = df[df.CODIGO_MUNICIPIO_6 == id_municipality].copy()\n",
    "    \n",
    "    df_municipality['CASOS_INICIO_SINTOMAS_ESTIMADOS'] = df_municipality['OBITOS_NOVOS'] * survival_rate\n",
    "    df_municipality['CASOS_INICIO_SINTOMAS_ESTIMADOS'] = df_municipality['CASOS_INICIO_SINTOMAS_ESTIMADOS'].rolling(window=window_days_onset_to_death, min_periods=1).mean().shift(-(window_days_onset_to_death - 1))\n",
    "    \n",
    "    df_cases = df_municipality.set_index('DATA')['CASOS_INICIO_SINTOMAS_ESTIMADOS'].dropna()\n",
    "    \n",
    "    df_effective_reproduction_number_estimated_cases = covid19.r_covid(df_cases, smoothing_window = 28, r_window_size = 14, auto_cutoff=True, n_samples=100, delay_distribution=incubation_time_distribution, gt_distribution=standard_serial_inteval_distribution, a_prior=9.9, b_prior=1/9.25)\n",
    "\n",
    "    df_effective_reproduction_number_estimated_cases = df_effective_reproduction_number_estimated_cases.reset_index()\n",
    "    df_effective_reproduction_number_estimated_cases = df_effective_reproduction_number_estimated_cases.rename(columns={'index': 'DATA', 'R_mean': 'NUMERO_REPRODUCAO_EFETIVO_ATRASADO_MEDIA', 'R_var': 'NUMERO_REPRODUCAO_EFETIVO_ATRASADO_VARIANCIA', 'Q0.025': 'NUMERO_REPRODUCAO_EFETIVO_ATRASADO_QUANTIL_0.025', 'Q0.5': 'NUMERO_REPRODUCAO_EFETIVO_ATRASADO_MEDIANA', 'Q0.975': 'NUMERO_REPRODUCAO_EFETIVO_ATRASADO_QUANTIL_0.975'})\n",
    "    df_effective_reproduction_number_estimated_cases = df_effective_reproduction_number_estimated_cases.drop(columns=['cases'])\n",
    "    df_effective_reproduction_number_estimated_cases['CODIGO_MUNICIPIO_6'] = id_municipality\n",
    "    \n",
    "    df_with_reproduction_number = pd.concat([df_with_reproduction_number, df_effective_reproduction_number_estimated_cases])\n",
    "    \n",
    "df = df.merge(df_with_reproduction_number, how='left', on=['DATA', 'CODIGO_MUNICIPIO_6'])"
   ],
   "metadata": {
    "collapsed": false,
    "ExecuteTime": {
     "end_time": "2024-01-24T15:09:31.148380567Z",
     "start_time": "2024-01-24T15:01:28.532090592Z"
    }
   },
   "execution_count": 121
  },
  {
   "cell_type": "markdown",
   "source": [
    "## Case fatality rate"
   ],
   "metadata": {
    "collapsed": false
   }
  },
  {
   "cell_type": "markdown",
   "source": [
    "### Municipal data"
   ],
   "metadata": {
    "collapsed": false
   }
  },
  {
   "cell_type": "code",
   "execution_count": 122,
   "outputs": [],
   "source": [
    "df['TAXA_FATALIDADE'] = (\n",
    "    df.groupby('CODIGO_MUNICIPIO_6')\n",
    "    .apply(lambda group: group['OBITOS_NOVOS'].rolling(window=7,min_periods=1).mean() / group['CASOS_NOVOS_MEDIA_MOVEL_7_DIAS'].shift(12) * 100)\n",
    "    .reset_index(level=0, drop=True)\n",
    ")"
   ],
   "metadata": {
    "collapsed": false,
    "ExecuteTime": {
     "end_time": "2024-01-24T15:09:31.215321475Z",
     "start_time": "2024-01-24T15:09:31.151048034Z"
    }
   }
  },
  {
   "cell_type": "markdown",
   "source": [
    "## Saving data\n"
   ],
   "metadata": {
    "collapsed": false
   }
  },
  {
   "cell_type": "code",
   "outputs": [],
   "source": [
    "df.to_csv('../data/df_municipal_epidemic_parameters_sample.csv')"
   ],
   "metadata": {
    "collapsed": false,
    "ExecuteTime": {
     "end_time": "2024-01-24T15:09:32.661582672Z",
     "start_time": "2024-01-24T15:09:31.217049357Z"
    }
   },
   "execution_count": 123
  },
  {
   "cell_type": "code",
   "outputs": [
    {
     "data": {
      "text/plain": "        DATA  CODIGO_MUNICIPIO_6  NOVOS_CASOS_SRAG  OBITOS_NOVOS  OBITOS  \\\n0 2020-02-16              130260               0.0           0.0     0.0   \n1 2020-02-17              130260               0.0           0.0     0.0   \n2 2020-02-18              130260               0.0           0.0     0.0   \n3 2020-02-19              130260               0.0           0.0     0.0   \n4 2020-02-20              130260               0.0           0.0     0.0   \n\n   OBITOS_NOVOS_MEDIA_MOVEL_7_DIAS  TAXA_OBITOS_NOVOS  \\\n0                              0.0                0.0   \n1                              0.0                0.0   \n2                              0.0                0.0   \n3                              0.0                0.0   \n4                              0.0                0.0   \n\n   TAXA_OBITOS_NOVOS_MEDIA_MOVEL_7_DIAS  TAXA_OBITOS  casosNovos  ...  \\\n0                                   0.0          0.0         0.0  ...   \n1                                   0.0          0.0         0.0  ...   \n2                                   0.0          0.0         0.0  ...   \n3                                   0.0          0.0         0.0  ...   \n4                                   0.0          0.0         0.0  ...   \n\n   NUMERO_REPRODUCAO_EFETIVO_VARIANCIA  \\\n0                                  NaN   \n1                                  NaN   \n2                                  NaN   \n3                                  NaN   \n4                                  NaN   \n\n   NUMERO_REPRODUCAO_EFETIVO_QUANTIL_0.025 NUMERO_REPRODUCAO_EFETIVO_MEDIANA  \\\n0                                      NaN                               NaN   \n1                                      NaN                               NaN   \n2                                      NaN                               NaN   \n3                                      NaN                               NaN   \n4                                      NaN                               NaN   \n\n  NUMERO_REPRODUCAO_EFETIVO_QUANTIL_0.975  \\\n0                                     NaN   \n1                                     NaN   \n2                                     NaN   \n3                                     NaN   \n4                                     NaN   \n\n  NUMERO_REPRODUCAO_EFETIVO_ATRASADO_MEDIA  \\\n0                                      NaN   \n1                                      NaN   \n2                                      NaN   \n3                                      NaN   \n4                                      NaN   \n\n  NUMERO_REPRODUCAO_EFETIVO_ATRASADO_VARIANCIA  \\\n0                                          NaN   \n1                                          NaN   \n2                                          NaN   \n3                                          NaN   \n4                                          NaN   \n\n   NUMERO_REPRODUCAO_EFETIVO_ATRASADO_QUANTIL_0.025  \\\n0                                               NaN   \n1                                               NaN   \n2                                               NaN   \n3                                               NaN   \n4                                               NaN   \n\n   NUMERO_REPRODUCAO_EFETIVO_ATRASADO_MEDIANA  \\\n0                                         NaN   \n1                                         NaN   \n2                                         NaN   \n3                                         NaN   \n4                                         NaN   \n\n   NUMERO_REPRODUCAO_EFETIVO_ATRASADO_QUANTIL_0.975  TAXA_FATALIDADE  \n0                                               NaN              NaN  \n1                                               NaN              NaN  \n2                                               NaN              NaN  \n3                                               NaN              NaN  \n4                                               NaN              NaN  \n\n[5 rows x 33 columns]",
      "text/html": "<div>\n<style scoped>\n    .dataframe tbody tr th:only-of-type {\n        vertical-align: middle;\n    }\n\n    .dataframe tbody tr th {\n        vertical-align: top;\n    }\n\n    .dataframe thead th {\n        text-align: right;\n    }\n</style>\n<table border=\"1\" class=\"dataframe\">\n  <thead>\n    <tr style=\"text-align: right;\">\n      <th></th>\n      <th>DATA</th>\n      <th>CODIGO_MUNICIPIO_6</th>\n      <th>NOVOS_CASOS_SRAG</th>\n      <th>OBITOS_NOVOS</th>\n      <th>OBITOS</th>\n      <th>OBITOS_NOVOS_MEDIA_MOVEL_7_DIAS</th>\n      <th>TAXA_OBITOS_NOVOS</th>\n      <th>TAXA_OBITOS_NOVOS_MEDIA_MOVEL_7_DIAS</th>\n      <th>TAXA_OBITOS</th>\n      <th>casosNovos</th>\n      <th>...</th>\n      <th>NUMERO_REPRODUCAO_EFETIVO_VARIANCIA</th>\n      <th>NUMERO_REPRODUCAO_EFETIVO_QUANTIL_0.025</th>\n      <th>NUMERO_REPRODUCAO_EFETIVO_MEDIANA</th>\n      <th>NUMERO_REPRODUCAO_EFETIVO_QUANTIL_0.975</th>\n      <th>NUMERO_REPRODUCAO_EFETIVO_ATRASADO_MEDIA</th>\n      <th>NUMERO_REPRODUCAO_EFETIVO_ATRASADO_VARIANCIA</th>\n      <th>NUMERO_REPRODUCAO_EFETIVO_ATRASADO_QUANTIL_0.025</th>\n      <th>NUMERO_REPRODUCAO_EFETIVO_ATRASADO_MEDIANA</th>\n      <th>NUMERO_REPRODUCAO_EFETIVO_ATRASADO_QUANTIL_0.975</th>\n      <th>TAXA_FATALIDADE</th>\n    </tr>\n  </thead>\n  <tbody>\n    <tr>\n      <th>0</th>\n      <td>2020-02-16</td>\n      <td>130260</td>\n      <td>0.0</td>\n      <td>0.0</td>\n      <td>0.0</td>\n      <td>0.0</td>\n      <td>0.0</td>\n      <td>0.0</td>\n      <td>0.0</td>\n      <td>0.0</td>\n      <td>...</td>\n      <td>NaN</td>\n      <td>NaN</td>\n      <td>NaN</td>\n      <td>NaN</td>\n      <td>NaN</td>\n      <td>NaN</td>\n      <td>NaN</td>\n      <td>NaN</td>\n      <td>NaN</td>\n      <td>NaN</td>\n    </tr>\n    <tr>\n      <th>1</th>\n      <td>2020-02-17</td>\n      <td>130260</td>\n      <td>0.0</td>\n      <td>0.0</td>\n      <td>0.0</td>\n      <td>0.0</td>\n      <td>0.0</td>\n      <td>0.0</td>\n      <td>0.0</td>\n      <td>0.0</td>\n      <td>...</td>\n      <td>NaN</td>\n      <td>NaN</td>\n      <td>NaN</td>\n      <td>NaN</td>\n      <td>NaN</td>\n      <td>NaN</td>\n      <td>NaN</td>\n      <td>NaN</td>\n      <td>NaN</td>\n      <td>NaN</td>\n    </tr>\n    <tr>\n      <th>2</th>\n      <td>2020-02-18</td>\n      <td>130260</td>\n      <td>0.0</td>\n      <td>0.0</td>\n      <td>0.0</td>\n      <td>0.0</td>\n      <td>0.0</td>\n      <td>0.0</td>\n      <td>0.0</td>\n      <td>0.0</td>\n      <td>...</td>\n      <td>NaN</td>\n      <td>NaN</td>\n      <td>NaN</td>\n      <td>NaN</td>\n      <td>NaN</td>\n      <td>NaN</td>\n      <td>NaN</td>\n      <td>NaN</td>\n      <td>NaN</td>\n      <td>NaN</td>\n    </tr>\n    <tr>\n      <th>3</th>\n      <td>2020-02-19</td>\n      <td>130260</td>\n      <td>0.0</td>\n      <td>0.0</td>\n      <td>0.0</td>\n      <td>0.0</td>\n      <td>0.0</td>\n      <td>0.0</td>\n      <td>0.0</td>\n      <td>0.0</td>\n      <td>...</td>\n      <td>NaN</td>\n      <td>NaN</td>\n      <td>NaN</td>\n      <td>NaN</td>\n      <td>NaN</td>\n      <td>NaN</td>\n      <td>NaN</td>\n      <td>NaN</td>\n      <td>NaN</td>\n      <td>NaN</td>\n    </tr>\n    <tr>\n      <th>4</th>\n      <td>2020-02-20</td>\n      <td>130260</td>\n      <td>0.0</td>\n      <td>0.0</td>\n      <td>0.0</td>\n      <td>0.0</td>\n      <td>0.0</td>\n      <td>0.0</td>\n      <td>0.0</td>\n      <td>0.0</td>\n      <td>...</td>\n      <td>NaN</td>\n      <td>NaN</td>\n      <td>NaN</td>\n      <td>NaN</td>\n      <td>NaN</td>\n      <td>NaN</td>\n      <td>NaN</td>\n      <td>NaN</td>\n      <td>NaN</td>\n      <td>NaN</td>\n    </tr>\n  </tbody>\n</table>\n<p>5 rows × 33 columns</p>\n</div>"
     },
     "execution_count": 124,
     "metadata": {},
     "output_type": "execute_result"
    }
   ],
   "source": [
    "df.head()"
   ],
   "metadata": {
    "collapsed": false,
    "ExecuteTime": {
     "end_time": "2024-01-24T15:09:32.708348897Z",
     "start_time": "2024-01-24T15:09:32.686696587Z"
    }
   },
   "execution_count": 124
  },
  {
   "cell_type": "code",
   "outputs": [
    {
     "data": {
      "text/plain": "(43050, 33)"
     },
     "execution_count": 125,
     "metadata": {},
     "output_type": "execute_result"
    }
   ],
   "source": [
    "df.shape"
   ],
   "metadata": {
    "collapsed": false,
    "ExecuteTime": {
     "end_time": "2024-01-24T15:09:32.771559783Z",
     "start_time": "2024-01-24T15:09:32.691063135Z"
    }
   },
   "execution_count": 125
  },
  {
   "cell_type": "code",
   "outputs": [
    {
     "data": {
      "text/plain": "count    41160.00\nmean          inf\nstd           NaN\nmin       -825.00\n25%          0.59\n50%          1.97\n75%          4.55\nmax           inf\nName: TAXA_FATALIDADE, dtype: float64"
     },
     "execution_count": 126,
     "metadata": {},
     "output_type": "execute_result"
    }
   ],
   "source": [
    "df.TAXA_FATALIDADE.describe().round(2)"
   ],
   "metadata": {
    "collapsed": false,
    "ExecuteTime": {
     "end_time": "2024-01-24T15:09:32.839120370Z",
     "start_time": "2024-01-24T15:09:32.717973672Z"
    }
   },
   "execution_count": 126
  }
 ],
 "metadata": {
  "kernelspec": {
   "display_name": "Python 3",
   "language": "python",
   "name": "python3"
  },
  "language_info": {
   "codemirror_mode": {
    "name": "ipython",
    "version": 2
   },
   "file_extension": ".py",
   "mimetype": "text/x-python",
   "name": "python",
   "nbconvert_exporter": "python",
   "pygments_lexer": "ipython2",
   "version": "2.7.6"
  }
 },
 "nbformat": 4,
 "nbformat_minor": 0
}
