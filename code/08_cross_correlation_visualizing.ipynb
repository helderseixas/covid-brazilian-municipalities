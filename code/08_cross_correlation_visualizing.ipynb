{
 "cells": [
  {
   "cell_type": "markdown",
   "source": [
    "# Analysis the results  of cross-correlation between R0 and mobility."
   ],
   "metadata": {
    "collapsed": false
   }
  },
  {
   "cell_type": "code",
   "execution_count": 66,
   "outputs": [],
   "source": [
    "import pandas as pd\n",
    "import seaborn as sns\n",
    "import matplotlib.pyplot as plt\n",
    "import util\n",
    "import matplotlib.ticker as mticker"
   ],
   "metadata": {
    "collapsed": false,
    "ExecuteTime": {
     "end_time": "2024-02-29T13:40:04.662342Z",
     "start_time": "2024-02-29T13:40:04.659632Z"
    }
   }
  },
  {
   "cell_type": "markdown",
   "source": [
    "## Loading data"
   ],
   "metadata": {
    "collapsed": false
   }
  },
  {
   "cell_type": "code",
   "execution_count": 67,
   "outputs": [],
   "source": [
    "analysis = '2022'\n",
    "column_x = 'PERCENTUAL_VARIACAO_PERMANENCIA_RESIDENCIAS_MEDIA_7_DIAS_WHITED'\n",
    "column_y = 'r0_DETRENDED'\n",
    "confidence_level = 'CONFIANCE_LEVEL_HARD'\n",
    "# confidence_level = 'CONFIANCE_LEVEL'"
   ],
   "metadata": {
    "collapsed": false,
    "ExecuteTime": {
     "end_time": "2024-02-29T13:40:04.838473Z",
     "start_time": "2024-02-29T13:40:04.836173Z"
    }
   }
  },
  {
   "cell_type": "code",
   "execution_count": 68,
   "outputs": [],
   "source": [
    "df_lags = pd.read_csv('../data/df_lags_'+analysis+'.csv', index_col=0)"
   ],
   "metadata": {
    "collapsed": false,
    "ExecuteTime": {
     "end_time": "2024-02-29T13:40:04.920209Z",
     "start_time": "2024-02-29T13:40:04.908908Z"
    }
   }
  },
  {
   "cell_type": "code",
   "outputs": [
    {
     "data": {
      "text/plain": "      LAG  CORRELATION  CODIGO_MUNICIPIO_7             MUNICIPIO  \\\n0     -30    -0.024993             5201405  Aparecida de Goiânia   \n1     -29    -0.030229             5201405  Aparecida de Goiânia   \n2     -28    -0.031574             5201405  Aparecida de Goiânia   \n3     -27    -0.032435             5201405  Aparecida de Goiânia   \n4     -26    -0.036748             5201405  Aparecida de Goiânia   \n...   ...          ...                 ...                   ...   \n2496   26    -0.034231             3170206            Uberlândia   \n2497   27    -0.033444             3170206            Uberlândia   \n2498   28    -0.024069             3170206            Uberlândia   \n2499   29    -0.008445             3170206            Uberlândia   \n2500   30    -0.003813             3170206            Uberlândia   \n\n                                                      X             Y  \\\n0     PERCENTUAL_VARIACAO_PERMANENCIA_RESIDENCIAS_ME...  r0_DETRENDED   \n1     PERCENTUAL_VARIACAO_PERMANENCIA_RESIDENCIAS_ME...  r0_DETRENDED   \n2     PERCENTUAL_VARIACAO_PERMANENCIA_RESIDENCIAS_ME...  r0_DETRENDED   \n3     PERCENTUAL_VARIACAO_PERMANENCIA_RESIDENCIAS_ME...  r0_DETRENDED   \n4     PERCENTUAL_VARIACAO_PERMANENCIA_RESIDENCIAS_ME...  r0_DETRENDED   \n...                                                 ...           ...   \n2496  PERCENTUAL_VARIACAO_PERMANENCIA_RESIDENCIAS_ME...  r0_DETRENDED   \n2497  PERCENTUAL_VARIACAO_PERMANENCIA_RESIDENCIAS_ME...  r0_DETRENDED   \n2498  PERCENTUAL_VARIACAO_PERMANENCIA_RESIDENCIAS_ME...  r0_DETRENDED   \n2499  PERCENTUAL_VARIACAO_PERMANENCIA_RESIDENCIAS_ME...  r0_DETRENDED   \n2500  PERCENTUAL_VARIACAO_PERMANENCIA_RESIDENCIAS_ME...  r0_DETRENDED   \n\n      CONFIANCE_LEVEL  CONFIANCE_LEVEL_HARD  MAX_LEGS_TO_SHOW  \n0            0.115494              0.112824                30  \n1            0.115494              0.112824                30  \n2            0.115494              0.112824                30  \n3            0.115494              0.112824                30  \n4            0.115494              0.112824                30  \n...               ...                   ...               ...  \n2496         0.115494              0.102400                30  \n2497         0.115494              0.102400                30  \n2498         0.115494              0.102400                30  \n2499         0.115494              0.102400                30  \n2500         0.115494              0.102400                30  \n\n[2501 rows x 9 columns]",
      "text/html": "<div>\n<style scoped>\n    .dataframe tbody tr th:only-of-type {\n        vertical-align: middle;\n    }\n\n    .dataframe tbody tr th {\n        vertical-align: top;\n    }\n\n    .dataframe thead th {\n        text-align: right;\n    }\n</style>\n<table border=\"1\" class=\"dataframe\">\n  <thead>\n    <tr style=\"text-align: right;\">\n      <th></th>\n      <th>LAG</th>\n      <th>CORRELATION</th>\n      <th>CODIGO_MUNICIPIO_7</th>\n      <th>MUNICIPIO</th>\n      <th>X</th>\n      <th>Y</th>\n      <th>CONFIANCE_LEVEL</th>\n      <th>CONFIANCE_LEVEL_HARD</th>\n      <th>MAX_LEGS_TO_SHOW</th>\n    </tr>\n  </thead>\n  <tbody>\n    <tr>\n      <th>0</th>\n      <td>-30</td>\n      <td>-0.024993</td>\n      <td>5201405</td>\n      <td>Aparecida de Goiânia</td>\n      <td>PERCENTUAL_VARIACAO_PERMANENCIA_RESIDENCIAS_ME...</td>\n      <td>r0_DETRENDED</td>\n      <td>0.115494</td>\n      <td>0.112824</td>\n      <td>30</td>\n    </tr>\n    <tr>\n      <th>1</th>\n      <td>-29</td>\n      <td>-0.030229</td>\n      <td>5201405</td>\n      <td>Aparecida de Goiânia</td>\n      <td>PERCENTUAL_VARIACAO_PERMANENCIA_RESIDENCIAS_ME...</td>\n      <td>r0_DETRENDED</td>\n      <td>0.115494</td>\n      <td>0.112824</td>\n      <td>30</td>\n    </tr>\n    <tr>\n      <th>2</th>\n      <td>-28</td>\n      <td>-0.031574</td>\n      <td>5201405</td>\n      <td>Aparecida de Goiânia</td>\n      <td>PERCENTUAL_VARIACAO_PERMANENCIA_RESIDENCIAS_ME...</td>\n      <td>r0_DETRENDED</td>\n      <td>0.115494</td>\n      <td>0.112824</td>\n      <td>30</td>\n    </tr>\n    <tr>\n      <th>3</th>\n      <td>-27</td>\n      <td>-0.032435</td>\n      <td>5201405</td>\n      <td>Aparecida de Goiânia</td>\n      <td>PERCENTUAL_VARIACAO_PERMANENCIA_RESIDENCIAS_ME...</td>\n      <td>r0_DETRENDED</td>\n      <td>0.115494</td>\n      <td>0.112824</td>\n      <td>30</td>\n    </tr>\n    <tr>\n      <th>4</th>\n      <td>-26</td>\n      <td>-0.036748</td>\n      <td>5201405</td>\n      <td>Aparecida de Goiânia</td>\n      <td>PERCENTUAL_VARIACAO_PERMANENCIA_RESIDENCIAS_ME...</td>\n      <td>r0_DETRENDED</td>\n      <td>0.115494</td>\n      <td>0.112824</td>\n      <td>30</td>\n    </tr>\n    <tr>\n      <th>...</th>\n      <td>...</td>\n      <td>...</td>\n      <td>...</td>\n      <td>...</td>\n      <td>...</td>\n      <td>...</td>\n      <td>...</td>\n      <td>...</td>\n      <td>...</td>\n    </tr>\n    <tr>\n      <th>2496</th>\n      <td>26</td>\n      <td>-0.034231</td>\n      <td>3170206</td>\n      <td>Uberlândia</td>\n      <td>PERCENTUAL_VARIACAO_PERMANENCIA_RESIDENCIAS_ME...</td>\n      <td>r0_DETRENDED</td>\n      <td>0.115494</td>\n      <td>0.102400</td>\n      <td>30</td>\n    </tr>\n    <tr>\n      <th>2497</th>\n      <td>27</td>\n      <td>-0.033444</td>\n      <td>3170206</td>\n      <td>Uberlândia</td>\n      <td>PERCENTUAL_VARIACAO_PERMANENCIA_RESIDENCIAS_ME...</td>\n      <td>r0_DETRENDED</td>\n      <td>0.115494</td>\n      <td>0.102400</td>\n      <td>30</td>\n    </tr>\n    <tr>\n      <th>2498</th>\n      <td>28</td>\n      <td>-0.024069</td>\n      <td>3170206</td>\n      <td>Uberlândia</td>\n      <td>PERCENTUAL_VARIACAO_PERMANENCIA_RESIDENCIAS_ME...</td>\n      <td>r0_DETRENDED</td>\n      <td>0.115494</td>\n      <td>0.102400</td>\n      <td>30</td>\n    </tr>\n    <tr>\n      <th>2499</th>\n      <td>29</td>\n      <td>-0.008445</td>\n      <td>3170206</td>\n      <td>Uberlândia</td>\n      <td>PERCENTUAL_VARIACAO_PERMANENCIA_RESIDENCIAS_ME...</td>\n      <td>r0_DETRENDED</td>\n      <td>0.115494</td>\n      <td>0.102400</td>\n      <td>30</td>\n    </tr>\n    <tr>\n      <th>2500</th>\n      <td>30</td>\n      <td>-0.003813</td>\n      <td>3170206</td>\n      <td>Uberlândia</td>\n      <td>PERCENTUAL_VARIACAO_PERMANENCIA_RESIDENCIAS_ME...</td>\n      <td>r0_DETRENDED</td>\n      <td>0.115494</td>\n      <td>0.102400</td>\n      <td>30</td>\n    </tr>\n  </tbody>\n</table>\n<p>2501 rows × 9 columns</p>\n</div>"
     },
     "execution_count": 69,
     "metadata": {},
     "output_type": "execute_result"
    }
   ],
   "source": [
    "df_lags"
   ],
   "metadata": {
    "collapsed": false,
    "ExecuteTime": {
     "end_time": "2024-02-29T13:40:04.967587Z",
     "start_time": "2024-02-29T13:40:04.950308Z"
    }
   },
   "execution_count": 69
  },
  {
   "cell_type": "code",
   "execution_count": 70,
   "outputs": [],
   "source": [
    "df_covid_mobility = pd.read_csv('../data/df_ts_covid_mobility.csv')"
   ],
   "metadata": {
    "collapsed": false,
    "ExecuteTime": {
     "end_time": "2024-02-29T13:40:05.082408Z",
     "start_time": "2024-02-29T13:40:04.970219Z"
    }
   }
  },
  {
   "cell_type": "markdown",
   "source": [
    "## Cross-correlation analysis"
   ],
   "metadata": {
    "collapsed": false
   }
  },
  {
   "cell_type": "code",
   "execution_count": 71,
   "outputs": [],
   "source": [
    "def get_lag_x_lead_y(lags, c, max_lags_to_show, conf_level, negative_correlation):\n",
    "    lags_x_lead_y = lags[:max_lags_to_show]\n",
    "    c_x_lead_y = c[:max_lags_to_show]\n",
    "    if negative_correlation:\n",
    "        c_reference = c_x_lead_y.min()\n",
    "    else:\n",
    "        c_reference = c_x_lead_y.max()\n",
    "    if abs(c_reference) > conf_level:\n",
    "        lags_reference = lags_x_lead_y[c_x_lead_y==c_reference]\n",
    "        lag_reference = lags_reference.max()\n",
    "        return lag_reference, c_reference\n",
    "    else:\n",
    "        return None, None\n",
    "\n",
    "def get_lag_y_lead_x(lags, c, max_lags_to_show, conf_level, negative_correlation):\n",
    "    lags_y_lead_x = lags[max_lags_to_show+1:]\n",
    "    c_y_lead_x = c[max_lags_to_show+1:]\n",
    "    if negative_correlation:\n",
    "        c_reference = c_y_lead_x.min()\n",
    "    else:\n",
    "        c_reference = c_y_lead_x.max()\n",
    "    if abs(c_reference) > conf_level:\n",
    "        lags_reference = lags_y_lead_x[c_y_lead_x==c_reference]\n",
    "        lag_reference = lags_reference.min()\n",
    "        return lag_reference, c_reference\n",
    "    else:\n",
    "        return None, None"
   ],
   "metadata": {
    "collapsed": false,
    "ExecuteTime": {
     "end_time": "2024-02-29T13:40:05.090653Z",
     "start_time": "2024-02-29T13:40:05.083733Z"
    }
   }
  },
  {
   "cell_type": "code",
   "execution_count": 72,
   "outputs": [
    {
     "data": {
      "text/plain": "      LAG  CORRELATION  CODIGO_MUNICIPIO_7  MUNICIPIO  \\\n2318  -30     0.002559             3550308  São Paulo   \n2319  -29     0.006103             3550308  São Paulo   \n2320  -28     0.009449             3550308  São Paulo   \n2321  -27     0.005582             3550308  São Paulo   \n2322  -26     0.000493             3550308  São Paulo   \n...   ...          ...                 ...        ...   \n2374   26     0.039950             3550308  São Paulo   \n2375   27     0.045766             3550308  São Paulo   \n2376   28     0.049482             3550308  São Paulo   \n2377   29     0.057248             3550308  São Paulo   \n2378   30     0.064053             3550308  São Paulo   \n\n                                                      X             Y  \\\n2318  PERCENTUAL_VARIACAO_PERMANENCIA_RESIDENCIAS_ME...  r0_DETRENDED   \n2319  PERCENTUAL_VARIACAO_PERMANENCIA_RESIDENCIAS_ME...  r0_DETRENDED   \n2320  PERCENTUAL_VARIACAO_PERMANENCIA_RESIDENCIAS_ME...  r0_DETRENDED   \n2321  PERCENTUAL_VARIACAO_PERMANENCIA_RESIDENCIAS_ME...  r0_DETRENDED   \n2322  PERCENTUAL_VARIACAO_PERMANENCIA_RESIDENCIAS_ME...  r0_DETRENDED   \n...                                                 ...           ...   \n2374  PERCENTUAL_VARIACAO_PERMANENCIA_RESIDENCIAS_ME...  r0_DETRENDED   \n2375  PERCENTUAL_VARIACAO_PERMANENCIA_RESIDENCIAS_ME...  r0_DETRENDED   \n2376  PERCENTUAL_VARIACAO_PERMANENCIA_RESIDENCIAS_ME...  r0_DETRENDED   \n2377  PERCENTUAL_VARIACAO_PERMANENCIA_RESIDENCIAS_ME...  r0_DETRENDED   \n2378  PERCENTUAL_VARIACAO_PERMANENCIA_RESIDENCIAS_ME...  r0_DETRENDED   \n\n      CONFIANCE_LEVEL  CONFIANCE_LEVEL_HARD  MAX_LEGS_TO_SHOW  \n2318         0.115494               0.09922                30  \n2319         0.115494               0.09922                30  \n2320         0.115494               0.09922                30  \n2321         0.115494               0.09922                30  \n2322         0.115494               0.09922                30  \n...               ...                   ...               ...  \n2374         0.115494               0.09922                30  \n2375         0.115494               0.09922                30  \n2376         0.115494               0.09922                30  \n2377         0.115494               0.09922                30  \n2378         0.115494               0.09922                30  \n\n[61 rows x 9 columns]",
      "text/html": "<div>\n<style scoped>\n    .dataframe tbody tr th:only-of-type {\n        vertical-align: middle;\n    }\n\n    .dataframe tbody tr th {\n        vertical-align: top;\n    }\n\n    .dataframe thead th {\n        text-align: right;\n    }\n</style>\n<table border=\"1\" class=\"dataframe\">\n  <thead>\n    <tr style=\"text-align: right;\">\n      <th></th>\n      <th>LAG</th>\n      <th>CORRELATION</th>\n      <th>CODIGO_MUNICIPIO_7</th>\n      <th>MUNICIPIO</th>\n      <th>X</th>\n      <th>Y</th>\n      <th>CONFIANCE_LEVEL</th>\n      <th>CONFIANCE_LEVEL_HARD</th>\n      <th>MAX_LEGS_TO_SHOW</th>\n    </tr>\n  </thead>\n  <tbody>\n    <tr>\n      <th>2318</th>\n      <td>-30</td>\n      <td>0.002559</td>\n      <td>3550308</td>\n      <td>São Paulo</td>\n      <td>PERCENTUAL_VARIACAO_PERMANENCIA_RESIDENCIAS_ME...</td>\n      <td>r0_DETRENDED</td>\n      <td>0.115494</td>\n      <td>0.09922</td>\n      <td>30</td>\n    </tr>\n    <tr>\n      <th>2319</th>\n      <td>-29</td>\n      <td>0.006103</td>\n      <td>3550308</td>\n      <td>São Paulo</td>\n      <td>PERCENTUAL_VARIACAO_PERMANENCIA_RESIDENCIAS_ME...</td>\n      <td>r0_DETRENDED</td>\n      <td>0.115494</td>\n      <td>0.09922</td>\n      <td>30</td>\n    </tr>\n    <tr>\n      <th>2320</th>\n      <td>-28</td>\n      <td>0.009449</td>\n      <td>3550308</td>\n      <td>São Paulo</td>\n      <td>PERCENTUAL_VARIACAO_PERMANENCIA_RESIDENCIAS_ME...</td>\n      <td>r0_DETRENDED</td>\n      <td>0.115494</td>\n      <td>0.09922</td>\n      <td>30</td>\n    </tr>\n    <tr>\n      <th>2321</th>\n      <td>-27</td>\n      <td>0.005582</td>\n      <td>3550308</td>\n      <td>São Paulo</td>\n      <td>PERCENTUAL_VARIACAO_PERMANENCIA_RESIDENCIAS_ME...</td>\n      <td>r0_DETRENDED</td>\n      <td>0.115494</td>\n      <td>0.09922</td>\n      <td>30</td>\n    </tr>\n    <tr>\n      <th>2322</th>\n      <td>-26</td>\n      <td>0.000493</td>\n      <td>3550308</td>\n      <td>São Paulo</td>\n      <td>PERCENTUAL_VARIACAO_PERMANENCIA_RESIDENCIAS_ME...</td>\n      <td>r0_DETRENDED</td>\n      <td>0.115494</td>\n      <td>0.09922</td>\n      <td>30</td>\n    </tr>\n    <tr>\n      <th>...</th>\n      <td>...</td>\n      <td>...</td>\n      <td>...</td>\n      <td>...</td>\n      <td>...</td>\n      <td>...</td>\n      <td>...</td>\n      <td>...</td>\n      <td>...</td>\n    </tr>\n    <tr>\n      <th>2374</th>\n      <td>26</td>\n      <td>0.039950</td>\n      <td>3550308</td>\n      <td>São Paulo</td>\n      <td>PERCENTUAL_VARIACAO_PERMANENCIA_RESIDENCIAS_ME...</td>\n      <td>r0_DETRENDED</td>\n      <td>0.115494</td>\n      <td>0.09922</td>\n      <td>30</td>\n    </tr>\n    <tr>\n      <th>2375</th>\n      <td>27</td>\n      <td>0.045766</td>\n      <td>3550308</td>\n      <td>São Paulo</td>\n      <td>PERCENTUAL_VARIACAO_PERMANENCIA_RESIDENCIAS_ME...</td>\n      <td>r0_DETRENDED</td>\n      <td>0.115494</td>\n      <td>0.09922</td>\n      <td>30</td>\n    </tr>\n    <tr>\n      <th>2376</th>\n      <td>28</td>\n      <td>0.049482</td>\n      <td>3550308</td>\n      <td>São Paulo</td>\n      <td>PERCENTUAL_VARIACAO_PERMANENCIA_RESIDENCIAS_ME...</td>\n      <td>r0_DETRENDED</td>\n      <td>0.115494</td>\n      <td>0.09922</td>\n      <td>30</td>\n    </tr>\n    <tr>\n      <th>2377</th>\n      <td>29</td>\n      <td>0.057248</td>\n      <td>3550308</td>\n      <td>São Paulo</td>\n      <td>PERCENTUAL_VARIACAO_PERMANENCIA_RESIDENCIAS_ME...</td>\n      <td>r0_DETRENDED</td>\n      <td>0.115494</td>\n      <td>0.09922</td>\n      <td>30</td>\n    </tr>\n    <tr>\n      <th>2378</th>\n      <td>30</td>\n      <td>0.064053</td>\n      <td>3550308</td>\n      <td>São Paulo</td>\n      <td>PERCENTUAL_VARIACAO_PERMANENCIA_RESIDENCIAS_ME...</td>\n      <td>r0_DETRENDED</td>\n      <td>0.115494</td>\n      <td>0.09922</td>\n      <td>30</td>\n    </tr>\n  </tbody>\n</table>\n<p>61 rows × 9 columns</p>\n</div>"
     },
     "execution_count": 72,
     "metadata": {},
     "output_type": "execute_result"
    }
   ],
   "source": [
    "df_lags[(df_lags.MUNICIPIO == 'São Paulo') & (df_lags.Y == column_y)]"
   ],
   "metadata": {
    "collapsed": false,
    "ExecuteTime": {
     "end_time": "2024-02-29T13:40:05.138421Z",
     "start_time": "2024-02-29T13:40:05.092008Z"
    }
   }
  },
  {
   "cell_type": "code",
   "outputs": [
    {
     "data": {
      "text/plain": "      LAG  CORRELATION  CODIGO_MUNICIPIO_7             MUNICIPIO  \\\n0     -30    -0.024993             5201405  Aparecida de Goiânia   \n1     -29    -0.030229             5201405  Aparecida de Goiânia   \n2     -28    -0.031574             5201405  Aparecida de Goiânia   \n3     -27    -0.032435             5201405  Aparecida de Goiânia   \n4     -26    -0.036748             5201405  Aparecida de Goiânia   \n...   ...          ...                 ...                   ...   \n2496   26    -0.034231             3170206            Uberlândia   \n2497   27    -0.033444             3170206            Uberlândia   \n2498   28    -0.024069             3170206            Uberlândia   \n2499   29    -0.008445             3170206            Uberlândia   \n2500   30    -0.003813             3170206            Uberlândia   \n\n                                                      X             Y  \\\n0     PERCENTUAL_VARIACAO_PERMANENCIA_RESIDENCIAS_ME...  r0_DETRENDED   \n1     PERCENTUAL_VARIACAO_PERMANENCIA_RESIDENCIAS_ME...  r0_DETRENDED   \n2     PERCENTUAL_VARIACAO_PERMANENCIA_RESIDENCIAS_ME...  r0_DETRENDED   \n3     PERCENTUAL_VARIACAO_PERMANENCIA_RESIDENCIAS_ME...  r0_DETRENDED   \n4     PERCENTUAL_VARIACAO_PERMANENCIA_RESIDENCIAS_ME...  r0_DETRENDED   \n...                                                 ...           ...   \n2496  PERCENTUAL_VARIACAO_PERMANENCIA_RESIDENCIAS_ME...  r0_DETRENDED   \n2497  PERCENTUAL_VARIACAO_PERMANENCIA_RESIDENCIAS_ME...  r0_DETRENDED   \n2498  PERCENTUAL_VARIACAO_PERMANENCIA_RESIDENCIAS_ME...  r0_DETRENDED   \n2499  PERCENTUAL_VARIACAO_PERMANENCIA_RESIDENCIAS_ME...  r0_DETRENDED   \n2500  PERCENTUAL_VARIACAO_PERMANENCIA_RESIDENCIAS_ME...  r0_DETRENDED   \n\n      CONFIANCE_LEVEL  CONFIANCE_LEVEL_HARD  MAX_LEGS_TO_SHOW  \n0            0.115494              0.112824                30  \n1            0.115494              0.112824                30  \n2            0.115494              0.112824                30  \n3            0.115494              0.112824                30  \n4            0.115494              0.112824                30  \n...               ...                   ...               ...  \n2496         0.115494              0.102400                30  \n2497         0.115494              0.102400                30  \n2498         0.115494              0.102400                30  \n2499         0.115494              0.102400                30  \n2500         0.115494              0.102400                30  \n\n[2501 rows x 9 columns]",
      "text/html": "<div>\n<style scoped>\n    .dataframe tbody tr th:only-of-type {\n        vertical-align: middle;\n    }\n\n    .dataframe tbody tr th {\n        vertical-align: top;\n    }\n\n    .dataframe thead th {\n        text-align: right;\n    }\n</style>\n<table border=\"1\" class=\"dataframe\">\n  <thead>\n    <tr style=\"text-align: right;\">\n      <th></th>\n      <th>LAG</th>\n      <th>CORRELATION</th>\n      <th>CODIGO_MUNICIPIO_7</th>\n      <th>MUNICIPIO</th>\n      <th>X</th>\n      <th>Y</th>\n      <th>CONFIANCE_LEVEL</th>\n      <th>CONFIANCE_LEVEL_HARD</th>\n      <th>MAX_LEGS_TO_SHOW</th>\n    </tr>\n  </thead>\n  <tbody>\n    <tr>\n      <th>0</th>\n      <td>-30</td>\n      <td>-0.024993</td>\n      <td>5201405</td>\n      <td>Aparecida de Goiânia</td>\n      <td>PERCENTUAL_VARIACAO_PERMANENCIA_RESIDENCIAS_ME...</td>\n      <td>r0_DETRENDED</td>\n      <td>0.115494</td>\n      <td>0.112824</td>\n      <td>30</td>\n    </tr>\n    <tr>\n      <th>1</th>\n      <td>-29</td>\n      <td>-0.030229</td>\n      <td>5201405</td>\n      <td>Aparecida de Goiânia</td>\n      <td>PERCENTUAL_VARIACAO_PERMANENCIA_RESIDENCIAS_ME...</td>\n      <td>r0_DETRENDED</td>\n      <td>0.115494</td>\n      <td>0.112824</td>\n      <td>30</td>\n    </tr>\n    <tr>\n      <th>2</th>\n      <td>-28</td>\n      <td>-0.031574</td>\n      <td>5201405</td>\n      <td>Aparecida de Goiânia</td>\n      <td>PERCENTUAL_VARIACAO_PERMANENCIA_RESIDENCIAS_ME...</td>\n      <td>r0_DETRENDED</td>\n      <td>0.115494</td>\n      <td>0.112824</td>\n      <td>30</td>\n    </tr>\n    <tr>\n      <th>3</th>\n      <td>-27</td>\n      <td>-0.032435</td>\n      <td>5201405</td>\n      <td>Aparecida de Goiânia</td>\n      <td>PERCENTUAL_VARIACAO_PERMANENCIA_RESIDENCIAS_ME...</td>\n      <td>r0_DETRENDED</td>\n      <td>0.115494</td>\n      <td>0.112824</td>\n      <td>30</td>\n    </tr>\n    <tr>\n      <th>4</th>\n      <td>-26</td>\n      <td>-0.036748</td>\n      <td>5201405</td>\n      <td>Aparecida de Goiânia</td>\n      <td>PERCENTUAL_VARIACAO_PERMANENCIA_RESIDENCIAS_ME...</td>\n      <td>r0_DETRENDED</td>\n      <td>0.115494</td>\n      <td>0.112824</td>\n      <td>30</td>\n    </tr>\n    <tr>\n      <th>...</th>\n      <td>...</td>\n      <td>...</td>\n      <td>...</td>\n      <td>...</td>\n      <td>...</td>\n      <td>...</td>\n      <td>...</td>\n      <td>...</td>\n      <td>...</td>\n    </tr>\n    <tr>\n      <th>2496</th>\n      <td>26</td>\n      <td>-0.034231</td>\n      <td>3170206</td>\n      <td>Uberlândia</td>\n      <td>PERCENTUAL_VARIACAO_PERMANENCIA_RESIDENCIAS_ME...</td>\n      <td>r0_DETRENDED</td>\n      <td>0.115494</td>\n      <td>0.102400</td>\n      <td>30</td>\n    </tr>\n    <tr>\n      <th>2497</th>\n      <td>27</td>\n      <td>-0.033444</td>\n      <td>3170206</td>\n      <td>Uberlândia</td>\n      <td>PERCENTUAL_VARIACAO_PERMANENCIA_RESIDENCIAS_ME...</td>\n      <td>r0_DETRENDED</td>\n      <td>0.115494</td>\n      <td>0.102400</td>\n      <td>30</td>\n    </tr>\n    <tr>\n      <th>2498</th>\n      <td>28</td>\n      <td>-0.024069</td>\n      <td>3170206</td>\n      <td>Uberlândia</td>\n      <td>PERCENTUAL_VARIACAO_PERMANENCIA_RESIDENCIAS_ME...</td>\n      <td>r0_DETRENDED</td>\n      <td>0.115494</td>\n      <td>0.102400</td>\n      <td>30</td>\n    </tr>\n    <tr>\n      <th>2499</th>\n      <td>29</td>\n      <td>-0.008445</td>\n      <td>3170206</td>\n      <td>Uberlândia</td>\n      <td>PERCENTUAL_VARIACAO_PERMANENCIA_RESIDENCIAS_ME...</td>\n      <td>r0_DETRENDED</td>\n      <td>0.115494</td>\n      <td>0.102400</td>\n      <td>30</td>\n    </tr>\n    <tr>\n      <th>2500</th>\n      <td>30</td>\n      <td>-0.003813</td>\n      <td>3170206</td>\n      <td>Uberlândia</td>\n      <td>PERCENTUAL_VARIACAO_PERMANENCIA_RESIDENCIAS_ME...</td>\n      <td>r0_DETRENDED</td>\n      <td>0.115494</td>\n      <td>0.102400</td>\n      <td>30</td>\n    </tr>\n  </tbody>\n</table>\n<p>2501 rows × 9 columns</p>\n</div>"
     },
     "execution_count": 73,
     "metadata": {},
     "output_type": "execute_result"
    }
   ],
   "source": [
    "df_lags"
   ],
   "metadata": {
    "collapsed": false,
    "ExecuteTime": {
     "end_time": "2024-02-29T13:40:05.175601Z",
     "start_time": "2024-02-29T13:40:05.139893Z"
    }
   },
   "execution_count": 73
  },
  {
   "cell_type": "code",
   "execution_count": 74,
   "outputs": [
    {
     "data": {
      "text/plain": "(None, None)"
     },
     "execution_count": 74,
     "metadata": {},
     "output_type": "execute_result"
    }
   ],
   "source": [
    "df_test = df_lags[(df_lags.MUNICIPIO == 'São Paulo') & (df_lags.Y == column_y)]\n",
    "get_lag_x_lead_y(df_test.LAG.values, df_test.CORRELATION.values, df_test.MAX_LEGS_TO_SHOW.min(), df_test[confidence_level].min(), negative_correlation=True)"
   ],
   "metadata": {
    "collapsed": false,
    "ExecuteTime": {
     "end_time": "2024-02-29T13:40:05.204073Z",
     "start_time": "2024-02-29T13:40:05.176825Z"
    }
   }
  },
  {
   "cell_type": "code",
   "execution_count": 75,
   "outputs": [
    {
     "data": {
      "text/plain": "(None, None)"
     },
     "execution_count": 75,
     "metadata": {},
     "output_type": "execute_result"
    }
   ],
   "source": [
    "df_test = df_lags[(df_lags.MUNICIPIO == 'São Paulo') & (df_lags.Y == column_y)]\n",
    "get_lag_x_lead_y(df_test.LAG.values, df_test.CORRELATION.values, df_test.MAX_LEGS_TO_SHOW.min(), df_test[confidence_level].min(), negative_correlation=False)"
   ],
   "metadata": {
    "collapsed": false,
    "ExecuteTime": {
     "end_time": "2024-02-29T13:40:05.232131Z",
     "start_time": "2024-02-29T13:40:05.205992Z"
    }
   }
  },
  {
   "cell_type": "code",
   "execution_count": 76,
   "outputs": [
    {
     "data": {
      "text/plain": "(None, None)"
     },
     "execution_count": 76,
     "metadata": {},
     "output_type": "execute_result"
    }
   ],
   "source": [
    "df_test = df_lags[(df_lags.MUNICIPIO == 'São Paulo') & (df_lags.Y == column_y)]\n",
    "get_lag_x_lead_y(df_test.LAG.values, df_test.CORRELATION.values, df_test.MAX_LEGS_TO_SHOW.min(), df_test[confidence_level].min(), negative_correlation=True)"
   ],
   "metadata": {
    "collapsed": false,
    "ExecuteTime": {
     "end_time": "2024-02-29T13:40:05.258792Z",
     "start_time": "2024-02-29T13:40:05.233797Z"
    }
   }
  },
  {
   "cell_type": "code",
   "execution_count": 77,
   "outputs": [
    {
     "data": {
      "text/plain": "      LAG  CORRELATION  CODIGO_MUNICIPIO_7  MUNICIPIO  \\\n2318  -30     0.002559             3550308  São Paulo   \n2319  -29     0.006103             3550308  São Paulo   \n2320  -28     0.009449             3550308  São Paulo   \n2321  -27     0.005582             3550308  São Paulo   \n2322  -26     0.000493             3550308  São Paulo   \n...   ...          ...                 ...        ...   \n2374   26     0.039950             3550308  São Paulo   \n2375   27     0.045766             3550308  São Paulo   \n2376   28     0.049482             3550308  São Paulo   \n2377   29     0.057248             3550308  São Paulo   \n2378   30     0.064053             3550308  São Paulo   \n\n                                                      X             Y  \\\n2318  PERCENTUAL_VARIACAO_PERMANENCIA_RESIDENCIAS_ME...  r0_DETRENDED   \n2319  PERCENTUAL_VARIACAO_PERMANENCIA_RESIDENCIAS_ME...  r0_DETRENDED   \n2320  PERCENTUAL_VARIACAO_PERMANENCIA_RESIDENCIAS_ME...  r0_DETRENDED   \n2321  PERCENTUAL_VARIACAO_PERMANENCIA_RESIDENCIAS_ME...  r0_DETRENDED   \n2322  PERCENTUAL_VARIACAO_PERMANENCIA_RESIDENCIAS_ME...  r0_DETRENDED   \n...                                                 ...           ...   \n2374  PERCENTUAL_VARIACAO_PERMANENCIA_RESIDENCIAS_ME...  r0_DETRENDED   \n2375  PERCENTUAL_VARIACAO_PERMANENCIA_RESIDENCIAS_ME...  r0_DETRENDED   \n2376  PERCENTUAL_VARIACAO_PERMANENCIA_RESIDENCIAS_ME...  r0_DETRENDED   \n2377  PERCENTUAL_VARIACAO_PERMANENCIA_RESIDENCIAS_ME...  r0_DETRENDED   \n2378  PERCENTUAL_VARIACAO_PERMANENCIA_RESIDENCIAS_ME...  r0_DETRENDED   \n\n      CONFIANCE_LEVEL  CONFIANCE_LEVEL_HARD  MAX_LEGS_TO_SHOW  \n2318         0.115494               0.09922                30  \n2319         0.115494               0.09922                30  \n2320         0.115494               0.09922                30  \n2321         0.115494               0.09922                30  \n2322         0.115494               0.09922                30  \n...               ...                   ...               ...  \n2374         0.115494               0.09922                30  \n2375         0.115494               0.09922                30  \n2376         0.115494               0.09922                30  \n2377         0.115494               0.09922                30  \n2378         0.115494               0.09922                30  \n\n[61 rows x 9 columns]",
      "text/html": "<div>\n<style scoped>\n    .dataframe tbody tr th:only-of-type {\n        vertical-align: middle;\n    }\n\n    .dataframe tbody tr th {\n        vertical-align: top;\n    }\n\n    .dataframe thead th {\n        text-align: right;\n    }\n</style>\n<table border=\"1\" class=\"dataframe\">\n  <thead>\n    <tr style=\"text-align: right;\">\n      <th></th>\n      <th>LAG</th>\n      <th>CORRELATION</th>\n      <th>CODIGO_MUNICIPIO_7</th>\n      <th>MUNICIPIO</th>\n      <th>X</th>\n      <th>Y</th>\n      <th>CONFIANCE_LEVEL</th>\n      <th>CONFIANCE_LEVEL_HARD</th>\n      <th>MAX_LEGS_TO_SHOW</th>\n    </tr>\n  </thead>\n  <tbody>\n    <tr>\n      <th>2318</th>\n      <td>-30</td>\n      <td>0.002559</td>\n      <td>3550308</td>\n      <td>São Paulo</td>\n      <td>PERCENTUAL_VARIACAO_PERMANENCIA_RESIDENCIAS_ME...</td>\n      <td>r0_DETRENDED</td>\n      <td>0.115494</td>\n      <td>0.09922</td>\n      <td>30</td>\n    </tr>\n    <tr>\n      <th>2319</th>\n      <td>-29</td>\n      <td>0.006103</td>\n      <td>3550308</td>\n      <td>São Paulo</td>\n      <td>PERCENTUAL_VARIACAO_PERMANENCIA_RESIDENCIAS_ME...</td>\n      <td>r0_DETRENDED</td>\n      <td>0.115494</td>\n      <td>0.09922</td>\n      <td>30</td>\n    </tr>\n    <tr>\n      <th>2320</th>\n      <td>-28</td>\n      <td>0.009449</td>\n      <td>3550308</td>\n      <td>São Paulo</td>\n      <td>PERCENTUAL_VARIACAO_PERMANENCIA_RESIDENCIAS_ME...</td>\n      <td>r0_DETRENDED</td>\n      <td>0.115494</td>\n      <td>0.09922</td>\n      <td>30</td>\n    </tr>\n    <tr>\n      <th>2321</th>\n      <td>-27</td>\n      <td>0.005582</td>\n      <td>3550308</td>\n      <td>São Paulo</td>\n      <td>PERCENTUAL_VARIACAO_PERMANENCIA_RESIDENCIAS_ME...</td>\n      <td>r0_DETRENDED</td>\n      <td>0.115494</td>\n      <td>0.09922</td>\n      <td>30</td>\n    </tr>\n    <tr>\n      <th>2322</th>\n      <td>-26</td>\n      <td>0.000493</td>\n      <td>3550308</td>\n      <td>São Paulo</td>\n      <td>PERCENTUAL_VARIACAO_PERMANENCIA_RESIDENCIAS_ME...</td>\n      <td>r0_DETRENDED</td>\n      <td>0.115494</td>\n      <td>0.09922</td>\n      <td>30</td>\n    </tr>\n    <tr>\n      <th>...</th>\n      <td>...</td>\n      <td>...</td>\n      <td>...</td>\n      <td>...</td>\n      <td>...</td>\n      <td>...</td>\n      <td>...</td>\n      <td>...</td>\n      <td>...</td>\n    </tr>\n    <tr>\n      <th>2374</th>\n      <td>26</td>\n      <td>0.039950</td>\n      <td>3550308</td>\n      <td>São Paulo</td>\n      <td>PERCENTUAL_VARIACAO_PERMANENCIA_RESIDENCIAS_ME...</td>\n      <td>r0_DETRENDED</td>\n      <td>0.115494</td>\n      <td>0.09922</td>\n      <td>30</td>\n    </tr>\n    <tr>\n      <th>2375</th>\n      <td>27</td>\n      <td>0.045766</td>\n      <td>3550308</td>\n      <td>São Paulo</td>\n      <td>PERCENTUAL_VARIACAO_PERMANENCIA_RESIDENCIAS_ME...</td>\n      <td>r0_DETRENDED</td>\n      <td>0.115494</td>\n      <td>0.09922</td>\n      <td>30</td>\n    </tr>\n    <tr>\n      <th>2376</th>\n      <td>28</td>\n      <td>0.049482</td>\n      <td>3550308</td>\n      <td>São Paulo</td>\n      <td>PERCENTUAL_VARIACAO_PERMANENCIA_RESIDENCIAS_ME...</td>\n      <td>r0_DETRENDED</td>\n      <td>0.115494</td>\n      <td>0.09922</td>\n      <td>30</td>\n    </tr>\n    <tr>\n      <th>2377</th>\n      <td>29</td>\n      <td>0.057248</td>\n      <td>3550308</td>\n      <td>São Paulo</td>\n      <td>PERCENTUAL_VARIACAO_PERMANENCIA_RESIDENCIAS_ME...</td>\n      <td>r0_DETRENDED</td>\n      <td>0.115494</td>\n      <td>0.09922</td>\n      <td>30</td>\n    </tr>\n    <tr>\n      <th>2378</th>\n      <td>30</td>\n      <td>0.064053</td>\n      <td>3550308</td>\n      <td>São Paulo</td>\n      <td>PERCENTUAL_VARIACAO_PERMANENCIA_RESIDENCIAS_ME...</td>\n      <td>r0_DETRENDED</td>\n      <td>0.115494</td>\n      <td>0.09922</td>\n      <td>30</td>\n    </tr>\n  </tbody>\n</table>\n<p>61 rows × 9 columns</p>\n</div>"
     },
     "execution_count": 77,
     "metadata": {},
     "output_type": "execute_result"
    }
   ],
   "source": [
    "df_test"
   ],
   "metadata": {
    "collapsed": false,
    "ExecuteTime": {
     "end_time": "2024-02-29T13:40:05.302100Z",
     "start_time": "2024-02-29T13:40:05.260102Z"
    }
   }
  },
  {
   "cell_type": "code",
   "execution_count": 78,
   "outputs": [],
   "source": [
    "def get_lags(function, df_municipality_y, negative_correlation, id_municipality, name_municipality, x, y, df_to_append):\n",
    "    if len(df_municipality_y) > 0:\n",
    "        lag_min, c_min = function(df_municipality_y.LAG.values, df_municipality_y.CORRELATION.values,\n",
    "                                          df_municipality_y.MAX_LEGS_TO_SHOW.min(), df_municipality_y[confidence_level].min(),\n",
    "                                          negative_correlation=negative_correlation)\n",
    "        df_row = pd.DataFrame([{'CODIGO_MUNICIPIO_7': id_municipality, 'MUNICIPIO': name_municipality, 'X': x, 'Y': y,\n",
    "                                'LAG': lag_min, 'CORRELATION': c_min}])\n",
    "        df_to_append = pd.concat([df_to_append, df_row], ignore_index=True)\n",
    "    return df_to_append\n",
    "\n",
    "df_lags_mobility_lead_y_inversely = pd.DataFrame()\n",
    "df_lags_mobility_lead_y_directly = pd.DataFrame()\n",
    "df_lags_y_lead_mobility_inversely = pd.DataFrame()\n",
    "df_lags_y_lead_mobility_directly = pd.DataFrame()\n",
    "\n",
    "x = column_x\n",
    "\n",
    "for id_municipality in df_lags.CODIGO_MUNICIPIO_7.unique():\n",
    "    df_municipality = df_lags[df_lags.CODIGO_MUNICIPIO_7==id_municipality]\n",
    "    name_municipality = df_municipality.MUNICIPIO.values[-1]\n",
    "    for y in [column_y]:\n",
    "        df_municipality_y = df_municipality[(df_municipality.Y == y)]\n",
    "\n",
    "        df_lags_mobility_lead_y_inversely = get_lags(get_lag_x_lead_y, df_municipality_y, True, id_municipality, name_municipality, x, y, df_lags_mobility_lead_y_inversely)\n",
    "        df_lags_mobility_lead_y_directly = get_lags(get_lag_x_lead_y, df_municipality_y, False, id_municipality, name_municipality, x, y, df_lags_mobility_lead_y_directly)\n",
    "        df_lags_y_lead_mobility_inversely = get_lags(get_lag_y_lead_x, df_municipality_y, True, id_municipality, name_municipality, x, y, df_lags_y_lead_mobility_inversely)\n",
    "        df_lags_y_lead_mobility_directly = get_lags(get_lag_y_lead_x, df_municipality_y, False, id_municipality, name_municipality, x, y, df_lags_y_lead_mobility_directly)"
   ],
   "metadata": {
    "collapsed": false,
    "ExecuteTime": {
     "end_time": "2024-02-29T13:40:05.631557Z",
     "start_time": "2024-02-29T13:40:05.304009Z"
    }
   }
  },
  {
   "cell_type": "code",
   "execution_count": 79,
   "outputs": [
    {
     "data": {
      "text/plain": "count    0.0\nmean     NaN\nstd      NaN\nmin      NaN\n25%      NaN\n50%      NaN\n75%      NaN\nmax      NaN\nName: LAG, dtype: float64"
     },
     "execution_count": 79,
     "metadata": {},
     "output_type": "execute_result"
    }
   ],
   "source": [
    "df_lags_mobility_lead_y_inversely[df_lags_mobility_lead_y_inversely.Y == column_y].LAG.dropna().astype(int).describe()"
   ],
   "metadata": {
    "collapsed": false,
    "ExecuteTime": {
     "end_time": "2024-02-29T13:40:05.643162Z",
     "start_time": "2024-02-29T13:40:05.633294Z"
    }
   }
  },
  {
   "cell_type": "code",
   "execution_count": 80,
   "outputs": [
    {
     "data": {
      "text/plain": "    CODIGO_MUNICIPIO_7                MUNICIPIO  \\\n0              5201405     Aparecida de Goiânia   \n1              2800308                  Aracaju   \n2              3106200           Belo Horizonte   \n3              1501402                    Belém   \n4              5300108                 Brasília   \n5              3509502                 Campinas   \n6              5002704             Campo Grande   \n7              3118601                 Contagem   \n8              5103403                   Cuiabá   \n9              4106902                 Curitiba   \n10             3301702          Duque de Caxias   \n11             2910800         Feira de Santana   \n12             4205407            Florianópolis   \n13             2304400                Fortaleza   \n14             5208707                  Goiânia   \n15             3518800                Guarulhos   \n16             2607901  Jaboatão dos Guararapes   \n17             4209102                Joinville   \n18             2507507              João Pessoa   \n19             3136702             Juiz de Fora   \n20             4113700                 Londrina   \n21             2704302                   Maceió   \n22             1302603                   Manaus   \n23             2408102                    Natal   \n24             3303500              Nova Iguaçu   \n25             3534401                   Osasco   \n26             4314902             Porto Alegre   \n27             2611606                   Recife   \n28             3543402           Ribeirão Preto   \n29             3304557           Rio de Janeiro   \n30             2927408                 Salvador   \n31             3547809              Santo André   \n32             3205002                    Serra   \n33             3552205                 Sorocaba   \n34             3548708    São Bernardo do Campo   \n35             3304904              São Gonçalo   \n36             3549904      São José dos Campos   \n37             2111300                 São Luís   \n38             3550308                São Paulo   \n39             2211001                 Teresina   \n40             3170206               Uberlândia   \n\n                                                    X             Y   LAG  \\\n0   PERCENTUAL_VARIACAO_PERMANENCIA_RESIDENCIAS_ME...  r0_DETRENDED  None   \n1   PERCENTUAL_VARIACAO_PERMANENCIA_RESIDENCIAS_ME...  r0_DETRENDED  None   \n2   PERCENTUAL_VARIACAO_PERMANENCIA_RESIDENCIAS_ME...  r0_DETRENDED  None   \n3   PERCENTUAL_VARIACAO_PERMANENCIA_RESIDENCIAS_ME...  r0_DETRENDED  None   \n4   PERCENTUAL_VARIACAO_PERMANENCIA_RESIDENCIAS_ME...  r0_DETRENDED  None   \n5   PERCENTUAL_VARIACAO_PERMANENCIA_RESIDENCIAS_ME...  r0_DETRENDED  None   \n6   PERCENTUAL_VARIACAO_PERMANENCIA_RESIDENCIAS_ME...  r0_DETRENDED  None   \n7   PERCENTUAL_VARIACAO_PERMANENCIA_RESIDENCIAS_ME...  r0_DETRENDED  None   \n8   PERCENTUAL_VARIACAO_PERMANENCIA_RESIDENCIAS_ME...  r0_DETRENDED  None   \n9   PERCENTUAL_VARIACAO_PERMANENCIA_RESIDENCIAS_ME...  r0_DETRENDED  None   \n10  PERCENTUAL_VARIACAO_PERMANENCIA_RESIDENCIAS_ME...  r0_DETRENDED  None   \n11  PERCENTUAL_VARIACAO_PERMANENCIA_RESIDENCIAS_ME...  r0_DETRENDED  None   \n12  PERCENTUAL_VARIACAO_PERMANENCIA_RESIDENCIAS_ME...  r0_DETRENDED  None   \n13  PERCENTUAL_VARIACAO_PERMANENCIA_RESIDENCIAS_ME...  r0_DETRENDED  None   \n14  PERCENTUAL_VARIACAO_PERMANENCIA_RESIDENCIAS_ME...  r0_DETRENDED  None   \n15  PERCENTUAL_VARIACAO_PERMANENCIA_RESIDENCIAS_ME...  r0_DETRENDED  None   \n16  PERCENTUAL_VARIACAO_PERMANENCIA_RESIDENCIAS_ME...  r0_DETRENDED  None   \n17  PERCENTUAL_VARIACAO_PERMANENCIA_RESIDENCIAS_ME...  r0_DETRENDED  None   \n18  PERCENTUAL_VARIACAO_PERMANENCIA_RESIDENCIAS_ME...  r0_DETRENDED  None   \n19  PERCENTUAL_VARIACAO_PERMANENCIA_RESIDENCIAS_ME...  r0_DETRENDED  None   \n20  PERCENTUAL_VARIACAO_PERMANENCIA_RESIDENCIAS_ME...  r0_DETRENDED  None   \n21  PERCENTUAL_VARIACAO_PERMANENCIA_RESIDENCIAS_ME...  r0_DETRENDED  None   \n22  PERCENTUAL_VARIACAO_PERMANENCIA_RESIDENCIAS_ME...  r0_DETRENDED  None   \n23  PERCENTUAL_VARIACAO_PERMANENCIA_RESIDENCIAS_ME...  r0_DETRENDED  None   \n24  PERCENTUAL_VARIACAO_PERMANENCIA_RESIDENCIAS_ME...  r0_DETRENDED  None   \n25  PERCENTUAL_VARIACAO_PERMANENCIA_RESIDENCIAS_ME...  r0_DETRENDED  None   \n26  PERCENTUAL_VARIACAO_PERMANENCIA_RESIDENCIAS_ME...  r0_DETRENDED  None   \n27  PERCENTUAL_VARIACAO_PERMANENCIA_RESIDENCIAS_ME...  r0_DETRENDED  None   \n28  PERCENTUAL_VARIACAO_PERMANENCIA_RESIDENCIAS_ME...  r0_DETRENDED  None   \n29  PERCENTUAL_VARIACAO_PERMANENCIA_RESIDENCIAS_ME...  r0_DETRENDED  None   \n30  PERCENTUAL_VARIACAO_PERMANENCIA_RESIDENCIAS_ME...  r0_DETRENDED  None   \n31  PERCENTUAL_VARIACAO_PERMANENCIA_RESIDENCIAS_ME...  r0_DETRENDED  None   \n32  PERCENTUAL_VARIACAO_PERMANENCIA_RESIDENCIAS_ME...  r0_DETRENDED  None   \n33  PERCENTUAL_VARIACAO_PERMANENCIA_RESIDENCIAS_ME...  r0_DETRENDED  None   \n34  PERCENTUAL_VARIACAO_PERMANENCIA_RESIDENCIAS_ME...  r0_DETRENDED  None   \n35  PERCENTUAL_VARIACAO_PERMANENCIA_RESIDENCIAS_ME...  r0_DETRENDED  None   \n36  PERCENTUAL_VARIACAO_PERMANENCIA_RESIDENCIAS_ME...  r0_DETRENDED  None   \n37  PERCENTUAL_VARIACAO_PERMANENCIA_RESIDENCIAS_ME...  r0_DETRENDED  None   \n38  PERCENTUAL_VARIACAO_PERMANENCIA_RESIDENCIAS_ME...  r0_DETRENDED  None   \n39  PERCENTUAL_VARIACAO_PERMANENCIA_RESIDENCIAS_ME...  r0_DETRENDED  None   \n40  PERCENTUAL_VARIACAO_PERMANENCIA_RESIDENCIAS_ME...  r0_DETRENDED  None   \n\n   CORRELATION  \n0         None  \n1         None  \n2         None  \n3         None  \n4         None  \n5         None  \n6         None  \n7         None  \n8         None  \n9         None  \n10        None  \n11        None  \n12        None  \n13        None  \n14        None  \n15        None  \n16        None  \n17        None  \n18        None  \n19        None  \n20        None  \n21        None  \n22        None  \n23        None  \n24        None  \n25        None  \n26        None  \n27        None  \n28        None  \n29        None  \n30        None  \n31        None  \n32        None  \n33        None  \n34        None  \n35        None  \n36        None  \n37        None  \n38        None  \n39        None  \n40        None  ",
      "text/html": "<div>\n<style scoped>\n    .dataframe tbody tr th:only-of-type {\n        vertical-align: middle;\n    }\n\n    .dataframe tbody tr th {\n        vertical-align: top;\n    }\n\n    .dataframe thead th {\n        text-align: right;\n    }\n</style>\n<table border=\"1\" class=\"dataframe\">\n  <thead>\n    <tr style=\"text-align: right;\">\n      <th></th>\n      <th>CODIGO_MUNICIPIO_7</th>\n      <th>MUNICIPIO</th>\n      <th>X</th>\n      <th>Y</th>\n      <th>LAG</th>\n      <th>CORRELATION</th>\n    </tr>\n  </thead>\n  <tbody>\n    <tr>\n      <th>0</th>\n      <td>5201405</td>\n      <td>Aparecida de Goiânia</td>\n      <td>PERCENTUAL_VARIACAO_PERMANENCIA_RESIDENCIAS_ME...</td>\n      <td>r0_DETRENDED</td>\n      <td>None</td>\n      <td>None</td>\n    </tr>\n    <tr>\n      <th>1</th>\n      <td>2800308</td>\n      <td>Aracaju</td>\n      <td>PERCENTUAL_VARIACAO_PERMANENCIA_RESIDENCIAS_ME...</td>\n      <td>r0_DETRENDED</td>\n      <td>None</td>\n      <td>None</td>\n    </tr>\n    <tr>\n      <th>2</th>\n      <td>3106200</td>\n      <td>Belo Horizonte</td>\n      <td>PERCENTUAL_VARIACAO_PERMANENCIA_RESIDENCIAS_ME...</td>\n      <td>r0_DETRENDED</td>\n      <td>None</td>\n      <td>None</td>\n    </tr>\n    <tr>\n      <th>3</th>\n      <td>1501402</td>\n      <td>Belém</td>\n      <td>PERCENTUAL_VARIACAO_PERMANENCIA_RESIDENCIAS_ME...</td>\n      <td>r0_DETRENDED</td>\n      <td>None</td>\n      <td>None</td>\n    </tr>\n    <tr>\n      <th>4</th>\n      <td>5300108</td>\n      <td>Brasília</td>\n      <td>PERCENTUAL_VARIACAO_PERMANENCIA_RESIDENCIAS_ME...</td>\n      <td>r0_DETRENDED</td>\n      <td>None</td>\n      <td>None</td>\n    </tr>\n    <tr>\n      <th>5</th>\n      <td>3509502</td>\n      <td>Campinas</td>\n      <td>PERCENTUAL_VARIACAO_PERMANENCIA_RESIDENCIAS_ME...</td>\n      <td>r0_DETRENDED</td>\n      <td>None</td>\n      <td>None</td>\n    </tr>\n    <tr>\n      <th>6</th>\n      <td>5002704</td>\n      <td>Campo Grande</td>\n      <td>PERCENTUAL_VARIACAO_PERMANENCIA_RESIDENCIAS_ME...</td>\n      <td>r0_DETRENDED</td>\n      <td>None</td>\n      <td>None</td>\n    </tr>\n    <tr>\n      <th>7</th>\n      <td>3118601</td>\n      <td>Contagem</td>\n      <td>PERCENTUAL_VARIACAO_PERMANENCIA_RESIDENCIAS_ME...</td>\n      <td>r0_DETRENDED</td>\n      <td>None</td>\n      <td>None</td>\n    </tr>\n    <tr>\n      <th>8</th>\n      <td>5103403</td>\n      <td>Cuiabá</td>\n      <td>PERCENTUAL_VARIACAO_PERMANENCIA_RESIDENCIAS_ME...</td>\n      <td>r0_DETRENDED</td>\n      <td>None</td>\n      <td>None</td>\n    </tr>\n    <tr>\n      <th>9</th>\n      <td>4106902</td>\n      <td>Curitiba</td>\n      <td>PERCENTUAL_VARIACAO_PERMANENCIA_RESIDENCIAS_ME...</td>\n      <td>r0_DETRENDED</td>\n      <td>None</td>\n      <td>None</td>\n    </tr>\n    <tr>\n      <th>10</th>\n      <td>3301702</td>\n      <td>Duque de Caxias</td>\n      <td>PERCENTUAL_VARIACAO_PERMANENCIA_RESIDENCIAS_ME...</td>\n      <td>r0_DETRENDED</td>\n      <td>None</td>\n      <td>None</td>\n    </tr>\n    <tr>\n      <th>11</th>\n      <td>2910800</td>\n      <td>Feira de Santana</td>\n      <td>PERCENTUAL_VARIACAO_PERMANENCIA_RESIDENCIAS_ME...</td>\n      <td>r0_DETRENDED</td>\n      <td>None</td>\n      <td>None</td>\n    </tr>\n    <tr>\n      <th>12</th>\n      <td>4205407</td>\n      <td>Florianópolis</td>\n      <td>PERCENTUAL_VARIACAO_PERMANENCIA_RESIDENCIAS_ME...</td>\n      <td>r0_DETRENDED</td>\n      <td>None</td>\n      <td>None</td>\n    </tr>\n    <tr>\n      <th>13</th>\n      <td>2304400</td>\n      <td>Fortaleza</td>\n      <td>PERCENTUAL_VARIACAO_PERMANENCIA_RESIDENCIAS_ME...</td>\n      <td>r0_DETRENDED</td>\n      <td>None</td>\n      <td>None</td>\n    </tr>\n    <tr>\n      <th>14</th>\n      <td>5208707</td>\n      <td>Goiânia</td>\n      <td>PERCENTUAL_VARIACAO_PERMANENCIA_RESIDENCIAS_ME...</td>\n      <td>r0_DETRENDED</td>\n      <td>None</td>\n      <td>None</td>\n    </tr>\n    <tr>\n      <th>15</th>\n      <td>3518800</td>\n      <td>Guarulhos</td>\n      <td>PERCENTUAL_VARIACAO_PERMANENCIA_RESIDENCIAS_ME...</td>\n      <td>r0_DETRENDED</td>\n      <td>None</td>\n      <td>None</td>\n    </tr>\n    <tr>\n      <th>16</th>\n      <td>2607901</td>\n      <td>Jaboatão dos Guararapes</td>\n      <td>PERCENTUAL_VARIACAO_PERMANENCIA_RESIDENCIAS_ME...</td>\n      <td>r0_DETRENDED</td>\n      <td>None</td>\n      <td>None</td>\n    </tr>\n    <tr>\n      <th>17</th>\n      <td>4209102</td>\n      <td>Joinville</td>\n      <td>PERCENTUAL_VARIACAO_PERMANENCIA_RESIDENCIAS_ME...</td>\n      <td>r0_DETRENDED</td>\n      <td>None</td>\n      <td>None</td>\n    </tr>\n    <tr>\n      <th>18</th>\n      <td>2507507</td>\n      <td>João Pessoa</td>\n      <td>PERCENTUAL_VARIACAO_PERMANENCIA_RESIDENCIAS_ME...</td>\n      <td>r0_DETRENDED</td>\n      <td>None</td>\n      <td>None</td>\n    </tr>\n    <tr>\n      <th>19</th>\n      <td>3136702</td>\n      <td>Juiz de Fora</td>\n      <td>PERCENTUAL_VARIACAO_PERMANENCIA_RESIDENCIAS_ME...</td>\n      <td>r0_DETRENDED</td>\n      <td>None</td>\n      <td>None</td>\n    </tr>\n    <tr>\n      <th>20</th>\n      <td>4113700</td>\n      <td>Londrina</td>\n      <td>PERCENTUAL_VARIACAO_PERMANENCIA_RESIDENCIAS_ME...</td>\n      <td>r0_DETRENDED</td>\n      <td>None</td>\n      <td>None</td>\n    </tr>\n    <tr>\n      <th>21</th>\n      <td>2704302</td>\n      <td>Maceió</td>\n      <td>PERCENTUAL_VARIACAO_PERMANENCIA_RESIDENCIAS_ME...</td>\n      <td>r0_DETRENDED</td>\n      <td>None</td>\n      <td>None</td>\n    </tr>\n    <tr>\n      <th>22</th>\n      <td>1302603</td>\n      <td>Manaus</td>\n      <td>PERCENTUAL_VARIACAO_PERMANENCIA_RESIDENCIAS_ME...</td>\n      <td>r0_DETRENDED</td>\n      <td>None</td>\n      <td>None</td>\n    </tr>\n    <tr>\n      <th>23</th>\n      <td>2408102</td>\n      <td>Natal</td>\n      <td>PERCENTUAL_VARIACAO_PERMANENCIA_RESIDENCIAS_ME...</td>\n      <td>r0_DETRENDED</td>\n      <td>None</td>\n      <td>None</td>\n    </tr>\n    <tr>\n      <th>24</th>\n      <td>3303500</td>\n      <td>Nova Iguaçu</td>\n      <td>PERCENTUAL_VARIACAO_PERMANENCIA_RESIDENCIAS_ME...</td>\n      <td>r0_DETRENDED</td>\n      <td>None</td>\n      <td>None</td>\n    </tr>\n    <tr>\n      <th>25</th>\n      <td>3534401</td>\n      <td>Osasco</td>\n      <td>PERCENTUAL_VARIACAO_PERMANENCIA_RESIDENCIAS_ME...</td>\n      <td>r0_DETRENDED</td>\n      <td>None</td>\n      <td>None</td>\n    </tr>\n    <tr>\n      <th>26</th>\n      <td>4314902</td>\n      <td>Porto Alegre</td>\n      <td>PERCENTUAL_VARIACAO_PERMANENCIA_RESIDENCIAS_ME...</td>\n      <td>r0_DETRENDED</td>\n      <td>None</td>\n      <td>None</td>\n    </tr>\n    <tr>\n      <th>27</th>\n      <td>2611606</td>\n      <td>Recife</td>\n      <td>PERCENTUAL_VARIACAO_PERMANENCIA_RESIDENCIAS_ME...</td>\n      <td>r0_DETRENDED</td>\n      <td>None</td>\n      <td>None</td>\n    </tr>\n    <tr>\n      <th>28</th>\n      <td>3543402</td>\n      <td>Ribeirão Preto</td>\n      <td>PERCENTUAL_VARIACAO_PERMANENCIA_RESIDENCIAS_ME...</td>\n      <td>r0_DETRENDED</td>\n      <td>None</td>\n      <td>None</td>\n    </tr>\n    <tr>\n      <th>29</th>\n      <td>3304557</td>\n      <td>Rio de Janeiro</td>\n      <td>PERCENTUAL_VARIACAO_PERMANENCIA_RESIDENCIAS_ME...</td>\n      <td>r0_DETRENDED</td>\n      <td>None</td>\n      <td>None</td>\n    </tr>\n    <tr>\n      <th>30</th>\n      <td>2927408</td>\n      <td>Salvador</td>\n      <td>PERCENTUAL_VARIACAO_PERMANENCIA_RESIDENCIAS_ME...</td>\n      <td>r0_DETRENDED</td>\n      <td>None</td>\n      <td>None</td>\n    </tr>\n    <tr>\n      <th>31</th>\n      <td>3547809</td>\n      <td>Santo André</td>\n      <td>PERCENTUAL_VARIACAO_PERMANENCIA_RESIDENCIAS_ME...</td>\n      <td>r0_DETRENDED</td>\n      <td>None</td>\n      <td>None</td>\n    </tr>\n    <tr>\n      <th>32</th>\n      <td>3205002</td>\n      <td>Serra</td>\n      <td>PERCENTUAL_VARIACAO_PERMANENCIA_RESIDENCIAS_ME...</td>\n      <td>r0_DETRENDED</td>\n      <td>None</td>\n      <td>None</td>\n    </tr>\n    <tr>\n      <th>33</th>\n      <td>3552205</td>\n      <td>Sorocaba</td>\n      <td>PERCENTUAL_VARIACAO_PERMANENCIA_RESIDENCIAS_ME...</td>\n      <td>r0_DETRENDED</td>\n      <td>None</td>\n      <td>None</td>\n    </tr>\n    <tr>\n      <th>34</th>\n      <td>3548708</td>\n      <td>São Bernardo do Campo</td>\n      <td>PERCENTUAL_VARIACAO_PERMANENCIA_RESIDENCIAS_ME...</td>\n      <td>r0_DETRENDED</td>\n      <td>None</td>\n      <td>None</td>\n    </tr>\n    <tr>\n      <th>35</th>\n      <td>3304904</td>\n      <td>São Gonçalo</td>\n      <td>PERCENTUAL_VARIACAO_PERMANENCIA_RESIDENCIAS_ME...</td>\n      <td>r0_DETRENDED</td>\n      <td>None</td>\n      <td>None</td>\n    </tr>\n    <tr>\n      <th>36</th>\n      <td>3549904</td>\n      <td>São José dos Campos</td>\n      <td>PERCENTUAL_VARIACAO_PERMANENCIA_RESIDENCIAS_ME...</td>\n      <td>r0_DETRENDED</td>\n      <td>None</td>\n      <td>None</td>\n    </tr>\n    <tr>\n      <th>37</th>\n      <td>2111300</td>\n      <td>São Luís</td>\n      <td>PERCENTUAL_VARIACAO_PERMANENCIA_RESIDENCIAS_ME...</td>\n      <td>r0_DETRENDED</td>\n      <td>None</td>\n      <td>None</td>\n    </tr>\n    <tr>\n      <th>38</th>\n      <td>3550308</td>\n      <td>São Paulo</td>\n      <td>PERCENTUAL_VARIACAO_PERMANENCIA_RESIDENCIAS_ME...</td>\n      <td>r0_DETRENDED</td>\n      <td>None</td>\n      <td>None</td>\n    </tr>\n    <tr>\n      <th>39</th>\n      <td>2211001</td>\n      <td>Teresina</td>\n      <td>PERCENTUAL_VARIACAO_PERMANENCIA_RESIDENCIAS_ME...</td>\n      <td>r0_DETRENDED</td>\n      <td>None</td>\n      <td>None</td>\n    </tr>\n    <tr>\n      <th>40</th>\n      <td>3170206</td>\n      <td>Uberlândia</td>\n      <td>PERCENTUAL_VARIACAO_PERMANENCIA_RESIDENCIAS_ME...</td>\n      <td>r0_DETRENDED</td>\n      <td>None</td>\n      <td>None</td>\n    </tr>\n  </tbody>\n</table>\n</div>"
     },
     "execution_count": 80,
     "metadata": {},
     "output_type": "execute_result"
    }
   ],
   "source": [
    "df_lags_mobility_lead_y_inversely[df_lags_mobility_lead_y_inversely.Y == column_y]"
   ],
   "metadata": {
    "collapsed": false,
    "ExecuteTime": {
     "end_time": "2024-02-29T13:40:05.686638Z",
     "start_time": "2024-02-29T13:40:05.644751Z"
    }
   }
  },
  {
   "cell_type": "code",
   "execution_count": 81,
   "outputs": [
    {
     "data": {
      "text/plain": "<Figure size 493.228x246.614 with 1 Axes>",
      "image/png": "[encoded data removed]"
     },
     "metadata": {},
     "output_type": "display_data"
    }
   ],
   "source": [
    "df_lags_mobility_lead_y_directly['xlabel'] = '$\\Delta_{H}$ leads to $R_{0}$\\n(directly)'\n",
    "df_lags_mobility_lead_y_inversely['xlabel'] = '$\\Delta_{H}$ leads to $R_{0}$\\n(inversely)'\n",
    "df_lags_y_lead_mobility_directly['xlabel'] = '$R_{0}$ leads to $\\Delta_{0}$\\n(directly)'\n",
    "df_lags_y_lead_mobility_inversely['xlabel'] = '$R_{0}$ leads to $\\Delta_{0}$\\n(inversely)'\n",
    "df_chart = pd.concat([df_lags_mobility_lead_y_directly, df_lags_mobility_lead_y_inversely, df_lags_y_lead_mobility_directly, df_lags_y_lead_mobility_inversely], ignore_index=True)\n",
    "df_chart = df_chart[df_chart.Y==column_y]\n",
    "df_chart = df_chart.dropna()\n",
    "df_chart.LAG = abs(df_chart.LAG)\n",
    "\n",
    "sns.set(font_scale=1.1)\n",
    "sns.set_style(\"ticks\")\n",
    "sns.set_palette(\"gray\")\n",
    "fig, ax = plt.subplots(figsize=(util.centimeter_to_inch(17.4), util.centimeter_to_inch(8.7)))\n",
    "\n",
    "chart = sns.boxplot(data=df_chart, x='xlabel', y='LAG', ax=ax, boxprops=dict(facecolor='white'))\n",
    "chart.set(ylabel='Lag', xlabel=None)\n",
    "\n",
    "plt.setp(ax.artists, edgecolor = 'black')\n",
    "plt.setp(ax.lines, color='black')\n",
    "\n",
    "plt.show()"
   ],
   "metadata": {
    "collapsed": false,
    "ExecuteTime": {
     "end_time": "2024-02-29T13:40:05.856096Z",
     "start_time": "2024-02-29T13:40:05.688392Z"
    }
   }
  },
  {
   "cell_type": "code",
   "execution_count": 82,
   "outputs": [],
   "source": [
    "def plot_cross_correlation_mobility_y(municipality_name, y, save):\n",
    "    df = df_lags[(df_lags.MUNICIPIO == municipality_name) & (df_lags.Y == y)].dropna()\n",
    "    df.LAG = df.LAG.astype(int)\n",
    "    df.CORRELATION = df.CORRELATION.astype(float)\n",
    "\n",
    "    sns.set(font_scale=1.1)\n",
    "    sns.set_style(\"ticks\")\n",
    "    fig, ax = plt.subplots(figsize=(util.centimeter_to_inch(17.4), util.centimeter_to_inch(8.7)))\n",
    "\n",
    "    y_label = \"Correlation coefficient\"\n",
    "\n",
    "    chart = sns.barplot(data=df, x='LAG', y='CORRELATION', ax=ax, color='black')\n",
    "    chart.set(ylabel = y_label, xlabel = 'Lag (day)', xticks=[0, 15, 30, 45, 60])\n",
    "\n",
    "    ax.axhline(df[confidence_level].min(), 0, 1, linestyle='--', color='red')\n",
    "    ax.axhline(df[confidence_level].min()*-1, 0, 1, linestyle='--', color='red')\n",
    "\n",
    "    if save:\n",
    "        plt.savefig('images/cross_correlation_mobility_'+y+'_'+analysis+'.eps', bbox_inches=\"tight\")\n",
    "        plt.savefig('images/cross_correlation_mobility_'+y+'_'+analysis+'.pdf', bbox_inches=\"tight\")\n",
    "    plt.show()"
   ],
   "metadata": {
    "collapsed": false,
    "ExecuteTime": {
     "end_time": "2024-02-29T13:40:05.865424Z",
     "start_time": "2024-02-29T13:40:05.857445Z"
    }
   }
  },
  {
   "cell_type": "code",
   "execution_count": 83,
   "outputs": [
    {
     "data": {
      "text/plain": "<Figure size 493.228x246.614 with 1 Axes>",
      "image/png": "[encoded data removed]"
     },
     "metadata": {},
     "output_type": "display_data"
    }
   ],
   "source": [
    "plot_cross_correlation_mobility_y('São Paulo', column_y, False)"
   ],
   "metadata": {
    "collapsed": false,
    "ExecuteTime": {
     "end_time": "2024-02-29T13:40:06.483779Z",
     "start_time": "2024-02-29T13:40:05.867167Z"
    }
   }
  },
  {
   "cell_type": "code",
   "execution_count": 84,
   "outputs": [
    {
     "data": {
      "text/plain": "<Figure size 493.228x246.614 with 1 Axes>",
      "image/png": "[encoded data removed]"
     },
     "metadata": {},
     "output_type": "display_data"
    }
   ],
   "source": [
    "plot_cross_correlation_mobility_y('São Paulo', column_y, False)"
   ],
   "metadata": {
    "collapsed": false,
    "ExecuteTime": {
     "end_time": "2024-02-29T13:40:07.035844Z",
     "start_time": "2024-02-29T13:40:06.489219Z"
    }
   }
  },
  {
   "cell_type": "code",
   "execution_count": 85,
   "outputs": [],
   "source": [
    "plt.rc('font', size=7)\n",
    "style = dict(color='black')\n",
    "sns.set_style(\"ticks\")"
   ],
   "metadata": {
    "collapsed": false,
    "ExecuteTime": {
     "end_time": "2024-02-29T13:40:07.042492Z",
     "start_time": "2024-02-29T13:40:07.038333Z"
    }
   }
  },
  {
   "cell_type": "code",
   "outputs": [
    {
     "data": {
      "text/plain": "Empty DataFrame\nColumns: [CODIGO_MUNICIPIO_7, MUNICIPIO, X, Y, LAG, CORRELATION, xlabel]\nIndex: []",
      "text/html": "<div>\n<style scoped>\n    .dataframe tbody tr th:only-of-type {\n        vertical-align: middle;\n    }\n\n    .dataframe tbody tr th {\n        vertical-align: top;\n    }\n\n    .dataframe thead th {\n        text-align: right;\n    }\n</style>\n<table border=\"1\" class=\"dataframe\">\n  <thead>\n    <tr style=\"text-align: right;\">\n      <th></th>\n      <th>CODIGO_MUNICIPIO_7</th>\n      <th>MUNICIPIO</th>\n      <th>X</th>\n      <th>Y</th>\n      <th>LAG</th>\n      <th>CORRELATION</th>\n      <th>xlabel</th>\n    </tr>\n  </thead>\n  <tbody>\n  </tbody>\n</table>\n</div>"
     },
     "execution_count": 86,
     "metadata": {},
     "output_type": "execute_result"
    }
   ],
   "source": [
    "df_lags_y_lead_mobility_directly.dropna()"
   ],
   "metadata": {
    "collapsed": false,
    "ExecuteTime": {
     "end_time": "2024-02-29T13:40:07.073191Z",
     "start_time": "2024-02-29T13:40:07.044394Z"
    }
   },
   "execution_count": 86
  },
  {
   "cell_type": "code",
   "execution_count": 87,
   "outputs": [
    {
     "data": {
      "text/plain": "<Figure size 394.583x158.74 with 4 Axes>",
      "image/png": "[encoded data removed]"
     },
     "metadata": {},
     "output_type": "display_data"
    }
   ],
   "source": [
    "df_number_samples = pd.DataFrame()\n",
    "\n",
    "fig, ax = plt.subplots(1,4, figsize=(util.centimeter_to_inch(13.92), util.centimeter_to_inch(5.6)), sharex=True, sharey=True)\n",
    "\n",
    "for y, y_label in zip([column_y], [\"$R_{0}^{'}$\"]):\n",
    "    j = 0\n",
    "    for df, title in zip([df_lags_mobility_lead_y_directly, df_lags_mobility_lead_y_inversely, df_lags_y_lead_mobility_directly, df_lags_y_lead_mobility_inversely], [\"$\\Delta_{H}^{''}$ leads \" + y_label + '\\n(directly)', \"$\\Delta_{H}^{''}$ leads \" + y_label + '\\n(inversely)', \"$\\Delta_{H}^{''}$ lags \" + y_label + '\\n(directly)', \"$\\Delta_{H}^{''}$ lags \" + y_label + '\\n(inversely)']):\n",
    "        df_chart = df[df.Y == y].dropna().copy()\n",
    "        df_chart.LAG = df_chart.LAG.astype(int)\n",
    "        df_chart.LAG = abs(df_chart.LAG)\n",
    "        df_chart.CORRELATION = abs(df_chart.CORRELATION)\n",
    "\n",
    "        ax[j].scatter(x = df_chart['LAG'], y =df_chart['CORRELATION'], c='w', edgecolors='gray')\n",
    "\n",
    "        # ax[j].axvline(df_chart.LAG.median(), 0, 1, linestyle='--', color='red')\n",
    "        # ax[j].axhline(df_chart.CORRELATION.median(), 0, 1, linestyle='--', color='red')\n",
    "\n",
    "        ax[j].set_title(title)\n",
    "        \n",
    "        ax[j].set_xlabel('|Lag|')\n",
    "        ax[j].set_xticks([0, 10, 20, 30])\n",
    "        # ax[i][j].set_xlim((min_lag-5, max_lag+5))\n",
    "\n",
    "        if j == 0:\n",
    "            ax[j].set_ylabel(\"|Correlation|\")\n",
    "            ax[j].yaxis.set_major_formatter(mticker.FuncFormatter(lambda x, _: f\"{x:.2f}\"))\n",
    "\n",
    "        j += 1        \n",
    "        \n",
    "        try:\n",
    "            df_chart_describe = df_chart.describe()[['LAG','CORRELATION']].reset_index().copy()\n",
    "            df_chart_describe['y'] = y_label\n",
    "            df_chart_describe['title'] = title\n",
    "            df_number_samples = df_number_samples.append(df_chart_describe, ignore_index=True)\n",
    "        except KeyError:\n",
    "            pass\n",
    "\n",
    "fig.tight_layout()\n",
    "\n",
    "plt.savefig('../images/scatter_lag_correlation_'+analysis+'.pdf', bbox_inches=\"tight\")\n",
    "\n",
    "df_number_samples.to_csv('../data/df_number_samples_'+analysis + '.csv')\n",
    "\n",
    "plt.show()"
   ],
   "metadata": {
    "collapsed": false,
    "ExecuteTime": {
     "end_time": "2024-02-29T13:40:08.198662Z",
     "start_time": "2024-02-29T13:40:07.074806Z"
    }
   }
  },
  {
   "cell_type": "code",
   "execution_count": 88,
   "outputs": [
    {
     "data": {
      "text/plain": "   index  LAG  CORRELATION            y  \\\n0  count  1.0      1.00000  $R_{0}^{'}$   \n1   mean  3.0      0.11814  $R_{0}^{'}$   \n2    std  NaN          NaN  $R_{0}^{'}$   \n3    min  3.0      0.11814  $R_{0}^{'}$   \n4    25%  3.0      0.11814  $R_{0}^{'}$   \n5    50%  3.0      0.11814  $R_{0}^{'}$   \n6    75%  3.0      0.11814  $R_{0}^{'}$   \n7    max  3.0      0.11814  $R_{0}^{'}$   \n\n                                             title  \n0  $\\Delta_{H}^{''}$ leads $R_{0}^{'}$\\n(directly)  \n1  $\\Delta_{H}^{''}$ leads $R_{0}^{'}$\\n(directly)  \n2  $\\Delta_{H}^{''}$ leads $R_{0}^{'}$\\n(directly)  \n3  $\\Delta_{H}^{''}$ leads $R_{0}^{'}$\\n(directly)  \n4  $\\Delta_{H}^{''}$ leads $R_{0}^{'}$\\n(directly)  \n5  $\\Delta_{H}^{''}$ leads $R_{0}^{'}$\\n(directly)  \n6  $\\Delta_{H}^{''}$ leads $R_{0}^{'}$\\n(directly)  \n7  $\\Delta_{H}^{''}$ leads $R_{0}^{'}$\\n(directly)  ",
      "text/html": "<div>\n<style scoped>\n    .dataframe tbody tr th:only-of-type {\n        vertical-align: middle;\n    }\n\n    .dataframe tbody tr th {\n        vertical-align: top;\n    }\n\n    .dataframe thead th {\n        text-align: right;\n    }\n</style>\n<table border=\"1\" class=\"dataframe\">\n  <thead>\n    <tr style=\"text-align: right;\">\n      <th></th>\n      <th>index</th>\n      <th>LAG</th>\n      <th>CORRELATION</th>\n      <th>y</th>\n      <th>title</th>\n    </tr>\n  </thead>\n  <tbody>\n    <tr>\n      <th>0</th>\n      <td>count</td>\n      <td>1.0</td>\n      <td>1.00000</td>\n      <td>$R_{0}^{'}$</td>\n      <td>$\\Delta_{H}^{''}$ leads $R_{0}^{'}$\\n(directly)</td>\n    </tr>\n    <tr>\n      <th>1</th>\n      <td>mean</td>\n      <td>3.0</td>\n      <td>0.11814</td>\n      <td>$R_{0}^{'}$</td>\n      <td>$\\Delta_{H}^{''}$ leads $R_{0}^{'}$\\n(directly)</td>\n    </tr>\n    <tr>\n      <th>2</th>\n      <td>std</td>\n      <td>NaN</td>\n      <td>NaN</td>\n      <td>$R_{0}^{'}$</td>\n      <td>$\\Delta_{H}^{''}$ leads $R_{0}^{'}$\\n(directly)</td>\n    </tr>\n    <tr>\n      <th>3</th>\n      <td>min</td>\n      <td>3.0</td>\n      <td>0.11814</td>\n      <td>$R_{0}^{'}$</td>\n      <td>$\\Delta_{H}^{''}$ leads $R_{0}^{'}$\\n(directly)</td>\n    </tr>\n    <tr>\n      <th>4</th>\n      <td>25%</td>\n      <td>3.0</td>\n      <td>0.11814</td>\n      <td>$R_{0}^{'}$</td>\n      <td>$\\Delta_{H}^{''}$ leads $R_{0}^{'}$\\n(directly)</td>\n    </tr>\n    <tr>\n      <th>5</th>\n      <td>50%</td>\n      <td>3.0</td>\n      <td>0.11814</td>\n      <td>$R_{0}^{'}$</td>\n      <td>$\\Delta_{H}^{''}$ leads $R_{0}^{'}$\\n(directly)</td>\n    </tr>\n    <tr>\n      <th>6</th>\n      <td>75%</td>\n      <td>3.0</td>\n      <td>0.11814</td>\n      <td>$R_{0}^{'}$</td>\n      <td>$\\Delta_{H}^{''}$ leads $R_{0}^{'}$\\n(directly)</td>\n    </tr>\n    <tr>\n      <th>7</th>\n      <td>max</td>\n      <td>3.0</td>\n      <td>0.11814</td>\n      <td>$R_{0}^{'}$</td>\n      <td>$\\Delta_{H}^{''}$ leads $R_{0}^{'}$\\n(directly)</td>\n    </tr>\n  </tbody>\n</table>\n</div>"
     },
     "execution_count": 88,
     "metadata": {},
     "output_type": "execute_result"
    }
   ],
   "source": [
    "df_number_samples"
   ],
   "metadata": {
    "collapsed": false,
    "ExecuteTime": {
     "end_time": "2024-02-29T13:40:08.209228Z",
     "start_time": "2024-02-29T13:40:08.200158Z"
    }
   }
  },
  {
   "cell_type": "code",
   "execution_count": 89,
   "outputs": [
    {
     "data": {
      "text/plain": "count    1.0\nmean    -3.0\nstd      NaN\nmin     -3.0\n25%     -3.0\n50%     -3.0\n75%     -3.0\nmax     -3.0\nName: LAG, dtype: float64"
     },
     "execution_count": 89,
     "metadata": {},
     "output_type": "execute_result"
    }
   ],
   "source": [
    "df_lags_mobility_lead_y_directly[df_lags_mobility_lead_y_directly.Y==column_y].LAG.dropna().astype(float).describe()"
   ],
   "metadata": {
    "collapsed": false,
    "ExecuteTime": {
     "end_time": "2024-02-29T13:40:08.240262Z",
     "start_time": "2024-02-29T13:40:08.210651Z"
    }
   }
  },
  {
   "cell_type": "code",
   "execution_count": 90,
   "outputs": [
    {
     "data": {
      "text/plain": "count    0.0\nmean     NaN\nstd      NaN\nmin      NaN\n25%      NaN\n50%      NaN\n75%      NaN\nmax      NaN\nName: LAG, dtype: float64"
     },
     "execution_count": 90,
     "metadata": {},
     "output_type": "execute_result"
    }
   ],
   "source": [
    "df_lags_mobility_lead_y_inversely[df_lags_mobility_lead_y_inversely.Y==column_y].LAG.dropna().astype(float).describe()"
   ],
   "metadata": {
    "collapsed": false,
    "ExecuteTime": {
     "end_time": "2024-02-29T13:40:08.274791Z",
     "start_time": "2024-02-29T13:40:08.241729Z"
    }
   }
  },
  {
   "cell_type": "code",
   "outputs": [
    {
     "data": {
      "text/plain": "Series([], Name: LAG, dtype: float64)"
     },
     "execution_count": 91,
     "metadata": {},
     "output_type": "execute_result"
    }
   ],
   "source": [
    "df_lags_mobility_lead_y_inversely[df_lags_mobility_lead_y_inversely.Y==column_y].LAG.dropna().astype(float)"
   ],
   "metadata": {
    "collapsed": false,
    "ExecuteTime": {
     "end_time": "2024-02-29T13:40:08.302038Z",
     "start_time": "2024-02-29T13:40:08.276348Z"
    }
   },
   "execution_count": 91
  },
  {
   "cell_type": "code",
   "outputs": [
    {
     "data": {
      "text/plain": "       CODIGO_MUNICIPIO_7  LAG\ncount                 0.0  0.0\nmean                  NaN  NaN\nstd                   NaN  NaN\nmin                   NaN  NaN\n25%                   NaN  NaN\n50%                   NaN  NaN\n75%                   NaN  NaN\nmax                   NaN  NaN",
      "text/html": "<div>\n<style scoped>\n    .dataframe tbody tr th:only-of-type {\n        vertical-align: middle;\n    }\n\n    .dataframe tbody tr th {\n        vertical-align: top;\n    }\n\n    .dataframe thead th {\n        text-align: right;\n    }\n</style>\n<table border=\"1\" class=\"dataframe\">\n  <thead>\n    <tr style=\"text-align: right;\">\n      <th></th>\n      <th>CODIGO_MUNICIPIO_7</th>\n      <th>LAG</th>\n    </tr>\n  </thead>\n  <tbody>\n    <tr>\n      <th>count</th>\n      <td>0.0</td>\n      <td>0.0</td>\n    </tr>\n    <tr>\n      <th>mean</th>\n      <td>NaN</td>\n      <td>NaN</td>\n    </tr>\n    <tr>\n      <th>std</th>\n      <td>NaN</td>\n      <td>NaN</td>\n    </tr>\n    <tr>\n      <th>min</th>\n      <td>NaN</td>\n      <td>NaN</td>\n    </tr>\n    <tr>\n      <th>25%</th>\n      <td>NaN</td>\n      <td>NaN</td>\n    </tr>\n    <tr>\n      <th>50%</th>\n      <td>NaN</td>\n      <td>NaN</td>\n    </tr>\n    <tr>\n      <th>75%</th>\n      <td>NaN</td>\n      <td>NaN</td>\n    </tr>\n    <tr>\n      <th>max</th>\n      <td>NaN</td>\n      <td>NaN</td>\n    </tr>\n  </tbody>\n</table>\n</div>"
     },
     "execution_count": 92,
     "metadata": {},
     "output_type": "execute_result"
    }
   ],
   "source": [
    "temp = df_lags_mobility_lead_y_inversely[(df_lags_mobility_lead_y_inversely.Y==column_y)].dropna()\n",
    "temp['LAG'] = temp['LAG'].astype(float)\n",
    "temp[temp['LAG'] <= -23].describe().round(2)"
   ],
   "metadata": {
    "collapsed": false,
    "ExecuteTime": {
     "end_time": "2024-02-29T13:40:08.362529Z",
     "start_time": "2024-02-29T13:40:08.303464Z"
    }
   },
   "execution_count": 92
  },
  {
   "cell_type": "code",
   "outputs": [
    {
     "data": {
      "text/plain": "       CODIGO_MUNICIPIO_7  LAG\ncount                 0.0  0.0\nmean                  NaN  NaN\nstd                   NaN  NaN\nmin                   NaN  NaN\n25%                   NaN  NaN\n50%                   NaN  NaN\n75%                   NaN  NaN\nmax                   NaN  NaN",
      "text/html": "<div>\n<style scoped>\n    .dataframe tbody tr th:only-of-type {\n        vertical-align: middle;\n    }\n\n    .dataframe tbody tr th {\n        vertical-align: top;\n    }\n\n    .dataframe thead th {\n        text-align: right;\n    }\n</style>\n<table border=\"1\" class=\"dataframe\">\n  <thead>\n    <tr style=\"text-align: right;\">\n      <th></th>\n      <th>CODIGO_MUNICIPIO_7</th>\n      <th>LAG</th>\n    </tr>\n  </thead>\n  <tbody>\n    <tr>\n      <th>count</th>\n      <td>0.0</td>\n      <td>0.0</td>\n    </tr>\n    <tr>\n      <th>mean</th>\n      <td>NaN</td>\n      <td>NaN</td>\n    </tr>\n    <tr>\n      <th>std</th>\n      <td>NaN</td>\n      <td>NaN</td>\n    </tr>\n    <tr>\n      <th>min</th>\n      <td>NaN</td>\n      <td>NaN</td>\n    </tr>\n    <tr>\n      <th>25%</th>\n      <td>NaN</td>\n      <td>NaN</td>\n    </tr>\n    <tr>\n      <th>50%</th>\n      <td>NaN</td>\n      <td>NaN</td>\n    </tr>\n    <tr>\n      <th>75%</th>\n      <td>NaN</td>\n      <td>NaN</td>\n    </tr>\n    <tr>\n      <th>max</th>\n      <td>NaN</td>\n      <td>NaN</td>\n    </tr>\n  </tbody>\n</table>\n</div>"
     },
     "execution_count": 93,
     "metadata": {},
     "output_type": "execute_result"
    }
   ],
   "source": [
    "temp[temp['LAG'] > -23].describe().round(2)"
   ],
   "metadata": {
    "collapsed": false,
    "ExecuteTime": {
     "end_time": "2024-02-29T13:40:08.416086Z",
     "start_time": "2024-02-29T13:40:08.363905Z"
    }
   },
   "execution_count": 93
  },
  {
   "cell_type": "code",
   "outputs": [
    {
     "data": {
      "text/plain": "Series([], Name: LAG, dtype: float64)"
     },
     "execution_count": 94,
     "metadata": {},
     "output_type": "execute_result"
    }
   ],
   "source": [
    "df_lags_mobility_lead_y_inversely[df_lags_mobility_lead_y_inversely.Y==column_y].LAG.dropna().astype(float)"
   ],
   "metadata": {
    "collapsed": false,
    "ExecuteTime": {
     "end_time": "2024-02-29T13:40:08.442943Z",
     "start_time": "2024-02-29T13:40:08.417521Z"
    }
   },
   "execution_count": 94
  },
  {
   "cell_type": "code",
   "execution_count": 95,
   "outputs": [
    {
     "data": {
      "text/plain": "count    0.0\nmean     NaN\nstd      NaN\nmin      NaN\n25%      NaN\n50%      NaN\n75%      NaN\nmax      NaN\nName: LAG, dtype: float64"
     },
     "execution_count": 95,
     "metadata": {},
     "output_type": "execute_result"
    }
   ],
   "source": [
    "df_lags_y_lead_mobility_directly [df_lags_y_lead_mobility_directly.Y==column_y].LAG.dropna().astype(float).describe()"
   ],
   "metadata": {
    "collapsed": false,
    "ExecuteTime": {
     "end_time": "2024-02-29T13:40:08.470879Z",
     "start_time": "2024-02-29T13:40:08.444337Z"
    }
   }
  },
  {
   "cell_type": "code",
   "execution_count": 96,
   "outputs": [
    {
     "data": {
      "text/plain": "count    0.0\nmean     NaN\nstd      NaN\nmin      NaN\n25%      NaN\n50%      NaN\n75%      NaN\nmax      NaN\nName: LAG, dtype: float64"
     },
     "execution_count": 96,
     "metadata": {},
     "output_type": "execute_result"
    }
   ],
   "source": [
    "df_lags_y_lead_mobility_inversely [df_lags_y_lead_mobility_inversely.Y==column_y].LAG.dropna().astype(float).describe()"
   ],
   "metadata": {
    "collapsed": false,
    "ExecuteTime": {
     "end_time": "2024-02-29T13:40:08.501803Z",
     "start_time": "2024-02-29T13:40:08.472318Z"
    }
   }
  }
 ],
 "metadata": {
  "kernelspec": {
   "display_name": "Python 3",
   "language": "python",
   "name": "python3"
  },
  "language_info": {
   "codemirror_mode": {
    "name": "ipython",
    "version": 2
   },
   "file_extension": ".py",
   "mimetype": "text/x-python",
   "name": "python",
   "nbconvert_exporter": "python",
   "pygments_lexer": "ipython2",
   "version": "2.7.6"
  }
 },
 "nbformat": 4,
 "nbformat_minor": 0
}
