{
 "cells": [
  {
   "cell_type": "markdown",
   "source": [
    "# Analysis the results  of cross-correlation between R0 and mobility."
   ],
   "metadata": {
    "collapsed": false
   }
  },
  {
   "cell_type": "code",
   "execution_count": 161,
   "outputs": [],
   "source": [
    "import pandas as pd\n",
    "import seaborn as sns\n",
    "import matplotlib.pyplot as plt\n",
    "import util\n",
    "import matplotlib.ticker as mticker"
   ],
   "metadata": {
    "collapsed": false,
    "ExecuteTime": {
     "end_time": "2024-03-20T17:37:32.448024Z",
     "start_time": "2024-03-20T17:37:32.444213Z"
    }
   }
  },
  {
   "cell_type": "markdown",
   "source": [
    "## Loading data"
   ],
   "metadata": {
    "collapsed": false
   }
  },
  {
   "cell_type": "code",
   "execution_count": 162,
   "outputs": [],
   "source": [
    "analysis = '2021'\n",
    "column_x = 'PERCENTUAL_VARIACAO_PERMANENCIA_RESIDENCIAS_MEDIA_7_DIAS_WHITED'\n",
    "column_y = 'r0_DETRENDED'\n",
    "confidence_level = 'CONFIANCE_LEVEL_HARD'\n",
    "# confidence_level = 'CONFIANCE_LEVEL'"
   ],
   "metadata": {
    "collapsed": false,
    "ExecuteTime": {
     "end_time": "2024-03-20T17:37:32.753521Z",
     "start_time": "2024-03-20T17:37:32.749549Z"
    }
   }
  },
  {
   "cell_type": "code",
   "execution_count": 163,
   "outputs": [],
   "source": [
    "df_lags = pd.read_csv('../data/df_lags_'+analysis+'.csv', index_col=0)"
   ],
   "metadata": {
    "collapsed": false,
    "ExecuteTime": {
     "end_time": "2024-03-20T17:37:32.856803Z",
     "start_time": "2024-03-20T17:37:32.835492Z"
    }
   }
  },
  {
   "cell_type": "code",
   "outputs": [
    {
     "data": {
      "text/plain": "      LAG  CORRELATION  CODIGO_MUNICIPIO_7             MUNICIPIO  \\\n0     -30    -0.098162             5201405  Aparecida de Goiânia   \n1     -29    -0.091944             5201405  Aparecida de Goiânia   \n2     -28    -0.087643             5201405  Aparecida de Goiânia   \n3     -27    -0.086026             5201405  Aparecida de Goiânia   \n4     -26    -0.088358             5201405  Aparecida de Goiânia   \n...   ...          ...                 ...                   ...   \n2496   26     0.049028             3170206            Uberlândia   \n2497   27     0.049149             3170206            Uberlândia   \n2498   28     0.049346             3170206            Uberlândia   \n2499   29     0.049436             3170206            Uberlândia   \n2500   30     0.048892             3170206            Uberlândia   \n\n                                                      X             Y  \\\n0     PERCENTUAL_VARIACAO_PERMANENCIA_RESIDENCIAS_ME...  r0_DETRENDED   \n1     PERCENTUAL_VARIACAO_PERMANENCIA_RESIDENCIAS_ME...  r0_DETRENDED   \n2     PERCENTUAL_VARIACAO_PERMANENCIA_RESIDENCIAS_ME...  r0_DETRENDED   \n3     PERCENTUAL_VARIACAO_PERMANENCIA_RESIDENCIAS_ME...  r0_DETRENDED   \n4     PERCENTUAL_VARIACAO_PERMANENCIA_RESIDENCIAS_ME...  r0_DETRENDED   \n...                                                 ...           ...   \n2496  PERCENTUAL_VARIACAO_PERMANENCIA_RESIDENCIAS_ME...  r0_DETRENDED   \n2497  PERCENTUAL_VARIACAO_PERMANENCIA_RESIDENCIAS_ME...  r0_DETRENDED   \n2498  PERCENTUAL_VARIACAO_PERMANENCIA_RESIDENCIAS_ME...  r0_DETRENDED   \n2499  PERCENTUAL_VARIACAO_PERMANENCIA_RESIDENCIAS_ME...  r0_DETRENDED   \n2500  PERCENTUAL_VARIACAO_PERMANENCIA_RESIDENCIAS_ME...  r0_DETRENDED   \n\n      CONFIANCE_LEVEL  CONFIANCE_LEVEL_HARD  MAX_LEGS_TO_SHOW  \n0            0.102591              0.102847                30  \n1            0.102591              0.102847                30  \n2            0.102591              0.102847                30  \n3            0.102591              0.102847                30  \n4            0.102591              0.102847                30  \n...               ...                   ...               ...  \n2496         0.102591              0.096009                30  \n2497         0.102591              0.096009                30  \n2498         0.102591              0.096009                30  \n2499         0.102591              0.096009                30  \n2500         0.102591              0.096009                30  \n\n[2501 rows x 9 columns]",
      "text/html": "<div>\n<style scoped>\n    .dataframe tbody tr th:only-of-type {\n        vertical-align: middle;\n    }\n\n    .dataframe tbody tr th {\n        vertical-align: top;\n    }\n\n    .dataframe thead th {\n        text-align: right;\n    }\n</style>\n<table border=\"1\" class=\"dataframe\">\n  <thead>\n    <tr style=\"text-align: right;\">\n      <th></th>\n      <th>LAG</th>\n      <th>CORRELATION</th>\n      <th>CODIGO_MUNICIPIO_7</th>\n      <th>MUNICIPIO</th>\n      <th>X</th>\n      <th>Y</th>\n      <th>CONFIANCE_LEVEL</th>\n      <th>CONFIANCE_LEVEL_HARD</th>\n      <th>MAX_LEGS_TO_SHOW</th>\n    </tr>\n  </thead>\n  <tbody>\n    <tr>\n      <th>0</th>\n      <td>-30</td>\n      <td>-0.098162</td>\n      <td>5201405</td>\n      <td>Aparecida de Goiânia</td>\n      <td>PERCENTUAL_VARIACAO_PERMANENCIA_RESIDENCIAS_ME...</td>\n      <td>r0_DETRENDED</td>\n      <td>0.102591</td>\n      <td>0.102847</td>\n      <td>30</td>\n    </tr>\n    <tr>\n      <th>1</th>\n      <td>-29</td>\n      <td>-0.091944</td>\n      <td>5201405</td>\n      <td>Aparecida de Goiânia</td>\n      <td>PERCENTUAL_VARIACAO_PERMANENCIA_RESIDENCIAS_ME...</td>\n      <td>r0_DETRENDED</td>\n      <td>0.102591</td>\n      <td>0.102847</td>\n      <td>30</td>\n    </tr>\n    <tr>\n      <th>2</th>\n      <td>-28</td>\n      <td>-0.087643</td>\n      <td>5201405</td>\n      <td>Aparecida de Goiânia</td>\n      <td>PERCENTUAL_VARIACAO_PERMANENCIA_RESIDENCIAS_ME...</td>\n      <td>r0_DETRENDED</td>\n      <td>0.102591</td>\n      <td>0.102847</td>\n      <td>30</td>\n    </tr>\n    <tr>\n      <th>3</th>\n      <td>-27</td>\n      <td>-0.086026</td>\n      <td>5201405</td>\n      <td>Aparecida de Goiânia</td>\n      <td>PERCENTUAL_VARIACAO_PERMANENCIA_RESIDENCIAS_ME...</td>\n      <td>r0_DETRENDED</td>\n      <td>0.102591</td>\n      <td>0.102847</td>\n      <td>30</td>\n    </tr>\n    <tr>\n      <th>4</th>\n      <td>-26</td>\n      <td>-0.088358</td>\n      <td>5201405</td>\n      <td>Aparecida de Goiânia</td>\n      <td>PERCENTUAL_VARIACAO_PERMANENCIA_RESIDENCIAS_ME...</td>\n      <td>r0_DETRENDED</td>\n      <td>0.102591</td>\n      <td>0.102847</td>\n      <td>30</td>\n    </tr>\n    <tr>\n      <th>...</th>\n      <td>...</td>\n      <td>...</td>\n      <td>...</td>\n      <td>...</td>\n      <td>...</td>\n      <td>...</td>\n      <td>...</td>\n      <td>...</td>\n      <td>...</td>\n    </tr>\n    <tr>\n      <th>2496</th>\n      <td>26</td>\n      <td>0.049028</td>\n      <td>3170206</td>\n      <td>Uberlândia</td>\n      <td>PERCENTUAL_VARIACAO_PERMANENCIA_RESIDENCIAS_ME...</td>\n      <td>r0_DETRENDED</td>\n      <td>0.102591</td>\n      <td>0.096009</td>\n      <td>30</td>\n    </tr>\n    <tr>\n      <th>2497</th>\n      <td>27</td>\n      <td>0.049149</td>\n      <td>3170206</td>\n      <td>Uberlândia</td>\n      <td>PERCENTUAL_VARIACAO_PERMANENCIA_RESIDENCIAS_ME...</td>\n      <td>r0_DETRENDED</td>\n      <td>0.102591</td>\n      <td>0.096009</td>\n      <td>30</td>\n    </tr>\n    <tr>\n      <th>2498</th>\n      <td>28</td>\n      <td>0.049346</td>\n      <td>3170206</td>\n      <td>Uberlândia</td>\n      <td>PERCENTUAL_VARIACAO_PERMANENCIA_RESIDENCIAS_ME...</td>\n      <td>r0_DETRENDED</td>\n      <td>0.102591</td>\n      <td>0.096009</td>\n      <td>30</td>\n    </tr>\n    <tr>\n      <th>2499</th>\n      <td>29</td>\n      <td>0.049436</td>\n      <td>3170206</td>\n      <td>Uberlândia</td>\n      <td>PERCENTUAL_VARIACAO_PERMANENCIA_RESIDENCIAS_ME...</td>\n      <td>r0_DETRENDED</td>\n      <td>0.102591</td>\n      <td>0.096009</td>\n      <td>30</td>\n    </tr>\n    <tr>\n      <th>2500</th>\n      <td>30</td>\n      <td>0.048892</td>\n      <td>3170206</td>\n      <td>Uberlândia</td>\n      <td>PERCENTUAL_VARIACAO_PERMANENCIA_RESIDENCIAS_ME...</td>\n      <td>r0_DETRENDED</td>\n      <td>0.102591</td>\n      <td>0.096009</td>\n      <td>30</td>\n    </tr>\n  </tbody>\n</table>\n<p>2501 rows × 9 columns</p>\n</div>"
     },
     "execution_count": 164,
     "metadata": {},
     "output_type": "execute_result"
    }
   ],
   "source": [
    "df_lags"
   ],
   "metadata": {
    "collapsed": false,
    "ExecuteTime": {
     "end_time": "2024-03-20T17:37:32.934857Z",
     "start_time": "2024-03-20T17:37:32.903679Z"
    }
   },
   "execution_count": 164
  },
  {
   "cell_type": "code",
   "execution_count": 165,
   "outputs": [],
   "source": [
    "df_covid_mobility = pd.read_csv('../data/df_ts_covid_mobility.csv')"
   ],
   "metadata": {
    "collapsed": false,
    "ExecuteTime": {
     "end_time": "2024-03-20T17:37:33.062098Z",
     "start_time": "2024-03-20T17:37:32.937431Z"
    }
   }
  },
  {
   "cell_type": "markdown",
   "source": [
    "## Cross-correlation analysis"
   ],
   "metadata": {
    "collapsed": false
   }
  },
  {
   "cell_type": "code",
   "execution_count": 166,
   "outputs": [],
   "source": [
    "def get_lag_x_lead_y(lags, c, max_lags_to_show, conf_level, negative_correlation):\n",
    "    lags_x_lead_y = lags[:max_lags_to_show]\n",
    "    c_x_lead_y = c[:max_lags_to_show]\n",
    "    if negative_correlation:\n",
    "        c_reference = c_x_lead_y.min()\n",
    "    else:\n",
    "        c_reference = c_x_lead_y.max()\n",
    "    if abs(c_reference) > conf_level:\n",
    "        lags_reference = lags_x_lead_y[c_x_lead_y==c_reference]\n",
    "        lag_reference = lags_reference.max()\n",
    "        return lag_reference, c_reference\n",
    "    else:\n",
    "        return None, None\n",
    "\n",
    "def get_lag_y_lead_x(lags, c, max_lags_to_show, conf_level, negative_correlation):\n",
    "    lags_y_lead_x = lags[max_lags_to_show+1:]\n",
    "    c_y_lead_x = c[max_lags_to_show+1:]\n",
    "    if negative_correlation:\n",
    "        c_reference = c_y_lead_x.min()\n",
    "    else:\n",
    "        c_reference = c_y_lead_x.max()\n",
    "    if abs(c_reference) > conf_level:\n",
    "        lags_reference = lags_y_lead_x[c_y_lead_x==c_reference]\n",
    "        lag_reference = lags_reference.min()\n",
    "        return lag_reference, c_reference\n",
    "    else:\n",
    "        return None, None"
   ],
   "metadata": {
    "collapsed": false,
    "ExecuteTime": {
     "end_time": "2024-03-20T17:37:33.097121Z",
     "start_time": "2024-03-20T17:37:33.088634Z"
    }
   }
  },
  {
   "cell_type": "code",
   "execution_count": 167,
   "outputs": [
    {
     "data": {
      "text/plain": "      LAG  CORRELATION  CODIGO_MUNICIPIO_7  MUNICIPIO  \\\n2318  -30    -0.035225             3550308  São Paulo   \n2319  -29    -0.035596             3550308  São Paulo   \n2320  -28    -0.037631             3550308  São Paulo   \n2321  -27    -0.035987             3550308  São Paulo   \n2322  -26    -0.042165             3550308  São Paulo   \n...   ...          ...                 ...        ...   \n2374   26     0.044865             3550308  São Paulo   \n2375   27     0.041816             3550308  São Paulo   \n2376   28     0.038871             3550308  São Paulo   \n2377   29     0.035198             3550308  São Paulo   \n2378   30     0.032136             3550308  São Paulo   \n\n                                                      X             Y  \\\n2318  PERCENTUAL_VARIACAO_PERMANENCIA_RESIDENCIAS_ME...  r0_DETRENDED   \n2319  PERCENTUAL_VARIACAO_PERMANENCIA_RESIDENCIAS_ME...  r0_DETRENDED   \n2320  PERCENTUAL_VARIACAO_PERMANENCIA_RESIDENCIAS_ME...  r0_DETRENDED   \n2321  PERCENTUAL_VARIACAO_PERMANENCIA_RESIDENCIAS_ME...  r0_DETRENDED   \n2322  PERCENTUAL_VARIACAO_PERMANENCIA_RESIDENCIAS_ME...  r0_DETRENDED   \n...                                                 ...           ...   \n2374  PERCENTUAL_VARIACAO_PERMANENCIA_RESIDENCIAS_ME...  r0_DETRENDED   \n2375  PERCENTUAL_VARIACAO_PERMANENCIA_RESIDENCIAS_ME...  r0_DETRENDED   \n2376  PERCENTUAL_VARIACAO_PERMANENCIA_RESIDENCIAS_ME...  r0_DETRENDED   \n2377  PERCENTUAL_VARIACAO_PERMANENCIA_RESIDENCIAS_ME...  r0_DETRENDED   \n2378  PERCENTUAL_VARIACAO_PERMANENCIA_RESIDENCIAS_ME...  r0_DETRENDED   \n\n      CONFIANCE_LEVEL  CONFIANCE_LEVEL_HARD  MAX_LEGS_TO_SHOW  \n2318         0.102591              0.098881                30  \n2319         0.102591              0.098881                30  \n2320         0.102591              0.098881                30  \n2321         0.102591              0.098881                30  \n2322         0.102591              0.098881                30  \n...               ...                   ...               ...  \n2374         0.102591              0.098881                30  \n2375         0.102591              0.098881                30  \n2376         0.102591              0.098881                30  \n2377         0.102591              0.098881                30  \n2378         0.102591              0.098881                30  \n\n[61 rows x 9 columns]",
      "text/html": "<div>\n<style scoped>\n    .dataframe tbody tr th:only-of-type {\n        vertical-align: middle;\n    }\n\n    .dataframe tbody tr th {\n        vertical-align: top;\n    }\n\n    .dataframe thead th {\n        text-align: right;\n    }\n</style>\n<table border=\"1\" class=\"dataframe\">\n  <thead>\n    <tr style=\"text-align: right;\">\n      <th></th>\n      <th>LAG</th>\n      <th>CORRELATION</th>\n      <th>CODIGO_MUNICIPIO_7</th>\n      <th>MUNICIPIO</th>\n      <th>X</th>\n      <th>Y</th>\n      <th>CONFIANCE_LEVEL</th>\n      <th>CONFIANCE_LEVEL_HARD</th>\n      <th>MAX_LEGS_TO_SHOW</th>\n    </tr>\n  </thead>\n  <tbody>\n    <tr>\n      <th>2318</th>\n      <td>-30</td>\n      <td>-0.035225</td>\n      <td>3550308</td>\n      <td>São Paulo</td>\n      <td>PERCENTUAL_VARIACAO_PERMANENCIA_RESIDENCIAS_ME...</td>\n      <td>r0_DETRENDED</td>\n      <td>0.102591</td>\n      <td>0.098881</td>\n      <td>30</td>\n    </tr>\n    <tr>\n      <th>2319</th>\n      <td>-29</td>\n      <td>-0.035596</td>\n      <td>3550308</td>\n      <td>São Paulo</td>\n      <td>PERCENTUAL_VARIACAO_PERMANENCIA_RESIDENCIAS_ME...</td>\n      <td>r0_DETRENDED</td>\n      <td>0.102591</td>\n      <td>0.098881</td>\n      <td>30</td>\n    </tr>\n    <tr>\n      <th>2320</th>\n      <td>-28</td>\n      <td>-0.037631</td>\n      <td>3550308</td>\n      <td>São Paulo</td>\n      <td>PERCENTUAL_VARIACAO_PERMANENCIA_RESIDENCIAS_ME...</td>\n      <td>r0_DETRENDED</td>\n      <td>0.102591</td>\n      <td>0.098881</td>\n      <td>30</td>\n    </tr>\n    <tr>\n      <th>2321</th>\n      <td>-27</td>\n      <td>-0.035987</td>\n      <td>3550308</td>\n      <td>São Paulo</td>\n      <td>PERCENTUAL_VARIACAO_PERMANENCIA_RESIDENCIAS_ME...</td>\n      <td>r0_DETRENDED</td>\n      <td>0.102591</td>\n      <td>0.098881</td>\n      <td>30</td>\n    </tr>\n    <tr>\n      <th>2322</th>\n      <td>-26</td>\n      <td>-0.042165</td>\n      <td>3550308</td>\n      <td>São Paulo</td>\n      <td>PERCENTUAL_VARIACAO_PERMANENCIA_RESIDENCIAS_ME...</td>\n      <td>r0_DETRENDED</td>\n      <td>0.102591</td>\n      <td>0.098881</td>\n      <td>30</td>\n    </tr>\n    <tr>\n      <th>...</th>\n      <td>...</td>\n      <td>...</td>\n      <td>...</td>\n      <td>...</td>\n      <td>...</td>\n      <td>...</td>\n      <td>...</td>\n      <td>...</td>\n      <td>...</td>\n    </tr>\n    <tr>\n      <th>2374</th>\n      <td>26</td>\n      <td>0.044865</td>\n      <td>3550308</td>\n      <td>São Paulo</td>\n      <td>PERCENTUAL_VARIACAO_PERMANENCIA_RESIDENCIAS_ME...</td>\n      <td>r0_DETRENDED</td>\n      <td>0.102591</td>\n      <td>0.098881</td>\n      <td>30</td>\n    </tr>\n    <tr>\n      <th>2375</th>\n      <td>27</td>\n      <td>0.041816</td>\n      <td>3550308</td>\n      <td>São Paulo</td>\n      <td>PERCENTUAL_VARIACAO_PERMANENCIA_RESIDENCIAS_ME...</td>\n      <td>r0_DETRENDED</td>\n      <td>0.102591</td>\n      <td>0.098881</td>\n      <td>30</td>\n    </tr>\n    <tr>\n      <th>2376</th>\n      <td>28</td>\n      <td>0.038871</td>\n      <td>3550308</td>\n      <td>São Paulo</td>\n      <td>PERCENTUAL_VARIACAO_PERMANENCIA_RESIDENCIAS_ME...</td>\n      <td>r0_DETRENDED</td>\n      <td>0.102591</td>\n      <td>0.098881</td>\n      <td>30</td>\n    </tr>\n    <tr>\n      <th>2377</th>\n      <td>29</td>\n      <td>0.035198</td>\n      <td>3550308</td>\n      <td>São Paulo</td>\n      <td>PERCENTUAL_VARIACAO_PERMANENCIA_RESIDENCIAS_ME...</td>\n      <td>r0_DETRENDED</td>\n      <td>0.102591</td>\n      <td>0.098881</td>\n      <td>30</td>\n    </tr>\n    <tr>\n      <th>2378</th>\n      <td>30</td>\n      <td>0.032136</td>\n      <td>3550308</td>\n      <td>São Paulo</td>\n      <td>PERCENTUAL_VARIACAO_PERMANENCIA_RESIDENCIAS_ME...</td>\n      <td>r0_DETRENDED</td>\n      <td>0.102591</td>\n      <td>0.098881</td>\n      <td>30</td>\n    </tr>\n  </tbody>\n</table>\n<p>61 rows × 9 columns</p>\n</div>"
     },
     "execution_count": 167,
     "metadata": {},
     "output_type": "execute_result"
    }
   ],
   "source": [
    "df_lags[(df_lags.MUNICIPIO == 'São Paulo') & (df_lags.Y == column_y)]"
   ],
   "metadata": {
    "collapsed": false,
    "ExecuteTime": {
     "end_time": "2024-03-20T17:37:33.179118Z",
     "start_time": "2024-03-20T17:37:33.150536Z"
    }
   }
  },
  {
   "cell_type": "code",
   "outputs": [
    {
     "data": {
      "text/plain": "      LAG  CORRELATION  CODIGO_MUNICIPIO_7             MUNICIPIO  \\\n0     -30    -0.098162             5201405  Aparecida de Goiânia   \n1     -29    -0.091944             5201405  Aparecida de Goiânia   \n2     -28    -0.087643             5201405  Aparecida de Goiânia   \n3     -27    -0.086026             5201405  Aparecida de Goiânia   \n4     -26    -0.088358             5201405  Aparecida de Goiânia   \n...   ...          ...                 ...                   ...   \n2496   26     0.049028             3170206            Uberlândia   \n2497   27     0.049149             3170206            Uberlândia   \n2498   28     0.049346             3170206            Uberlândia   \n2499   29     0.049436             3170206            Uberlândia   \n2500   30     0.048892             3170206            Uberlândia   \n\n                                                      X             Y  \\\n0     PERCENTUAL_VARIACAO_PERMANENCIA_RESIDENCIAS_ME...  r0_DETRENDED   \n1     PERCENTUAL_VARIACAO_PERMANENCIA_RESIDENCIAS_ME...  r0_DETRENDED   \n2     PERCENTUAL_VARIACAO_PERMANENCIA_RESIDENCIAS_ME...  r0_DETRENDED   \n3     PERCENTUAL_VARIACAO_PERMANENCIA_RESIDENCIAS_ME...  r0_DETRENDED   \n4     PERCENTUAL_VARIACAO_PERMANENCIA_RESIDENCIAS_ME...  r0_DETRENDED   \n...                                                 ...           ...   \n2496  PERCENTUAL_VARIACAO_PERMANENCIA_RESIDENCIAS_ME...  r0_DETRENDED   \n2497  PERCENTUAL_VARIACAO_PERMANENCIA_RESIDENCIAS_ME...  r0_DETRENDED   \n2498  PERCENTUAL_VARIACAO_PERMANENCIA_RESIDENCIAS_ME...  r0_DETRENDED   \n2499  PERCENTUAL_VARIACAO_PERMANENCIA_RESIDENCIAS_ME...  r0_DETRENDED   \n2500  PERCENTUAL_VARIACAO_PERMANENCIA_RESIDENCIAS_ME...  r0_DETRENDED   \n\n      CONFIANCE_LEVEL  CONFIANCE_LEVEL_HARD  MAX_LEGS_TO_SHOW  \n0            0.102591              0.102847                30  \n1            0.102591              0.102847                30  \n2            0.102591              0.102847                30  \n3            0.102591              0.102847                30  \n4            0.102591              0.102847                30  \n...               ...                   ...               ...  \n2496         0.102591              0.096009                30  \n2497         0.102591              0.096009                30  \n2498         0.102591              0.096009                30  \n2499         0.102591              0.096009                30  \n2500         0.102591              0.096009                30  \n\n[2501 rows x 9 columns]",
      "text/html": "<div>\n<style scoped>\n    .dataframe tbody tr th:only-of-type {\n        vertical-align: middle;\n    }\n\n    .dataframe tbody tr th {\n        vertical-align: top;\n    }\n\n    .dataframe thead th {\n        text-align: right;\n    }\n</style>\n<table border=\"1\" class=\"dataframe\">\n  <thead>\n    <tr style=\"text-align: right;\">\n      <th></th>\n      <th>LAG</th>\n      <th>CORRELATION</th>\n      <th>CODIGO_MUNICIPIO_7</th>\n      <th>MUNICIPIO</th>\n      <th>X</th>\n      <th>Y</th>\n      <th>CONFIANCE_LEVEL</th>\n      <th>CONFIANCE_LEVEL_HARD</th>\n      <th>MAX_LEGS_TO_SHOW</th>\n    </tr>\n  </thead>\n  <tbody>\n    <tr>\n      <th>0</th>\n      <td>-30</td>\n      <td>-0.098162</td>\n      <td>5201405</td>\n      <td>Aparecida de Goiânia</td>\n      <td>PERCENTUAL_VARIACAO_PERMANENCIA_RESIDENCIAS_ME...</td>\n      <td>r0_DETRENDED</td>\n      <td>0.102591</td>\n      <td>0.102847</td>\n      <td>30</td>\n    </tr>\n    <tr>\n      <th>1</th>\n      <td>-29</td>\n      <td>-0.091944</td>\n      <td>5201405</td>\n      <td>Aparecida de Goiânia</td>\n      <td>PERCENTUAL_VARIACAO_PERMANENCIA_RESIDENCIAS_ME...</td>\n      <td>r0_DETRENDED</td>\n      <td>0.102591</td>\n      <td>0.102847</td>\n      <td>30</td>\n    </tr>\n    <tr>\n      <th>2</th>\n      <td>-28</td>\n      <td>-0.087643</td>\n      <td>5201405</td>\n      <td>Aparecida de Goiânia</td>\n      <td>PERCENTUAL_VARIACAO_PERMANENCIA_RESIDENCIAS_ME...</td>\n      <td>r0_DETRENDED</td>\n      <td>0.102591</td>\n      <td>0.102847</td>\n      <td>30</td>\n    </tr>\n    <tr>\n      <th>3</th>\n      <td>-27</td>\n      <td>-0.086026</td>\n      <td>5201405</td>\n      <td>Aparecida de Goiânia</td>\n      <td>PERCENTUAL_VARIACAO_PERMANENCIA_RESIDENCIAS_ME...</td>\n      <td>r0_DETRENDED</td>\n      <td>0.102591</td>\n      <td>0.102847</td>\n      <td>30</td>\n    </tr>\n    <tr>\n      <th>4</th>\n      <td>-26</td>\n      <td>-0.088358</td>\n      <td>5201405</td>\n      <td>Aparecida de Goiânia</td>\n      <td>PERCENTUAL_VARIACAO_PERMANENCIA_RESIDENCIAS_ME...</td>\n      <td>r0_DETRENDED</td>\n      <td>0.102591</td>\n      <td>0.102847</td>\n      <td>30</td>\n    </tr>\n    <tr>\n      <th>...</th>\n      <td>...</td>\n      <td>...</td>\n      <td>...</td>\n      <td>...</td>\n      <td>...</td>\n      <td>...</td>\n      <td>...</td>\n      <td>...</td>\n      <td>...</td>\n    </tr>\n    <tr>\n      <th>2496</th>\n      <td>26</td>\n      <td>0.049028</td>\n      <td>3170206</td>\n      <td>Uberlândia</td>\n      <td>PERCENTUAL_VARIACAO_PERMANENCIA_RESIDENCIAS_ME...</td>\n      <td>r0_DETRENDED</td>\n      <td>0.102591</td>\n      <td>0.096009</td>\n      <td>30</td>\n    </tr>\n    <tr>\n      <th>2497</th>\n      <td>27</td>\n      <td>0.049149</td>\n      <td>3170206</td>\n      <td>Uberlândia</td>\n      <td>PERCENTUAL_VARIACAO_PERMANENCIA_RESIDENCIAS_ME...</td>\n      <td>r0_DETRENDED</td>\n      <td>0.102591</td>\n      <td>0.096009</td>\n      <td>30</td>\n    </tr>\n    <tr>\n      <th>2498</th>\n      <td>28</td>\n      <td>0.049346</td>\n      <td>3170206</td>\n      <td>Uberlândia</td>\n      <td>PERCENTUAL_VARIACAO_PERMANENCIA_RESIDENCIAS_ME...</td>\n      <td>r0_DETRENDED</td>\n      <td>0.102591</td>\n      <td>0.096009</td>\n      <td>30</td>\n    </tr>\n    <tr>\n      <th>2499</th>\n      <td>29</td>\n      <td>0.049436</td>\n      <td>3170206</td>\n      <td>Uberlândia</td>\n      <td>PERCENTUAL_VARIACAO_PERMANENCIA_RESIDENCIAS_ME...</td>\n      <td>r0_DETRENDED</td>\n      <td>0.102591</td>\n      <td>0.096009</td>\n      <td>30</td>\n    </tr>\n    <tr>\n      <th>2500</th>\n      <td>30</td>\n      <td>0.048892</td>\n      <td>3170206</td>\n      <td>Uberlândia</td>\n      <td>PERCENTUAL_VARIACAO_PERMANENCIA_RESIDENCIAS_ME...</td>\n      <td>r0_DETRENDED</td>\n      <td>0.102591</td>\n      <td>0.096009</td>\n      <td>30</td>\n    </tr>\n  </tbody>\n</table>\n<p>2501 rows × 9 columns</p>\n</div>"
     },
     "execution_count": 168,
     "metadata": {},
     "output_type": "execute_result"
    }
   ],
   "source": [
    "df_lags"
   ],
   "metadata": {
    "collapsed": false,
    "ExecuteTime": {
     "end_time": "2024-03-20T17:37:33.248988Z",
     "start_time": "2024-03-20T17:37:33.226430Z"
    }
   },
   "execution_count": 168
  },
  {
   "cell_type": "code",
   "execution_count": 169,
   "outputs": [
    {
     "data": {
      "text/plain": "(None, None)"
     },
     "execution_count": 169,
     "metadata": {},
     "output_type": "execute_result"
    }
   ],
   "source": [
    "df_test = df_lags[(df_lags.MUNICIPIO == 'São Paulo') & (df_lags.Y == column_y)]\n",
    "get_lag_x_lead_y(df_test.LAG.values, df_test.CORRELATION.values, df_test.MAX_LEGS_TO_SHOW.min(), df_test[confidence_level].min(), negative_correlation=True)"
   ],
   "metadata": {
    "collapsed": false,
    "ExecuteTime": {
     "end_time": "2024-03-20T17:37:33.355927Z",
     "start_time": "2024-03-20T17:37:33.345258Z"
    }
   }
  },
  {
   "cell_type": "code",
   "execution_count": 170,
   "outputs": [
    {
     "data": {
      "text/plain": "(None, None)"
     },
     "execution_count": 170,
     "metadata": {},
     "output_type": "execute_result"
    }
   ],
   "source": [
    "df_test = df_lags[(df_lags.MUNICIPIO == 'São Paulo') & (df_lags.Y == column_y)]\n",
    "get_lag_x_lead_y(df_test.LAG.values, df_test.CORRELATION.values, df_test.MAX_LEGS_TO_SHOW.min(), df_test[confidence_level].min(), negative_correlation=False)"
   ],
   "metadata": {
    "collapsed": false,
    "ExecuteTime": {
     "end_time": "2024-03-20T17:37:33.443790Z",
     "start_time": "2024-03-20T17:37:33.435825Z"
    }
   }
  },
  {
   "cell_type": "code",
   "execution_count": 171,
   "outputs": [
    {
     "data": {
      "text/plain": "(None, None)"
     },
     "execution_count": 171,
     "metadata": {},
     "output_type": "execute_result"
    }
   ],
   "source": [
    "df_test = df_lags[(df_lags.MUNICIPIO == 'São Paulo') & (df_lags.Y == column_y)]\n",
    "get_lag_x_lead_y(df_test.LAG.values, df_test.CORRELATION.values, df_test.MAX_LEGS_TO_SHOW.min(), df_test[confidence_level].min(), negative_correlation=True)"
   ],
   "metadata": {
    "collapsed": false,
    "ExecuteTime": {
     "end_time": "2024-03-20T17:37:33.595372Z",
     "start_time": "2024-03-20T17:37:33.585203Z"
    }
   }
  },
  {
   "cell_type": "code",
   "execution_count": 172,
   "outputs": [
    {
     "data": {
      "text/plain": "      LAG  CORRELATION  CODIGO_MUNICIPIO_7  MUNICIPIO  \\\n2318  -30    -0.035225             3550308  São Paulo   \n2319  -29    -0.035596             3550308  São Paulo   \n2320  -28    -0.037631             3550308  São Paulo   \n2321  -27    -0.035987             3550308  São Paulo   \n2322  -26    -0.042165             3550308  São Paulo   \n...   ...          ...                 ...        ...   \n2374   26     0.044865             3550308  São Paulo   \n2375   27     0.041816             3550308  São Paulo   \n2376   28     0.038871             3550308  São Paulo   \n2377   29     0.035198             3550308  São Paulo   \n2378   30     0.032136             3550308  São Paulo   \n\n                                                      X             Y  \\\n2318  PERCENTUAL_VARIACAO_PERMANENCIA_RESIDENCIAS_ME...  r0_DETRENDED   \n2319  PERCENTUAL_VARIACAO_PERMANENCIA_RESIDENCIAS_ME...  r0_DETRENDED   \n2320  PERCENTUAL_VARIACAO_PERMANENCIA_RESIDENCIAS_ME...  r0_DETRENDED   \n2321  PERCENTUAL_VARIACAO_PERMANENCIA_RESIDENCIAS_ME...  r0_DETRENDED   \n2322  PERCENTUAL_VARIACAO_PERMANENCIA_RESIDENCIAS_ME...  r0_DETRENDED   \n...                                                 ...           ...   \n2374  PERCENTUAL_VARIACAO_PERMANENCIA_RESIDENCIAS_ME...  r0_DETRENDED   \n2375  PERCENTUAL_VARIACAO_PERMANENCIA_RESIDENCIAS_ME...  r0_DETRENDED   \n2376  PERCENTUAL_VARIACAO_PERMANENCIA_RESIDENCIAS_ME...  r0_DETRENDED   \n2377  PERCENTUAL_VARIACAO_PERMANENCIA_RESIDENCIAS_ME...  r0_DETRENDED   \n2378  PERCENTUAL_VARIACAO_PERMANENCIA_RESIDENCIAS_ME...  r0_DETRENDED   \n\n      CONFIANCE_LEVEL  CONFIANCE_LEVEL_HARD  MAX_LEGS_TO_SHOW  \n2318         0.102591              0.098881                30  \n2319         0.102591              0.098881                30  \n2320         0.102591              0.098881                30  \n2321         0.102591              0.098881                30  \n2322         0.102591              0.098881                30  \n...               ...                   ...               ...  \n2374         0.102591              0.098881                30  \n2375         0.102591              0.098881                30  \n2376         0.102591              0.098881                30  \n2377         0.102591              0.098881                30  \n2378         0.102591              0.098881                30  \n\n[61 rows x 9 columns]",
      "text/html": "<div>\n<style scoped>\n    .dataframe tbody tr th:only-of-type {\n        vertical-align: middle;\n    }\n\n    .dataframe tbody tr th {\n        vertical-align: top;\n    }\n\n    .dataframe thead th {\n        text-align: right;\n    }\n</style>\n<table border=\"1\" class=\"dataframe\">\n  <thead>\n    <tr style=\"text-align: right;\">\n      <th></th>\n      <th>LAG</th>\n      <th>CORRELATION</th>\n      <th>CODIGO_MUNICIPIO_7</th>\n      <th>MUNICIPIO</th>\n      <th>X</th>\n      <th>Y</th>\n      <th>CONFIANCE_LEVEL</th>\n      <th>CONFIANCE_LEVEL_HARD</th>\n      <th>MAX_LEGS_TO_SHOW</th>\n    </tr>\n  </thead>\n  <tbody>\n    <tr>\n      <th>2318</th>\n      <td>-30</td>\n      <td>-0.035225</td>\n      <td>3550308</td>\n      <td>São Paulo</td>\n      <td>PERCENTUAL_VARIACAO_PERMANENCIA_RESIDENCIAS_ME...</td>\n      <td>r0_DETRENDED</td>\n      <td>0.102591</td>\n      <td>0.098881</td>\n      <td>30</td>\n    </tr>\n    <tr>\n      <th>2319</th>\n      <td>-29</td>\n      <td>-0.035596</td>\n      <td>3550308</td>\n      <td>São Paulo</td>\n      <td>PERCENTUAL_VARIACAO_PERMANENCIA_RESIDENCIAS_ME...</td>\n      <td>r0_DETRENDED</td>\n      <td>0.102591</td>\n      <td>0.098881</td>\n      <td>30</td>\n    </tr>\n    <tr>\n      <th>2320</th>\n      <td>-28</td>\n      <td>-0.037631</td>\n      <td>3550308</td>\n      <td>São Paulo</td>\n      <td>PERCENTUAL_VARIACAO_PERMANENCIA_RESIDENCIAS_ME...</td>\n      <td>r0_DETRENDED</td>\n      <td>0.102591</td>\n      <td>0.098881</td>\n      <td>30</td>\n    </tr>\n    <tr>\n      <th>2321</th>\n      <td>-27</td>\n      <td>-0.035987</td>\n      <td>3550308</td>\n      <td>São Paulo</td>\n      <td>PERCENTUAL_VARIACAO_PERMANENCIA_RESIDENCIAS_ME...</td>\n      <td>r0_DETRENDED</td>\n      <td>0.102591</td>\n      <td>0.098881</td>\n      <td>30</td>\n    </tr>\n    <tr>\n      <th>2322</th>\n      <td>-26</td>\n      <td>-0.042165</td>\n      <td>3550308</td>\n      <td>São Paulo</td>\n      <td>PERCENTUAL_VARIACAO_PERMANENCIA_RESIDENCIAS_ME...</td>\n      <td>r0_DETRENDED</td>\n      <td>0.102591</td>\n      <td>0.098881</td>\n      <td>30</td>\n    </tr>\n    <tr>\n      <th>...</th>\n      <td>...</td>\n      <td>...</td>\n      <td>...</td>\n      <td>...</td>\n      <td>...</td>\n      <td>...</td>\n      <td>...</td>\n      <td>...</td>\n      <td>...</td>\n    </tr>\n    <tr>\n      <th>2374</th>\n      <td>26</td>\n      <td>0.044865</td>\n      <td>3550308</td>\n      <td>São Paulo</td>\n      <td>PERCENTUAL_VARIACAO_PERMANENCIA_RESIDENCIAS_ME...</td>\n      <td>r0_DETRENDED</td>\n      <td>0.102591</td>\n      <td>0.098881</td>\n      <td>30</td>\n    </tr>\n    <tr>\n      <th>2375</th>\n      <td>27</td>\n      <td>0.041816</td>\n      <td>3550308</td>\n      <td>São Paulo</td>\n      <td>PERCENTUAL_VARIACAO_PERMANENCIA_RESIDENCIAS_ME...</td>\n      <td>r0_DETRENDED</td>\n      <td>0.102591</td>\n      <td>0.098881</td>\n      <td>30</td>\n    </tr>\n    <tr>\n      <th>2376</th>\n      <td>28</td>\n      <td>0.038871</td>\n      <td>3550308</td>\n      <td>São Paulo</td>\n      <td>PERCENTUAL_VARIACAO_PERMANENCIA_RESIDENCIAS_ME...</td>\n      <td>r0_DETRENDED</td>\n      <td>0.102591</td>\n      <td>0.098881</td>\n      <td>30</td>\n    </tr>\n    <tr>\n      <th>2377</th>\n      <td>29</td>\n      <td>0.035198</td>\n      <td>3550308</td>\n      <td>São Paulo</td>\n      <td>PERCENTUAL_VARIACAO_PERMANENCIA_RESIDENCIAS_ME...</td>\n      <td>r0_DETRENDED</td>\n      <td>0.102591</td>\n      <td>0.098881</td>\n      <td>30</td>\n    </tr>\n    <tr>\n      <th>2378</th>\n      <td>30</td>\n      <td>0.032136</td>\n      <td>3550308</td>\n      <td>São Paulo</td>\n      <td>PERCENTUAL_VARIACAO_PERMANENCIA_RESIDENCIAS_ME...</td>\n      <td>r0_DETRENDED</td>\n      <td>0.102591</td>\n      <td>0.098881</td>\n      <td>30</td>\n    </tr>\n  </tbody>\n</table>\n<p>61 rows × 9 columns</p>\n</div>"
     },
     "execution_count": 172,
     "metadata": {},
     "output_type": "execute_result"
    }
   ],
   "source": [
    "df_test"
   ],
   "metadata": {
    "collapsed": false,
    "ExecuteTime": {
     "end_time": "2024-03-20T17:37:33.711346Z",
     "start_time": "2024-03-20T17:37:33.690294Z"
    }
   }
  },
  {
   "cell_type": "code",
   "execution_count": 173,
   "outputs": [],
   "source": [
    "def get_lags(function, df_municipality_y, negative_correlation, id_municipality, name_municipality, x, y, df_to_append):\n",
    "    if len(df_municipality_y) > 0:\n",
    "        lag_min, c_min = function(df_municipality_y.LAG.values, df_municipality_y.CORRELATION.values,\n",
    "                                          df_municipality_y.MAX_LEGS_TO_SHOW.min(), df_municipality_y[confidence_level].min(),\n",
    "                                          negative_correlation=negative_correlation)\n",
    "        df_row = pd.DataFrame([{'CODIGO_MUNICIPIO_7': id_municipality, 'MUNICIPIO': name_municipality, 'X': x, 'Y': y,\n",
    "                                'LAG': lag_min, 'CORRELATION': c_min}])\n",
    "        df_to_append = pd.concat([df_to_append, df_row], ignore_index=True)\n",
    "    return df_to_append\n",
    "\n",
    "df_lags_mobility_lead_y_inversely = pd.DataFrame()\n",
    "df_lags_mobility_lead_y_directly = pd.DataFrame()\n",
    "df_lags_y_lead_mobility_inversely = pd.DataFrame()\n",
    "df_lags_y_lead_mobility_directly = pd.DataFrame()\n",
    "\n",
    "x = column_x\n",
    "\n",
    "for id_municipality in df_lags.CODIGO_MUNICIPIO_7.unique():\n",
    "    df_municipality = df_lags[df_lags.CODIGO_MUNICIPIO_7==id_municipality]\n",
    "    name_municipality = df_municipality.MUNICIPIO.values[-1]\n",
    "    for y in [column_y]:\n",
    "        df_municipality_y = df_municipality[(df_municipality.Y == y)]\n",
    "\n",
    "        df_lags_mobility_lead_y_inversely = get_lags(get_lag_x_lead_y, df_municipality_y, True, id_municipality, name_municipality, x, y, df_lags_mobility_lead_y_inversely)\n",
    "        df_lags_mobility_lead_y_directly = get_lags(get_lag_x_lead_y, df_municipality_y, False, id_municipality, name_municipality, x, y, df_lags_mobility_lead_y_directly)\n",
    "        df_lags_y_lead_mobility_inversely = get_lags(get_lag_y_lead_x, df_municipality_y, True, id_municipality, name_municipality, x, y, df_lags_y_lead_mobility_inversely)\n",
    "        df_lags_y_lead_mobility_directly = get_lags(get_lag_y_lead_x, df_municipality_y, False, id_municipality, name_municipality, x, y, df_lags_y_lead_mobility_directly)"
   ],
   "metadata": {
    "collapsed": false,
    "ExecuteTime": {
     "end_time": "2024-03-20T17:37:34.467698Z",
     "start_time": "2024-03-20T17:37:33.795019Z"
    }
   }
  },
  {
   "cell_type": "code",
   "execution_count": 174,
   "outputs": [
    {
     "data": {
      "text/plain": "count     1.0\nmean    -10.0\nstd       NaN\nmin     -10.0\n25%     -10.0\n50%     -10.0\n75%     -10.0\nmax     -10.0\nName: LAG, dtype: float64"
     },
     "execution_count": 174,
     "metadata": {},
     "output_type": "execute_result"
    }
   ],
   "source": [
    "df_lags_mobility_lead_y_inversely[df_lags_mobility_lead_y_inversely.Y == column_y].LAG.dropna().astype(int).describe()"
   ],
   "metadata": {
    "collapsed": false,
    "ExecuteTime": {
     "end_time": "2024-03-20T17:37:34.484984Z",
     "start_time": "2024-03-20T17:37:34.470148Z"
    }
   }
  },
  {
   "cell_type": "code",
   "execution_count": 175,
   "outputs": [
    {
     "data": {
      "text/plain": "    CODIGO_MUNICIPIO_7                MUNICIPIO  \\\n0              5201405     Aparecida de Goiânia   \n1              2800308                  Aracaju   \n2              3106200           Belo Horizonte   \n3              1501402                    Belém   \n4              5300108                 Brasília   \n5              3509502                 Campinas   \n6              5002704             Campo Grande   \n7              3118601                 Contagem   \n8              5103403                   Cuiabá   \n9              4106902                 Curitiba   \n10             3301702          Duque de Caxias   \n11             2910800         Feira de Santana   \n12             4205407            Florianópolis   \n13             2304400                Fortaleza   \n14             5208707                  Goiânia   \n15             3518800                Guarulhos   \n16             2607901  Jaboatão dos Guararapes   \n17             4209102                Joinville   \n18             2507507              João Pessoa   \n19             3136702             Juiz de Fora   \n20             4113700                 Londrina   \n21             2704302                   Maceió   \n22             1302603                   Manaus   \n23             2408102                    Natal   \n24             3303500              Nova Iguaçu   \n25             3534401                   Osasco   \n26             4314902             Porto Alegre   \n27             2611606                   Recife   \n28             3543402           Ribeirão Preto   \n29             3304557           Rio de Janeiro   \n30             2927408                 Salvador   \n31             3547809              Santo André   \n32             3205002                    Serra   \n33             3552205                 Sorocaba   \n34             3548708    São Bernardo do Campo   \n35             3304904              São Gonçalo   \n36             3549904      São José dos Campos   \n37             2111300                 São Luís   \n38             3550308                São Paulo   \n39             2211001                 Teresina   \n40             3170206               Uberlândia   \n\n                                                    X             Y   LAG  \\\n0   PERCENTUAL_VARIACAO_PERMANENCIA_RESIDENCIAS_ME...  r0_DETRENDED   -10   \n1   PERCENTUAL_VARIACAO_PERMANENCIA_RESIDENCIAS_ME...  r0_DETRENDED  None   \n2   PERCENTUAL_VARIACAO_PERMANENCIA_RESIDENCIAS_ME...  r0_DETRENDED  None   \n3   PERCENTUAL_VARIACAO_PERMANENCIA_RESIDENCIAS_ME...  r0_DETRENDED  None   \n4   PERCENTUAL_VARIACAO_PERMANENCIA_RESIDENCIAS_ME...  r0_DETRENDED  None   \n5   PERCENTUAL_VARIACAO_PERMANENCIA_RESIDENCIAS_ME...  r0_DETRENDED  None   \n6   PERCENTUAL_VARIACAO_PERMANENCIA_RESIDENCIAS_ME...  r0_DETRENDED  None   \n7   PERCENTUAL_VARIACAO_PERMANENCIA_RESIDENCIAS_ME...  r0_DETRENDED  None   \n8   PERCENTUAL_VARIACAO_PERMANENCIA_RESIDENCIAS_ME...  r0_DETRENDED  None   \n9   PERCENTUAL_VARIACAO_PERMANENCIA_RESIDENCIAS_ME...  r0_DETRENDED  None   \n10  PERCENTUAL_VARIACAO_PERMANENCIA_RESIDENCIAS_ME...  r0_DETRENDED  None   \n11  PERCENTUAL_VARIACAO_PERMANENCIA_RESIDENCIAS_ME...  r0_DETRENDED  None   \n12  PERCENTUAL_VARIACAO_PERMANENCIA_RESIDENCIAS_ME...  r0_DETRENDED  None   \n13  PERCENTUAL_VARIACAO_PERMANENCIA_RESIDENCIAS_ME...  r0_DETRENDED  None   \n14  PERCENTUAL_VARIACAO_PERMANENCIA_RESIDENCIAS_ME...  r0_DETRENDED  None   \n15  PERCENTUAL_VARIACAO_PERMANENCIA_RESIDENCIAS_ME...  r0_DETRENDED  None   \n16  PERCENTUAL_VARIACAO_PERMANENCIA_RESIDENCIAS_ME...  r0_DETRENDED  None   \n17  PERCENTUAL_VARIACAO_PERMANENCIA_RESIDENCIAS_ME...  r0_DETRENDED  None   \n18  PERCENTUAL_VARIACAO_PERMANENCIA_RESIDENCIAS_ME...  r0_DETRENDED  None   \n19  PERCENTUAL_VARIACAO_PERMANENCIA_RESIDENCIAS_ME...  r0_DETRENDED  None   \n20  PERCENTUAL_VARIACAO_PERMANENCIA_RESIDENCIAS_ME...  r0_DETRENDED  None   \n21  PERCENTUAL_VARIACAO_PERMANENCIA_RESIDENCIAS_ME...  r0_DETRENDED  None   \n22  PERCENTUAL_VARIACAO_PERMANENCIA_RESIDENCIAS_ME...  r0_DETRENDED  None   \n23  PERCENTUAL_VARIACAO_PERMANENCIA_RESIDENCIAS_ME...  r0_DETRENDED  None   \n24  PERCENTUAL_VARIACAO_PERMANENCIA_RESIDENCIAS_ME...  r0_DETRENDED  None   \n25  PERCENTUAL_VARIACAO_PERMANENCIA_RESIDENCIAS_ME...  r0_DETRENDED  None   \n26  PERCENTUAL_VARIACAO_PERMANENCIA_RESIDENCIAS_ME...  r0_DETRENDED  None   \n27  PERCENTUAL_VARIACAO_PERMANENCIA_RESIDENCIAS_ME...  r0_DETRENDED  None   \n28  PERCENTUAL_VARIACAO_PERMANENCIA_RESIDENCIAS_ME...  r0_DETRENDED  None   \n29  PERCENTUAL_VARIACAO_PERMANENCIA_RESIDENCIAS_ME...  r0_DETRENDED  None   \n30  PERCENTUAL_VARIACAO_PERMANENCIA_RESIDENCIAS_ME...  r0_DETRENDED  None   \n31  PERCENTUAL_VARIACAO_PERMANENCIA_RESIDENCIAS_ME...  r0_DETRENDED  None   \n32  PERCENTUAL_VARIACAO_PERMANENCIA_RESIDENCIAS_ME...  r0_DETRENDED  None   \n33  PERCENTUAL_VARIACAO_PERMANENCIA_RESIDENCIAS_ME...  r0_DETRENDED  None   \n34  PERCENTUAL_VARIACAO_PERMANENCIA_RESIDENCIAS_ME...  r0_DETRENDED  None   \n35  PERCENTUAL_VARIACAO_PERMANENCIA_RESIDENCIAS_ME...  r0_DETRENDED  None   \n36  PERCENTUAL_VARIACAO_PERMANENCIA_RESIDENCIAS_ME...  r0_DETRENDED  None   \n37  PERCENTUAL_VARIACAO_PERMANENCIA_RESIDENCIAS_ME...  r0_DETRENDED  None   \n38  PERCENTUAL_VARIACAO_PERMANENCIA_RESIDENCIAS_ME...  r0_DETRENDED  None   \n39  PERCENTUAL_VARIACAO_PERMANENCIA_RESIDENCIAS_ME...  r0_DETRENDED  None   \n40  PERCENTUAL_VARIACAO_PERMANENCIA_RESIDENCIAS_ME...  r0_DETRENDED  None   \n\n    CORRELATION  \n0     -0.136674  \n1           NaN  \n2           NaN  \n3           NaN  \n4           NaN  \n5           NaN  \n6           NaN  \n7           NaN  \n8           NaN  \n9           NaN  \n10          NaN  \n11          NaN  \n12          NaN  \n13          NaN  \n14          NaN  \n15          NaN  \n16          NaN  \n17          NaN  \n18          NaN  \n19          NaN  \n20          NaN  \n21          NaN  \n22          NaN  \n23          NaN  \n24          NaN  \n25          NaN  \n26          NaN  \n27          NaN  \n28          NaN  \n29          NaN  \n30          NaN  \n31          NaN  \n32          NaN  \n33          NaN  \n34          NaN  \n35          NaN  \n36          NaN  \n37          NaN  \n38          NaN  \n39          NaN  \n40          NaN  ",
      "text/html": "<div>\n<style scoped>\n    .dataframe tbody tr th:only-of-type {\n        vertical-align: middle;\n    }\n\n    .dataframe tbody tr th {\n        vertical-align: top;\n    }\n\n    .dataframe thead th {\n        text-align: right;\n    }\n</style>\n<table border=\"1\" class=\"dataframe\">\n  <thead>\n    <tr style=\"text-align: right;\">\n      <th></th>\n      <th>CODIGO_MUNICIPIO_7</th>\n      <th>MUNICIPIO</th>\n      <th>X</th>\n      <th>Y</th>\n      <th>LAG</th>\n      <th>CORRELATION</th>\n    </tr>\n  </thead>\n  <tbody>\n    <tr>\n      <th>0</th>\n      <td>5201405</td>\n      <td>Aparecida de Goiânia</td>\n      <td>PERCENTUAL_VARIACAO_PERMANENCIA_RESIDENCIAS_ME...</td>\n      <td>r0_DETRENDED</td>\n      <td>-10</td>\n      <td>-0.136674</td>\n    </tr>\n    <tr>\n      <th>1</th>\n      <td>2800308</td>\n      <td>Aracaju</td>\n      <td>PERCENTUAL_VARIACAO_PERMANENCIA_RESIDENCIAS_ME...</td>\n      <td>r0_DETRENDED</td>\n      <td>None</td>\n      <td>NaN</td>\n    </tr>\n    <tr>\n      <th>2</th>\n      <td>3106200</td>\n      <td>Belo Horizonte</td>\n      <td>PERCENTUAL_VARIACAO_PERMANENCIA_RESIDENCIAS_ME...</td>\n      <td>r0_DETRENDED</td>\n      <td>None</td>\n      <td>NaN</td>\n    </tr>\n    <tr>\n      <th>3</th>\n      <td>1501402</td>\n      <td>Belém</td>\n      <td>PERCENTUAL_VARIACAO_PERMANENCIA_RESIDENCIAS_ME...</td>\n      <td>r0_DETRENDED</td>\n      <td>None</td>\n      <td>NaN</td>\n    </tr>\n    <tr>\n      <th>4</th>\n      <td>5300108</td>\n      <td>Brasília</td>\n      <td>PERCENTUAL_VARIACAO_PERMANENCIA_RESIDENCIAS_ME...</td>\n      <td>r0_DETRENDED</td>\n      <td>None</td>\n      <td>NaN</td>\n    </tr>\n    <tr>\n      <th>5</th>\n      <td>3509502</td>\n      <td>Campinas</td>\n      <td>PERCENTUAL_VARIACAO_PERMANENCIA_RESIDENCIAS_ME...</td>\n      <td>r0_DETRENDED</td>\n      <td>None</td>\n      <td>NaN</td>\n    </tr>\n    <tr>\n      <th>6</th>\n      <td>5002704</td>\n      <td>Campo Grande</td>\n      <td>PERCENTUAL_VARIACAO_PERMANENCIA_RESIDENCIAS_ME...</td>\n      <td>r0_DETRENDED</td>\n      <td>None</td>\n      <td>NaN</td>\n    </tr>\n    <tr>\n      <th>7</th>\n      <td>3118601</td>\n      <td>Contagem</td>\n      <td>PERCENTUAL_VARIACAO_PERMANENCIA_RESIDENCIAS_ME...</td>\n      <td>r0_DETRENDED</td>\n      <td>None</td>\n      <td>NaN</td>\n    </tr>\n    <tr>\n      <th>8</th>\n      <td>5103403</td>\n      <td>Cuiabá</td>\n      <td>PERCENTUAL_VARIACAO_PERMANENCIA_RESIDENCIAS_ME...</td>\n      <td>r0_DETRENDED</td>\n      <td>None</td>\n      <td>NaN</td>\n    </tr>\n    <tr>\n      <th>9</th>\n      <td>4106902</td>\n      <td>Curitiba</td>\n      <td>PERCENTUAL_VARIACAO_PERMANENCIA_RESIDENCIAS_ME...</td>\n      <td>r0_DETRENDED</td>\n      <td>None</td>\n      <td>NaN</td>\n    </tr>\n    <tr>\n      <th>10</th>\n      <td>3301702</td>\n      <td>Duque de Caxias</td>\n      <td>PERCENTUAL_VARIACAO_PERMANENCIA_RESIDENCIAS_ME...</td>\n      <td>r0_DETRENDED</td>\n      <td>None</td>\n      <td>NaN</td>\n    </tr>\n    <tr>\n      <th>11</th>\n      <td>2910800</td>\n      <td>Feira de Santana</td>\n      <td>PERCENTUAL_VARIACAO_PERMANENCIA_RESIDENCIAS_ME...</td>\n      <td>r0_DETRENDED</td>\n      <td>None</td>\n      <td>NaN</td>\n    </tr>\n    <tr>\n      <th>12</th>\n      <td>4205407</td>\n      <td>Florianópolis</td>\n      <td>PERCENTUAL_VARIACAO_PERMANENCIA_RESIDENCIAS_ME...</td>\n      <td>r0_DETRENDED</td>\n      <td>None</td>\n      <td>NaN</td>\n    </tr>\n    <tr>\n      <th>13</th>\n      <td>2304400</td>\n      <td>Fortaleza</td>\n      <td>PERCENTUAL_VARIACAO_PERMANENCIA_RESIDENCIAS_ME...</td>\n      <td>r0_DETRENDED</td>\n      <td>None</td>\n      <td>NaN</td>\n    </tr>\n    <tr>\n      <th>14</th>\n      <td>5208707</td>\n      <td>Goiânia</td>\n      <td>PERCENTUAL_VARIACAO_PERMANENCIA_RESIDENCIAS_ME...</td>\n      <td>r0_DETRENDED</td>\n      <td>None</td>\n      <td>NaN</td>\n    </tr>\n    <tr>\n      <th>15</th>\n      <td>3518800</td>\n      <td>Guarulhos</td>\n      <td>PERCENTUAL_VARIACAO_PERMANENCIA_RESIDENCIAS_ME...</td>\n      <td>r0_DETRENDED</td>\n      <td>None</td>\n      <td>NaN</td>\n    </tr>\n    <tr>\n      <th>16</th>\n      <td>2607901</td>\n      <td>Jaboatão dos Guararapes</td>\n      <td>PERCENTUAL_VARIACAO_PERMANENCIA_RESIDENCIAS_ME...</td>\n      <td>r0_DETRENDED</td>\n      <td>None</td>\n      <td>NaN</td>\n    </tr>\n    <tr>\n      <th>17</th>\n      <td>4209102</td>\n      <td>Joinville</td>\n      <td>PERCENTUAL_VARIACAO_PERMANENCIA_RESIDENCIAS_ME...</td>\n      <td>r0_DETRENDED</td>\n      <td>None</td>\n      <td>NaN</td>\n    </tr>\n    <tr>\n      <th>18</th>\n      <td>2507507</td>\n      <td>João Pessoa</td>\n      <td>PERCENTUAL_VARIACAO_PERMANENCIA_RESIDENCIAS_ME...</td>\n      <td>r0_DETRENDED</td>\n      <td>None</td>\n      <td>NaN</td>\n    </tr>\n    <tr>\n      <th>19</th>\n      <td>3136702</td>\n      <td>Juiz de Fora</td>\n      <td>PERCENTUAL_VARIACAO_PERMANENCIA_RESIDENCIAS_ME...</td>\n      <td>r0_DETRENDED</td>\n      <td>None</td>\n      <td>NaN</td>\n    </tr>\n    <tr>\n      <th>20</th>\n      <td>4113700</td>\n      <td>Londrina</td>\n      <td>PERCENTUAL_VARIACAO_PERMANENCIA_RESIDENCIAS_ME...</td>\n      <td>r0_DETRENDED</td>\n      <td>None</td>\n      <td>NaN</td>\n    </tr>\n    <tr>\n      <th>21</th>\n      <td>2704302</td>\n      <td>Maceió</td>\n      <td>PERCENTUAL_VARIACAO_PERMANENCIA_RESIDENCIAS_ME...</td>\n      <td>r0_DETRENDED</td>\n      <td>None</td>\n      <td>NaN</td>\n    </tr>\n    <tr>\n      <th>22</th>\n      <td>1302603</td>\n      <td>Manaus</td>\n      <td>PERCENTUAL_VARIACAO_PERMANENCIA_RESIDENCIAS_ME...</td>\n      <td>r0_DETRENDED</td>\n      <td>None</td>\n      <td>NaN</td>\n    </tr>\n    <tr>\n      <th>23</th>\n      <td>2408102</td>\n      <td>Natal</td>\n      <td>PERCENTUAL_VARIACAO_PERMANENCIA_RESIDENCIAS_ME...</td>\n      <td>r0_DETRENDED</td>\n      <td>None</td>\n      <td>NaN</td>\n    </tr>\n    <tr>\n      <th>24</th>\n      <td>3303500</td>\n      <td>Nova Iguaçu</td>\n      <td>PERCENTUAL_VARIACAO_PERMANENCIA_RESIDENCIAS_ME...</td>\n      <td>r0_DETRENDED</td>\n      <td>None</td>\n      <td>NaN</td>\n    </tr>\n    <tr>\n      <th>25</th>\n      <td>3534401</td>\n      <td>Osasco</td>\n      <td>PERCENTUAL_VARIACAO_PERMANENCIA_RESIDENCIAS_ME...</td>\n      <td>r0_DETRENDED</td>\n      <td>None</td>\n      <td>NaN</td>\n    </tr>\n    <tr>\n      <th>26</th>\n      <td>4314902</td>\n      <td>Porto Alegre</td>\n      <td>PERCENTUAL_VARIACAO_PERMANENCIA_RESIDENCIAS_ME...</td>\n      <td>r0_DETRENDED</td>\n      <td>None</td>\n      <td>NaN</td>\n    </tr>\n    <tr>\n      <th>27</th>\n      <td>2611606</td>\n      <td>Recife</td>\n      <td>PERCENTUAL_VARIACAO_PERMANENCIA_RESIDENCIAS_ME...</td>\n      <td>r0_DETRENDED</td>\n      <td>None</td>\n      <td>NaN</td>\n    </tr>\n    <tr>\n      <th>28</th>\n      <td>3543402</td>\n      <td>Ribeirão Preto</td>\n      <td>PERCENTUAL_VARIACAO_PERMANENCIA_RESIDENCIAS_ME...</td>\n      <td>r0_DETRENDED</td>\n      <td>None</td>\n      <td>NaN</td>\n    </tr>\n    <tr>\n      <th>29</th>\n      <td>3304557</td>\n      <td>Rio de Janeiro</td>\n      <td>PERCENTUAL_VARIACAO_PERMANENCIA_RESIDENCIAS_ME...</td>\n      <td>r0_DETRENDED</td>\n      <td>None</td>\n      <td>NaN</td>\n    </tr>\n    <tr>\n      <th>30</th>\n      <td>2927408</td>\n      <td>Salvador</td>\n      <td>PERCENTUAL_VARIACAO_PERMANENCIA_RESIDENCIAS_ME...</td>\n      <td>r0_DETRENDED</td>\n      <td>None</td>\n      <td>NaN</td>\n    </tr>\n    <tr>\n      <th>31</th>\n      <td>3547809</td>\n      <td>Santo André</td>\n      <td>PERCENTUAL_VARIACAO_PERMANENCIA_RESIDENCIAS_ME...</td>\n      <td>r0_DETRENDED</td>\n      <td>None</td>\n      <td>NaN</td>\n    </tr>\n    <tr>\n      <th>32</th>\n      <td>3205002</td>\n      <td>Serra</td>\n      <td>PERCENTUAL_VARIACAO_PERMANENCIA_RESIDENCIAS_ME...</td>\n      <td>r0_DETRENDED</td>\n      <td>None</td>\n      <td>NaN</td>\n    </tr>\n    <tr>\n      <th>33</th>\n      <td>3552205</td>\n      <td>Sorocaba</td>\n      <td>PERCENTUAL_VARIACAO_PERMANENCIA_RESIDENCIAS_ME...</td>\n      <td>r0_DETRENDED</td>\n      <td>None</td>\n      <td>NaN</td>\n    </tr>\n    <tr>\n      <th>34</th>\n      <td>3548708</td>\n      <td>São Bernardo do Campo</td>\n      <td>PERCENTUAL_VARIACAO_PERMANENCIA_RESIDENCIAS_ME...</td>\n      <td>r0_DETRENDED</td>\n      <td>None</td>\n      <td>NaN</td>\n    </tr>\n    <tr>\n      <th>35</th>\n      <td>3304904</td>\n      <td>São Gonçalo</td>\n      <td>PERCENTUAL_VARIACAO_PERMANENCIA_RESIDENCIAS_ME...</td>\n      <td>r0_DETRENDED</td>\n      <td>None</td>\n      <td>NaN</td>\n    </tr>\n    <tr>\n      <th>36</th>\n      <td>3549904</td>\n      <td>São José dos Campos</td>\n      <td>PERCENTUAL_VARIACAO_PERMANENCIA_RESIDENCIAS_ME...</td>\n      <td>r0_DETRENDED</td>\n      <td>None</td>\n      <td>NaN</td>\n    </tr>\n    <tr>\n      <th>37</th>\n      <td>2111300</td>\n      <td>São Luís</td>\n      <td>PERCENTUAL_VARIACAO_PERMANENCIA_RESIDENCIAS_ME...</td>\n      <td>r0_DETRENDED</td>\n      <td>None</td>\n      <td>NaN</td>\n    </tr>\n    <tr>\n      <th>38</th>\n      <td>3550308</td>\n      <td>São Paulo</td>\n      <td>PERCENTUAL_VARIACAO_PERMANENCIA_RESIDENCIAS_ME...</td>\n      <td>r0_DETRENDED</td>\n      <td>None</td>\n      <td>NaN</td>\n    </tr>\n    <tr>\n      <th>39</th>\n      <td>2211001</td>\n      <td>Teresina</td>\n      <td>PERCENTUAL_VARIACAO_PERMANENCIA_RESIDENCIAS_ME...</td>\n      <td>r0_DETRENDED</td>\n      <td>None</td>\n      <td>NaN</td>\n    </tr>\n    <tr>\n      <th>40</th>\n      <td>3170206</td>\n      <td>Uberlândia</td>\n      <td>PERCENTUAL_VARIACAO_PERMANENCIA_RESIDENCIAS_ME...</td>\n      <td>r0_DETRENDED</td>\n      <td>None</td>\n      <td>NaN</td>\n    </tr>\n  </tbody>\n</table>\n</div>"
     },
     "execution_count": 175,
     "metadata": {},
     "output_type": "execute_result"
    }
   ],
   "source": [
    "df_lags_mobility_lead_y_inversely[df_lags_mobility_lead_y_inversely.Y == column_y]"
   ],
   "metadata": {
    "collapsed": false,
    "ExecuteTime": {
     "end_time": "2024-03-20T17:37:34.572665Z",
     "start_time": "2024-03-20T17:37:34.487537Z"
    }
   }
  },
  {
   "cell_type": "code",
   "execution_count": 176,
   "outputs": [
    {
     "data": {
      "text/plain": "<Figure size 493.228x246.614 with 1 Axes>",
      "image/png": "[encoded data removed]"
     },
     "metadata": {},
     "output_type": "display_data"
    }
   ],
   "source": [
    "df_lags_mobility_lead_y_directly['xlabel'] = '$\\Delta_{H}$ leads to $R_{0}$\\n(directly)'\n",
    "df_lags_mobility_lead_y_inversely['xlabel'] = '$\\Delta_{H}$ leads to $R_{0}$\\n(inversely)'\n",
    "df_lags_y_lead_mobility_directly['xlabel'] = '$R_{0}$ leads to $\\Delta_{0}$\\n(directly)'\n",
    "df_lags_y_lead_mobility_inversely['xlabel'] = '$R_{0}$ leads to $\\Delta_{0}$\\n(inversely)'\n",
    "df_chart = pd.concat([df_lags_mobility_lead_y_directly, df_lags_mobility_lead_y_inversely, df_lags_y_lead_mobility_directly, df_lags_y_lead_mobility_inversely], ignore_index=True)\n",
    "df_chart = df_chart[df_chart.Y==column_y]\n",
    "df_chart = df_chart.dropna()\n",
    "df_chart.LAG = abs(df_chart.LAG)\n",
    "\n",
    "sns.set(font_scale=1.1)\n",
    "sns.set_style(\"ticks\")\n",
    "sns.set_palette(\"gray\")\n",
    "fig, ax = plt.subplots(figsize=(util.centimeter_to_inch(17.4), util.centimeter_to_inch(8.7)))\n",
    "\n",
    "chart = sns.boxplot(data=df_chart, x='xlabel', y='LAG', ax=ax, boxprops=dict(facecolor='white'))\n",
    "chart.set(ylabel='Lag', xlabel=None)\n",
    "\n",
    "plt.setp(ax.artists, edgecolor = 'black')\n",
    "plt.setp(ax.lines, color='black')\n",
    "\n",
    "plt.show()"
   ],
   "metadata": {
    "collapsed": false,
    "ExecuteTime": {
     "end_time": "2024-03-20T17:37:34.892788Z",
     "start_time": "2024-03-20T17:37:34.575245Z"
    }
   }
  },
  {
   "cell_type": "code",
   "execution_count": 177,
   "outputs": [],
   "source": [
    "def plot_cross_correlation_mobility_y(municipality_name, y, save):\n",
    "    df = df_lags[(df_lags.MUNICIPIO == municipality_name) & (df_lags.Y == y)].dropna()\n",
    "    df.LAG = df.LAG.astype(int)\n",
    "    df.CORRELATION = df.CORRELATION.astype(float)\n",
    "\n",
    "    sns.set(font_scale=1.1)\n",
    "    sns.set_style(\"ticks\")\n",
    "    fig, ax = plt.subplots(figsize=(util.centimeter_to_inch(17.4), util.centimeter_to_inch(8.7)))\n",
    "\n",
    "    y_label = \"Correlation coefficient\"\n",
    "\n",
    "    chart = sns.barplot(data=df, x='LAG', y='CORRELATION', ax=ax, color='black')\n",
    "    chart.set(ylabel = y_label, xlabel = 'Lag (day)', xticks=[0, 15, 30, 45, 60])\n",
    "\n",
    "    ax.axhline(df[confidence_level].min(), 0, 1, linestyle='--', color='red')\n",
    "    ax.axhline(df[confidence_level].min()*-1, 0, 1, linestyle='--', color='red')\n",
    "\n",
    "    if save:\n",
    "        plt.savefig('images/cross_correlation_mobility_'+y+'_'+analysis+'.eps', bbox_inches=\"tight\")\n",
    "        plt.savefig('images/cross_correlation_mobility_'+y+'_'+analysis+'.pdf', bbox_inches=\"tight\")\n",
    "    plt.show()"
   ],
   "metadata": {
    "collapsed": false,
    "ExecuteTime": {
     "end_time": "2024-03-20T17:37:34.905371Z",
     "start_time": "2024-03-20T17:37:34.894522Z"
    }
   }
  },
  {
   "cell_type": "code",
   "execution_count": 178,
   "outputs": [
    {
     "data": {
      "text/plain": "<Figure size 493.228x246.614 with 1 Axes>",
      "image/png": "[encoded data removed]"
     },
     "metadata": {},
     "output_type": "display_data"
    }
   ],
   "source": [
    "plot_cross_correlation_mobility_y('São Paulo', column_y, False)"
   ],
   "metadata": {
    "collapsed": false,
    "ExecuteTime": {
     "end_time": "2024-03-20T17:37:35.861301Z",
     "start_time": "2024-03-20T17:37:34.907293Z"
    }
   }
  },
  {
   "cell_type": "code",
   "execution_count": 179,
   "outputs": [
    {
     "data": {
      "text/plain": "<Figure size 493.228x246.614 with 1 Axes>",
      "image/png": "[encoded data removed]"
     },
     "metadata": {},
     "output_type": "display_data"
    }
   ],
   "source": [
    "plot_cross_correlation_mobility_y('São Paulo', column_y, False)"
   ],
   "metadata": {
    "collapsed": false,
    "ExecuteTime": {
     "end_time": "2024-03-20T17:37:36.577353Z",
     "start_time": "2024-03-20T17:37:35.863585Z"
    }
   }
  },
  {
   "cell_type": "code",
   "execution_count": 180,
   "outputs": [],
   "source": [
    "plt.rc('font', size=7)\n",
    "style = dict(color='black')\n",
    "sns.set_style(\"ticks\")"
   ],
   "metadata": {
    "collapsed": false,
    "ExecuteTime": {
     "end_time": "2024-03-20T17:37:36.586648Z",
     "start_time": "2024-03-20T17:37:36.581137Z"
    }
   }
  },
  {
   "cell_type": "code",
   "outputs": [
    {
     "data": {
      "text/plain": "    CODIGO_MUNICIPIO_7       MUNICIPIO  \\\n2              3106200  Belo Horizonte   \n4              5300108        Brasília   \n5              3509502        Campinas   \n8              5103403          Cuiabá   \n9              4106902        Curitiba   \n13             2304400       Fortaleza   \n15             3518800       Guarulhos   \n19             3136702    Juiz de Fora   \n26             4314902    Porto Alegre   \n31             3547809     Santo André   \n32             3205002           Serra   \n33             3552205        Sorocaba   \n38             3550308       São Paulo   \n\n                                                    X             Y LAG  \\\n2   PERCENTUAL_VARIACAO_PERMANENCIA_RESIDENCIAS_ME...  r0_DETRENDED  20   \n4   PERCENTUAL_VARIACAO_PERMANENCIA_RESIDENCIAS_ME...  r0_DETRENDED   1   \n5   PERCENTUAL_VARIACAO_PERMANENCIA_RESIDENCIAS_ME...  r0_DETRENDED   1   \n8   PERCENTUAL_VARIACAO_PERMANENCIA_RESIDENCIAS_ME...  r0_DETRENDED   1   \n9   PERCENTUAL_VARIACAO_PERMANENCIA_RESIDENCIAS_ME...  r0_DETRENDED   1   \n13  PERCENTUAL_VARIACAO_PERMANENCIA_RESIDENCIAS_ME...  r0_DETRENDED   1   \n15  PERCENTUAL_VARIACAO_PERMANENCIA_RESIDENCIAS_ME...  r0_DETRENDED   8   \n19  PERCENTUAL_VARIACAO_PERMANENCIA_RESIDENCIAS_ME...  r0_DETRENDED   3   \n26  PERCENTUAL_VARIACAO_PERMANENCIA_RESIDENCIAS_ME...  r0_DETRENDED   7   \n31  PERCENTUAL_VARIACAO_PERMANENCIA_RESIDENCIAS_ME...  r0_DETRENDED   6   \n32  PERCENTUAL_VARIACAO_PERMANENCIA_RESIDENCIAS_ME...  r0_DETRENDED  13   \n33  PERCENTUAL_VARIACAO_PERMANENCIA_RESIDENCIAS_ME...  r0_DETRENDED   1   \n38  PERCENTUAL_VARIACAO_PERMANENCIA_RESIDENCIAS_ME...  r0_DETRENDED   4   \n\n    CORRELATION                                     xlabel  \n2      0.093662  $R_{0}$ leads to $\\Delta_{0}$\\n(directly)  \n4      0.110396  $R_{0}$ leads to $\\Delta_{0}$\\n(directly)  \n5      0.132876  $R_{0}$ leads to $\\Delta_{0}$\\n(directly)  \n8      0.124373  $R_{0}$ leads to $\\Delta_{0}$\\n(directly)  \n9      0.108822  $R_{0}$ leads to $\\Delta_{0}$\\n(directly)  \n13     0.095061  $R_{0}$ leads to $\\Delta_{0}$\\n(directly)  \n15     0.125469  $R_{0}$ leads to $\\Delta_{0}$\\n(directly)  \n19     0.144246  $R_{0}$ leads to $\\Delta_{0}$\\n(directly)  \n26     0.119920  $R_{0}$ leads to $\\Delta_{0}$\\n(directly)  \n31     0.124244  $R_{0}$ leads to $\\Delta_{0}$\\n(directly)  \n32     0.139764  $R_{0}$ leads to $\\Delta_{0}$\\n(directly)  \n33     0.124332  $R_{0}$ leads to $\\Delta_{0}$\\n(directly)  \n38     0.120433  $R_{0}$ leads to $\\Delta_{0}$\\n(directly)  ",
      "text/html": "<div>\n<style scoped>\n    .dataframe tbody tr th:only-of-type {\n        vertical-align: middle;\n    }\n\n    .dataframe tbody tr th {\n        vertical-align: top;\n    }\n\n    .dataframe thead th {\n        text-align: right;\n    }\n</style>\n<table border=\"1\" class=\"dataframe\">\n  <thead>\n    <tr style=\"text-align: right;\">\n      <th></th>\n      <th>CODIGO_MUNICIPIO_7</th>\n      <th>MUNICIPIO</th>\n      <th>X</th>\n      <th>Y</th>\n      <th>LAG</th>\n      <th>CORRELATION</th>\n      <th>xlabel</th>\n    </tr>\n  </thead>\n  <tbody>\n    <tr>\n      <th>2</th>\n      <td>3106200</td>\n      <td>Belo Horizonte</td>\n      <td>PERCENTUAL_VARIACAO_PERMANENCIA_RESIDENCIAS_ME...</td>\n      <td>r0_DETRENDED</td>\n      <td>20</td>\n      <td>0.093662</td>\n      <td>$R_{0}$ leads to $\\Delta_{0}$\\n(directly)</td>\n    </tr>\n    <tr>\n      <th>4</th>\n      <td>5300108</td>\n      <td>Brasília</td>\n      <td>PERCENTUAL_VARIACAO_PERMANENCIA_RESIDENCIAS_ME...</td>\n      <td>r0_DETRENDED</td>\n      <td>1</td>\n      <td>0.110396</td>\n      <td>$R_{0}$ leads to $\\Delta_{0}$\\n(directly)</td>\n    </tr>\n    <tr>\n      <th>5</th>\n      <td>3509502</td>\n      <td>Campinas</td>\n      <td>PERCENTUAL_VARIACAO_PERMANENCIA_RESIDENCIAS_ME...</td>\n      <td>r0_DETRENDED</td>\n      <td>1</td>\n      <td>0.132876</td>\n      <td>$R_{0}$ leads to $\\Delta_{0}$\\n(directly)</td>\n    </tr>\n    <tr>\n      <th>8</th>\n      <td>5103403</td>\n      <td>Cuiabá</td>\n      <td>PERCENTUAL_VARIACAO_PERMANENCIA_RESIDENCIAS_ME...</td>\n      <td>r0_DETRENDED</td>\n      <td>1</td>\n      <td>0.124373</td>\n      <td>$R_{0}$ leads to $\\Delta_{0}$\\n(directly)</td>\n    </tr>\n    <tr>\n      <th>9</th>\n      <td>4106902</td>\n      <td>Curitiba</td>\n      <td>PERCENTUAL_VARIACAO_PERMANENCIA_RESIDENCIAS_ME...</td>\n      <td>r0_DETRENDED</td>\n      <td>1</td>\n      <td>0.108822</td>\n      <td>$R_{0}$ leads to $\\Delta_{0}$\\n(directly)</td>\n    </tr>\n    <tr>\n      <th>13</th>\n      <td>2304400</td>\n      <td>Fortaleza</td>\n      <td>PERCENTUAL_VARIACAO_PERMANENCIA_RESIDENCIAS_ME...</td>\n      <td>r0_DETRENDED</td>\n      <td>1</td>\n      <td>0.095061</td>\n      <td>$R_{0}$ leads to $\\Delta_{0}$\\n(directly)</td>\n    </tr>\n    <tr>\n      <th>15</th>\n      <td>3518800</td>\n      <td>Guarulhos</td>\n      <td>PERCENTUAL_VARIACAO_PERMANENCIA_RESIDENCIAS_ME...</td>\n      <td>r0_DETRENDED</td>\n      <td>8</td>\n      <td>0.125469</td>\n      <td>$R_{0}$ leads to $\\Delta_{0}$\\n(directly)</td>\n    </tr>\n    <tr>\n      <th>19</th>\n      <td>3136702</td>\n      <td>Juiz de Fora</td>\n      <td>PERCENTUAL_VARIACAO_PERMANENCIA_RESIDENCIAS_ME...</td>\n      <td>r0_DETRENDED</td>\n      <td>3</td>\n      <td>0.144246</td>\n      <td>$R_{0}$ leads to $\\Delta_{0}$\\n(directly)</td>\n    </tr>\n    <tr>\n      <th>26</th>\n      <td>4314902</td>\n      <td>Porto Alegre</td>\n      <td>PERCENTUAL_VARIACAO_PERMANENCIA_RESIDENCIAS_ME...</td>\n      <td>r0_DETRENDED</td>\n      <td>7</td>\n      <td>0.119920</td>\n      <td>$R_{0}$ leads to $\\Delta_{0}$\\n(directly)</td>\n    </tr>\n    <tr>\n      <th>31</th>\n      <td>3547809</td>\n      <td>Santo André</td>\n      <td>PERCENTUAL_VARIACAO_PERMANENCIA_RESIDENCIAS_ME...</td>\n      <td>r0_DETRENDED</td>\n      <td>6</td>\n      <td>0.124244</td>\n      <td>$R_{0}$ leads to $\\Delta_{0}$\\n(directly)</td>\n    </tr>\n    <tr>\n      <th>32</th>\n      <td>3205002</td>\n      <td>Serra</td>\n      <td>PERCENTUAL_VARIACAO_PERMANENCIA_RESIDENCIAS_ME...</td>\n      <td>r0_DETRENDED</td>\n      <td>13</td>\n      <td>0.139764</td>\n      <td>$R_{0}$ leads to $\\Delta_{0}$\\n(directly)</td>\n    </tr>\n    <tr>\n      <th>33</th>\n      <td>3552205</td>\n      <td>Sorocaba</td>\n      <td>PERCENTUAL_VARIACAO_PERMANENCIA_RESIDENCIAS_ME...</td>\n      <td>r0_DETRENDED</td>\n      <td>1</td>\n      <td>0.124332</td>\n      <td>$R_{0}$ leads to $\\Delta_{0}$\\n(directly)</td>\n    </tr>\n    <tr>\n      <th>38</th>\n      <td>3550308</td>\n      <td>São Paulo</td>\n      <td>PERCENTUAL_VARIACAO_PERMANENCIA_RESIDENCIAS_ME...</td>\n      <td>r0_DETRENDED</td>\n      <td>4</td>\n      <td>0.120433</td>\n      <td>$R_{0}$ leads to $\\Delta_{0}$\\n(directly)</td>\n    </tr>\n  </tbody>\n</table>\n</div>"
     },
     "execution_count": 181,
     "metadata": {},
     "output_type": "execute_result"
    }
   ],
   "source": [
    "df_lags_y_lead_mobility_directly.dropna()"
   ],
   "metadata": {
    "collapsed": false,
    "ExecuteTime": {
     "end_time": "2024-03-20T17:37:36.627254Z",
     "start_time": "2024-03-20T17:37:36.589523Z"
    }
   },
   "execution_count": 181
  },
  {
   "cell_type": "code",
   "execution_count": 182,
   "outputs": [
    {
     "data": {
      "text/plain": "<Figure size 394.583x158.74 with 4 Axes>",
      "image/png": "[encoded data removed]"
     },
     "metadata": {},
     "output_type": "display_data"
    }
   ],
   "source": [
    "df_number_samples = pd.DataFrame()\n",
    "\n",
    "fig, ax = plt.subplots(1,4, figsize=(util.centimeter_to_inch(13.92), util.centimeter_to_inch(5.6)), sharex=True, sharey=True)\n",
    "\n",
    "for y, y_label in zip([column_y], [\"$R_{0}^{'}$\"]):\n",
    "    j = 0\n",
    "    for df, title in zip([df_lags_mobility_lead_y_directly, df_lags_mobility_lead_y_inversely, df_lags_y_lead_mobility_directly, df_lags_y_lead_mobility_inversely], [\"$\\Delta_{H}^{''}$ leads \" + y_label + '\\n(directly)', \"$\\Delta_{H}^{''}$ leads \" + y_label + '\\n(inversely)', \"$\\Delta_{H}^{''}$ lags \" + y_label + '\\n(directly)', \"$\\Delta_{H}^{''}$ lags \" + y_label + '\\n(inversely)']):\n",
    "        df_chart = df[df.Y == y].dropna().copy()\n",
    "        df_chart.LAG = df_chart.LAG.astype(int)\n",
    "        df_chart.LAG = abs(df_chart.LAG)\n",
    "        df_chart.CORRELATION = abs(df_chart.CORRELATION)\n",
    "\n",
    "        ax[j].scatter(x = df_chart['LAG'], y =df_chart['CORRELATION'], c='w', edgecolors='gray')\n",
    "\n",
    "        # ax[j].axvline(df_chart.LAG.median(), 0, 1, linestyle='--', color='red')\n",
    "        # ax[j].axhline(df_chart.CORRELATION.median(), 0, 1, linestyle='--', color='red')\n",
    "\n",
    "        ax[j].set_title(title)\n",
    "        \n",
    "        ax[j].set_xlabel('|Lag|')\n",
    "        ax[j].set_xticks([0, 10, 20, 30])\n",
    "        # ax[i][j].set_xlim((min_lag-5, max_lag+5))\n",
    "\n",
    "        if j == 0:\n",
    "            ax[j].set_ylabel(\"|Correlation|\")\n",
    "            ax[j].yaxis.set_major_formatter(mticker.FuncFormatter(lambda x, _: f\"{x:.2f}\"))\n",
    "\n",
    "        j += 1        \n",
    "        \n",
    "        try:\n",
    "            df_chart_describe = df_chart.describe()[['LAG','CORRELATION']].reset_index().copy()\n",
    "            df_chart_describe['y'] = y_label\n",
    "            df_chart_describe['title'] = title\n",
    "            df_number_samples = df_number_samples.append(df_chart_describe, ignore_index=True)\n",
    "        except KeyError:\n",
    "            pass\n",
    "\n",
    "fig.tight_layout()\n",
    "\n",
    "plt.savefig('../images/scatter_lag_correlation_'+analysis+'.pdf', bbox_inches=\"tight\")\n",
    "\n",
    "df_number_samples.to_csv('../data/df_number_samples_'+analysis + '.csv')\n",
    "\n",
    "plt.show()"
   ],
   "metadata": {
    "collapsed": false,
    "ExecuteTime": {
     "end_time": "2024-03-20T17:37:38.589314Z",
     "start_time": "2024-03-20T17:37:36.629060Z"
    }
   }
  },
  {
   "cell_type": "code",
   "execution_count": 183,
   "outputs": [
    {
     "data": {
      "text/plain": "    index        LAG  CORRELATION            y  \\\n0   count   4.000000     4.000000  $R_{0}^{'}$   \n1    mean   1.750000     0.121547  $R_{0}^{'}$   \n2     std   0.957427     0.023627  $R_{0}^{'}$   \n3     min   1.000000     0.099663  $R_{0}^{'}$   \n4     25%   1.000000     0.109532  $R_{0}^{'}$   \n5     50%   1.500000     0.115814  $R_{0}^{'}$   \n6     75%   2.250000     0.127828  $R_{0}^{'}$   \n7     max   3.000000     0.154896  $R_{0}^{'}$   \n8   count   1.000000     1.000000  $R_{0}^{'}$   \n9    mean  10.000000     0.136674  $R_{0}^{'}$   \n10    std        NaN          NaN  $R_{0}^{'}$   \n11    min  10.000000     0.136674  $R_{0}^{'}$   \n12    25%  10.000000     0.136674  $R_{0}^{'}$   \n13    50%  10.000000     0.136674  $R_{0}^{'}$   \n14    75%  10.000000     0.136674  $R_{0}^{'}$   \n15    max  10.000000     0.136674  $R_{0}^{'}$   \n16  count  13.000000    13.000000  $R_{0}^{'}$   \n17   mean   5.153846     0.120277  $R_{0}^{'}$   \n18    std   5.800088     0.015172  $R_{0}^{'}$   \n19    min   1.000000     0.093662  $R_{0}^{'}$   \n20    25%   1.000000     0.110396  $R_{0}^{'}$   \n21    50%   3.000000     0.124244  $R_{0}^{'}$   \n22    75%   7.000000     0.125469  $R_{0}^{'}$   \n23    max  20.000000     0.144246  $R_{0}^{'}$   \n\n                                               title  \n0    $\\Delta_{H}^{''}$ leads $R_{0}^{'}$\\n(directly)  \n1    $\\Delta_{H}^{''}$ leads $R_{0}^{'}$\\n(directly)  \n2    $\\Delta_{H}^{''}$ leads $R_{0}^{'}$\\n(directly)  \n3    $\\Delta_{H}^{''}$ leads $R_{0}^{'}$\\n(directly)  \n4    $\\Delta_{H}^{''}$ leads $R_{0}^{'}$\\n(directly)  \n5    $\\Delta_{H}^{''}$ leads $R_{0}^{'}$\\n(directly)  \n6    $\\Delta_{H}^{''}$ leads $R_{0}^{'}$\\n(directly)  \n7    $\\Delta_{H}^{''}$ leads $R_{0}^{'}$\\n(directly)  \n8   $\\Delta_{H}^{''}$ leads $R_{0}^{'}$\\n(inversely)  \n9   $\\Delta_{H}^{''}$ leads $R_{0}^{'}$\\n(inversely)  \n10  $\\Delta_{H}^{''}$ leads $R_{0}^{'}$\\n(inversely)  \n11  $\\Delta_{H}^{''}$ leads $R_{0}^{'}$\\n(inversely)  \n12  $\\Delta_{H}^{''}$ leads $R_{0}^{'}$\\n(inversely)  \n13  $\\Delta_{H}^{''}$ leads $R_{0}^{'}$\\n(inversely)  \n14  $\\Delta_{H}^{''}$ leads $R_{0}^{'}$\\n(inversely)  \n15  $\\Delta_{H}^{''}$ leads $R_{0}^{'}$\\n(inversely)  \n16    $\\Delta_{H}^{''}$ lags $R_{0}^{'}$\\n(directly)  \n17    $\\Delta_{H}^{''}$ lags $R_{0}^{'}$\\n(directly)  \n18    $\\Delta_{H}^{''}$ lags $R_{0}^{'}$\\n(directly)  \n19    $\\Delta_{H}^{''}$ lags $R_{0}^{'}$\\n(directly)  \n20    $\\Delta_{H}^{''}$ lags $R_{0}^{'}$\\n(directly)  \n21    $\\Delta_{H}^{''}$ lags $R_{0}^{'}$\\n(directly)  \n22    $\\Delta_{H}^{''}$ lags $R_{0}^{'}$\\n(directly)  \n23    $\\Delta_{H}^{''}$ lags $R_{0}^{'}$\\n(directly)  ",
      "text/html": "<div>\n<style scoped>\n    .dataframe tbody tr th:only-of-type {\n        vertical-align: middle;\n    }\n\n    .dataframe tbody tr th {\n        vertical-align: top;\n    }\n\n    .dataframe thead th {\n        text-align: right;\n    }\n</style>\n<table border=\"1\" class=\"dataframe\">\n  <thead>\n    <tr style=\"text-align: right;\">\n      <th></th>\n      <th>index</th>\n      <th>LAG</th>\n      <th>CORRELATION</th>\n      <th>y</th>\n      <th>title</th>\n    </tr>\n  </thead>\n  <tbody>\n    <tr>\n      <th>0</th>\n      <td>count</td>\n      <td>4.000000</td>\n      <td>4.000000</td>\n      <td>$R_{0}^{'}$</td>\n      <td>$\\Delta_{H}^{''}$ leads $R_{0}^{'}$\\n(directly)</td>\n    </tr>\n    <tr>\n      <th>1</th>\n      <td>mean</td>\n      <td>1.750000</td>\n      <td>0.121547</td>\n      <td>$R_{0}^{'}$</td>\n      <td>$\\Delta_{H}^{''}$ leads $R_{0}^{'}$\\n(directly)</td>\n    </tr>\n    <tr>\n      <th>2</th>\n      <td>std</td>\n      <td>0.957427</td>\n      <td>0.023627</td>\n      <td>$R_{0}^{'}$</td>\n      <td>$\\Delta_{H}^{''}$ leads $R_{0}^{'}$\\n(directly)</td>\n    </tr>\n    <tr>\n      <th>3</th>\n      <td>min</td>\n      <td>1.000000</td>\n      <td>0.099663</td>\n      <td>$R_{0}^{'}$</td>\n      <td>$\\Delta_{H}^{''}$ leads $R_{0}^{'}$\\n(directly)</td>\n    </tr>\n    <tr>\n      <th>4</th>\n      <td>25%</td>\n      <td>1.000000</td>\n      <td>0.109532</td>\n      <td>$R_{0}^{'}$</td>\n      <td>$\\Delta_{H}^{''}$ leads $R_{0}^{'}$\\n(directly)</td>\n    </tr>\n    <tr>\n      <th>5</th>\n      <td>50%</td>\n      <td>1.500000</td>\n      <td>0.115814</td>\n      <td>$R_{0}^{'}$</td>\n      <td>$\\Delta_{H}^{''}$ leads $R_{0}^{'}$\\n(directly)</td>\n    </tr>\n    <tr>\n      <th>6</th>\n      <td>75%</td>\n      <td>2.250000</td>\n      <td>0.127828</td>\n      <td>$R_{0}^{'}$</td>\n      <td>$\\Delta_{H}^{''}$ leads $R_{0}^{'}$\\n(directly)</td>\n    </tr>\n    <tr>\n      <th>7</th>\n      <td>max</td>\n      <td>3.000000</td>\n      <td>0.154896</td>\n      <td>$R_{0}^{'}$</td>\n      <td>$\\Delta_{H}^{''}$ leads $R_{0}^{'}$\\n(directly)</td>\n    </tr>\n    <tr>\n      <th>8</th>\n      <td>count</td>\n      <td>1.000000</td>\n      <td>1.000000</td>\n      <td>$R_{0}^{'}$</td>\n      <td>$\\Delta_{H}^{''}$ leads $R_{0}^{'}$\\n(inversely)</td>\n    </tr>\n    <tr>\n      <th>9</th>\n      <td>mean</td>\n      <td>10.000000</td>\n      <td>0.136674</td>\n      <td>$R_{0}^{'}$</td>\n      <td>$\\Delta_{H}^{''}$ leads $R_{0}^{'}$\\n(inversely)</td>\n    </tr>\n    <tr>\n      <th>10</th>\n      <td>std</td>\n      <td>NaN</td>\n      <td>NaN</td>\n      <td>$R_{0}^{'}$</td>\n      <td>$\\Delta_{H}^{''}$ leads $R_{0}^{'}$\\n(inversely)</td>\n    </tr>\n    <tr>\n      <th>11</th>\n      <td>min</td>\n      <td>10.000000</td>\n      <td>0.136674</td>\n      <td>$R_{0}^{'}$</td>\n      <td>$\\Delta_{H}^{''}$ leads $R_{0}^{'}$\\n(inversely)</td>\n    </tr>\n    <tr>\n      <th>12</th>\n      <td>25%</td>\n      <td>10.000000</td>\n      <td>0.136674</td>\n      <td>$R_{0}^{'}$</td>\n      <td>$\\Delta_{H}^{''}$ leads $R_{0}^{'}$\\n(inversely)</td>\n    </tr>\n    <tr>\n      <th>13</th>\n      <td>50%</td>\n      <td>10.000000</td>\n      <td>0.136674</td>\n      <td>$R_{0}^{'}$</td>\n      <td>$\\Delta_{H}^{''}$ leads $R_{0}^{'}$\\n(inversely)</td>\n    </tr>\n    <tr>\n      <th>14</th>\n      <td>75%</td>\n      <td>10.000000</td>\n      <td>0.136674</td>\n      <td>$R_{0}^{'}$</td>\n      <td>$\\Delta_{H}^{''}$ leads $R_{0}^{'}$\\n(inversely)</td>\n    </tr>\n    <tr>\n      <th>15</th>\n      <td>max</td>\n      <td>10.000000</td>\n      <td>0.136674</td>\n      <td>$R_{0}^{'}$</td>\n      <td>$\\Delta_{H}^{''}$ leads $R_{0}^{'}$\\n(inversely)</td>\n    </tr>\n    <tr>\n      <th>16</th>\n      <td>count</td>\n      <td>13.000000</td>\n      <td>13.000000</td>\n      <td>$R_{0}^{'}$</td>\n      <td>$\\Delta_{H}^{''}$ lags $R_{0}^{'}$\\n(directly)</td>\n    </tr>\n    <tr>\n      <th>17</th>\n      <td>mean</td>\n      <td>5.153846</td>\n      <td>0.120277</td>\n      <td>$R_{0}^{'}$</td>\n      <td>$\\Delta_{H}^{''}$ lags $R_{0}^{'}$\\n(directly)</td>\n    </tr>\n    <tr>\n      <th>18</th>\n      <td>std</td>\n      <td>5.800088</td>\n      <td>0.015172</td>\n      <td>$R_{0}^{'}$</td>\n      <td>$\\Delta_{H}^{''}$ lags $R_{0}^{'}$\\n(directly)</td>\n    </tr>\n    <tr>\n      <th>19</th>\n      <td>min</td>\n      <td>1.000000</td>\n      <td>0.093662</td>\n      <td>$R_{0}^{'}$</td>\n      <td>$\\Delta_{H}^{''}$ lags $R_{0}^{'}$\\n(directly)</td>\n    </tr>\n    <tr>\n      <th>20</th>\n      <td>25%</td>\n      <td>1.000000</td>\n      <td>0.110396</td>\n      <td>$R_{0}^{'}$</td>\n      <td>$\\Delta_{H}^{''}$ lags $R_{0}^{'}$\\n(directly)</td>\n    </tr>\n    <tr>\n      <th>21</th>\n      <td>50%</td>\n      <td>3.000000</td>\n      <td>0.124244</td>\n      <td>$R_{0}^{'}$</td>\n      <td>$\\Delta_{H}^{''}$ lags $R_{0}^{'}$\\n(directly)</td>\n    </tr>\n    <tr>\n      <th>22</th>\n      <td>75%</td>\n      <td>7.000000</td>\n      <td>0.125469</td>\n      <td>$R_{0}^{'}$</td>\n      <td>$\\Delta_{H}^{''}$ lags $R_{0}^{'}$\\n(directly)</td>\n    </tr>\n    <tr>\n      <th>23</th>\n      <td>max</td>\n      <td>20.000000</td>\n      <td>0.144246</td>\n      <td>$R_{0}^{'}$</td>\n      <td>$\\Delta_{H}^{''}$ lags $R_{0}^{'}$\\n(directly)</td>\n    </tr>\n  </tbody>\n</table>\n</div>"
     },
     "execution_count": 183,
     "metadata": {},
     "output_type": "execute_result"
    }
   ],
   "source": [
    "df_number_samples"
   ],
   "metadata": {
    "collapsed": false,
    "ExecuteTime": {
     "end_time": "2024-03-20T17:37:38.611406Z",
     "start_time": "2024-03-20T17:37:38.591790Z"
    }
   }
  },
  {
   "cell_type": "code",
   "execution_count": 184,
   "outputs": [
    {
     "data": {
      "text/plain": "count    4.000000\nmean    -1.750000\nstd      0.957427\nmin     -3.000000\n25%     -2.250000\n50%     -1.500000\n75%     -1.000000\nmax     -1.000000\nName: LAG, dtype: float64"
     },
     "execution_count": 184,
     "metadata": {},
     "output_type": "execute_result"
    }
   ],
   "source": [
    "df_lags_mobility_lead_y_directly[df_lags_mobility_lead_y_directly.Y==column_y].LAG.dropna().astype(float).describe()"
   ],
   "metadata": {
    "collapsed": false,
    "ExecuteTime": {
     "end_time": "2024-03-20T17:37:38.654178Z",
     "start_time": "2024-03-20T17:37:38.613371Z"
    }
   }
  },
  {
   "cell_type": "code",
   "execution_count": 185,
   "outputs": [
    {
     "data": {
      "text/plain": "count     1.0\nmean    -10.0\nstd       NaN\nmin     -10.0\n25%     -10.0\n50%     -10.0\n75%     -10.0\nmax     -10.0\nName: LAG, dtype: float64"
     },
     "execution_count": 185,
     "metadata": {},
     "output_type": "execute_result"
    }
   ],
   "source": [
    "df_lags_mobility_lead_y_inversely[df_lags_mobility_lead_y_inversely.Y==column_y].LAG.dropna().astype(float).describe()"
   ],
   "metadata": {
    "collapsed": false,
    "ExecuteTime": {
     "end_time": "2024-03-20T17:37:38.689295Z",
     "start_time": "2024-03-20T17:37:38.656228Z"
    }
   }
  },
  {
   "cell_type": "code",
   "outputs": [
    {
     "data": {
      "text/plain": "0   -10.0\nName: LAG, dtype: float64"
     },
     "execution_count": 186,
     "metadata": {},
     "output_type": "execute_result"
    }
   ],
   "source": [
    "df_lags_mobility_lead_y_inversely[df_lags_mobility_lead_y_inversely.Y==column_y].LAG.dropna().astype(float)"
   ],
   "metadata": {
    "collapsed": false,
    "ExecuteTime": {
     "end_time": "2024-03-20T17:37:38.735869Z",
     "start_time": "2024-03-20T17:37:38.690784Z"
    }
   },
   "execution_count": 186
  },
  {
   "cell_type": "code",
   "outputs": [
    {
     "data": {
      "text/plain": "       CODIGO_MUNICIPIO_7  LAG  CORRELATION\ncount                 0.0  0.0          0.0\nmean                  NaN  NaN          NaN\nstd                   NaN  NaN          NaN\nmin                   NaN  NaN          NaN\n25%                   NaN  NaN          NaN\n50%                   NaN  NaN          NaN\n75%                   NaN  NaN          NaN\nmax                   NaN  NaN          NaN",
      "text/html": "<div>\n<style scoped>\n    .dataframe tbody tr th:only-of-type {\n        vertical-align: middle;\n    }\n\n    .dataframe tbody tr th {\n        vertical-align: top;\n    }\n\n    .dataframe thead th {\n        text-align: right;\n    }\n</style>\n<table border=\"1\" class=\"dataframe\">\n  <thead>\n    <tr style=\"text-align: right;\">\n      <th></th>\n      <th>CODIGO_MUNICIPIO_7</th>\n      <th>LAG</th>\n      <th>CORRELATION</th>\n    </tr>\n  </thead>\n  <tbody>\n    <tr>\n      <th>count</th>\n      <td>0.0</td>\n      <td>0.0</td>\n      <td>0.0</td>\n    </tr>\n    <tr>\n      <th>mean</th>\n      <td>NaN</td>\n      <td>NaN</td>\n      <td>NaN</td>\n    </tr>\n    <tr>\n      <th>std</th>\n      <td>NaN</td>\n      <td>NaN</td>\n      <td>NaN</td>\n    </tr>\n    <tr>\n      <th>min</th>\n      <td>NaN</td>\n      <td>NaN</td>\n      <td>NaN</td>\n    </tr>\n    <tr>\n      <th>25%</th>\n      <td>NaN</td>\n      <td>NaN</td>\n      <td>NaN</td>\n    </tr>\n    <tr>\n      <th>50%</th>\n      <td>NaN</td>\n      <td>NaN</td>\n      <td>NaN</td>\n    </tr>\n    <tr>\n      <th>75%</th>\n      <td>NaN</td>\n      <td>NaN</td>\n      <td>NaN</td>\n    </tr>\n    <tr>\n      <th>max</th>\n      <td>NaN</td>\n      <td>NaN</td>\n      <td>NaN</td>\n    </tr>\n  </tbody>\n</table>\n</div>"
     },
     "execution_count": 187,
     "metadata": {},
     "output_type": "execute_result"
    }
   ],
   "source": [
    "temp = df_lags_mobility_lead_y_inversely[(df_lags_mobility_lead_y_inversely.Y==column_y)].dropna()\n",
    "temp['LAG'] = temp['LAG'].astype(float)\n",
    "temp[temp['LAG'] <= -23].describe().round(2)"
   ],
   "metadata": {
    "collapsed": false,
    "ExecuteTime": {
     "end_time": "2024-03-20T17:37:38.794476Z",
     "start_time": "2024-03-20T17:37:38.738461Z"
    }
   },
   "execution_count": 187
  },
  {
   "cell_type": "code",
   "outputs": [
    {
     "data": {
      "text/plain": "       CODIGO_MUNICIPIO_7   LAG  CORRELATION\ncount                 1.0   1.0         1.00\nmean            5201405.0 -10.0        -0.14\nstd                   NaN   NaN          NaN\nmin             5201405.0 -10.0        -0.14\n25%             5201405.0 -10.0        -0.14\n50%             5201405.0 -10.0        -0.14\n75%             5201405.0 -10.0        -0.14\nmax             5201405.0 -10.0        -0.14",
      "text/html": "<div>\n<style scoped>\n    .dataframe tbody tr th:only-of-type {\n        vertical-align: middle;\n    }\n\n    .dataframe tbody tr th {\n        vertical-align: top;\n    }\n\n    .dataframe thead th {\n        text-align: right;\n    }\n</style>\n<table border=\"1\" class=\"dataframe\">\n  <thead>\n    <tr style=\"text-align: right;\">\n      <th></th>\n      <th>CODIGO_MUNICIPIO_7</th>\n      <th>LAG</th>\n      <th>CORRELATION</th>\n    </tr>\n  </thead>\n  <tbody>\n    <tr>\n      <th>count</th>\n      <td>1.0</td>\n      <td>1.0</td>\n      <td>1.00</td>\n    </tr>\n    <tr>\n      <th>mean</th>\n      <td>5201405.0</td>\n      <td>-10.0</td>\n      <td>-0.14</td>\n    </tr>\n    <tr>\n      <th>std</th>\n      <td>NaN</td>\n      <td>NaN</td>\n      <td>NaN</td>\n    </tr>\n    <tr>\n      <th>min</th>\n      <td>5201405.0</td>\n      <td>-10.0</td>\n      <td>-0.14</td>\n    </tr>\n    <tr>\n      <th>25%</th>\n      <td>5201405.0</td>\n      <td>-10.0</td>\n      <td>-0.14</td>\n    </tr>\n    <tr>\n      <th>50%</th>\n      <td>5201405.0</td>\n      <td>-10.0</td>\n      <td>-0.14</td>\n    </tr>\n    <tr>\n      <th>75%</th>\n      <td>5201405.0</td>\n      <td>-10.0</td>\n      <td>-0.14</td>\n    </tr>\n    <tr>\n      <th>max</th>\n      <td>5201405.0</td>\n      <td>-10.0</td>\n      <td>-0.14</td>\n    </tr>\n  </tbody>\n</table>\n</div>"
     },
     "execution_count": 188,
     "metadata": {},
     "output_type": "execute_result"
    }
   ],
   "source": [
    "temp[temp['LAG'] > -23].describe().round(2)"
   ],
   "metadata": {
    "collapsed": false,
    "ExecuteTime": {
     "end_time": "2024-03-20T17:37:38.827800Z",
     "start_time": "2024-03-20T17:37:38.796622Z"
    }
   },
   "execution_count": 188
  },
  {
   "cell_type": "code",
   "outputs": [
    {
     "data": {
      "text/plain": "0   -10.0\nName: LAG, dtype: float64"
     },
     "execution_count": 189,
     "metadata": {},
     "output_type": "execute_result"
    }
   ],
   "source": [
    "df_lags_mobility_lead_y_inversely[df_lags_mobility_lead_y_inversely.Y==column_y].LAG.dropna().astype(float)"
   ],
   "metadata": {
    "collapsed": false,
    "ExecuteTime": {
     "end_time": "2024-03-20T17:37:38.856782Z",
     "start_time": "2024-03-20T17:37:38.829778Z"
    }
   },
   "execution_count": 189
  },
  {
   "cell_type": "code",
   "execution_count": 190,
   "outputs": [
    {
     "data": {
      "text/plain": "count    13.000000\nmean      5.153846\nstd       5.800088\nmin       1.000000\n25%       1.000000\n50%       3.000000\n75%       7.000000\nmax      20.000000\nName: LAG, dtype: float64"
     },
     "execution_count": 190,
     "metadata": {},
     "output_type": "execute_result"
    }
   ],
   "source": [
    "df_lags_y_lead_mobility_directly [df_lags_y_lead_mobility_directly.Y==column_y].LAG.dropna().astype(float).describe()"
   ],
   "metadata": {
    "collapsed": false,
    "ExecuteTime": {
     "end_time": "2024-03-20T17:37:38.890490Z",
     "start_time": "2024-03-20T17:37:38.858742Z"
    }
   }
  },
  {
   "cell_type": "code",
   "execution_count": 191,
   "outputs": [
    {
     "data": {
      "text/plain": "count    0.0\nmean     NaN\nstd      NaN\nmin      NaN\n25%      NaN\n50%      NaN\n75%      NaN\nmax      NaN\nName: LAG, dtype: float64"
     },
     "execution_count": 191,
     "metadata": {},
     "output_type": "execute_result"
    }
   ],
   "source": [
    "df_lags_y_lead_mobility_inversely [df_lags_y_lead_mobility_inversely.Y==column_y].LAG.dropna().astype(float).describe()"
   ],
   "metadata": {
    "collapsed": false,
    "ExecuteTime": {
     "end_time": "2024-03-20T17:37:38.922898Z",
     "start_time": "2024-03-20T17:37:38.892360Z"
    }
   }
  }
 ],
 "metadata": {
  "kernelspec": {
   "display_name": "Python 3",
   "language": "python",
   "name": "python3"
  },
  "language_info": {
   "codemirror_mode": {
    "name": "ipython",
    "version": 2
   },
   "file_extension": ".py",
   "mimetype": "text/x-python",
   "name": "python",
   "nbconvert_exporter": "python",
   "pygments_lexer": "ipython2",
   "version": "2.7.6"
  }
 },
 "nbformat": 4,
 "nbformat_minor": 0
}
