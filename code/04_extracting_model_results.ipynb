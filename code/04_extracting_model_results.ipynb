{
 "cells": [
  {
   "cell_type": "markdown",
   "source": [
    "# Extracting model results"
   ],
   "metadata": {
    "collapsed": false
   },
   "id": "6cf571d8b21d31cb"
  },
  {
   "cell_type": "code",
   "execution_count": 1,
   "id": "initial_id",
   "metadata": {
    "collapsed": true,
    "ExecuteTime": {
     "end_time": "2024-02-29T11:41:25.922677Z",
     "start_time": "2024-02-29T11:41:25.617382Z"
    }
   },
   "outputs": [],
   "source": [
    "import pandas as pd\n",
    "from model.sirds_model_visualization import get_sirds, get_sirds_extras"
   ]
  },
  {
   "cell_type": "markdown",
   "source": [
    "## Loading data"
   ],
   "metadata": {
    "collapsed": false
   },
   "id": "5bd4cd15d30c4e86"
  },
  {
   "cell_type": "code",
   "outputs": [],
   "source": [
    "df = pd.read_csv('../data/df_ts_epidemic_episodes.csv', index_col=0)\n",
    "df.DATA = pd.to_datetime(df.DATA)\n",
    "df['TAXA_CASOS_NOVOS_MEDIA_MOVEL_7_DIAS'] = df['CASOS_NOVOS_MEDIA_MOVEL_7_DIAS'] / df['POPULACAO_2022']  * 100000"
   ],
   "metadata": {
    "collapsed": false,
    "ExecuteTime": {
     "end_time": "2024-02-29T11:41:26.203095Z",
     "start_time": "2024-02-29T11:41:25.924840Z"
    }
   },
   "id": "517c5a993c338255",
   "execution_count": 2
  },
  {
   "cell_type": "code",
   "outputs": [],
   "source": [
    "df['MUNICIPIO_UF'] = df['MUNICIPIO'] + '/' + df['SIGLA_ESTADO']"
   ],
   "metadata": {
    "collapsed": false,
    "ExecuteTime": {
     "end_time": "2024-02-29T11:41:26.219404Z",
     "start_time": "2024-02-29T11:41:26.204176Z"
    }
   },
   "id": "22212f271380d399",
   "execution_count": 3
  },
  {
   "cell_type": "code",
   "outputs": [],
   "source": [
    "df_final = df[df.DATA == df.DATA.max()]"
   ],
   "metadata": {
    "collapsed": false,
    "ExecuteTime": {
     "end_time": "2024-02-29T11:41:26.263306Z",
     "start_time": "2024-02-29T11:41:26.220861Z"
    }
   },
   "id": "7d281840352c5a80",
   "execution_count": 4
  },
  {
   "cell_type": "code",
   "outputs": [],
   "source": [
    "df_results_municipalites = pd.read_csv('../data/execution_results.csv')"
   ],
   "metadata": {
    "collapsed": false,
    "ExecuteTime": {
     "end_time": "2024-02-29T11:41:26.298999Z",
     "start_time": "2024-02-29T11:41:26.264836Z"
    }
   },
   "id": "cf81038d9a21240b",
   "execution_count": 5
  },
  {
   "cell_type": "code",
   "outputs": [],
   "source": [
    "days_to_recovery = 8"
   ],
   "metadata": {
    "collapsed": false,
    "ExecuteTime": {
     "end_time": "2024-02-29T11:41:26.310431Z",
     "start_time": "2024-02-29T11:41:26.300861Z"
    }
   },
   "id": "77311e5c38325455",
   "execution_count": 6
  },
  {
   "cell_type": "markdown",
   "source": [
    "## Extracting parameters"
   ],
   "metadata": {
    "collapsed": false
   },
   "id": "eadc820a0cf10f77"
  },
  {
   "cell_type": "code",
   "outputs": [],
   "source": [
    "df_r0_mean = pd.DataFrame()\n",
    "df_ifr_mean = pd.DataFrame()\n",
    "df_Omega_mean = pd.DataFrame()\n",
    "\n",
    "df_r0_general = pd.DataFrame()\n",
    "df_ifr_general = pd.DataFrame()\n",
    "df_Omega_general = pd.DataFrame()\n",
    "\n",
    "for municipality in df_results_municipalites.municipality.unique():    \n",
    "    df_results = df_results_municipalites[df_results_municipalites.municipality == municipality]\n",
    "    municipality_id = df_results.municipality_id.iloc[0]\n",
    "    date_first_case = pd.to_datetime(df_results.date_first_case.unique()[0])\n",
    "    \n",
    "    df_covid_municipality = df[(df.MUNICIPIO == municipality) & (df.DATA >= date_first_case)]\n",
    "    real_reproduction_number = df_covid_municipality.NUMERO_REPRODUCAO_EFETIVO_SRAG_MEDIA.values\n",
    "    real_new_deaths = df_covid_municipality.TAXA_OBITOS_NOVOS_MEDIA_MOVEL_7_DIAS.values\n",
    "    real_total_deaths = df_covid_municipality.TAXA_OBITOS_NOVOS_MEDIA_MOVEL_7_DIAS.cumsum().values\n",
    "    real_new_cases = df_covid_municipality.CASOS_NOVOS_MEDIA_MOVEL_7_DIAS.values\n",
    "    real_total_cases = df_covid_municipality.CASOS_NOVOS_MEDIA_MOVEL_7_DIAS.cumsum().values\n",
    "        \n",
    "    df_S = pd.DataFrame()\n",
    "    df_I = pd.DataFrame()\n",
    "    df_R = pd.DataFrame()\n",
    "    df_D = pd.DataFrame()\n",
    "    df_I_accumulated = pd.DataFrame()\n",
    "    df_new_deaths = pd.DataFrame()\n",
    "    df_rt = pd.DataFrame()\n",
    "    df_new_cases = pd.DataFrame()\n",
    "    df_r0 = pd.DataFrame()\n",
    "    df_IFR = pd.DataFrame()\n",
    "    df_Omega = pd.DataFrame()\n",
    "    list_fuzzy_fast_transition = []\n",
    "    list_fuzzy_slow_transition = []\n",
    "    \n",
    "    for index, result in df_results.iterrows():\n",
    "        result = result.dropna()\n",
    "        \n",
    "        y = get_sirds(result)\n",
    "        S, I, R, D, I_accumulated = y\n",
    "        min_length = min(len(real_new_deaths), len(D))\n",
    "        S = S[:min_length]\n",
    "        I = I[:min_length]\n",
    "        R = R[:min_length]\n",
    "        D = D[:min_length]\n",
    "        I_accumulated = I_accumulated[:min_length]\n",
    "        N = S[0] + I[0] + R[0] + D[0]\n",
    "        \n",
    "        dates = df_covid_municipality[:min_length].DATA.values\n",
    "        \n",
    "        D_new_deaths, reproduction_number_sird, I_new_cases, epidemic_periods_with_fast_transition_fuzzy_variable, epidemic_periods_with_slow_transition_fuzzy_variable, days_between_infections_values, case_fatality_probability_values, loss_immunity_in_days_values, estimated_days_between_infections, estimated_case_fatality_probability, estimated_loss_immunity_in_days = get_sirds_extras(result, S, D, I_accumulated)\n",
    "        \n",
    "        df_S_temp = pd.DataFrame({'date': dates, 'S': S})\n",
    "        df_I_temp = pd.DataFrame({'date': dates, 'I': I})\n",
    "        df_R_temp = pd.DataFrame({'date': dates, 'R': R})\n",
    "        df_D_temp = pd.DataFrame({'date': dates, 'D': D})\n",
    "        df_I_accumulated_temp = pd.DataFrame({'date': dates, 'I_accumulated': I_accumulated})\n",
    "        df_new_deaths_temp = pd.DataFrame({'date': dates[1:], 'deaths': D_new_deaths})\n",
    "        df_rt_temp = pd.DataFrame({'date': dates, 'rt': reproduction_number_sird})\n",
    "        df_new_cases_temp = pd.DataFrame({'date': dates[1:], 'cases': I_new_cases})\n",
    "        df_r0_temp = pd.DataFrame({'date': dates, 'r0': days_to_recovery/estimated_days_between_infections})\n",
    "        df_r0_temp['index'] = index\n",
    "        df_IRF_temp = pd.DataFrame({'date': dates, 'ifr': estimated_case_fatality_probability})\n",
    "        df_IRF_temp['index'] = index\n",
    "        df_Omega_temp = pd.DataFrame({'date': dates, 'Omega': estimated_loss_immunity_in_days})\n",
    "        df_Omega_temp['index'] = index\n",
    "                   \n",
    "        df_S = pd.concat([df_S, df_S_temp])\n",
    "        df_I = pd.concat([df_I, df_I_temp])\n",
    "        df_R = pd.concat([df_R, df_R_temp])\n",
    "        df_D = pd.concat([df_D, df_D_temp])\n",
    "        df_I_accumulated = pd.concat([df_I_accumulated, df_I_accumulated_temp])\n",
    "        df_new_deaths = pd.concat([df_new_deaths, df_new_deaths_temp])\n",
    "        df_rt = pd.concat([df_rt, df_rt_temp])\n",
    "        df_new_cases = pd.concat([df_new_cases, df_new_cases_temp])\n",
    "        df_r0 = pd.concat([df_r0, df_r0_temp])\n",
    "        df_IFR = pd.concat([df_IFR, df_IRF_temp])\n",
    "        df_Omega = pd.concat([df_Omega, df_Omega_temp])\n",
    "        list_fuzzy_fast_transition.append(epidemic_periods_with_fast_transition_fuzzy_variable)\n",
    "        list_fuzzy_slow_transition.append(epidemic_periods_with_slow_transition_fuzzy_variable)\n",
    "\n",
    "    df_r0['municipality_id'] = municipality_id\n",
    "    df_r0['municipality'] = municipality\n",
    "    df_IFR['municipality_id'] = municipality_id\n",
    "    df_IFR['municipality'] = municipality\n",
    "    df_Omega['municipality_id'] = municipality_id\n",
    "    df_Omega['municipality'] = municipality\n",
    "\n",
    "    df_r0_mean_municipality = df_r0.groupby(['municipality_id', 'municipality', 'date']).mean().reset_index()\n",
    "    df_r0_mean = pd.concat([df_r0_mean, df_r0_mean_municipality], ignore_index=True)\n",
    "    \n",
    "    df_ifr_mean_municipality = df_IFR.groupby(['municipality_id', 'municipality', 'date']).mean().reset_index()\n",
    "    df_ifr_mean = pd.concat([df_ifr_mean, df_ifr_mean_municipality], ignore_index=True)    \n",
    "    \n",
    "    df_Omega_mean_municipality = df_Omega.groupby(['municipality_id', 'municipality', 'date']).mean().reset_index()\n",
    "    df_Omega_mean = pd.concat([df_Omega_mean, df_Omega_mean_municipality], ignore_index=True)\n",
    "    \n",
    "    df_ifr_general = pd.concat([df_ifr_general, df_IFR], ignore_index=True)\n",
    "    df_r0_general = pd.concat([df_r0_general, df_r0], ignore_index=True)\n",
    "    df_Omega_general = pd.concat([df_Omega_general, df_Omega], ignore_index=True)"
   ],
   "metadata": {
    "collapsed": false,
    "ExecuteTime": {
     "end_time": "2024-02-29T11:44:52.631192Z",
     "start_time": "2024-02-29T11:41:26.312967Z"
    }
   },
   "id": "9aa06dcf04192c09",
   "execution_count": 7
  },
  {
   "cell_type": "markdown",
   "source": [
    "## Saving data"
   ],
   "metadata": {
    "collapsed": false
   },
   "id": "764d860b62d3d89b"
  },
  {
   "cell_type": "code",
   "outputs": [],
   "source": [
    "df_r0_mean.to_csv('../data/df_r0_mean.csv', index=False)\n",
    "df_ifr_mean.to_csv('../data/df_ifr_mean.csv', index=False)\n",
    "df_Omega_mean.to_csv('../data/df_Omega_mean.csv', index=False)\n",
    "\n",
    "df_r0_general.to_csv('../data/df_r0_general.csv', index=False)\n",
    "df_ifr_general.to_csv('../data/df_ifr_general.csv', index=False)\n",
    "df_Omega_general.to_csv('../data/df_Omega_general.csv', index=False)"
   ],
   "metadata": {
    "collapsed": false,
    "ExecuteTime": {
     "end_time": "2024-02-29T11:45:02.396470Z",
     "start_time": "2024-02-29T11:44:52.632577Z"
    }
   },
   "id": "c393a993f3b01456",
   "execution_count": 8
  }
 ],
 "metadata": {
  "kernelspec": {
   "display_name": "Python 3",
   "language": "python",
   "name": "python3"
  },
  "language_info": {
   "codemirror_mode": {
    "name": "ipython",
    "version": 2
   },
   "file_extension": ".py",
   "mimetype": "text/x-python",
   "name": "python",
   "nbconvert_exporter": "python",
   "pygments_lexer": "ipython2",
   "version": "2.7.6"
  }
 },
 "nbformat": 4,
 "nbformat_minor": 5
}
