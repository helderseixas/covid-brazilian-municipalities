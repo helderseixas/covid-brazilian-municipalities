{
 "cells": [
  {
   "cell_type": "markdown",
   "source": [
    "# Preparing time series for cross-correlation"
   ],
   "metadata": {
    "collapsed": false
   }
  },
  {
   "cell_type": "code",
   "execution_count": 1,
   "outputs": [],
   "source": [
    "import  pandas as pd"
   ],
   "metadata": {
    "collapsed": false,
    "ExecuteTime": {
     "end_time": "2024-03-20T16:05:48.083398Z",
     "start_time": "2024-03-20T16:05:47.775141Z"
    }
   }
  },
  {
   "cell_type": "markdown",
   "source": [
    "## Merging time series"
   ],
   "metadata": {
    "collapsed": false
   }
  },
  {
   "cell_type": "code",
   "execution_count": 2,
   "outputs": [],
   "source": [
    "df_covid_mobility = pd.read_csv('../data/df_ts_covid_mobility.csv', index_col=0)\n",
    "df_covid_mobility.DATA = pd.to_datetime(df_covid_mobility.DATA, infer_datetime_format=True)"
   ],
   "metadata": {
    "collapsed": false,
    "ExecuteTime": {
     "end_time": "2024-03-20T16:05:48.227950Z",
     "start_time": "2024-03-20T16:05:48.085420Z"
    }
   }
  },
  {
   "cell_type": "code",
   "outputs": [],
   "source": [
    "df_r0_mean = pd.read_csv('../data/df_r0_mean.csv')\n",
    "df_r0_mean.date = pd.to_datetime(df_r0_mean.date)\n",
    "df_r0_mean = df_r0_mean.rename(columns={'municipality_id': 'CODIGO_MUNICIPIO_6', 'date': 'DATA'})"
   ],
   "metadata": {
    "collapsed": false,
    "ExecuteTime": {
     "end_time": "2024-03-20T16:05:48.282720Z",
     "start_time": "2024-03-20T16:05:48.229983Z"
    }
   },
   "execution_count": 3
  },
  {
   "cell_type": "code",
   "outputs": [],
   "source": [
    "df_municipal = pd.read_csv('../data/df_municpal.csv')"
   ],
   "metadata": {
    "collapsed": false,
    "ExecuteTime": {
     "end_time": "2024-03-20T16:05:48.523986Z",
     "start_time": "2024-03-20T16:05:48.284181Z"
    }
   },
   "execution_count": 4
  },
  {
   "cell_type": "code",
   "outputs": [],
   "source": [
    "df_municipal_codes = df_municipal[['CODIGO_MUNICIPIO_6', 'CODIGO_MUNICIPIO_7']].drop_duplicates()"
   ],
   "metadata": {
    "collapsed": false,
    "ExecuteTime": {
     "end_time": "2024-03-20T16:05:48.531313Z",
     "start_time": "2024-03-20T16:05:48.525161Z"
    }
   },
   "execution_count": 5
  },
  {
   "cell_type": "code",
   "outputs": [],
   "source": [
    "df_r0_mean = df_r0_mean.merge(df_municipal_codes, how='left', on='CODIGO_MUNICIPIO_6')"
   ],
   "metadata": {
    "collapsed": false,
    "ExecuteTime": {
     "end_time": "2024-03-20T16:05:48.588394Z",
     "start_time": "2024-03-20T16:05:48.532841Z"
    }
   },
   "execution_count": 6
  },
  {
   "cell_type": "code",
   "outputs": [],
   "source": [
    "df_r0_mean = df_r0_mean.merge(df_covid_mobility[['CODIGO_MUNICIPIO_7', 'DATA', 'PERCENTUAL_VARIACAO_PERMANENCIA_RESIDENCIAS', 'PERCENTUAL_VARIACAO_PERMANENCIA_RESIDENCIAS_MEDIA_7_DIAS', 'NUMERO_REPRODUCAO_EFETIVO_SRAG_MEDIA', 'ONSET_NUMERO_REPRODUCAO_EFETIVO_MEDIA']], how='left', on=['CODIGO_MUNICIPIO_7', 'DATA'])"
   ],
   "metadata": {
    "collapsed": false,
    "ExecuteTime": {
     "end_time": "2024-03-20T16:05:48.611871Z",
     "start_time": "2024-03-20T16:05:48.589574Z"
    }
   },
   "execution_count": 7
  },
  {
   "cell_type": "markdown",
   "source": [
    "## Saving data"
   ],
   "metadata": {
    "collapsed": false
   }
  },
  {
   "cell_type": "code",
   "outputs": [],
   "source": [
    "df_r0_mean.to_csv('../data/df_base_analysis.csv', index=False)"
   ],
   "metadata": {
    "collapsed": false,
    "ExecuteTime": {
     "end_time": "2024-03-20T16:05:49.035720Z",
     "start_time": "2024-03-20T16:05:48.613216Z"
    }
   },
   "execution_count": 8
  }
 ],
 "metadata": {
  "kernelspec": {
   "display_name": "Python 3",
   "language": "python",
   "name": "python3"
  },
  "language_info": {
   "codemirror_mode": {
    "name": "ipython",
    "version": 2
   },
   "file_extension": ".py",
   "mimetype": "text/x-python",
   "name": "python",
   "nbconvert_exporter": "python",
   "pygments_lexer": "ipython2",
   "version": "2.7.6"
  }
 },
 "nbformat": 4,
 "nbformat_minor": 0
}
