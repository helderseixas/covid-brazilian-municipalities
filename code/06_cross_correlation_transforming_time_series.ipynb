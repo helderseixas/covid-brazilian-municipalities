{
 "cells": [
  {
   "cell_type": "markdown",
   "source": [
    "# Preparing time series for cross-correlation analysis between social isolation and R0\n",
    "References:\n",
    "* https://www.geeksforgeeks.org/matplotlib-pyplot-xcorr-in-python/\n",
    "* https://coderzcolumn.com/tutorials/data-science/how-to-remove-trend-and-seasonality-from-time-series-data-using-python-pandas\n",
    "* https://www.datainsightonline.com/post/cross-correlation-with-two-time-series-in-python\n",
    "* https://online.stat.psu.edu/stat510/lesson/8/8.2"
   ],
   "metadata": {
    "collapsed": false
   }
  },
  {
   "cell_type": "code",
   "execution_count": 1,
   "outputs": [
    {
     "name": "stderr",
     "output_type": "stream",
     "text": [
      "/home/helder/anaconda3/envs/base-r/lib/python3.9/site-packages/scipy/__init__.py:138: UserWarning: A NumPy version >=1.16.5 and <1.23.0 is required for this version of SciPy (detected version 1.26.4)\n",
      "  warnings.warn(f\"A NumPy version >={np_minversion} and <{np_maxversion} is required for this version of \"\n"
     ]
    }
   ],
   "source": [
    "import  pandas as pd\n",
    "import matplotlib.pyplot as plt\n",
    "from statsmodels.tsa.stattools import adfuller, kpss\n",
    "import statsmodels.stats.diagnostic as diag\n",
    "import statsmodels.api as sm"
   ],
   "metadata": {
    "collapsed": false,
    "ExecuteTime": {
     "end_time": "2024-03-15T11:59:51.386758Z",
     "start_time": "2024-03-15T11:59:49.719653Z"
    }
   }
  },
  {
   "cell_type": "markdown",
   "source": [
    "## Loading data"
   ],
   "metadata": {
    "collapsed": false
   }
  },
  {
   "cell_type": "code",
   "execution_count": 2,
   "outputs": [],
   "source": [
    "df_covid_mobility = pd.read_csv('../data/df_base_analysis.csv')\n",
    "df_covid_mobility.DATA = pd.to_datetime(df_covid_mobility.DATA, infer_datetime_format=True)"
   ],
   "metadata": {
    "collapsed": false,
    "ExecuteTime": {
     "end_time": "2024-03-15T11:59:51.495802Z",
     "start_time": "2024-03-15T11:59:51.389586Z"
    }
   }
  },
  {
   "cell_type": "code",
   "outputs": [
    {
     "data": {
      "text/plain": "Index(['CODIGO_MUNICIPIO_6', 'municipality', 'DATA', 'r0', 'index',\n       'CODIGO_MUNICIPIO_7', 'PERCENTUAL_VARIACAO_PERMANENCIA_RESIDENCIAS',\n       'PERCENTUAL_VARIACAO_PERMANENCIA_RESIDENCIAS_MEDIA_7_DIAS',\n       'NUMERO_REPRODUCAO_EFETIVO_SRAG_MEDIA',\n       'ONSET_NUMERO_REPRODUCAO_EFETIVO_MEDIA'],\n      dtype='object')"
     },
     "execution_count": 3,
     "metadata": {},
     "output_type": "execute_result"
    }
   ],
   "source": [
    "df_covid_mobility.columns"
   ],
   "metadata": {
    "collapsed": false,
    "ExecuteTime": {
     "end_time": "2024-03-15T11:59:51.512441Z",
     "start_time": "2024-03-15T11:59:51.498381Z"
    }
   },
   "execution_count": 3
  },
  {
   "cell_type": "markdown",
   "source": [
    "## Checking stationarity of time series"
   ],
   "metadata": {
    "collapsed": false
   }
  },
  {
   "cell_type": "code",
   "execution_count": 4,
   "outputs": [
    {
     "name": "stderr",
     "output_type": "stream",
     "text": [
      "<ipython-input-4-a8e913950d63>:7: InterpolationWarning: The test statistic is outside of the range of p-values available in the\n",
      "look-up table. The actual p-value is smaller than the p-value returned.\n",
      "\n",
      "  result = kpss(timeseries)\n",
      "<ipython-input-4-a8e913950d63>:7: InterpolationWarning: The test statistic is outside of the range of p-values available in the\n",
      "look-up table. The actual p-value is smaller than the p-value returned.\n",
      "\n",
      "  result = kpss(timeseries)\n",
      "<ipython-input-4-a8e913950d63>:7: InterpolationWarning: The test statistic is outside of the range of p-values available in the\n",
      "look-up table. The actual p-value is smaller than the p-value returned.\n",
      "\n",
      "  result = kpss(timeseries)\n",
      "<ipython-input-4-a8e913950d63>:7: InterpolationWarning: The test statistic is outside of the range of p-values available in the\n",
      "look-up table. The actual p-value is smaller than the p-value returned.\n",
      "\n",
      "  result = kpss(timeseries)\n",
      "<ipython-input-4-a8e913950d63>:7: InterpolationWarning: The test statistic is outside of the range of p-values available in the\n",
      "look-up table. The actual p-value is smaller than the p-value returned.\n",
      "\n",
      "  result = kpss(timeseries)\n",
      "<ipython-input-4-a8e913950d63>:7: InterpolationWarning: The test statistic is outside of the range of p-values available in the\n",
      "look-up table. The actual p-value is smaller than the p-value returned.\n",
      "\n",
      "  result = kpss(timeseries)\n",
      "<ipython-input-4-a8e913950d63>:7: InterpolationWarning: The test statistic is outside of the range of p-values available in the\n",
      "look-up table. The actual p-value is smaller than the p-value returned.\n",
      "\n",
      "  result = kpss(timeseries)\n",
      "<ipython-input-4-a8e913950d63>:7: InterpolationWarning: The test statistic is outside of the range of p-values available in the\n",
      "look-up table. The actual p-value is smaller than the p-value returned.\n",
      "\n",
      "  result = kpss(timeseries)\n",
      "<ipython-input-4-a8e913950d63>:7: InterpolationWarning: The test statistic is outside of the range of p-values available in the\n",
      "look-up table. The actual p-value is smaller than the p-value returned.\n",
      "\n",
      "  result = kpss(timeseries)\n",
      "<ipython-input-4-a8e913950d63>:7: InterpolationWarning: The test statistic is outside of the range of p-values available in the\n",
      "look-up table. The actual p-value is smaller than the p-value returned.\n",
      "\n",
      "  result = kpss(timeseries)\n",
      "<ipython-input-4-a8e913950d63>:7: InterpolationWarning: The test statistic is outside of the range of p-values available in the\n",
      "look-up table. The actual p-value is smaller than the p-value returned.\n",
      "\n",
      "  result = kpss(timeseries)\n",
      "<ipython-input-4-a8e913950d63>:7: InterpolationWarning: The test statistic is outside of the range of p-values available in the\n",
      "look-up table. The actual p-value is smaller than the p-value returned.\n",
      "\n",
      "  result = kpss(timeseries)\n",
      "<ipython-input-4-a8e913950d63>:7: InterpolationWarning: The test statistic is outside of the range of p-values available in the\n",
      "look-up table. The actual p-value is smaller than the p-value returned.\n",
      "\n",
      "  result = kpss(timeseries)\n",
      "<ipython-input-4-a8e913950d63>:7: InterpolationWarning: The test statistic is outside of the range of p-values available in the\n",
      "look-up table. The actual p-value is smaller than the p-value returned.\n",
      "\n",
      "  result = kpss(timeseries)\n",
      "<ipython-input-4-a8e913950d63>:7: InterpolationWarning: The test statistic is outside of the range of p-values available in the\n",
      "look-up table. The actual p-value is smaller than the p-value returned.\n",
      "\n",
      "  result = kpss(timeseries)\n",
      "<ipython-input-4-a8e913950d63>:7: InterpolationWarning: The test statistic is outside of the range of p-values available in the\n",
      "look-up table. The actual p-value is smaller than the p-value returned.\n",
      "\n",
      "  result = kpss(timeseries)\n",
      "<ipython-input-4-a8e913950d63>:7: InterpolationWarning: The test statistic is outside of the range of p-values available in the\n",
      "look-up table. The actual p-value is smaller than the p-value returned.\n",
      "\n",
      "  result = kpss(timeseries)\n",
      "<ipython-input-4-a8e913950d63>:7: InterpolationWarning: The test statistic is outside of the range of p-values available in the\n",
      "look-up table. The actual p-value is smaller than the p-value returned.\n",
      "\n",
      "  result = kpss(timeseries)\n",
      "<ipython-input-4-a8e913950d63>:7: InterpolationWarning: The test statistic is outside of the range of p-values available in the\n",
      "look-up table. The actual p-value is smaller than the p-value returned.\n",
      "\n",
      "  result = kpss(timeseries)\n",
      "<ipython-input-4-a8e913950d63>:7: InterpolationWarning: The test statistic is outside of the range of p-values available in the\n",
      "look-up table. The actual p-value is smaller than the p-value returned.\n",
      "\n",
      "  result = kpss(timeseries)\n",
      "<ipython-input-4-a8e913950d63>:7: InterpolationWarning: The test statistic is outside of the range of p-values available in the\n",
      "look-up table. The actual p-value is smaller than the p-value returned.\n",
      "\n",
      "  result = kpss(timeseries)\n",
      "<ipython-input-4-a8e913950d63>:7: InterpolationWarning: The test statistic is outside of the range of p-values available in the\n",
      "look-up table. The actual p-value is smaller than the p-value returned.\n",
      "\n",
      "  result = kpss(timeseries)\n",
      "<ipython-input-4-a8e913950d63>:7: InterpolationWarning: The test statistic is outside of the range of p-values available in the\n",
      "look-up table. The actual p-value is smaller than the p-value returned.\n",
      "\n",
      "  result = kpss(timeseries)\n",
      "<ipython-input-4-a8e913950d63>:7: InterpolationWarning: The test statistic is outside of the range of p-values available in the\n",
      "look-up table. The actual p-value is smaller than the p-value returned.\n",
      "\n",
      "  result = kpss(timeseries)\n",
      "<ipython-input-4-a8e913950d63>:7: InterpolationWarning: The test statistic is outside of the range of p-values available in the\n",
      "look-up table. The actual p-value is smaller than the p-value returned.\n",
      "\n",
      "  result = kpss(timeseries)\n",
      "<ipython-input-4-a8e913950d63>:7: InterpolationWarning: The test statistic is outside of the range of p-values available in the\n",
      "look-up table. The actual p-value is smaller than the p-value returned.\n",
      "\n",
      "  result = kpss(timeseries)\n",
      "<ipython-input-4-a8e913950d63>:7: InterpolationWarning: The test statistic is outside of the range of p-values available in the\n",
      "look-up table. The actual p-value is smaller than the p-value returned.\n",
      "\n",
      "  result = kpss(timeseries)\n",
      "<ipython-input-4-a8e913950d63>:7: InterpolationWarning: The test statistic is outside of the range of p-values available in the\n",
      "look-up table. The actual p-value is smaller than the p-value returned.\n",
      "\n",
      "  result = kpss(timeseries)\n",
      "<ipython-input-4-a8e913950d63>:7: InterpolationWarning: The test statistic is outside of the range of p-values available in the\n",
      "look-up table. The actual p-value is smaller than the p-value returned.\n",
      "\n",
      "  result = kpss(timeseries)\n",
      "<ipython-input-4-a8e913950d63>:7: InterpolationWarning: The test statistic is outside of the range of p-values available in the\n",
      "look-up table. The actual p-value is smaller than the p-value returned.\n",
      "\n",
      "  result = kpss(timeseries)\n",
      "<ipython-input-4-a8e913950d63>:7: InterpolationWarning: The test statistic is outside of the range of p-values available in the\n",
      "look-up table. The actual p-value is smaller than the p-value returned.\n",
      "\n",
      "  result = kpss(timeseries)\n",
      "<ipython-input-4-a8e913950d63>:7: InterpolationWarning: The test statistic is outside of the range of p-values available in the\n",
      "look-up table. The actual p-value is smaller than the p-value returned.\n",
      "\n",
      "  result = kpss(timeseries)\n",
      "<ipython-input-4-a8e913950d63>:7: InterpolationWarning: The test statistic is outside of the range of p-values available in the\n",
      "look-up table. The actual p-value is smaller than the p-value returned.\n",
      "\n",
      "  result = kpss(timeseries)\n",
      "<ipython-input-4-a8e913950d63>:7: InterpolationWarning: The test statistic is outside of the range of p-values available in the\n",
      "look-up table. The actual p-value is smaller than the p-value returned.\n",
      "\n",
      "  result = kpss(timeseries)\n",
      "<ipython-input-4-a8e913950d63>:7: InterpolationWarning: The test statistic is outside of the range of p-values available in the\n",
      "look-up table. The actual p-value is smaller than the p-value returned.\n",
      "\n",
      "  result = kpss(timeseries)\n",
      "<ipython-input-4-a8e913950d63>:7: InterpolationWarning: The test statistic is outside of the range of p-values available in the\n",
      "look-up table. The actual p-value is smaller than the p-value returned.\n",
      "\n",
      "  result = kpss(timeseries)\n",
      "<ipython-input-4-a8e913950d63>:7: InterpolationWarning: The test statistic is outside of the range of p-values available in the\n",
      "look-up table. The actual p-value is smaller than the p-value returned.\n",
      "\n",
      "  result = kpss(timeseries)\n",
      "<ipython-input-4-a8e913950d63>:7: InterpolationWarning: The test statistic is outside of the range of p-values available in the\n",
      "look-up table. The actual p-value is smaller than the p-value returned.\n",
      "\n",
      "  result = kpss(timeseries)\n",
      "<ipython-input-4-a8e913950d63>:7: InterpolationWarning: The test statistic is outside of the range of p-values available in the\n",
      "look-up table. The actual p-value is smaller than the p-value returned.\n",
      "\n",
      "  result = kpss(timeseries)\n",
      "<ipython-input-4-a8e913950d63>:7: InterpolationWarning: The test statistic is outside of the range of p-values available in the\n",
      "look-up table. The actual p-value is smaller than the p-value returned.\n",
      "\n",
      "  result = kpss(timeseries)\n",
      "<ipython-input-4-a8e913950d63>:7: InterpolationWarning: The test statistic is outside of the range of p-values available in the\n",
      "look-up table. The actual p-value is smaller than the p-value returned.\n",
      "\n",
      "  result = kpss(timeseries)\n",
      "<ipython-input-4-a8e913950d63>:7: InterpolationWarning: The test statistic is outside of the range of p-values available in the\n",
      "look-up table. The actual p-value is smaller than the p-value returned.\n",
      "\n",
      "  result = kpss(timeseries)\n",
      "<ipython-input-4-a8e913950d63>:7: InterpolationWarning: The test statistic is outside of the range of p-values available in the\n",
      "look-up table. The actual p-value is smaller than the p-value returned.\n",
      "\n",
      "  result = kpss(timeseries)\n",
      "<ipython-input-4-a8e913950d63>:7: InterpolationWarning: The test statistic is outside of the range of p-values available in the\n",
      "look-up table. The actual p-value is smaller than the p-value returned.\n",
      "\n",
      "  result = kpss(timeseries)\n",
      "<ipython-input-4-a8e913950d63>:7: InterpolationWarning: The test statistic is outside of the range of p-values available in the\n",
      "look-up table. The actual p-value is smaller than the p-value returned.\n",
      "\n",
      "  result = kpss(timeseries)\n",
      "<ipython-input-4-a8e913950d63>:7: InterpolationWarning: The test statistic is outside of the range of p-values available in the\n",
      "look-up table. The actual p-value is smaller than the p-value returned.\n",
      "\n",
      "  result = kpss(timeseries)\n",
      "<ipython-input-4-a8e913950d63>:7: InterpolationWarning: The test statistic is outside of the range of p-values available in the\n",
      "look-up table. The actual p-value is smaller than the p-value returned.\n",
      "\n",
      "  result = kpss(timeseries)\n",
      "<ipython-input-4-a8e913950d63>:7: InterpolationWarning: The test statistic is outside of the range of p-values available in the\n",
      "look-up table. The actual p-value is smaller than the p-value returned.\n",
      "\n",
      "  result = kpss(timeseries)\n",
      "<ipython-input-4-a8e913950d63>:7: InterpolationWarning: The test statistic is outside of the range of p-values available in the\n",
      "look-up table. The actual p-value is smaller than the p-value returned.\n",
      "\n",
      "  result = kpss(timeseries)\n",
      "<ipython-input-4-a8e913950d63>:7: InterpolationWarning: The test statistic is outside of the range of p-values available in the\n",
      "look-up table. The actual p-value is smaller than the p-value returned.\n",
      "\n",
      "  result = kpss(timeseries)\n",
      "<ipython-input-4-a8e913950d63>:7: InterpolationWarning: The test statistic is outside of the range of p-values available in the\n",
      "look-up table. The actual p-value is smaller than the p-value returned.\n",
      "\n",
      "  result = kpss(timeseries)\n",
      "<ipython-input-4-a8e913950d63>:7: InterpolationWarning: The test statistic is outside of the range of p-values available in the\n",
      "look-up table. The actual p-value is smaller than the p-value returned.\n",
      "\n",
      "  result = kpss(timeseries)\n",
      "<ipython-input-4-a8e913950d63>:7: InterpolationWarning: The test statistic is outside of the range of p-values available in the\n",
      "look-up table. The actual p-value is smaller than the p-value returned.\n",
      "\n",
      "  result = kpss(timeseries)\n",
      "<ipython-input-4-a8e913950d63>:7: InterpolationWarning: The test statistic is outside of the range of p-values available in the\n",
      "look-up table. The actual p-value is smaller than the p-value returned.\n",
      "\n",
      "  result = kpss(timeseries)\n",
      "<ipython-input-4-a8e913950d63>:7: InterpolationWarning: The test statistic is outside of the range of p-values available in the\n",
      "look-up table. The actual p-value is smaller than the p-value returned.\n",
      "\n",
      "  result = kpss(timeseries)\n",
      "<ipython-input-4-a8e913950d63>:7: InterpolationWarning: The test statistic is outside of the range of p-values available in the\n",
      "look-up table. The actual p-value is smaller than the p-value returned.\n",
      "\n",
      "  result = kpss(timeseries)\n",
      "<ipython-input-4-a8e913950d63>:7: InterpolationWarning: The test statistic is outside of the range of p-values available in the\n",
      "look-up table. The actual p-value is smaller than the p-value returned.\n",
      "\n",
      "  result = kpss(timeseries)\n",
      "<ipython-input-4-a8e913950d63>:7: InterpolationWarning: The test statistic is outside of the range of p-values available in the\n",
      "look-up table. The actual p-value is smaller than the p-value returned.\n",
      "\n",
      "  result = kpss(timeseries)\n",
      "<ipython-input-4-a8e913950d63>:7: InterpolationWarning: The test statistic is outside of the range of p-values available in the\n",
      "look-up table. The actual p-value is smaller than the p-value returned.\n",
      "\n",
      "  result = kpss(timeseries)\n",
      "<ipython-input-4-a8e913950d63>:7: InterpolationWarning: The test statistic is outside of the range of p-values available in the\n",
      "look-up table. The actual p-value is smaller than the p-value returned.\n",
      "\n",
      "  result = kpss(timeseries)\n",
      "<ipython-input-4-a8e913950d63>:7: InterpolationWarning: The test statistic is outside of the range of p-values available in the\n",
      "look-up table. The actual p-value is smaller than the p-value returned.\n",
      "\n",
      "  result = kpss(timeseries)\n",
      "<ipython-input-4-a8e913950d63>:7: InterpolationWarning: The test statistic is outside of the range of p-values available in the\n",
      "look-up table. The actual p-value is smaller than the p-value returned.\n",
      "\n",
      "  result = kpss(timeseries)\n",
      "<ipython-input-4-a8e913950d63>:7: InterpolationWarning: The test statistic is outside of the range of p-values available in the\n",
      "look-up table. The actual p-value is smaller than the p-value returned.\n",
      "\n",
      "  result = kpss(timeseries)\n",
      "<ipython-input-4-a8e913950d63>:7: InterpolationWarning: The test statistic is outside of the range of p-values available in the\n",
      "look-up table. The actual p-value is smaller than the p-value returned.\n",
      "\n",
      "  result = kpss(timeseries)\n",
      "<ipython-input-4-a8e913950d63>:7: InterpolationWarning: The test statistic is outside of the range of p-values available in the\n",
      "look-up table. The actual p-value is smaller than the p-value returned.\n",
      "\n",
      "  result = kpss(timeseries)\n",
      "<ipython-input-4-a8e913950d63>:7: InterpolationWarning: The test statistic is outside of the range of p-values available in the\n",
      "look-up table. The actual p-value is smaller than the p-value returned.\n",
      "\n",
      "  result = kpss(timeseries)\n",
      "<ipython-input-4-a8e913950d63>:7: InterpolationWarning: The test statistic is outside of the range of p-values available in the\n",
      "look-up table. The actual p-value is smaller than the p-value returned.\n",
      "\n",
      "  result = kpss(timeseries)\n",
      "<ipython-input-4-a8e913950d63>:7: InterpolationWarning: The test statistic is outside of the range of p-values available in the\n",
      "look-up table. The actual p-value is smaller than the p-value returned.\n",
      "\n",
      "  result = kpss(timeseries)\n",
      "<ipython-input-4-a8e913950d63>:7: InterpolationWarning: The test statistic is outside of the range of p-values available in the\n",
      "look-up table. The actual p-value is smaller than the p-value returned.\n",
      "\n",
      "  result = kpss(timeseries)\n",
      "<ipython-input-4-a8e913950d63>:7: InterpolationWarning: The test statistic is outside of the range of p-values available in the\n",
      "look-up table. The actual p-value is smaller than the p-value returned.\n",
      "\n",
      "  result = kpss(timeseries)\n",
      "<ipython-input-4-a8e913950d63>:7: InterpolationWarning: The test statistic is outside of the range of p-values available in the\n",
      "look-up table. The actual p-value is smaller than the p-value returned.\n",
      "\n",
      "  result = kpss(timeseries)\n",
      "<ipython-input-4-a8e913950d63>:7: InterpolationWarning: The test statistic is outside of the range of p-values available in the\n",
      "look-up table. The actual p-value is smaller than the p-value returned.\n",
      "\n",
      "  result = kpss(timeseries)\n",
      "<ipython-input-4-a8e913950d63>:7: InterpolationWarning: The test statistic is outside of the range of p-values available in the\n",
      "look-up table. The actual p-value is smaller than the p-value returned.\n",
      "\n",
      "  result = kpss(timeseries)\n",
      "<ipython-input-4-a8e913950d63>:7: InterpolationWarning: The test statistic is outside of the range of p-values available in the\n",
      "look-up table. The actual p-value is smaller than the p-value returned.\n",
      "\n",
      "  result = kpss(timeseries)\n",
      "<ipython-input-4-a8e913950d63>:7: InterpolationWarning: The test statistic is outside of the range of p-values available in the\n",
      "look-up table. The actual p-value is smaller than the p-value returned.\n",
      "\n",
      "  result = kpss(timeseries)\n",
      "<ipython-input-4-a8e913950d63>:7: InterpolationWarning: The test statistic is outside of the range of p-values available in the\n",
      "look-up table. The actual p-value is smaller than the p-value returned.\n",
      "\n",
      "  result = kpss(timeseries)\n",
      "<ipython-input-4-a8e913950d63>:7: InterpolationWarning: The test statistic is outside of the range of p-values available in the\n",
      "look-up table. The actual p-value is smaller than the p-value returned.\n",
      "\n",
      "  result = kpss(timeseries)\n",
      "<ipython-input-4-a8e913950d63>:7: InterpolationWarning: The test statistic is outside of the range of p-values available in the\n",
      "look-up table. The actual p-value is smaller than the p-value returned.\n",
      "\n",
      "  result = kpss(timeseries)\n",
      "<ipython-input-4-a8e913950d63>:7: InterpolationWarning: The test statistic is outside of the range of p-values available in the\n",
      "look-up table. The actual p-value is smaller than the p-value returned.\n",
      "\n",
      "  result = kpss(timeseries)\n"
     ]
    }
   ],
   "source": [
    "def adf_test(timeseries):\n",
    "    dftest = adfuller(timeseries, autolag='AIC')\n",
    "    result = pd.DataFrame({'Test Statistic': [dftest[0]],'P-value': [dftest[1]],'Lags Used': [dftest[2]],'No of Observations': [dftest[3]]}).round(2)\n",
    "    return result\n",
    "\n",
    "def kpss_test(timeseries):\n",
    "    result = kpss(timeseries)\n",
    "    test_statistic = result[0]\n",
    "    p_value = result[1]\n",
    "    lags_used = result[2]\n",
    "    return pd.DataFrame({\n",
    "        'Test Statistic': [test_statistic],\n",
    "        'P-value': [p_value],\n",
    "        'Lags Used': [lags_used]\n",
    "    }).round(2)\n",
    "\n",
    "df_test_satationary_adf = pd.DataFrame()\n",
    "df_test_stationary_kpss = pd.DataFrame()\n",
    "\n",
    "for id_municipality in df_covid_mobility.CODIGO_MUNICIPIO_7.unique():\n",
    "    df_temp = df_covid_mobility[df_covid_mobility.CODIGO_MUNICIPIO_7==id_municipality]\n",
    "    name_municipality = df_temp.municipality.values[0]\n",
    "    for column in ['PERCENTUAL_VARIACAO_PERMANENCIA_RESIDENCIAS_MEDIA_7_DIAS', 'r0']:\n",
    "        \n",
    "        values = df_temp[column].dropna().values\n",
    "                    \n",
    "        result = adf_test(values)\n",
    "        result['CODIGO_MUNICIPIO_7'] = id_municipality\n",
    "        result['MUNICIPIO'] = name_municipality\n",
    "        result['COLUMN'] = column\n",
    "        df_test_satationary_adf = pd.concat([df_test_satationary_adf, result], ignore_index=True)\n",
    "        \n",
    "        result = kpss_test(values)\n",
    "        result['CODIGO_MUNICIPIO_7'] = id_municipality\n",
    "        result['MUNICIPIO'] = name_municipality\n",
    "        result['COLUMN'] = column\n",
    "        df_test_stationary_kpss = pd.concat([df_test_stationary_kpss, result], ignore_index=True)"
   ],
   "metadata": {
    "collapsed": false,
    "ExecuteTime": {
     "end_time": "2024-03-15T12:00:01.749324Z",
     "start_time": "2024-03-15T11:59:51.514932Z"
    }
   }
  },
  {
   "cell_type": "code",
   "execution_count": 5,
   "outputs": [
    {
     "data": {
      "text/plain": "<Figure size 432x288 with 1 Axes>",
      "image/png": "[encoded data removed]"
     },
     "metadata": {
      "needs_background": "light"
     },
     "output_type": "display_data"
    },
    {
     "data": {
      "text/plain": "<Figure size 432x288 with 1 Axes>",
      "image/png": "[encoded data removed]"
     },
     "metadata": {
      "needs_background": "light"
     },
     "output_type": "display_data"
    }
   ],
   "source": [
    "plt.boxplot(df_test_satationary_adf[df_test_satationary_adf.COLUMN == 'PERCENTUAL_VARIACAO_PERMANENCIA_RESIDENCIAS_MEDIA_7_DIAS']['P-value'])\n",
    "plt.show()\n",
    "plt.boxplot(df_test_satationary_adf[df_test_satationary_adf.COLUMN == 'r0']['P-value'])\n",
    "plt.show()"
   ],
   "metadata": {
    "collapsed": false,
    "ExecuteTime": {
     "end_time": "2024-03-15T12:00:02.111236Z",
     "start_time": "2024-03-15T12:00:01.765566Z"
    }
   }
  },
  {
   "cell_type": "code",
   "execution_count": 6,
   "outputs": [
    {
     "data": {
      "text/plain": "<Figure size 432x288 with 1 Axes>",
      "image/png": "[encoded data removed]"
     },
     "metadata": {
      "needs_background": "light"
     },
     "output_type": "display_data"
    },
    {
     "data": {
      "text/plain": "<Figure size 432x288 with 1 Axes>",
      "image/png": "[encoded data removed]"
     },
     "metadata": {
      "needs_background": "light"
     },
     "output_type": "display_data"
    }
   ],
   "source": [
    "plt.boxplot(df_test_stationary_kpss[df_test_stationary_kpss.COLUMN == 'PERCENTUAL_VARIACAO_PERMANENCIA_RESIDENCIAS_MEDIA_7_DIAS']['P-value'])\n",
    "plt.show()\n",
    "plt.boxplot(df_test_stationary_kpss[df_test_stationary_kpss.COLUMN == 'r0']['P-value'])\n",
    "plt.show()"
   ],
   "metadata": {
    "collapsed": false,
    "ExecuteTime": {
     "end_time": "2024-03-15T12:00:02.402504Z",
     "start_time": "2024-03-15T12:00:02.112994Z"
    }
   }
  },
  {
   "cell_type": "code",
   "execution_count": 7,
   "outputs": [
    {
     "name": "stdout",
     "output_type": "stream",
     "text": [
      "count    41.000000\n",
      "mean      0.202927\n",
      "std       0.123940\n",
      "min       0.010000\n",
      "25%       0.100000\n",
      "50%       0.180000\n",
      "75%       0.280000\n",
      "max       0.540000\n",
      "Name: P-value, dtype: float64\n",
      "count    41.000000\n",
      "mean      0.501951\n",
      "std       0.304436\n",
      "min       0.010000\n",
      "25%       0.250000\n",
      "50%       0.520000\n",
      "75%       0.780000\n",
      "max       0.990000\n",
      "Name: P-value, dtype: float64\n"
     ]
    }
   ],
   "source": [
    "print(df_test_satationary_adf[df_test_satationary_adf.COLUMN == 'PERCENTUAL_VARIACAO_PERMANENCIA_RESIDENCIAS_MEDIA_7_DIAS']['P-value'].describe())\n",
    "print(df_test_satationary_adf[df_test_satationary_adf.COLUMN == 'r0']['P-value'].describe())"
   ],
   "metadata": {
    "collapsed": false,
    "ExecuteTime": {
     "end_time": "2024-03-15T12:00:02.423047Z",
     "start_time": "2024-03-15T12:00:02.404364Z"
    }
   }
  },
  {
   "cell_type": "code",
   "execution_count": 8,
   "outputs": [
    {
     "data": {
      "text/plain": "    Test Statistic  P-value  Lags Used  No of Observations  \\\n1            -1.52     0.52          8                1003   \n3            -3.33     0.01         13                1015   \n5            -0.57     0.88          9                1028   \n7            -2.98     0.04          8                1036   \n9            -0.21     0.94         11                1024   \n11           -0.57     0.88         10                1017   \n13           -1.24     0.66          6                1030   \n15           -1.94     0.31          8                1031   \n17           -1.48     0.54         11                1030   \n19           -0.93     0.78          8                1027   \n21           -1.59     0.49         12                1035   \n23           -1.68     0.44         14                1034   \n25           -2.28     0.18         14                1015   \n27            0.27     0.98         21                1022   \n29           -0.25     0.93          8                1020   \n31           -0.29     0.93         13                1032   \n33           -2.08     0.25         13                1024   \n35           -2.04     0.27          8                1013   \n37           -1.30     0.63         12                1032   \n39           -0.79     0.82          7                1021   \n41           -1.41     0.58          7                1027   \n43           -2.24     0.19          6                1043   \n45           -1.51     0.53          8                1018   \n47           -1.90     0.33         18                1017   \n49           -2.66     0.08         10                1032   \n51           -2.11     0.24          9                1024   \n53           -2.01     0.28         14                1014   \n55           -2.77     0.06         13                1027   \n57           -1.61     0.48          9                1020   \n59           -1.12     0.71         12                1034   \n61           -2.10     0.24          7                1032   \n63           -0.80     0.82          4                1022   \n65           -2.08     0.25          8                1027   \n67           -1.46     0.55         13                1007   \n69           -1.21     0.67          9                1021   \n71           -2.04     0.27         22                1025   \n73            0.50     0.99         11                1020   \n75           -2.33     0.16         11                1025   \n77           -0.03     0.96          7                1028   \n79           -2.46     0.13         21                1010   \n81           -1.42     0.58          4                1032   \n\n    CODIGO_MUNICIPIO_7                MUNICIPIO COLUMN  \n1              5201405     Aparecida de Goiânia     r0  \n3              2800308                  Aracaju     r0  \n5              3106200           Belo Horizonte     r0  \n7              1501402                    Belém     r0  \n9              5300108                 Brasília     r0  \n11             3509502                 Campinas     r0  \n13             5002704             Campo Grande     r0  \n15             3118601                 Contagem     r0  \n17             5103403                   Cuiabá     r0  \n19             4106902                 Curitiba     r0  \n21             3301702          Duque de Caxias     r0  \n23             2910800         Feira de Santana     r0  \n25             4205407            Florianópolis     r0  \n27             2304400                Fortaleza     r0  \n29             5208707                  Goiânia     r0  \n31             3518800                Guarulhos     r0  \n33             2607901  Jaboatão dos Guararapes     r0  \n35             4209102                Joinville     r0  \n37             2507507              João Pessoa     r0  \n39             3136702             Juiz de Fora     r0  \n41             4113700                 Londrina     r0  \n43             2704302                   Maceió     r0  \n45             1302603                   Manaus     r0  \n47             2408102                    Natal     r0  \n49             3303500              Nova Iguaçu     r0  \n51             3534401                   Osasco     r0  \n53             4314902             Porto Alegre     r0  \n55             2611606                   Recife     r0  \n57             3543402           Ribeirão Preto     r0  \n59             3304557           Rio de Janeiro     r0  \n61             2927408                 Salvador     r0  \n63             3547809              Santo André     r0  \n65             3205002                    Serra     r0  \n67             3552205                 Sorocaba     r0  \n69             3548708    São Bernardo do Campo     r0  \n71             3304904              São Gonçalo     r0  \n73             3549904      São José dos Campos     r0  \n75             2111300                 São Luís     r0  \n77             3550308                São Paulo     r0  \n79             2211001                 Teresina     r0  \n81             3170206               Uberlândia     r0  ",
      "text/html": "<div>\n<style scoped>\n    .dataframe tbody tr th:only-of-type {\n        vertical-align: middle;\n    }\n\n    .dataframe tbody tr th {\n        vertical-align: top;\n    }\n\n    .dataframe thead th {\n        text-align: right;\n    }\n</style>\n<table border=\"1\" class=\"dataframe\">\n  <thead>\n    <tr style=\"text-align: right;\">\n      <th></th>\n      <th>Test Statistic</th>\n      <th>P-value</th>\n      <th>Lags Used</th>\n      <th>No of Observations</th>\n      <th>CODIGO_MUNICIPIO_7</th>\n      <th>MUNICIPIO</th>\n      <th>COLUMN</th>\n    </tr>\n  </thead>\n  <tbody>\n    <tr>\n      <th>1</th>\n      <td>-1.52</td>\n      <td>0.52</td>\n      <td>8</td>\n      <td>1003</td>\n      <td>5201405</td>\n      <td>Aparecida de Goiânia</td>\n      <td>r0</td>\n    </tr>\n    <tr>\n      <th>3</th>\n      <td>-3.33</td>\n      <td>0.01</td>\n      <td>13</td>\n      <td>1015</td>\n      <td>2800308</td>\n      <td>Aracaju</td>\n      <td>r0</td>\n    </tr>\n    <tr>\n      <th>5</th>\n      <td>-0.57</td>\n      <td>0.88</td>\n      <td>9</td>\n      <td>1028</td>\n      <td>3106200</td>\n      <td>Belo Horizonte</td>\n      <td>r0</td>\n    </tr>\n    <tr>\n      <th>7</th>\n      <td>-2.98</td>\n      <td>0.04</td>\n      <td>8</td>\n      <td>1036</td>\n      <td>1501402</td>\n      <td>Belém</td>\n      <td>r0</td>\n    </tr>\n    <tr>\n      <th>9</th>\n      <td>-0.21</td>\n      <td>0.94</td>\n      <td>11</td>\n      <td>1024</td>\n      <td>5300108</td>\n      <td>Brasília</td>\n      <td>r0</td>\n    </tr>\n    <tr>\n      <th>11</th>\n      <td>-0.57</td>\n      <td>0.88</td>\n      <td>10</td>\n      <td>1017</td>\n      <td>3509502</td>\n      <td>Campinas</td>\n      <td>r0</td>\n    </tr>\n    <tr>\n      <th>13</th>\n      <td>-1.24</td>\n      <td>0.66</td>\n      <td>6</td>\n      <td>1030</td>\n      <td>5002704</td>\n      <td>Campo Grande</td>\n      <td>r0</td>\n    </tr>\n    <tr>\n      <th>15</th>\n      <td>-1.94</td>\n      <td>0.31</td>\n      <td>8</td>\n      <td>1031</td>\n      <td>3118601</td>\n      <td>Contagem</td>\n      <td>r0</td>\n    </tr>\n    <tr>\n      <th>17</th>\n      <td>-1.48</td>\n      <td>0.54</td>\n      <td>11</td>\n      <td>1030</td>\n      <td>5103403</td>\n      <td>Cuiabá</td>\n      <td>r0</td>\n    </tr>\n    <tr>\n      <th>19</th>\n      <td>-0.93</td>\n      <td>0.78</td>\n      <td>8</td>\n      <td>1027</td>\n      <td>4106902</td>\n      <td>Curitiba</td>\n      <td>r0</td>\n    </tr>\n    <tr>\n      <th>21</th>\n      <td>-1.59</td>\n      <td>0.49</td>\n      <td>12</td>\n      <td>1035</td>\n      <td>3301702</td>\n      <td>Duque de Caxias</td>\n      <td>r0</td>\n    </tr>\n    <tr>\n      <th>23</th>\n      <td>-1.68</td>\n      <td>0.44</td>\n      <td>14</td>\n      <td>1034</td>\n      <td>2910800</td>\n      <td>Feira de Santana</td>\n      <td>r0</td>\n    </tr>\n    <tr>\n      <th>25</th>\n      <td>-2.28</td>\n      <td>0.18</td>\n      <td>14</td>\n      <td>1015</td>\n      <td>4205407</td>\n      <td>Florianópolis</td>\n      <td>r0</td>\n    </tr>\n    <tr>\n      <th>27</th>\n      <td>0.27</td>\n      <td>0.98</td>\n      <td>21</td>\n      <td>1022</td>\n      <td>2304400</td>\n      <td>Fortaleza</td>\n      <td>r0</td>\n    </tr>\n    <tr>\n      <th>29</th>\n      <td>-0.25</td>\n      <td>0.93</td>\n      <td>8</td>\n      <td>1020</td>\n      <td>5208707</td>\n      <td>Goiânia</td>\n      <td>r0</td>\n    </tr>\n    <tr>\n      <th>31</th>\n      <td>-0.29</td>\n      <td>0.93</td>\n      <td>13</td>\n      <td>1032</td>\n      <td>3518800</td>\n      <td>Guarulhos</td>\n      <td>r0</td>\n    </tr>\n    <tr>\n      <th>33</th>\n      <td>-2.08</td>\n      <td>0.25</td>\n      <td>13</td>\n      <td>1024</td>\n      <td>2607901</td>\n      <td>Jaboatão dos Guararapes</td>\n      <td>r0</td>\n    </tr>\n    <tr>\n      <th>35</th>\n      <td>-2.04</td>\n      <td>0.27</td>\n      <td>8</td>\n      <td>1013</td>\n      <td>4209102</td>\n      <td>Joinville</td>\n      <td>r0</td>\n    </tr>\n    <tr>\n      <th>37</th>\n      <td>-1.30</td>\n      <td>0.63</td>\n      <td>12</td>\n      <td>1032</td>\n      <td>2507507</td>\n      <td>João Pessoa</td>\n      <td>r0</td>\n    </tr>\n    <tr>\n      <th>39</th>\n      <td>-0.79</td>\n      <td>0.82</td>\n      <td>7</td>\n      <td>1021</td>\n      <td>3136702</td>\n      <td>Juiz de Fora</td>\n      <td>r0</td>\n    </tr>\n    <tr>\n      <th>41</th>\n      <td>-1.41</td>\n      <td>0.58</td>\n      <td>7</td>\n      <td>1027</td>\n      <td>4113700</td>\n      <td>Londrina</td>\n      <td>r0</td>\n    </tr>\n    <tr>\n      <th>43</th>\n      <td>-2.24</td>\n      <td>0.19</td>\n      <td>6</td>\n      <td>1043</td>\n      <td>2704302</td>\n      <td>Maceió</td>\n      <td>r0</td>\n    </tr>\n    <tr>\n      <th>45</th>\n      <td>-1.51</td>\n      <td>0.53</td>\n      <td>8</td>\n      <td>1018</td>\n      <td>1302603</td>\n      <td>Manaus</td>\n      <td>r0</td>\n    </tr>\n    <tr>\n      <th>47</th>\n      <td>-1.90</td>\n      <td>0.33</td>\n      <td>18</td>\n      <td>1017</td>\n      <td>2408102</td>\n      <td>Natal</td>\n      <td>r0</td>\n    </tr>\n    <tr>\n      <th>49</th>\n      <td>-2.66</td>\n      <td>0.08</td>\n      <td>10</td>\n      <td>1032</td>\n      <td>3303500</td>\n      <td>Nova Iguaçu</td>\n      <td>r0</td>\n    </tr>\n    <tr>\n      <th>51</th>\n      <td>-2.11</td>\n      <td>0.24</td>\n      <td>9</td>\n      <td>1024</td>\n      <td>3534401</td>\n      <td>Osasco</td>\n      <td>r0</td>\n    </tr>\n    <tr>\n      <th>53</th>\n      <td>-2.01</td>\n      <td>0.28</td>\n      <td>14</td>\n      <td>1014</td>\n      <td>4314902</td>\n      <td>Porto Alegre</td>\n      <td>r0</td>\n    </tr>\n    <tr>\n      <th>55</th>\n      <td>-2.77</td>\n      <td>0.06</td>\n      <td>13</td>\n      <td>1027</td>\n      <td>2611606</td>\n      <td>Recife</td>\n      <td>r0</td>\n    </tr>\n    <tr>\n      <th>57</th>\n      <td>-1.61</td>\n      <td>0.48</td>\n      <td>9</td>\n      <td>1020</td>\n      <td>3543402</td>\n      <td>Ribeirão Preto</td>\n      <td>r0</td>\n    </tr>\n    <tr>\n      <th>59</th>\n      <td>-1.12</td>\n      <td>0.71</td>\n      <td>12</td>\n      <td>1034</td>\n      <td>3304557</td>\n      <td>Rio de Janeiro</td>\n      <td>r0</td>\n    </tr>\n    <tr>\n      <th>61</th>\n      <td>-2.10</td>\n      <td>0.24</td>\n      <td>7</td>\n      <td>1032</td>\n      <td>2927408</td>\n      <td>Salvador</td>\n      <td>r0</td>\n    </tr>\n    <tr>\n      <th>63</th>\n      <td>-0.80</td>\n      <td>0.82</td>\n      <td>4</td>\n      <td>1022</td>\n      <td>3547809</td>\n      <td>Santo André</td>\n      <td>r0</td>\n    </tr>\n    <tr>\n      <th>65</th>\n      <td>-2.08</td>\n      <td>0.25</td>\n      <td>8</td>\n      <td>1027</td>\n      <td>3205002</td>\n      <td>Serra</td>\n      <td>r0</td>\n    </tr>\n    <tr>\n      <th>67</th>\n      <td>-1.46</td>\n      <td>0.55</td>\n      <td>13</td>\n      <td>1007</td>\n      <td>3552205</td>\n      <td>Sorocaba</td>\n      <td>r0</td>\n    </tr>\n    <tr>\n      <th>69</th>\n      <td>-1.21</td>\n      <td>0.67</td>\n      <td>9</td>\n      <td>1021</td>\n      <td>3548708</td>\n      <td>São Bernardo do Campo</td>\n      <td>r0</td>\n    </tr>\n    <tr>\n      <th>71</th>\n      <td>-2.04</td>\n      <td>0.27</td>\n      <td>22</td>\n      <td>1025</td>\n      <td>3304904</td>\n      <td>São Gonçalo</td>\n      <td>r0</td>\n    </tr>\n    <tr>\n      <th>73</th>\n      <td>0.50</td>\n      <td>0.99</td>\n      <td>11</td>\n      <td>1020</td>\n      <td>3549904</td>\n      <td>São José dos Campos</td>\n      <td>r0</td>\n    </tr>\n    <tr>\n      <th>75</th>\n      <td>-2.33</td>\n      <td>0.16</td>\n      <td>11</td>\n      <td>1025</td>\n      <td>2111300</td>\n      <td>São Luís</td>\n      <td>r0</td>\n    </tr>\n    <tr>\n      <th>77</th>\n      <td>-0.03</td>\n      <td>0.96</td>\n      <td>7</td>\n      <td>1028</td>\n      <td>3550308</td>\n      <td>São Paulo</td>\n      <td>r0</td>\n    </tr>\n    <tr>\n      <th>79</th>\n      <td>-2.46</td>\n      <td>0.13</td>\n      <td>21</td>\n      <td>1010</td>\n      <td>2211001</td>\n      <td>Teresina</td>\n      <td>r0</td>\n    </tr>\n    <tr>\n      <th>81</th>\n      <td>-1.42</td>\n      <td>0.58</td>\n      <td>4</td>\n      <td>1032</td>\n      <td>3170206</td>\n      <td>Uberlândia</td>\n      <td>r0</td>\n    </tr>\n  </tbody>\n</table>\n</div>"
     },
     "execution_count": 8,
     "metadata": {},
     "output_type": "execute_result"
    }
   ],
   "source": [
    "df_test_satationary_adf[df_test_satationary_adf.COLUMN == 'r0']"
   ],
   "metadata": {
    "collapsed": false,
    "ExecuteTime": {
     "end_time": "2024-03-15T12:00:02.460901Z",
     "start_time": "2024-03-15T12:00:02.425484Z"
    }
   }
  },
  {
   "cell_type": "code",
   "execution_count": 9,
   "outputs": [
    {
     "data": {
      "text/plain": "    Test Statistic  P-value  Lags Used  CODIGO_MUNICIPIO_7  \\\n1             3.94     0.01         19             5201405   \n3             0.64     0.02         19             2800308   \n5             4.29     0.01         19             3106200   \n7             1.11     0.01         19             1501402   \n9             4.58     0.01         19             5300108   \n11            4.62     0.01         19             3509502   \n13            4.75     0.01         19             5002704   \n15            2.83     0.01         19             3118601   \n17            2.89     0.01         19             5103403   \n19            2.95     0.01         19             4106902   \n21            2.76     0.01         19             3301702   \n23            0.85     0.01         19             2910800   \n25            1.51     0.01         19             4205407   \n27            4.04     0.01         19             2304400   \n29            4.41     0.01         19             5208707   \n31            4.73     0.01         19             3518800   \n33            2.01     0.01         19             2607901   \n35            3.31     0.01         19             4209102   \n37            3.71     0.01         19             2507507   \n39            4.16     0.01         19             3136702   \n41            3.56     0.01         19             4113700   \n43            1.81     0.01         19             2704302   \n45            2.31     0.01         19             1302603   \n47            2.92     0.01         19             2408102   \n49            1.25     0.01         19             3303500   \n51            1.97     0.01         19             3534401   \n53            2.19     0.01         19             4314902   \n55            0.59     0.02         19             2611606   \n57            3.49     0.01         19             3543402   \n59            4.70     0.01         19             3304557   \n61            2.52     0.01         19             2927408   \n63            4.74     0.01         19             3547809   \n65            2.41     0.01         19             3205002   \n67            3.84     0.01         19             3552205   \n69            4.68     0.01         19             3548708   \n71            1.39     0.01         19             3304904   \n73            4.48     0.01         19             3549904   \n75            2.45     0.01         19             2111300   \n77            3.62     0.01         19             3550308   \n79            0.68     0.02         19             2211001   \n81            3.93     0.01         19             3170206   \n\n                  MUNICIPIO COLUMN  \n1      Aparecida de Goiânia     r0  \n3                   Aracaju     r0  \n5            Belo Horizonte     r0  \n7                     Belém     r0  \n9                  Brasília     r0  \n11                 Campinas     r0  \n13             Campo Grande     r0  \n15                 Contagem     r0  \n17                   Cuiabá     r0  \n19                 Curitiba     r0  \n21          Duque de Caxias     r0  \n23         Feira de Santana     r0  \n25            Florianópolis     r0  \n27                Fortaleza     r0  \n29                  Goiânia     r0  \n31                Guarulhos     r0  \n33  Jaboatão dos Guararapes     r0  \n35                Joinville     r0  \n37              João Pessoa     r0  \n39             Juiz de Fora     r0  \n41                 Londrina     r0  \n43                   Maceió     r0  \n45                   Manaus     r0  \n47                    Natal     r0  \n49              Nova Iguaçu     r0  \n51                   Osasco     r0  \n53             Porto Alegre     r0  \n55                   Recife     r0  \n57           Ribeirão Preto     r0  \n59           Rio de Janeiro     r0  \n61                 Salvador     r0  \n63              Santo André     r0  \n65                    Serra     r0  \n67                 Sorocaba     r0  \n69    São Bernardo do Campo     r0  \n71              São Gonçalo     r0  \n73      São José dos Campos     r0  \n75                 São Luís     r0  \n77                São Paulo     r0  \n79                 Teresina     r0  \n81               Uberlândia     r0  ",
      "text/html": "<div>\n<style scoped>\n    .dataframe tbody tr th:only-of-type {\n        vertical-align: middle;\n    }\n\n    .dataframe tbody tr th {\n        vertical-align: top;\n    }\n\n    .dataframe thead th {\n        text-align: right;\n    }\n</style>\n<table border=\"1\" class=\"dataframe\">\n  <thead>\n    <tr style=\"text-align: right;\">\n      <th></th>\n      <th>Test Statistic</th>\n      <th>P-value</th>\n      <th>Lags Used</th>\n      <th>CODIGO_MUNICIPIO_7</th>\n      <th>MUNICIPIO</th>\n      <th>COLUMN</th>\n    </tr>\n  </thead>\n  <tbody>\n    <tr>\n      <th>1</th>\n      <td>3.94</td>\n      <td>0.01</td>\n      <td>19</td>\n      <td>5201405</td>\n      <td>Aparecida de Goiânia</td>\n      <td>r0</td>\n    </tr>\n    <tr>\n      <th>3</th>\n      <td>0.64</td>\n      <td>0.02</td>\n      <td>19</td>\n      <td>2800308</td>\n      <td>Aracaju</td>\n      <td>r0</td>\n    </tr>\n    <tr>\n      <th>5</th>\n      <td>4.29</td>\n      <td>0.01</td>\n      <td>19</td>\n      <td>3106200</td>\n      <td>Belo Horizonte</td>\n      <td>r0</td>\n    </tr>\n    <tr>\n      <th>7</th>\n      <td>1.11</td>\n      <td>0.01</td>\n      <td>19</td>\n      <td>1501402</td>\n      <td>Belém</td>\n      <td>r0</td>\n    </tr>\n    <tr>\n      <th>9</th>\n      <td>4.58</td>\n      <td>0.01</td>\n      <td>19</td>\n      <td>5300108</td>\n      <td>Brasília</td>\n      <td>r0</td>\n    </tr>\n    <tr>\n      <th>11</th>\n      <td>4.62</td>\n      <td>0.01</td>\n      <td>19</td>\n      <td>3509502</td>\n      <td>Campinas</td>\n      <td>r0</td>\n    </tr>\n    <tr>\n      <th>13</th>\n      <td>4.75</td>\n      <td>0.01</td>\n      <td>19</td>\n      <td>5002704</td>\n      <td>Campo Grande</td>\n      <td>r0</td>\n    </tr>\n    <tr>\n      <th>15</th>\n      <td>2.83</td>\n      <td>0.01</td>\n      <td>19</td>\n      <td>3118601</td>\n      <td>Contagem</td>\n      <td>r0</td>\n    </tr>\n    <tr>\n      <th>17</th>\n      <td>2.89</td>\n      <td>0.01</td>\n      <td>19</td>\n      <td>5103403</td>\n      <td>Cuiabá</td>\n      <td>r0</td>\n    </tr>\n    <tr>\n      <th>19</th>\n      <td>2.95</td>\n      <td>0.01</td>\n      <td>19</td>\n      <td>4106902</td>\n      <td>Curitiba</td>\n      <td>r0</td>\n    </tr>\n    <tr>\n      <th>21</th>\n      <td>2.76</td>\n      <td>0.01</td>\n      <td>19</td>\n      <td>3301702</td>\n      <td>Duque de Caxias</td>\n      <td>r0</td>\n    </tr>\n    <tr>\n      <th>23</th>\n      <td>0.85</td>\n      <td>0.01</td>\n      <td>19</td>\n      <td>2910800</td>\n      <td>Feira de Santana</td>\n      <td>r0</td>\n    </tr>\n    <tr>\n      <th>25</th>\n      <td>1.51</td>\n      <td>0.01</td>\n      <td>19</td>\n      <td>4205407</td>\n      <td>Florianópolis</td>\n      <td>r0</td>\n    </tr>\n    <tr>\n      <th>27</th>\n      <td>4.04</td>\n      <td>0.01</td>\n      <td>19</td>\n      <td>2304400</td>\n      <td>Fortaleza</td>\n      <td>r0</td>\n    </tr>\n    <tr>\n      <th>29</th>\n      <td>4.41</td>\n      <td>0.01</td>\n      <td>19</td>\n      <td>5208707</td>\n      <td>Goiânia</td>\n      <td>r0</td>\n    </tr>\n    <tr>\n      <th>31</th>\n      <td>4.73</td>\n      <td>0.01</td>\n      <td>19</td>\n      <td>3518800</td>\n      <td>Guarulhos</td>\n      <td>r0</td>\n    </tr>\n    <tr>\n      <th>33</th>\n      <td>2.01</td>\n      <td>0.01</td>\n      <td>19</td>\n      <td>2607901</td>\n      <td>Jaboatão dos Guararapes</td>\n      <td>r0</td>\n    </tr>\n    <tr>\n      <th>35</th>\n      <td>3.31</td>\n      <td>0.01</td>\n      <td>19</td>\n      <td>4209102</td>\n      <td>Joinville</td>\n      <td>r0</td>\n    </tr>\n    <tr>\n      <th>37</th>\n      <td>3.71</td>\n      <td>0.01</td>\n      <td>19</td>\n      <td>2507507</td>\n      <td>João Pessoa</td>\n      <td>r0</td>\n    </tr>\n    <tr>\n      <th>39</th>\n      <td>4.16</td>\n      <td>0.01</td>\n      <td>19</td>\n      <td>3136702</td>\n      <td>Juiz de Fora</td>\n      <td>r0</td>\n    </tr>\n    <tr>\n      <th>41</th>\n      <td>3.56</td>\n      <td>0.01</td>\n      <td>19</td>\n      <td>4113700</td>\n      <td>Londrina</td>\n      <td>r0</td>\n    </tr>\n    <tr>\n      <th>43</th>\n      <td>1.81</td>\n      <td>0.01</td>\n      <td>19</td>\n      <td>2704302</td>\n      <td>Maceió</td>\n      <td>r0</td>\n    </tr>\n    <tr>\n      <th>45</th>\n      <td>2.31</td>\n      <td>0.01</td>\n      <td>19</td>\n      <td>1302603</td>\n      <td>Manaus</td>\n      <td>r0</td>\n    </tr>\n    <tr>\n      <th>47</th>\n      <td>2.92</td>\n      <td>0.01</td>\n      <td>19</td>\n      <td>2408102</td>\n      <td>Natal</td>\n      <td>r0</td>\n    </tr>\n    <tr>\n      <th>49</th>\n      <td>1.25</td>\n      <td>0.01</td>\n      <td>19</td>\n      <td>3303500</td>\n      <td>Nova Iguaçu</td>\n      <td>r0</td>\n    </tr>\n    <tr>\n      <th>51</th>\n      <td>1.97</td>\n      <td>0.01</td>\n      <td>19</td>\n      <td>3534401</td>\n      <td>Osasco</td>\n      <td>r0</td>\n    </tr>\n    <tr>\n      <th>53</th>\n      <td>2.19</td>\n      <td>0.01</td>\n      <td>19</td>\n      <td>4314902</td>\n      <td>Porto Alegre</td>\n      <td>r0</td>\n    </tr>\n    <tr>\n      <th>55</th>\n      <td>0.59</td>\n      <td>0.02</td>\n      <td>19</td>\n      <td>2611606</td>\n      <td>Recife</td>\n      <td>r0</td>\n    </tr>\n    <tr>\n      <th>57</th>\n      <td>3.49</td>\n      <td>0.01</td>\n      <td>19</td>\n      <td>3543402</td>\n      <td>Ribeirão Preto</td>\n      <td>r0</td>\n    </tr>\n    <tr>\n      <th>59</th>\n      <td>4.70</td>\n      <td>0.01</td>\n      <td>19</td>\n      <td>3304557</td>\n      <td>Rio de Janeiro</td>\n      <td>r0</td>\n    </tr>\n    <tr>\n      <th>61</th>\n      <td>2.52</td>\n      <td>0.01</td>\n      <td>19</td>\n      <td>2927408</td>\n      <td>Salvador</td>\n      <td>r0</td>\n    </tr>\n    <tr>\n      <th>63</th>\n      <td>4.74</td>\n      <td>0.01</td>\n      <td>19</td>\n      <td>3547809</td>\n      <td>Santo André</td>\n      <td>r0</td>\n    </tr>\n    <tr>\n      <th>65</th>\n      <td>2.41</td>\n      <td>0.01</td>\n      <td>19</td>\n      <td>3205002</td>\n      <td>Serra</td>\n      <td>r0</td>\n    </tr>\n    <tr>\n      <th>67</th>\n      <td>3.84</td>\n      <td>0.01</td>\n      <td>19</td>\n      <td>3552205</td>\n      <td>Sorocaba</td>\n      <td>r0</td>\n    </tr>\n    <tr>\n      <th>69</th>\n      <td>4.68</td>\n      <td>0.01</td>\n      <td>19</td>\n      <td>3548708</td>\n      <td>São Bernardo do Campo</td>\n      <td>r0</td>\n    </tr>\n    <tr>\n      <th>71</th>\n      <td>1.39</td>\n      <td>0.01</td>\n      <td>19</td>\n      <td>3304904</td>\n      <td>São Gonçalo</td>\n      <td>r0</td>\n    </tr>\n    <tr>\n      <th>73</th>\n      <td>4.48</td>\n      <td>0.01</td>\n      <td>19</td>\n      <td>3549904</td>\n      <td>São José dos Campos</td>\n      <td>r0</td>\n    </tr>\n    <tr>\n      <th>75</th>\n      <td>2.45</td>\n      <td>0.01</td>\n      <td>19</td>\n      <td>2111300</td>\n      <td>São Luís</td>\n      <td>r0</td>\n    </tr>\n    <tr>\n      <th>77</th>\n      <td>3.62</td>\n      <td>0.01</td>\n      <td>19</td>\n      <td>3550308</td>\n      <td>São Paulo</td>\n      <td>r0</td>\n    </tr>\n    <tr>\n      <th>79</th>\n      <td>0.68</td>\n      <td>0.02</td>\n      <td>19</td>\n      <td>2211001</td>\n      <td>Teresina</td>\n      <td>r0</td>\n    </tr>\n    <tr>\n      <th>81</th>\n      <td>3.93</td>\n      <td>0.01</td>\n      <td>19</td>\n      <td>3170206</td>\n      <td>Uberlândia</td>\n      <td>r0</td>\n    </tr>\n  </tbody>\n</table>\n</div>"
     },
     "execution_count": 9,
     "metadata": {},
     "output_type": "execute_result"
    }
   ],
   "source": [
    "df_test_stationary_kpss[df_test_stationary_kpss.COLUMN == 'r0']"
   ],
   "metadata": {
    "collapsed": false,
    "ExecuteTime": {
     "end_time": "2024-03-15T12:00:02.488116Z",
     "start_time": "2024-03-15T12:00:02.465031Z"
    }
   }
  },
  {
   "cell_type": "markdown",
   "source": [
    "## Treat stationarity of timeseries"
   ],
   "metadata": {
    "collapsed": false
   }
  },
  {
   "cell_type": "code",
   "execution_count": 10,
   "outputs": [
    {
     "data": {
      "text/plain": "42472"
     },
     "execution_count": 10,
     "metadata": {},
     "output_type": "execute_result"
    }
   ],
   "source": [
    "len(df_covid_mobility)"
   ],
   "metadata": {
    "collapsed": false,
    "ExecuteTime": {
     "end_time": "2024-03-15T12:00:02.494990Z",
     "start_time": "2024-03-15T12:00:02.490486Z"
    }
   }
  },
  {
   "cell_type": "code",
   "execution_count": 11,
   "outputs": [
    {
     "name": "stderr",
     "output_type": "stream",
     "text": [
      "/home/helder/anaconda3/envs/base-r/lib/python3.9/site-packages/statsmodels/tsa/statespace/sarimax.py:966: UserWarning: Non-stationary starting autoregressive parameters found. Using zeros as starting parameters.\n",
      "  warn('Non-stationary starting autoregressive parameters'\n",
      "/home/helder/anaconda3/envs/base-r/lib/python3.9/site-packages/statsmodels/tsa/statespace/sarimax.py:978: UserWarning: Non-invertible starting MA parameters found. Using zeros as starting parameters.\n",
      "  warn('Non-invertible starting MA parameters found.'\n",
      "/home/helder/anaconda3/envs/base-r/lib/python3.9/site-packages/statsmodels/base/model.py:607: ConvergenceWarning: Maximum Likelihood optimization failed to converge. Check mle_retvals\n",
      "  warnings.warn(\"Maximum Likelihood optimization failed to \"\n",
      "/home/helder/anaconda3/envs/base-r/lib/python3.9/site-packages/statsmodels/tsa/statespace/sarimax.py:978: UserWarning: Non-invertible starting MA parameters found. Using zeros as starting parameters.\n",
      "  warn('Non-invertible starting MA parameters found.'\n",
      "/home/helder/anaconda3/envs/base-r/lib/python3.9/site-packages/statsmodels/base/model.py:607: ConvergenceWarning: Maximum Likelihood optimization failed to converge. Check mle_retvals\n",
      "  warnings.warn(\"Maximum Likelihood optimization failed to \"\n",
      "/home/helder/anaconda3/envs/base-r/lib/python3.9/site-packages/statsmodels/tsa/statespace/sarimax.py:978: UserWarning: Non-invertible starting MA parameters found. Using zeros as starting parameters.\n",
      "  warn('Non-invertible starting MA parameters found.'\n",
      "/home/helder/anaconda3/envs/base-r/lib/python3.9/site-packages/statsmodels/base/model.py:607: ConvergenceWarning: Maximum Likelihood optimization failed to converge. Check mle_retvals\n",
      "  warnings.warn(\"Maximum Likelihood optimization failed to \"\n",
      "/home/helder/anaconda3/envs/base-r/lib/python3.9/site-packages/statsmodels/tsa/statespace/sarimax.py:966: UserWarning: Non-stationary starting autoregressive parameters found. Using zeros as starting parameters.\n",
      "  warn('Non-stationary starting autoregressive parameters'\n",
      "/home/helder/anaconda3/envs/base-r/lib/python3.9/site-packages/statsmodels/tsa/statespace/sarimax.py:978: UserWarning: Non-invertible starting MA parameters found. Using zeros as starting parameters.\n",
      "  warn('Non-invertible starting MA parameters found.'\n",
      "/home/helder/anaconda3/envs/base-r/lib/python3.9/site-packages/statsmodels/base/model.py:607: ConvergenceWarning: Maximum Likelihood optimization failed to converge. Check mle_retvals\n",
      "  warnings.warn(\"Maximum Likelihood optimization failed to \"\n",
      "/home/helder/anaconda3/envs/base-r/lib/python3.9/site-packages/statsmodels/tsa/statespace/sarimax.py:966: UserWarning: Non-stationary starting autoregressive parameters found. Using zeros as starting parameters.\n",
      "  warn('Non-stationary starting autoregressive parameters'\n",
      "/home/helder/anaconda3/envs/base-r/lib/python3.9/site-packages/statsmodels/tsa/statespace/sarimax.py:978: UserWarning: Non-invertible starting MA parameters found. Using zeros as starting parameters.\n",
      "  warn('Non-invertible starting MA parameters found.'\n",
      "/home/helder/anaconda3/envs/base-r/lib/python3.9/site-packages/statsmodels/base/model.py:607: ConvergenceWarning: Maximum Likelihood optimization failed to converge. Check mle_retvals\n",
      "  warnings.warn(\"Maximum Likelihood optimization failed to \"\n",
      "/home/helder/anaconda3/envs/base-r/lib/python3.9/site-packages/statsmodels/base/model.py:607: ConvergenceWarning: Maximum Likelihood optimization failed to converge. Check mle_retvals\n",
      "  warnings.warn(\"Maximum Likelihood optimization failed to \"\n",
      "/home/helder/anaconda3/envs/base-r/lib/python3.9/site-packages/statsmodels/tsa/statespace/sarimax.py:978: UserWarning: Non-invertible starting MA parameters found. Using zeros as starting parameters.\n",
      "  warn('Non-invertible starting MA parameters found.'\n",
      "/home/helder/anaconda3/envs/base-r/lib/python3.9/site-packages/statsmodels/base/model.py:607: ConvergenceWarning: Maximum Likelihood optimization failed to converge. Check mle_retvals\n",
      "  warnings.warn(\"Maximum Likelihood optimization failed to \"\n",
      "/home/helder/anaconda3/envs/base-r/lib/python3.9/site-packages/statsmodels/tsa/statespace/sarimax.py:966: UserWarning: Non-stationary starting autoregressive parameters found. Using zeros as starting parameters.\n",
      "  warn('Non-stationary starting autoregressive parameters'\n",
      "/home/helder/anaconda3/envs/base-r/lib/python3.9/site-packages/statsmodels/tsa/statespace/sarimax.py:978: UserWarning: Non-invertible starting MA parameters found. Using zeros as starting parameters.\n",
      "  warn('Non-invertible starting MA parameters found.'\n",
      "/home/helder/anaconda3/envs/base-r/lib/python3.9/site-packages/statsmodels/base/model.py:607: ConvergenceWarning: Maximum Likelihood optimization failed to converge. Check mle_retvals\n",
      "  warnings.warn(\"Maximum Likelihood optimization failed to \"\n",
      "/home/helder/anaconda3/envs/base-r/lib/python3.9/site-packages/statsmodels/tsa/statespace/sarimax.py:978: UserWarning: Non-invertible starting MA parameters found. Using zeros as starting parameters.\n",
      "  warn('Non-invertible starting MA parameters found.'\n",
      "/home/helder/anaconda3/envs/base-r/lib/python3.9/site-packages/statsmodels/base/model.py:607: ConvergenceWarning: Maximum Likelihood optimization failed to converge. Check mle_retvals\n",
      "  warnings.warn(\"Maximum Likelihood optimization failed to \"\n",
      "/home/helder/anaconda3/envs/base-r/lib/python3.9/site-packages/statsmodels/tsa/statespace/sarimax.py:966: UserWarning: Non-stationary starting autoregressive parameters found. Using zeros as starting parameters.\n",
      "  warn('Non-stationary starting autoregressive parameters'\n",
      "/home/helder/anaconda3/envs/base-r/lib/python3.9/site-packages/statsmodels/tsa/statespace/sarimax.py:978: UserWarning: Non-invertible starting MA parameters found. Using zeros as starting parameters.\n",
      "  warn('Non-invertible starting MA parameters found.'\n",
      "/home/helder/anaconda3/envs/base-r/lib/python3.9/site-packages/statsmodels/base/model.py:607: ConvergenceWarning: Maximum Likelihood optimization failed to converge. Check mle_retvals\n",
      "  warnings.warn(\"Maximum Likelihood optimization failed to \"\n",
      "/home/helder/anaconda3/envs/base-r/lib/python3.9/site-packages/statsmodels/tsa/statespace/sarimax.py:978: UserWarning: Non-invertible starting MA parameters found. Using zeros as starting parameters.\n",
      "  warn('Non-invertible starting MA parameters found.'\n",
      "/home/helder/anaconda3/envs/base-r/lib/python3.9/site-packages/statsmodels/base/model.py:607: ConvergenceWarning: Maximum Likelihood optimization failed to converge. Check mle_retvals\n",
      "  warnings.warn(\"Maximum Likelihood optimization failed to \"\n",
      "/home/helder/anaconda3/envs/base-r/lib/python3.9/site-packages/statsmodels/tsa/statespace/sarimax.py:966: UserWarning: Non-stationary starting autoregressive parameters found. Using zeros as starting parameters.\n",
      "  warn('Non-stationary starting autoregressive parameters'\n",
      "/home/helder/anaconda3/envs/base-r/lib/python3.9/site-packages/statsmodels/tsa/statespace/sarimax.py:978: UserWarning: Non-invertible starting MA parameters found. Using zeros as starting parameters.\n",
      "  warn('Non-invertible starting MA parameters found.'\n",
      "/home/helder/anaconda3/envs/base-r/lib/python3.9/site-packages/statsmodels/base/model.py:607: ConvergenceWarning: Maximum Likelihood optimization failed to converge. Check mle_retvals\n",
      "  warnings.warn(\"Maximum Likelihood optimization failed to \"\n",
      "/home/helder/anaconda3/envs/base-r/lib/python3.9/site-packages/statsmodels/tsa/statespace/sarimax.py:978: UserWarning: Non-invertible starting MA parameters found. Using zeros as starting parameters.\n",
      "  warn('Non-invertible starting MA parameters found.'\n",
      "/home/helder/anaconda3/envs/base-r/lib/python3.9/site-packages/statsmodels/base/model.py:607: ConvergenceWarning: Maximum Likelihood optimization failed to converge. Check mle_retvals\n",
      "  warnings.warn(\"Maximum Likelihood optimization failed to \"\n",
      "/home/helder/anaconda3/envs/base-r/lib/python3.9/site-packages/statsmodels/tsa/statespace/sarimax.py:966: UserWarning: Non-stationary starting autoregressive parameters found. Using zeros as starting parameters.\n",
      "  warn('Non-stationary starting autoregressive parameters'\n",
      "/home/helder/anaconda3/envs/base-r/lib/python3.9/site-packages/statsmodels/tsa/statespace/sarimax.py:978: UserWarning: Non-invertible starting MA parameters found. Using zeros as starting parameters.\n",
      "  warn('Non-invertible starting MA parameters found.'\n",
      "/home/helder/anaconda3/envs/base-r/lib/python3.9/site-packages/statsmodels/base/model.py:607: ConvergenceWarning: Maximum Likelihood optimization failed to converge. Check mle_retvals\n",
      "  warnings.warn(\"Maximum Likelihood optimization failed to \"\n",
      "/home/helder/anaconda3/envs/base-r/lib/python3.9/site-packages/statsmodels/tsa/statespace/sarimax.py:978: UserWarning: Non-invertible starting MA parameters found. Using zeros as starting parameters.\n",
      "  warn('Non-invertible starting MA parameters found.'\n",
      "/home/helder/anaconda3/envs/base-r/lib/python3.9/site-packages/statsmodels/base/model.py:607: ConvergenceWarning: Maximum Likelihood optimization failed to converge. Check mle_retvals\n",
      "  warnings.warn(\"Maximum Likelihood optimization failed to \"\n",
      "/home/helder/anaconda3/envs/base-r/lib/python3.9/site-packages/statsmodels/tsa/statespace/sarimax.py:966: UserWarning: Non-stationary starting autoregressive parameters found. Using zeros as starting parameters.\n",
      "  warn('Non-stationary starting autoregressive parameters'\n",
      "/home/helder/anaconda3/envs/base-r/lib/python3.9/site-packages/statsmodels/tsa/statespace/sarimax.py:978: UserWarning: Non-invertible starting MA parameters found. Using zeros as starting parameters.\n",
      "  warn('Non-invertible starting MA parameters found.'\n",
      "/home/helder/anaconda3/envs/base-r/lib/python3.9/site-packages/statsmodels/base/model.py:607: ConvergenceWarning: Maximum Likelihood optimization failed to converge. Check mle_retvals\n",
      "  warnings.warn(\"Maximum Likelihood optimization failed to \"\n",
      "/home/helder/anaconda3/envs/base-r/lib/python3.9/site-packages/statsmodels/tsa/statespace/sarimax.py:978: UserWarning: Non-invertible starting MA parameters found. Using zeros as starting parameters.\n",
      "  warn('Non-invertible starting MA parameters found.'\n",
      "/home/helder/anaconda3/envs/base-r/lib/python3.9/site-packages/statsmodels/base/model.py:607: ConvergenceWarning: Maximum Likelihood optimization failed to converge. Check mle_retvals\n",
      "  warnings.warn(\"Maximum Likelihood optimization failed to \"\n",
      "/home/helder/anaconda3/envs/base-r/lib/python3.9/site-packages/statsmodels/base/model.py:607: ConvergenceWarning: Maximum Likelihood optimization failed to converge. Check mle_retvals\n",
      "  warnings.warn(\"Maximum Likelihood optimization failed to \"\n",
      "/home/helder/anaconda3/envs/base-r/lib/python3.9/site-packages/statsmodels/tsa/statespace/sarimax.py:978: UserWarning: Non-invertible starting MA parameters found. Using zeros as starting parameters.\n",
      "  warn('Non-invertible starting MA parameters found.'\n",
      "/home/helder/anaconda3/envs/base-r/lib/python3.9/site-packages/statsmodels/base/model.py:607: ConvergenceWarning: Maximum Likelihood optimization failed to converge. Check mle_retvals\n",
      "  warnings.warn(\"Maximum Likelihood optimization failed to \"\n",
      "/home/helder/anaconda3/envs/base-r/lib/python3.9/site-packages/statsmodels/tsa/statespace/sarimax.py:978: UserWarning: Non-invertible starting MA parameters found. Using zeros as starting parameters.\n",
      "  warn('Non-invertible starting MA parameters found.'\n",
      "/home/helder/anaconda3/envs/base-r/lib/python3.9/site-packages/statsmodels/base/model.py:607: ConvergenceWarning: Maximum Likelihood optimization failed to converge. Check mle_retvals\n",
      "  warnings.warn(\"Maximum Likelihood optimization failed to \"\n",
      "/home/helder/anaconda3/envs/base-r/lib/python3.9/site-packages/statsmodels/tsa/statespace/sarimax.py:978: UserWarning: Non-invertible starting MA parameters found. Using zeros as starting parameters.\n",
      "  warn('Non-invertible starting MA parameters found.'\n",
      "/home/helder/anaconda3/envs/base-r/lib/python3.9/site-packages/statsmodels/base/model.py:607: ConvergenceWarning: Maximum Likelihood optimization failed to converge. Check mle_retvals\n",
      "  warnings.warn(\"Maximum Likelihood optimization failed to \"\n",
      "/home/helder/anaconda3/envs/base-r/lib/python3.9/site-packages/statsmodels/tsa/statespace/sarimax.py:966: UserWarning: Non-stationary starting autoregressive parameters found. Using zeros as starting parameters.\n",
      "  warn('Non-stationary starting autoregressive parameters'\n",
      "/home/helder/anaconda3/envs/base-r/lib/python3.9/site-packages/statsmodels/tsa/statespace/sarimax.py:978: UserWarning: Non-invertible starting MA parameters found. Using zeros as starting parameters.\n",
      "  warn('Non-invertible starting MA parameters found.'\n",
      "/home/helder/anaconda3/envs/base-r/lib/python3.9/site-packages/statsmodels/base/model.py:607: ConvergenceWarning: Maximum Likelihood optimization failed to converge. Check mle_retvals\n",
      "  warnings.warn(\"Maximum Likelihood optimization failed to \"\n",
      "/home/helder/anaconda3/envs/base-r/lib/python3.9/site-packages/statsmodels/tsa/statespace/sarimax.py:978: UserWarning: Non-invertible starting MA parameters found. Using zeros as starting parameters.\n",
      "  warn('Non-invertible starting MA parameters found.'\n",
      "/home/helder/anaconda3/envs/base-r/lib/python3.9/site-packages/statsmodels/base/model.py:607: ConvergenceWarning: Maximum Likelihood optimization failed to converge. Check mle_retvals\n",
      "  warnings.warn(\"Maximum Likelihood optimization failed to \"\n",
      "/home/helder/anaconda3/envs/base-r/lib/python3.9/site-packages/statsmodels/tsa/statespace/sarimax.py:966: UserWarning: Non-stationary starting autoregressive parameters found. Using zeros as starting parameters.\n",
      "  warn('Non-stationary starting autoregressive parameters'\n",
      "/home/helder/anaconda3/envs/base-r/lib/python3.9/site-packages/statsmodels/base/model.py:607: ConvergenceWarning: Maximum Likelihood optimization failed to converge. Check mle_retvals\n",
      "  warnings.warn(\"Maximum Likelihood optimization failed to \"\n",
      "/home/helder/anaconda3/envs/base-r/lib/python3.9/site-packages/statsmodels/tsa/statespace/sarimax.py:978: UserWarning: Non-invertible starting MA parameters found. Using zeros as starting parameters.\n",
      "  warn('Non-invertible starting MA parameters found.'\n",
      "/home/helder/anaconda3/envs/base-r/lib/python3.9/site-packages/statsmodels/base/model.py:607: ConvergenceWarning: Maximum Likelihood optimization failed to converge. Check mle_retvals\n",
      "  warnings.warn(\"Maximum Likelihood optimization failed to \"\n",
      "/home/helder/anaconda3/envs/base-r/lib/python3.9/site-packages/statsmodels/tsa/statespace/sarimax.py:978: UserWarning: Non-invertible starting MA parameters found. Using zeros as starting parameters.\n",
      "  warn('Non-invertible starting MA parameters found.'\n",
      "/home/helder/anaconda3/envs/base-r/lib/python3.9/site-packages/statsmodels/base/model.py:607: ConvergenceWarning: Maximum Likelihood optimization failed to converge. Check mle_retvals\n",
      "  warnings.warn(\"Maximum Likelihood optimization failed to \"\n",
      "/home/helder/anaconda3/envs/base-r/lib/python3.9/site-packages/statsmodels/tsa/statespace/sarimax.py:978: UserWarning: Non-invertible starting MA parameters found. Using zeros as starting parameters.\n",
      "  warn('Non-invertible starting MA parameters found.'\n",
      "/home/helder/anaconda3/envs/base-r/lib/python3.9/site-packages/statsmodels/base/model.py:607: ConvergenceWarning: Maximum Likelihood optimization failed to converge. Check mle_retvals\n",
      "  warnings.warn(\"Maximum Likelihood optimization failed to \"\n",
      "/home/helder/anaconda3/envs/base-r/lib/python3.9/site-packages/statsmodels/tsa/statespace/sarimax.py:966: UserWarning: Non-stationary starting autoregressive parameters found. Using zeros as starting parameters.\n",
      "  warn('Non-stationary starting autoregressive parameters'\n",
      "/home/helder/anaconda3/envs/base-r/lib/python3.9/site-packages/statsmodels/base/model.py:607: ConvergenceWarning: Maximum Likelihood optimization failed to converge. Check mle_retvals\n",
      "  warnings.warn(\"Maximum Likelihood optimization failed to \"\n",
      "/home/helder/anaconda3/envs/base-r/lib/python3.9/site-packages/statsmodels/tsa/statespace/sarimax.py:966: UserWarning: Non-stationary starting autoregressive parameters found. Using zeros as starting parameters.\n",
      "  warn('Non-stationary starting autoregressive parameters'\n",
      "/home/helder/anaconda3/envs/base-r/lib/python3.9/site-packages/statsmodels/tsa/statespace/sarimax.py:978: UserWarning: Non-invertible starting MA parameters found. Using zeros as starting parameters.\n",
      "  warn('Non-invertible starting MA parameters found.'\n",
      "/home/helder/anaconda3/envs/base-r/lib/python3.9/site-packages/statsmodels/base/model.py:607: ConvergenceWarning: Maximum Likelihood optimization failed to converge. Check mle_retvals\n",
      "  warnings.warn(\"Maximum Likelihood optimization failed to \"\n",
      "/home/helder/anaconda3/envs/base-r/lib/python3.9/site-packages/statsmodels/tsa/statespace/sarimax.py:978: UserWarning: Non-invertible starting MA parameters found. Using zeros as starting parameters.\n",
      "  warn('Non-invertible starting MA parameters found.'\n",
      "/home/helder/anaconda3/envs/base-r/lib/python3.9/site-packages/statsmodels/base/model.py:607: ConvergenceWarning: Maximum Likelihood optimization failed to converge. Check mle_retvals\n",
      "  warnings.warn(\"Maximum Likelihood optimization failed to \"\n",
      "/home/helder/anaconda3/envs/base-r/lib/python3.9/site-packages/statsmodels/tsa/statespace/sarimax.py:978: UserWarning: Non-invertible starting MA parameters found. Using zeros as starting parameters.\n",
      "  warn('Non-invertible starting MA parameters found.'\n",
      "/home/helder/anaconda3/envs/base-r/lib/python3.9/site-packages/statsmodels/base/model.py:607: ConvergenceWarning: Maximum Likelihood optimization failed to converge. Check mle_retvals\n",
      "  warnings.warn(\"Maximum Likelihood optimization failed to \"\n",
      "/home/helder/anaconda3/envs/base-r/lib/python3.9/site-packages/statsmodels/tsa/statespace/sarimax.py:978: UserWarning: Non-invertible starting MA parameters found. Using zeros as starting parameters.\n",
      "  warn('Non-invertible starting MA parameters found.'\n",
      "/home/helder/anaconda3/envs/base-r/lib/python3.9/site-packages/statsmodels/base/model.py:607: ConvergenceWarning: Maximum Likelihood optimization failed to converge. Check mle_retvals\n",
      "  warnings.warn(\"Maximum Likelihood optimization failed to \"\n",
      "/home/helder/anaconda3/envs/base-r/lib/python3.9/site-packages/statsmodels/tsa/statespace/sarimax.py:978: UserWarning: Non-invertible starting MA parameters found. Using zeros as starting parameters.\n",
      "  warn('Non-invertible starting MA parameters found.'\n",
      "/home/helder/anaconda3/envs/base-r/lib/python3.9/site-packages/statsmodels/base/model.py:607: ConvergenceWarning: Maximum Likelihood optimization failed to converge. Check mle_retvals\n",
      "  warnings.warn(\"Maximum Likelihood optimization failed to \"\n",
      "/home/helder/anaconda3/envs/base-r/lib/python3.9/site-packages/statsmodels/tsa/statespace/sarimax.py:978: UserWarning: Non-invertible starting MA parameters found. Using zeros as starting parameters.\n",
      "  warn('Non-invertible starting MA parameters found.'\n",
      "/home/helder/anaconda3/envs/base-r/lib/python3.9/site-packages/statsmodels/base/model.py:607: ConvergenceWarning: Maximum Likelihood optimization failed to converge. Check mle_retvals\n",
      "  warnings.warn(\"Maximum Likelihood optimization failed to \"\n",
      "/home/helder/anaconda3/envs/base-r/lib/python3.9/site-packages/statsmodels/tsa/statespace/sarimax.py:978: UserWarning: Non-invertible starting MA parameters found. Using zeros as starting parameters.\n",
      "  warn('Non-invertible starting MA parameters found.'\n",
      "/home/helder/anaconda3/envs/base-r/lib/python3.9/site-packages/statsmodels/base/model.py:607: ConvergenceWarning: Maximum Likelihood optimization failed to converge. Check mle_retvals\n",
      "  warnings.warn(\"Maximum Likelihood optimization failed to \"\n",
      "/home/helder/anaconda3/envs/base-r/lib/python3.9/site-packages/statsmodels/tsa/statespace/sarimax.py:978: UserWarning: Non-invertible starting MA parameters found. Using zeros as starting parameters.\n",
      "  warn('Non-invertible starting MA parameters found.'\n",
      "/home/helder/anaconda3/envs/base-r/lib/python3.9/site-packages/statsmodels/base/model.py:607: ConvergenceWarning: Maximum Likelihood optimization failed to converge. Check mle_retvals\n",
      "  warnings.warn(\"Maximum Likelihood optimization failed to \"\n",
      "/home/helder/anaconda3/envs/base-r/lib/python3.9/site-packages/statsmodels/tsa/statespace/sarimax.py:978: UserWarning: Non-invertible starting MA parameters found. Using zeros as starting parameters.\n",
      "  warn('Non-invertible starting MA parameters found.'\n",
      "/home/helder/anaconda3/envs/base-r/lib/python3.9/site-packages/statsmodels/base/model.py:607: ConvergenceWarning: Maximum Likelihood optimization failed to converge. Check mle_retvals\n",
      "  warnings.warn(\"Maximum Likelihood optimization failed to \"\n",
      "/home/helder/anaconda3/envs/base-r/lib/python3.9/site-packages/statsmodels/tsa/statespace/sarimax.py:966: UserWarning: Non-stationary starting autoregressive parameters found. Using zeros as starting parameters.\n",
      "  warn('Non-stationary starting autoregressive parameters'\n",
      "/home/helder/anaconda3/envs/base-r/lib/python3.9/site-packages/statsmodels/tsa/statespace/sarimax.py:978: UserWarning: Non-invertible starting MA parameters found. Using zeros as starting parameters.\n",
      "  warn('Non-invertible starting MA parameters found.'\n",
      "/home/helder/anaconda3/envs/base-r/lib/python3.9/site-packages/statsmodels/base/model.py:607: ConvergenceWarning: Maximum Likelihood optimization failed to converge. Check mle_retvals\n",
      "  warnings.warn(\"Maximum Likelihood optimization failed to \"\n",
      "/home/helder/anaconda3/envs/base-r/lib/python3.9/site-packages/statsmodels/tsa/statespace/sarimax.py:978: UserWarning: Non-invertible starting MA parameters found. Using zeros as starting parameters.\n",
      "  warn('Non-invertible starting MA parameters found.'\n",
      "/home/helder/anaconda3/envs/base-r/lib/python3.9/site-packages/statsmodels/base/model.py:607: ConvergenceWarning: Maximum Likelihood optimization failed to converge. Check mle_retvals\n",
      "  warnings.warn(\"Maximum Likelihood optimization failed to \"\n",
      "/home/helder/anaconda3/envs/base-r/lib/python3.9/site-packages/statsmodels/tsa/statespace/sarimax.py:966: UserWarning: Non-stationary starting autoregressive parameters found. Using zeros as starting parameters.\n",
      "  warn('Non-stationary starting autoregressive parameters'\n",
      "/home/helder/anaconda3/envs/base-r/lib/python3.9/site-packages/statsmodels/tsa/statespace/sarimax.py:978: UserWarning: Non-invertible starting MA parameters found. Using zeros as starting parameters.\n",
      "  warn('Non-invertible starting MA parameters found.'\n",
      "/home/helder/anaconda3/envs/base-r/lib/python3.9/site-packages/statsmodels/base/model.py:607: ConvergenceWarning: Maximum Likelihood optimization failed to converge. Check mle_retvals\n",
      "  warnings.warn(\"Maximum Likelihood optimization failed to \"\n",
      "/home/helder/anaconda3/envs/base-r/lib/python3.9/site-packages/statsmodels/tsa/statespace/sarimax.py:978: UserWarning: Non-invertible starting MA parameters found. Using zeros as starting parameters.\n",
      "  warn('Non-invertible starting MA parameters found.'\n",
      "/home/helder/anaconda3/envs/base-r/lib/python3.9/site-packages/statsmodels/base/model.py:607: ConvergenceWarning: Maximum Likelihood optimization failed to converge. Check mle_retvals\n",
      "  warnings.warn(\"Maximum Likelihood optimization failed to \"\n",
      "/home/helder/anaconda3/envs/base-r/lib/python3.9/site-packages/statsmodels/tsa/statespace/sarimax.py:978: UserWarning: Non-invertible starting MA parameters found. Using zeros as starting parameters.\n",
      "  warn('Non-invertible starting MA parameters found.'\n",
      "/home/helder/anaconda3/envs/base-r/lib/python3.9/site-packages/statsmodels/base/model.py:607: ConvergenceWarning: Maximum Likelihood optimization failed to converge. Check mle_retvals\n",
      "  warnings.warn(\"Maximum Likelihood optimization failed to \"\n",
      "/home/helder/anaconda3/envs/base-r/lib/python3.9/site-packages/statsmodels/tsa/statespace/sarimax.py:978: UserWarning: Non-invertible starting MA parameters found. Using zeros as starting parameters.\n",
      "  warn('Non-invertible starting MA parameters found.'\n",
      "/home/helder/anaconda3/envs/base-r/lib/python3.9/site-packages/statsmodels/base/model.py:607: ConvergenceWarning: Maximum Likelihood optimization failed to converge. Check mle_retvals\n",
      "  warnings.warn(\"Maximum Likelihood optimization failed to \"\n",
      "/home/helder/anaconda3/envs/base-r/lib/python3.9/site-packages/statsmodels/tsa/statespace/sarimax.py:966: UserWarning: Non-stationary starting autoregressive parameters found. Using zeros as starting parameters.\n",
      "  warn('Non-stationary starting autoregressive parameters'\n",
      "/home/helder/anaconda3/envs/base-r/lib/python3.9/site-packages/statsmodels/tsa/statespace/sarimax.py:978: UserWarning: Non-invertible starting MA parameters found. Using zeros as starting parameters.\n",
      "  warn('Non-invertible starting MA parameters found.'\n",
      "/home/helder/anaconda3/envs/base-r/lib/python3.9/site-packages/statsmodels/base/model.py:607: ConvergenceWarning: Maximum Likelihood optimization failed to converge. Check mle_retvals\n",
      "  warnings.warn(\"Maximum Likelihood optimization failed to \"\n",
      "/home/helder/anaconda3/envs/base-r/lib/python3.9/site-packages/statsmodels/tsa/statespace/sarimax.py:966: UserWarning: Non-stationary starting autoregressive parameters found. Using zeros as starting parameters.\n",
      "  warn('Non-stationary starting autoregressive parameters'\n",
      "/home/helder/anaconda3/envs/base-r/lib/python3.9/site-packages/statsmodels/tsa/statespace/sarimax.py:978: UserWarning: Non-invertible starting MA parameters found. Using zeros as starting parameters.\n",
      "  warn('Non-invertible starting MA parameters found.'\n",
      "/home/helder/anaconda3/envs/base-r/lib/python3.9/site-packages/statsmodels/base/model.py:607: ConvergenceWarning: Maximum Likelihood optimization failed to converge. Check mle_retvals\n",
      "  warnings.warn(\"Maximum Likelihood optimization failed to \"\n",
      "/home/helder/anaconda3/envs/base-r/lib/python3.9/site-packages/statsmodels/tsa/statespace/sarimax.py:966: UserWarning: Non-stationary starting autoregressive parameters found. Using zeros as starting parameters.\n",
      "  warn('Non-stationary starting autoregressive parameters'\n",
      "/home/helder/anaconda3/envs/base-r/lib/python3.9/site-packages/statsmodels/tsa/statespace/sarimax.py:978: UserWarning: Non-invertible starting MA parameters found. Using zeros as starting parameters.\n",
      "  warn('Non-invertible starting MA parameters found.'\n",
      "/home/helder/anaconda3/envs/base-r/lib/python3.9/site-packages/statsmodels/base/model.py:607: ConvergenceWarning: Maximum Likelihood optimization failed to converge. Check mle_retvals\n",
      "  warnings.warn(\"Maximum Likelihood optimization failed to \"\n",
      "/home/helder/anaconda3/envs/base-r/lib/python3.9/site-packages/statsmodels/tsa/statespace/sarimax.py:978: UserWarning: Non-invertible starting MA parameters found. Using zeros as starting parameters.\n",
      "  warn('Non-invertible starting MA parameters found.'\n",
      "/home/helder/anaconda3/envs/base-r/lib/python3.9/site-packages/statsmodels/base/model.py:607: ConvergenceWarning: Maximum Likelihood optimization failed to converge. Check mle_retvals\n",
      "  warnings.warn(\"Maximum Likelihood optimization failed to \"\n",
      "/home/helder/anaconda3/envs/base-r/lib/python3.9/site-packages/statsmodels/tsa/statespace/sarimax.py:966: UserWarning: Non-stationary starting autoregressive parameters found. Using zeros as starting parameters.\n",
      "  warn('Non-stationary starting autoregressive parameters'\n",
      "/home/helder/anaconda3/envs/base-r/lib/python3.9/site-packages/statsmodels/tsa/statespace/sarimax.py:978: UserWarning: Non-invertible starting MA parameters found. Using zeros as starting parameters.\n",
      "  warn('Non-invertible starting MA parameters found.'\n",
      "/home/helder/anaconda3/envs/base-r/lib/python3.9/site-packages/statsmodels/base/model.py:607: ConvergenceWarning: Maximum Likelihood optimization failed to converge. Check mle_retvals\n",
      "  warnings.warn(\"Maximum Likelihood optimization failed to \"\n",
      "/home/helder/anaconda3/envs/base-r/lib/python3.9/site-packages/statsmodels/tsa/statespace/sarimax.py:978: UserWarning: Non-invertible starting MA parameters found. Using zeros as starting parameters.\n",
      "  warn('Non-invertible starting MA parameters found.'\n",
      "/home/helder/anaconda3/envs/base-r/lib/python3.9/site-packages/statsmodels/base/model.py:607: ConvergenceWarning: Maximum Likelihood optimization failed to converge. Check mle_retvals\n",
      "  warnings.warn(\"Maximum Likelihood optimization failed to \"\n",
      "/home/helder/anaconda3/envs/base-r/lib/python3.9/site-packages/statsmodels/tsa/statespace/sarimax.py:978: UserWarning: Non-invertible starting MA parameters found. Using zeros as starting parameters.\n",
      "  warn('Non-invertible starting MA parameters found.'\n",
      "/home/helder/anaconda3/envs/base-r/lib/python3.9/site-packages/statsmodels/base/model.py:607: ConvergenceWarning: Maximum Likelihood optimization failed to converge. Check mle_retvals\n",
      "  warnings.warn(\"Maximum Likelihood optimization failed to \"\n",
      "/home/helder/anaconda3/envs/base-r/lib/python3.9/site-packages/statsmodels/tsa/statespace/sarimax.py:966: UserWarning: Non-stationary starting autoregressive parameters found. Using zeros as starting parameters.\n",
      "  warn('Non-stationary starting autoregressive parameters'\n",
      "/home/helder/anaconda3/envs/base-r/lib/python3.9/site-packages/statsmodels/tsa/statespace/sarimax.py:978: UserWarning: Non-invertible starting MA parameters found. Using zeros as starting parameters.\n",
      "  warn('Non-invertible starting MA parameters found.'\n",
      "/home/helder/anaconda3/envs/base-r/lib/python3.9/site-packages/statsmodels/base/model.py:607: ConvergenceWarning: Maximum Likelihood optimization failed to converge. Check mle_retvals\n",
      "  warnings.warn(\"Maximum Likelihood optimization failed to \"\n",
      "/home/helder/anaconda3/envs/base-r/lib/python3.9/site-packages/statsmodels/tsa/statespace/sarimax.py:978: UserWarning: Non-invertible starting MA parameters found. Using zeros as starting parameters.\n",
      "  warn('Non-invertible starting MA parameters found.'\n",
      "/home/helder/anaconda3/envs/base-r/lib/python3.9/site-packages/statsmodels/base/model.py:607: ConvergenceWarning: Maximum Likelihood optimization failed to converge. Check mle_retvals\n",
      "  warnings.warn(\"Maximum Likelihood optimization failed to \"\n",
      "/home/helder/anaconda3/envs/base-r/lib/python3.9/site-packages/statsmodels/tsa/statespace/sarimax.py:966: UserWarning: Non-stationary starting autoregressive parameters found. Using zeros as starting parameters.\n",
      "  warn('Non-stationary starting autoregressive parameters'\n",
      "/home/helder/anaconda3/envs/base-r/lib/python3.9/site-packages/statsmodels/tsa/statespace/sarimax.py:978: UserWarning: Non-invertible starting MA parameters found. Using zeros as starting parameters.\n",
      "  warn('Non-invertible starting MA parameters found.'\n",
      "/home/helder/anaconda3/envs/base-r/lib/python3.9/site-packages/statsmodels/base/model.py:607: ConvergenceWarning: Maximum Likelihood optimization failed to converge. Check mle_retvals\n",
      "  warnings.warn(\"Maximum Likelihood optimization failed to \"\n",
      "/home/helder/anaconda3/envs/base-r/lib/python3.9/site-packages/statsmodels/tsa/statespace/sarimax.py:978: UserWarning: Non-invertible starting MA parameters found. Using zeros as starting parameters.\n",
      "  warn('Non-invertible starting MA parameters found.'\n",
      "/home/helder/anaconda3/envs/base-r/lib/python3.9/site-packages/statsmodels/base/model.py:607: ConvergenceWarning: Maximum Likelihood optimization failed to converge. Check mle_retvals\n",
      "  warnings.warn(\"Maximum Likelihood optimization failed to \"\n",
      "/home/helder/anaconda3/envs/base-r/lib/python3.9/site-packages/statsmodels/tsa/statespace/sarimax.py:966: UserWarning: Non-stationary starting autoregressive parameters found. Using zeros as starting parameters.\n",
      "  warn('Non-stationary starting autoregressive parameters'\n",
      "/home/helder/anaconda3/envs/base-r/lib/python3.9/site-packages/statsmodels/tsa/statespace/sarimax.py:978: UserWarning: Non-invertible starting MA parameters found. Using zeros as starting parameters.\n",
      "  warn('Non-invertible starting MA parameters found.'\n",
      "/home/helder/anaconda3/envs/base-r/lib/python3.9/site-packages/statsmodels/base/model.py:607: ConvergenceWarning: Maximum Likelihood optimization failed to converge. Check mle_retvals\n",
      "  warnings.warn(\"Maximum Likelihood optimization failed to \"\n",
      "/home/helder/anaconda3/envs/base-r/lib/python3.9/site-packages/statsmodels/tsa/statespace/sarimax.py:978: UserWarning: Non-invertible starting MA parameters found. Using zeros as starting parameters.\n",
      "  warn('Non-invertible starting MA parameters found.'\n",
      "/home/helder/anaconda3/envs/base-r/lib/python3.9/site-packages/statsmodels/base/model.py:607: ConvergenceWarning: Maximum Likelihood optimization failed to converge. Check mle_retvals\n",
      "  warnings.warn(\"Maximum Likelihood optimization failed to \"\n",
      "/home/helder/anaconda3/envs/base-r/lib/python3.9/site-packages/statsmodels/tsa/statespace/sarimax.py:966: UserWarning: Non-stationary starting autoregressive parameters found. Using zeros as starting parameters.\n",
      "  warn('Non-stationary starting autoregressive parameters'\n",
      "/home/helder/anaconda3/envs/base-r/lib/python3.9/site-packages/statsmodels/tsa/statespace/sarimax.py:978: UserWarning: Non-invertible starting MA parameters found. Using zeros as starting parameters.\n",
      "  warn('Non-invertible starting MA parameters found.'\n",
      "/home/helder/anaconda3/envs/base-r/lib/python3.9/site-packages/statsmodels/base/model.py:607: ConvergenceWarning: Maximum Likelihood optimization failed to converge. Check mle_retvals\n",
      "  warnings.warn(\"Maximum Likelihood optimization failed to \"\n",
      "/home/helder/anaconda3/envs/base-r/lib/python3.9/site-packages/statsmodels/tsa/statespace/sarimax.py:978: UserWarning: Non-invertible starting MA parameters found. Using zeros as starting parameters.\n",
      "  warn('Non-invertible starting MA parameters found.'\n",
      "/home/helder/anaconda3/envs/base-r/lib/python3.9/site-packages/statsmodels/base/model.py:607: ConvergenceWarning: Maximum Likelihood optimization failed to converge. Check mle_retvals\n",
      "  warnings.warn(\"Maximum Likelihood optimization failed to \"\n",
      "/home/helder/anaconda3/envs/base-r/lib/python3.9/site-packages/statsmodels/tsa/statespace/sarimax.py:966: UserWarning: Non-stationary starting autoregressive parameters found. Using zeros as starting parameters.\n",
      "  warn('Non-stationary starting autoregressive parameters'\n",
      "/home/helder/anaconda3/envs/base-r/lib/python3.9/site-packages/statsmodels/tsa/statespace/sarimax.py:978: UserWarning: Non-invertible starting MA parameters found. Using zeros as starting parameters.\n",
      "  warn('Non-invertible starting MA parameters found.'\n",
      "/home/helder/anaconda3/envs/base-r/lib/python3.9/site-packages/statsmodels/base/model.py:607: ConvergenceWarning: Maximum Likelihood optimization failed to converge. Check mle_retvals\n",
      "  warnings.warn(\"Maximum Likelihood optimization failed to \"\n",
      "/home/helder/anaconda3/envs/base-r/lib/python3.9/site-packages/statsmodels/tsa/statespace/sarimax.py:966: UserWarning: Non-stationary starting autoregressive parameters found. Using zeros as starting parameters.\n",
      "  warn('Non-stationary starting autoregressive parameters'\n",
      "/home/helder/anaconda3/envs/base-r/lib/python3.9/site-packages/statsmodels/tsa/statespace/sarimax.py:978: UserWarning: Non-invertible starting MA parameters found. Using zeros as starting parameters.\n",
      "  warn('Non-invertible starting MA parameters found.'\n",
      "/home/helder/anaconda3/envs/base-r/lib/python3.9/site-packages/statsmodels/base/model.py:607: ConvergenceWarning: Maximum Likelihood optimization failed to converge. Check mle_retvals\n",
      "  warnings.warn(\"Maximum Likelihood optimization failed to \"\n",
      "/home/helder/anaconda3/envs/base-r/lib/python3.9/site-packages/statsmodels/tsa/statespace/sarimax.py:978: UserWarning: Non-invertible starting MA parameters found. Using zeros as starting parameters.\n",
      "  warn('Non-invertible starting MA parameters found.'\n",
      "/home/helder/anaconda3/envs/base-r/lib/python3.9/site-packages/statsmodels/base/model.py:607: ConvergenceWarning: Maximum Likelihood optimization failed to converge. Check mle_retvals\n",
      "  warnings.warn(\"Maximum Likelihood optimization failed to \"\n",
      "/home/helder/anaconda3/envs/base-r/lib/python3.9/site-packages/statsmodels/tsa/statespace/sarimax.py:978: UserWarning: Non-invertible starting MA parameters found. Using zeros as starting parameters.\n",
      "  warn('Non-invertible starting MA parameters found.'\n",
      "/home/helder/anaconda3/envs/base-r/lib/python3.9/site-packages/statsmodels/base/model.py:607: ConvergenceWarning: Maximum Likelihood optimization failed to converge. Check mle_retvals\n",
      "  warnings.warn(\"Maximum Likelihood optimization failed to \"\n",
      "/home/helder/anaconda3/envs/base-r/lib/python3.9/site-packages/statsmodels/tsa/statespace/sarimax.py:966: UserWarning: Non-stationary starting autoregressive parameters found. Using zeros as starting parameters.\n",
      "  warn('Non-stationary starting autoregressive parameters'\n",
      "/home/helder/anaconda3/envs/base-r/lib/python3.9/site-packages/statsmodels/tsa/statespace/sarimax.py:978: UserWarning: Non-invertible starting MA parameters found. Using zeros as starting parameters.\n",
      "  warn('Non-invertible starting MA parameters found.'\n",
      "/home/helder/anaconda3/envs/base-r/lib/python3.9/site-packages/statsmodels/base/model.py:607: ConvergenceWarning: Maximum Likelihood optimization failed to converge. Check mle_retvals\n",
      "  warnings.warn(\"Maximum Likelihood optimization failed to \"\n",
      "/home/helder/anaconda3/envs/base-r/lib/python3.9/site-packages/statsmodels/tsa/statespace/sarimax.py:978: UserWarning: Non-invertible starting MA parameters found. Using zeros as starting parameters.\n",
      "  warn('Non-invertible starting MA parameters found.'\n",
      "/home/helder/anaconda3/envs/base-r/lib/python3.9/site-packages/statsmodels/base/model.py:607: ConvergenceWarning: Maximum Likelihood optimization failed to converge. Check mle_retvals\n",
      "  warnings.warn(\"Maximum Likelihood optimization failed to \"\n",
      "/home/helder/anaconda3/envs/base-r/lib/python3.9/site-packages/statsmodels/base/model.py:607: ConvergenceWarning: Maximum Likelihood optimization failed to converge. Check mle_retvals\n",
      "  warnings.warn(\"Maximum Likelihood optimization failed to \"\n",
      "/home/helder/anaconda3/envs/base-r/lib/python3.9/site-packages/statsmodels/tsa/statespace/sarimax.py:978: UserWarning: Non-invertible starting MA parameters found. Using zeros as starting parameters.\n",
      "  warn('Non-invertible starting MA parameters found.'\n",
      "/home/helder/anaconda3/envs/base-r/lib/python3.9/site-packages/statsmodels/base/model.py:607: ConvergenceWarning: Maximum Likelihood optimization failed to converge. Check mle_retvals\n",
      "  warnings.warn(\"Maximum Likelihood optimization failed to \"\n",
      "/home/helder/anaconda3/envs/base-r/lib/python3.9/site-packages/statsmodels/tsa/statespace/sarimax.py:966: UserWarning: Non-stationary starting autoregressive parameters found. Using zeros as starting parameters.\n",
      "  warn('Non-stationary starting autoregressive parameters'\n",
      "/home/helder/anaconda3/envs/base-r/lib/python3.9/site-packages/statsmodels/tsa/statespace/sarimax.py:978: UserWarning: Non-invertible starting MA parameters found. Using zeros as starting parameters.\n",
      "  warn('Non-invertible starting MA parameters found.'\n",
      "/home/helder/anaconda3/envs/base-r/lib/python3.9/site-packages/statsmodels/base/model.py:607: ConvergenceWarning: Maximum Likelihood optimization failed to converge. Check mle_retvals\n",
      "  warnings.warn(\"Maximum Likelihood optimization failed to \"\n",
      "/home/helder/anaconda3/envs/base-r/lib/python3.9/site-packages/statsmodels/tsa/statespace/sarimax.py:978: UserWarning: Non-invertible starting MA parameters found. Using zeros as starting parameters.\n",
      "  warn('Non-invertible starting MA parameters found.'\n",
      "/home/helder/anaconda3/envs/base-r/lib/python3.9/site-packages/statsmodels/base/model.py:607: ConvergenceWarning: Maximum Likelihood optimization failed to converge. Check mle_retvals\n",
      "  warnings.warn(\"Maximum Likelihood optimization failed to \"\n",
      "/home/helder/anaconda3/envs/base-r/lib/python3.9/site-packages/statsmodels/tsa/statespace/sarimax.py:966: UserWarning: Non-stationary starting autoregressive parameters found. Using zeros as starting parameters.\n",
      "  warn('Non-stationary starting autoregressive parameters'\n",
      "/home/helder/anaconda3/envs/base-r/lib/python3.9/site-packages/statsmodels/tsa/statespace/sarimax.py:978: UserWarning: Non-invertible starting MA parameters found. Using zeros as starting parameters.\n",
      "  warn('Non-invertible starting MA parameters found.'\n",
      "/home/helder/anaconda3/envs/base-r/lib/python3.9/site-packages/statsmodels/base/model.py:607: ConvergenceWarning: Maximum Likelihood optimization failed to converge. Check mle_retvals\n",
      "  warnings.warn(\"Maximum Likelihood optimization failed to \"\n",
      "/home/helder/anaconda3/envs/base-r/lib/python3.9/site-packages/statsmodels/tsa/statespace/sarimax.py:978: UserWarning: Non-invertible starting MA parameters found. Using zeros as starting parameters.\n",
      "  warn('Non-invertible starting MA parameters found.'\n",
      "/home/helder/anaconda3/envs/base-r/lib/python3.9/site-packages/statsmodels/base/model.py:607: ConvergenceWarning: Maximum Likelihood optimization failed to converge. Check mle_retvals\n",
      "  warnings.warn(\"Maximum Likelihood optimization failed to \"\n",
      "/home/helder/anaconda3/envs/base-r/lib/python3.9/site-packages/statsmodels/tsa/statespace/sarimax.py:966: UserWarning: Non-stationary starting autoregressive parameters found. Using zeros as starting parameters.\n",
      "  warn('Non-stationary starting autoregressive parameters'\n",
      "/home/helder/anaconda3/envs/base-r/lib/python3.9/site-packages/statsmodels/base/model.py:607: ConvergenceWarning: Maximum Likelihood optimization failed to converge. Check mle_retvals\n",
      "  warnings.warn(\"Maximum Likelihood optimization failed to \"\n",
      "/home/helder/anaconda3/envs/base-r/lib/python3.9/site-packages/statsmodels/tsa/statespace/sarimax.py:978: UserWarning: Non-invertible starting MA parameters found. Using zeros as starting parameters.\n",
      "  warn('Non-invertible starting MA parameters found.'\n",
      "/home/helder/anaconda3/envs/base-r/lib/python3.9/site-packages/statsmodels/base/model.py:607: ConvergenceWarning: Maximum Likelihood optimization failed to converge. Check mle_retvals\n",
      "  warnings.warn(\"Maximum Likelihood optimization failed to \"\n",
      "/home/helder/anaconda3/envs/base-r/lib/python3.9/site-packages/statsmodels/tsa/statespace/sarimax.py:966: UserWarning: Non-stationary starting autoregressive parameters found. Using zeros as starting parameters.\n",
      "  warn('Non-stationary starting autoregressive parameters'\n",
      "/home/helder/anaconda3/envs/base-r/lib/python3.9/site-packages/statsmodels/tsa/statespace/sarimax.py:978: UserWarning: Non-invertible starting MA parameters found. Using zeros as starting parameters.\n",
      "  warn('Non-invertible starting MA parameters found.'\n",
      "/home/helder/anaconda3/envs/base-r/lib/python3.9/site-packages/statsmodels/base/model.py:607: ConvergenceWarning: Maximum Likelihood optimization failed to converge. Check mle_retvals\n",
      "  warnings.warn(\"Maximum Likelihood optimization failed to \"\n",
      "/home/helder/anaconda3/envs/base-r/lib/python3.9/site-packages/statsmodels/tsa/statespace/sarimax.py:966: UserWarning: Non-stationary starting autoregressive parameters found. Using zeros as starting parameters.\n",
      "  warn('Non-stationary starting autoregressive parameters'\n",
      "/home/helder/anaconda3/envs/base-r/lib/python3.9/site-packages/statsmodels/tsa/statespace/sarimax.py:978: UserWarning: Non-invertible starting MA parameters found. Using zeros as starting parameters.\n",
      "  warn('Non-invertible starting MA parameters found.'\n",
      "/home/helder/anaconda3/envs/base-r/lib/python3.9/site-packages/statsmodels/base/model.py:607: ConvergenceWarning: Maximum Likelihood optimization failed to converge. Check mle_retvals\n",
      "  warnings.warn(\"Maximum Likelihood optimization failed to \"\n",
      "/home/helder/anaconda3/envs/base-r/lib/python3.9/site-packages/statsmodels/tsa/statespace/sarimax.py:978: UserWarning: Non-invertible starting MA parameters found. Using zeros as starting parameters.\n",
      "  warn('Non-invertible starting MA parameters found.'\n",
      "/home/helder/anaconda3/envs/base-r/lib/python3.9/site-packages/statsmodels/base/model.py:607: ConvergenceWarning: Maximum Likelihood optimization failed to converge. Check mle_retvals\n",
      "  warnings.warn(\"Maximum Likelihood optimization failed to \"\n",
      "/home/helder/anaconda3/envs/base-r/lib/python3.9/site-packages/statsmodels/tsa/statespace/sarimax.py:978: UserWarning: Non-invertible starting MA parameters found. Using zeros as starting parameters.\n",
      "  warn('Non-invertible starting MA parameters found.'\n",
      "/home/helder/anaconda3/envs/base-r/lib/python3.9/site-packages/statsmodels/base/model.py:607: ConvergenceWarning: Maximum Likelihood optimization failed to converge. Check mle_retvals\n",
      "  warnings.warn(\"Maximum Likelihood optimization failed to \"\n",
      "/home/helder/anaconda3/envs/base-r/lib/python3.9/site-packages/statsmodels/tsa/statespace/sarimax.py:978: UserWarning: Non-invertible starting MA parameters found. Using zeros as starting parameters.\n",
      "  warn('Non-invertible starting MA parameters found.'\n",
      "/home/helder/anaconda3/envs/base-r/lib/python3.9/site-packages/statsmodels/base/model.py:607: ConvergenceWarning: Maximum Likelihood optimization failed to converge. Check mle_retvals\n",
      "  warnings.warn(\"Maximum Likelihood optimization failed to \"\n",
      "/home/helder/anaconda3/envs/base-r/lib/python3.9/site-packages/statsmodels/tsa/statespace/sarimax.py:966: UserWarning: Non-stationary starting autoregressive parameters found. Using zeros as starting parameters.\n",
      "  warn('Non-stationary starting autoregressive parameters'\n",
      "/home/helder/anaconda3/envs/base-r/lib/python3.9/site-packages/statsmodels/base/model.py:607: ConvergenceWarning: Maximum Likelihood optimization failed to converge. Check mle_retvals\n",
      "  warnings.warn(\"Maximum Likelihood optimization failed to \"\n",
      "/home/helder/anaconda3/envs/base-r/lib/python3.9/site-packages/statsmodels/tsa/statespace/sarimax.py:978: UserWarning: Non-invertible starting MA parameters found. Using zeros as starting parameters.\n",
      "  warn('Non-invertible starting MA parameters found.'\n",
      "/home/helder/anaconda3/envs/base-r/lib/python3.9/site-packages/statsmodels/base/model.py:607: ConvergenceWarning: Maximum Likelihood optimization failed to converge. Check mle_retvals\n",
      "  warnings.warn(\"Maximum Likelihood optimization failed to \"\n",
      "/home/helder/anaconda3/envs/base-r/lib/python3.9/site-packages/statsmodels/base/model.py:607: ConvergenceWarning: Maximum Likelihood optimization failed to converge. Check mle_retvals\n",
      "  warnings.warn(\"Maximum Likelihood optimization failed to \"\n"
     ]
    }
   ],
   "source": [
    "number_differencing_points = 7\n",
    "\n",
    "order = (28, 0, 7)  # Order of the ARIMA model\n",
    "\n",
    "df_diff=pd.DataFrame()\n",
    "df_test_stationary_diff = pd.DataFrame()\n",
    "\n",
    "for id_municipality in df_covid_mobility.CODIGO_MUNICIPIO_7.unique():\n",
    "    df_temp = df_covid_mobility[df_covid_mobility.CODIGO_MUNICIPIO_7==id_municipality].copy()\n",
    "    name_municipality = df_temp.municipality.values[0]\n",
    "    for column in ['PERCENTUAL_VARIACAO_PERMANENCIA_RESIDENCIAS_MEDIA_7_DIAS', 'r0']:\n",
    "        df_temp[column+'_DETRENDED'] = df_temp[column] - df_temp[column].shift(number_differencing_points)\n",
    "\n",
    "        values = df_temp[column+'_DETRENDED'].dropna().values\n",
    "            \n",
    "        result = adf_test(values)\n",
    "        result['CODIGO_MUNICIPIO_7'] = id_municipality\n",
    "        result['MUNICIPIO'] = name_municipality\n",
    "        result['COLUMN'] = column\n",
    "                       \n",
    "        model = sm.tsa.ARIMA(values, order=order)\n",
    "        fit_model = model.fit()\n",
    "        x_prewithining = fit_model.resid \n",
    "        df_temp.loc[df_temp.iloc[number_differencing_points:(number_differencing_points+len(x_prewithining))].index, column+'_WHITED'] = x_prewithining\n",
    "\n",
    "        white_noise_test_p_value = diag.acorr_ljungbox(x_prewithining, boxpierce=True, model_df=0, period=None, return_df=None, lags=1)['lb_pvalue'].values[0]\n",
    "        \n",
    "        result['WHITE_NOISE_P_VALUE'] = white_noise_test_p_value\n",
    "\n",
    "        df_test_stationary_diff = pd.concat([df_test_stationary_diff, result], ignore_index=True)\n",
    "\n",
    "    df_diff = pd.concat([df_diff, df_temp], ignore_index=True)"
   ],
   "metadata": {
    "collapsed": false,
    "ExecuteTime": {
     "end_time": "2024-03-15T14:10:44.832672Z",
     "start_time": "2024-03-15T12:00:02.496510Z"
    }
   }
  },
  {
   "cell_type": "code",
   "outputs": [
    {
     "data": {
      "text/plain": "            DATA  PERCENTUAL_VARIACAO_PERMANENCIA_RESIDENCIAS_MEDIA_7_DIAS  \\\n39367 2020-03-01                                           5.714286          \n39368 2020-03-02                                           3.857143          \n39369 2020-03-03                                           1.714286          \n39370 2020-03-04                                           0.428571          \n39371 2020-03-05                                           0.000000          \n...          ...                                                ...          \n40398 2022-12-27                                                NaN          \n40399 2022-12-28                                                NaN          \n40400 2022-12-29                                                NaN          \n40401 2022-12-30                                                NaN          \n40402 2022-12-31                                                NaN          \n\n       PERCENTUAL_VARIACAO_PERMANENCIA_RESIDENCIAS_MEDIA_7_DIAS_DETRENDED  \\\n39367                                                NaN                    \n39368                                                NaN                    \n39369                                                NaN                    \n39370                                                NaN                    \n39371                                                NaN                    \n...                                                  ...                    \n40398                                                NaN                    \n40399                                                NaN                    \n40400                                                NaN                    \n40401                                                NaN                    \n40402                                                NaN                    \n\n       PERCENTUAL_VARIACAO_PERMANENCIA_RESIDENCIAS_MEDIA_7_DIAS_WHITED  \n39367                                                NaN                \n39368                                                NaN                \n39369                                                NaN                \n39370                                                NaN                \n39371                                                NaN                \n...                                                  ...                \n40398                                                NaN                \n40399                                                NaN                \n40400                                                NaN                \n40401                                                NaN                \n40402                                                NaN                \n\n[1036 rows x 4 columns]",
      "text/html": "<div>\n<style scoped>\n    .dataframe tbody tr th:only-of-type {\n        vertical-align: middle;\n    }\n\n    .dataframe tbody tr th {\n        vertical-align: top;\n    }\n\n    .dataframe thead th {\n        text-align: right;\n    }\n</style>\n<table border=\"1\" class=\"dataframe\">\n  <thead>\n    <tr style=\"text-align: right;\">\n      <th></th>\n      <th>DATA</th>\n      <th>PERCENTUAL_VARIACAO_PERMANENCIA_RESIDENCIAS_MEDIA_7_DIAS</th>\n      <th>PERCENTUAL_VARIACAO_PERMANENCIA_RESIDENCIAS_MEDIA_7_DIAS_DETRENDED</th>\n      <th>PERCENTUAL_VARIACAO_PERMANENCIA_RESIDENCIAS_MEDIA_7_DIAS_WHITED</th>\n    </tr>\n  </thead>\n  <tbody>\n    <tr>\n      <th>39367</th>\n      <td>2020-03-01</td>\n      <td>5.714286</td>\n      <td>NaN</td>\n      <td>NaN</td>\n    </tr>\n    <tr>\n      <th>39368</th>\n      <td>2020-03-02</td>\n      <td>3.857143</td>\n      <td>NaN</td>\n      <td>NaN</td>\n    </tr>\n    <tr>\n      <th>39369</th>\n      <td>2020-03-03</td>\n      <td>1.714286</td>\n      <td>NaN</td>\n      <td>NaN</td>\n    </tr>\n    <tr>\n      <th>39370</th>\n      <td>2020-03-04</td>\n      <td>0.428571</td>\n      <td>NaN</td>\n      <td>NaN</td>\n    </tr>\n    <tr>\n      <th>39371</th>\n      <td>2020-03-05</td>\n      <td>0.000000</td>\n      <td>NaN</td>\n      <td>NaN</td>\n    </tr>\n    <tr>\n      <th>...</th>\n      <td>...</td>\n      <td>...</td>\n      <td>...</td>\n      <td>...</td>\n    </tr>\n    <tr>\n      <th>40398</th>\n      <td>2022-12-27</td>\n      <td>NaN</td>\n      <td>NaN</td>\n      <td>NaN</td>\n    </tr>\n    <tr>\n      <th>40399</th>\n      <td>2022-12-28</td>\n      <td>NaN</td>\n      <td>NaN</td>\n      <td>NaN</td>\n    </tr>\n    <tr>\n      <th>40400</th>\n      <td>2022-12-29</td>\n      <td>NaN</td>\n      <td>NaN</td>\n      <td>NaN</td>\n    </tr>\n    <tr>\n      <th>40401</th>\n      <td>2022-12-30</td>\n      <td>NaN</td>\n      <td>NaN</td>\n      <td>NaN</td>\n    </tr>\n    <tr>\n      <th>40402</th>\n      <td>2022-12-31</td>\n      <td>NaN</td>\n      <td>NaN</td>\n      <td>NaN</td>\n    </tr>\n  </tbody>\n</table>\n<p>1036 rows × 4 columns</p>\n</div>"
     },
     "execution_count": 12,
     "metadata": {},
     "output_type": "execute_result"
    }
   ],
   "source": [
    "df_diff[df_diff.municipality == 'São Paulo'][['DATA', 'PERCENTUAL_VARIACAO_PERMANENCIA_RESIDENCIAS_MEDIA_7_DIAS', 'PERCENTUAL_VARIACAO_PERMANENCIA_RESIDENCIAS_MEDIA_7_DIAS_DETRENDED', 'PERCENTUAL_VARIACAO_PERMANENCIA_RESIDENCIAS_MEDIA_7_DIAS_WHITED']]"
   ],
   "metadata": {
    "collapsed": false,
    "ExecuteTime": {
     "end_time": "2024-03-15T14:10:44.860155Z",
     "start_time": "2024-03-15T14:10:44.834191Z"
    }
   },
   "execution_count": 12
  },
  {
   "cell_type": "code",
   "execution_count": 13,
   "outputs": [
    {
     "data": {
      "text/plain": "count    41.0\nmean      0.0\nstd       0.0\nmin       0.0\n25%       0.0\n50%       0.0\n75%       0.0\nmax       0.0\nName: P-value, dtype: float64"
     },
     "execution_count": 13,
     "metadata": {},
     "output_type": "execute_result"
    }
   ],
   "source": [
    "df_test_stationary_diff[df_test_stationary_diff.COLUMN == 'PERCENTUAL_VARIACAO_PERMANENCIA_RESIDENCIAS_MEDIA_7_DIAS']['P-value'].describe()"
   ],
   "metadata": {
    "collapsed": false,
    "ExecuteTime": {
     "end_time": "2024-03-15T14:10:44.875567Z",
     "start_time": "2024-03-15T14:10:44.862834Z"
    }
   }
  },
  {
   "cell_type": "code",
   "execution_count": 14,
   "outputs": [
    {
     "data": {
      "text/plain": "count    41.0\nmean      0.0\nstd       0.0\nmin       0.0\n25%       0.0\n50%       0.0\n75%       0.0\nmax       0.0\nName: P-value, dtype: float64"
     },
     "execution_count": 14,
     "metadata": {},
     "output_type": "execute_result"
    }
   ],
   "source": [
    "df_test_stationary_diff[df_test_stationary_diff.COLUMN == 'r0']['P-value'].describe()"
   ],
   "metadata": {
    "collapsed": false,
    "ExecuteTime": {
     "end_time": "2024-03-15T14:10:44.891602Z",
     "start_time": "2024-03-15T14:10:44.877537Z"
    }
   }
  },
  {
   "cell_type": "code",
   "execution_count": 15,
   "outputs": [
    {
     "data": {
      "text/plain": "count    41.000000\nmean      0.127846\nstd       0.241962\nmin       0.000000\n25%       0.000100\n50%       0.008300\n75%       0.078700\nmax       0.829700\nName: WHITE_NOISE_P_VALUE, dtype: float64"
     },
     "execution_count": 15,
     "metadata": {},
     "output_type": "execute_result"
    }
   ],
   "source": [
    "df_test_stationary_diff[df_test_stationary_diff.COLUMN == 'PERCENTUAL_VARIACAO_PERMANENCIA_RESIDENCIAS_MEDIA_7_DIAS']['WHITE_NOISE_P_VALUE'].round(4).describe()"
   ],
   "metadata": {
    "collapsed": false,
    "ExecuteTime": {
     "end_time": "2024-03-15T14:10:44.912542Z",
     "start_time": "2024-03-15T14:10:44.893303Z"
    }
   }
  },
  {
   "cell_type": "code",
   "execution_count": 16,
   "outputs": [
    {
     "data": {
      "text/plain": "<Figure size 432x288 with 1 Axes>",
      "image/png": "[encoded data removed]"
     },
     "metadata": {
      "needs_background": "light"
     },
     "output_type": "display_data"
    }
   ],
   "source": [
    "plt.boxplot(df_test_stationary_diff[df_test_stationary_diff.COLUMN == 'PERCENTUAL_VARIACAO_PERMANENCIA_RESIDENCIAS_MEDIA_7_DIAS']['P-value'])\n",
    "plt.show()"
   ],
   "metadata": {
    "collapsed": false,
    "ExecuteTime": {
     "end_time": "2024-03-15T14:10:45.150473Z",
     "start_time": "2024-03-15T14:10:44.914832Z"
    }
   }
  },
  {
   "cell_type": "code",
   "execution_count": 17,
   "outputs": [
    {
     "data": {
      "text/plain": "<Figure size 432x288 with 1 Axes>",
      "image/png": "[encoded data removed]"
     },
     "metadata": {
      "needs_background": "light"
     },
     "output_type": "display_data"
    }
   ],
   "source": [
    "plt.boxplot(df_test_stationary_diff[df_test_stationary_diff.COLUMN == 'r0']['P-value'])\n",
    "plt.show()"
   ],
   "metadata": {
    "collapsed": false,
    "ExecuteTime": {
     "end_time": "2024-03-15T14:10:45.337328Z",
     "start_time": "2024-03-15T14:10:45.152935Z"
    }
   }
  },
  {
   "cell_type": "code",
   "execution_count": 18,
   "outputs": [
    {
     "data": {
      "text/plain": "<Figure size 432x288 with 1 Axes>",
      "image/png": "[encoded data removed]"
     },
     "metadata": {
      "needs_background": "light"
     },
     "output_type": "display_data"
    }
   ],
   "source": [
    "plt.boxplot(df_test_stationary_diff[df_test_stationary_diff.COLUMN == 'PERCENTUAL_VARIACAO_PERMANENCIA_RESIDENCIAS_MEDIA_7_DIAS']['WHITE_NOISE_P_VALUE'])\n",
    "plt.show()"
   ],
   "metadata": {
    "collapsed": false,
    "ExecuteTime": {
     "end_time": "2024-03-15T14:10:45.517880Z",
     "start_time": "2024-03-15T14:10:45.339424Z"
    }
   }
  },
  {
   "cell_type": "code",
   "execution_count": 19,
   "outputs": [
    {
     "data": {
      "text/plain": "    Test Statistic  P-value  Lags Used  No of Observations  \\\n2            -7.71      0.0         21                 923   \n4            -8.62      0.0         22                 931   \n6            -4.83      0.0         22                 938   \n10           -7.28      0.0         22                 921   \n14           -8.29      0.0         22                 933   \n16           -5.62      0.0         21                 936   \n18           -8.27      0.0         22                 929   \n20           -5.64      0.0         22                 941   \n24           -8.43      0.0         22                 923   \n26           -5.53      0.0         22                 937   \n28           -7.13      0.0         22                 922   \n30           -5.65      0.0         22                 939   \n32           -7.47      0.0         22                 931   \n34           -6.72      0.0         22                 915   \n36           -5.25      0.0         22                 938   \n38           -7.55      0.0         22                 922   \n44           -5.74      0.0         22                 920   \n52           -8.01      0.0         21                 923   \n56           -7.56      0.0         22                 923   \n58           -5.51      0.0         22                 940   \n60           -7.88      0.0         22                 933   \n62           -7.11      0.0         22                 920   \n66           -6.11      0.0         21                 915   \n68           -7.82      0.0         22                 924   \n70           -5.54      0.0         22                 941   \n72           -8.14      0.0         22                 925   \n74           -5.93      0.0         22                 930   \n78           -7.82      0.0         22                 925   \n80           -7.34      0.0         22                 930   \n\n    CODIGO_MUNICIPIO_7                MUNICIPIO  \\\n2              2800308                  Aracaju   \n4              3106200           Belo Horizonte   \n6              1501402                    Belém   \n10             3509502                 Campinas   \n14             3118601                 Contagem   \n16             5103403                   Cuiabá   \n18             4106902                 Curitiba   \n20             3301702          Duque de Caxias   \n24             4205407            Florianópolis   \n26             2304400                Fortaleza   \n28             5208707                  Goiânia   \n30             3518800                Guarulhos   \n32             2607901  Jaboatão dos Guararapes   \n34             4209102                Joinville   \n36             2507507              João Pessoa   \n38             3136702             Juiz de Fora   \n44             1302603                   Manaus   \n52             4314902             Porto Alegre   \n56             3543402           Ribeirão Preto   \n58             3304557           Rio de Janeiro   \n60             2927408                 Salvador   \n62             3547809              Santo André   \n66             3552205                 Sorocaba   \n68             3548708    São Bernardo do Campo   \n70             3304904              São Gonçalo   \n72             3549904      São José dos Campos   \n74             2111300                 São Luís   \n78             2211001                 Teresina   \n80             3170206               Uberlândia   \n\n                                               COLUMN  WHITE_NOISE_P_VALUE  \n2   PERCENTUAL_VARIACAO_PERMANENCIA_RESIDENCIAS_ME...         1.382679e-04  \n4   PERCENTUAL_VARIACAO_PERMANENCIA_RESIDENCIAS_ME...         3.562595e-03  \n6   PERCENTUAL_VARIACAO_PERMANENCIA_RESIDENCIAS_ME...         3.674167e-02  \n10  PERCENTUAL_VARIACAO_PERMANENCIA_RESIDENCIAS_ME...         4.346304e-12  \n14  PERCENTUAL_VARIACAO_PERMANENCIA_RESIDENCIAS_ME...         5.784690e-04  \n16  PERCENTUAL_VARIACAO_PERMANENCIA_RESIDENCIAS_ME...         2.958051e-02  \n18  PERCENTUAL_VARIACAO_PERMANENCIA_RESIDENCIAS_ME...         1.024209e-03  \n20  PERCENTUAL_VARIACAO_PERMANENCIA_RESIDENCIAS_ME...         1.693215e-04  \n24  PERCENTUAL_VARIACAO_PERMANENCIA_RESIDENCIAS_ME...         2.092893e-07  \n26  PERCENTUAL_VARIACAO_PERMANENCIA_RESIDENCIAS_ME...         1.086452e-02  \n28  PERCENTUAL_VARIACAO_PERMANENCIA_RESIDENCIAS_ME...         2.239695e-02  \n30  PERCENTUAL_VARIACAO_PERMANENCIA_RESIDENCIAS_ME...         1.567494e-03  \n32  PERCENTUAL_VARIACAO_PERMANENCIA_RESIDENCIAS_ME...         2.737223e-03  \n34  PERCENTUAL_VARIACAO_PERMANENCIA_RESIDENCIAS_ME...         4.654113e-11  \n36  PERCENTUAL_VARIACAO_PERMANENCIA_RESIDENCIAS_ME...         2.120531e-05  \n38  PERCENTUAL_VARIACAO_PERMANENCIA_RESIDENCIAS_ME...         3.985062e-05  \n44  PERCENTUAL_VARIACAO_PERMANENCIA_RESIDENCIAS_ME...         7.934059e-03  \n52  PERCENTUAL_VARIACAO_PERMANENCIA_RESIDENCIAS_ME...         6.460811e-06  \n56  PERCENTUAL_VARIACAO_PERMANENCIA_RESIDENCIAS_ME...         6.385790e-03  \n58  PERCENTUAL_VARIACAO_PERMANENCIA_RESIDENCIAS_ME...         8.651579e-03  \n60  PERCENTUAL_VARIACAO_PERMANENCIA_RESIDENCIAS_ME...         3.498159e-02  \n62  PERCENTUAL_VARIACAO_PERMANENCIA_RESIDENCIAS_ME...         2.809141e-06  \n66  PERCENTUAL_VARIACAO_PERMANENCIA_RESIDENCIAS_ME...         1.077904e-05  \n68  PERCENTUAL_VARIACAO_PERMANENCIA_RESIDENCIAS_ME...         6.817152e-03  \n70  PERCENTUAL_VARIACAO_PERMANENCIA_RESIDENCIAS_ME...         1.694933e-02  \n72  PERCENTUAL_VARIACAO_PERMANENCIA_RESIDENCIAS_ME...         1.035291e-05  \n74  PERCENTUAL_VARIACAO_PERMANENCIA_RESIDENCIAS_ME...         3.922102e-02  \n78  PERCENTUAL_VARIACAO_PERMANENCIA_RESIDENCIAS_ME...         2.246697e-05  \n80  PERCENTUAL_VARIACAO_PERMANENCIA_RESIDENCIAS_ME...         8.311724e-03  ",
      "text/html": "<div>\n<style scoped>\n    .dataframe tbody tr th:only-of-type {\n        vertical-align: middle;\n    }\n\n    .dataframe tbody tr th {\n        vertical-align: top;\n    }\n\n    .dataframe thead th {\n        text-align: right;\n    }\n</style>\n<table border=\"1\" class=\"dataframe\">\n  <thead>\n    <tr style=\"text-align: right;\">\n      <th></th>\n      <th>Test Statistic</th>\n      <th>P-value</th>\n      <th>Lags Used</th>\n      <th>No of Observations</th>\n      <th>CODIGO_MUNICIPIO_7</th>\n      <th>MUNICIPIO</th>\n      <th>COLUMN</th>\n      <th>WHITE_NOISE_P_VALUE</th>\n    </tr>\n  </thead>\n  <tbody>\n    <tr>\n      <th>2</th>\n      <td>-7.71</td>\n      <td>0.0</td>\n      <td>21</td>\n      <td>923</td>\n      <td>2800308</td>\n      <td>Aracaju</td>\n      <td>PERCENTUAL_VARIACAO_PERMANENCIA_RESIDENCIAS_ME...</td>\n      <td>1.382679e-04</td>\n    </tr>\n    <tr>\n      <th>4</th>\n      <td>-8.62</td>\n      <td>0.0</td>\n      <td>22</td>\n      <td>931</td>\n      <td>3106200</td>\n      <td>Belo Horizonte</td>\n      <td>PERCENTUAL_VARIACAO_PERMANENCIA_RESIDENCIAS_ME...</td>\n      <td>3.562595e-03</td>\n    </tr>\n    <tr>\n      <th>6</th>\n      <td>-4.83</td>\n      <td>0.0</td>\n      <td>22</td>\n      <td>938</td>\n      <td>1501402</td>\n      <td>Belém</td>\n      <td>PERCENTUAL_VARIACAO_PERMANENCIA_RESIDENCIAS_ME...</td>\n      <td>3.674167e-02</td>\n    </tr>\n    <tr>\n      <th>10</th>\n      <td>-7.28</td>\n      <td>0.0</td>\n      <td>22</td>\n      <td>921</td>\n      <td>3509502</td>\n      <td>Campinas</td>\n      <td>PERCENTUAL_VARIACAO_PERMANENCIA_RESIDENCIAS_ME...</td>\n      <td>4.346304e-12</td>\n    </tr>\n    <tr>\n      <th>14</th>\n      <td>-8.29</td>\n      <td>0.0</td>\n      <td>22</td>\n      <td>933</td>\n      <td>3118601</td>\n      <td>Contagem</td>\n      <td>PERCENTUAL_VARIACAO_PERMANENCIA_RESIDENCIAS_ME...</td>\n      <td>5.784690e-04</td>\n    </tr>\n    <tr>\n      <th>16</th>\n      <td>-5.62</td>\n      <td>0.0</td>\n      <td>21</td>\n      <td>936</td>\n      <td>5103403</td>\n      <td>Cuiabá</td>\n      <td>PERCENTUAL_VARIACAO_PERMANENCIA_RESIDENCIAS_ME...</td>\n      <td>2.958051e-02</td>\n    </tr>\n    <tr>\n      <th>18</th>\n      <td>-8.27</td>\n      <td>0.0</td>\n      <td>22</td>\n      <td>929</td>\n      <td>4106902</td>\n      <td>Curitiba</td>\n      <td>PERCENTUAL_VARIACAO_PERMANENCIA_RESIDENCIAS_ME...</td>\n      <td>1.024209e-03</td>\n    </tr>\n    <tr>\n      <th>20</th>\n      <td>-5.64</td>\n      <td>0.0</td>\n      <td>22</td>\n      <td>941</td>\n      <td>3301702</td>\n      <td>Duque de Caxias</td>\n      <td>PERCENTUAL_VARIACAO_PERMANENCIA_RESIDENCIAS_ME...</td>\n      <td>1.693215e-04</td>\n    </tr>\n    <tr>\n      <th>24</th>\n      <td>-8.43</td>\n      <td>0.0</td>\n      <td>22</td>\n      <td>923</td>\n      <td>4205407</td>\n      <td>Florianópolis</td>\n      <td>PERCENTUAL_VARIACAO_PERMANENCIA_RESIDENCIAS_ME...</td>\n      <td>2.092893e-07</td>\n    </tr>\n    <tr>\n      <th>26</th>\n      <td>-5.53</td>\n      <td>0.0</td>\n      <td>22</td>\n      <td>937</td>\n      <td>2304400</td>\n      <td>Fortaleza</td>\n      <td>PERCENTUAL_VARIACAO_PERMANENCIA_RESIDENCIAS_ME...</td>\n      <td>1.086452e-02</td>\n    </tr>\n    <tr>\n      <th>28</th>\n      <td>-7.13</td>\n      <td>0.0</td>\n      <td>22</td>\n      <td>922</td>\n      <td>5208707</td>\n      <td>Goiânia</td>\n      <td>PERCENTUAL_VARIACAO_PERMANENCIA_RESIDENCIAS_ME...</td>\n      <td>2.239695e-02</td>\n    </tr>\n    <tr>\n      <th>30</th>\n      <td>-5.65</td>\n      <td>0.0</td>\n      <td>22</td>\n      <td>939</td>\n      <td>3518800</td>\n      <td>Guarulhos</td>\n      <td>PERCENTUAL_VARIACAO_PERMANENCIA_RESIDENCIAS_ME...</td>\n      <td>1.567494e-03</td>\n    </tr>\n    <tr>\n      <th>32</th>\n      <td>-7.47</td>\n      <td>0.0</td>\n      <td>22</td>\n      <td>931</td>\n      <td>2607901</td>\n      <td>Jaboatão dos Guararapes</td>\n      <td>PERCENTUAL_VARIACAO_PERMANENCIA_RESIDENCIAS_ME...</td>\n      <td>2.737223e-03</td>\n    </tr>\n    <tr>\n      <th>34</th>\n      <td>-6.72</td>\n      <td>0.0</td>\n      <td>22</td>\n      <td>915</td>\n      <td>4209102</td>\n      <td>Joinville</td>\n      <td>PERCENTUAL_VARIACAO_PERMANENCIA_RESIDENCIAS_ME...</td>\n      <td>4.654113e-11</td>\n    </tr>\n    <tr>\n      <th>36</th>\n      <td>-5.25</td>\n      <td>0.0</td>\n      <td>22</td>\n      <td>938</td>\n      <td>2507507</td>\n      <td>João Pessoa</td>\n      <td>PERCENTUAL_VARIACAO_PERMANENCIA_RESIDENCIAS_ME...</td>\n      <td>2.120531e-05</td>\n    </tr>\n    <tr>\n      <th>38</th>\n      <td>-7.55</td>\n      <td>0.0</td>\n      <td>22</td>\n      <td>922</td>\n      <td>3136702</td>\n      <td>Juiz de Fora</td>\n      <td>PERCENTUAL_VARIACAO_PERMANENCIA_RESIDENCIAS_ME...</td>\n      <td>3.985062e-05</td>\n    </tr>\n    <tr>\n      <th>44</th>\n      <td>-5.74</td>\n      <td>0.0</td>\n      <td>22</td>\n      <td>920</td>\n      <td>1302603</td>\n      <td>Manaus</td>\n      <td>PERCENTUAL_VARIACAO_PERMANENCIA_RESIDENCIAS_ME...</td>\n      <td>7.934059e-03</td>\n    </tr>\n    <tr>\n      <th>52</th>\n      <td>-8.01</td>\n      <td>0.0</td>\n      <td>21</td>\n      <td>923</td>\n      <td>4314902</td>\n      <td>Porto Alegre</td>\n      <td>PERCENTUAL_VARIACAO_PERMANENCIA_RESIDENCIAS_ME...</td>\n      <td>6.460811e-06</td>\n    </tr>\n    <tr>\n      <th>56</th>\n      <td>-7.56</td>\n      <td>0.0</td>\n      <td>22</td>\n      <td>923</td>\n      <td>3543402</td>\n      <td>Ribeirão Preto</td>\n      <td>PERCENTUAL_VARIACAO_PERMANENCIA_RESIDENCIAS_ME...</td>\n      <td>6.385790e-03</td>\n    </tr>\n    <tr>\n      <th>58</th>\n      <td>-5.51</td>\n      <td>0.0</td>\n      <td>22</td>\n      <td>940</td>\n      <td>3304557</td>\n      <td>Rio de Janeiro</td>\n      <td>PERCENTUAL_VARIACAO_PERMANENCIA_RESIDENCIAS_ME...</td>\n      <td>8.651579e-03</td>\n    </tr>\n    <tr>\n      <th>60</th>\n      <td>-7.88</td>\n      <td>0.0</td>\n      <td>22</td>\n      <td>933</td>\n      <td>2927408</td>\n      <td>Salvador</td>\n      <td>PERCENTUAL_VARIACAO_PERMANENCIA_RESIDENCIAS_ME...</td>\n      <td>3.498159e-02</td>\n    </tr>\n    <tr>\n      <th>62</th>\n      <td>-7.11</td>\n      <td>0.0</td>\n      <td>22</td>\n      <td>920</td>\n      <td>3547809</td>\n      <td>Santo André</td>\n      <td>PERCENTUAL_VARIACAO_PERMANENCIA_RESIDENCIAS_ME...</td>\n      <td>2.809141e-06</td>\n    </tr>\n    <tr>\n      <th>66</th>\n      <td>-6.11</td>\n      <td>0.0</td>\n      <td>21</td>\n      <td>915</td>\n      <td>3552205</td>\n      <td>Sorocaba</td>\n      <td>PERCENTUAL_VARIACAO_PERMANENCIA_RESIDENCIAS_ME...</td>\n      <td>1.077904e-05</td>\n    </tr>\n    <tr>\n      <th>68</th>\n      <td>-7.82</td>\n      <td>0.0</td>\n      <td>22</td>\n      <td>924</td>\n      <td>3548708</td>\n      <td>São Bernardo do Campo</td>\n      <td>PERCENTUAL_VARIACAO_PERMANENCIA_RESIDENCIAS_ME...</td>\n      <td>6.817152e-03</td>\n    </tr>\n    <tr>\n      <th>70</th>\n      <td>-5.54</td>\n      <td>0.0</td>\n      <td>22</td>\n      <td>941</td>\n      <td>3304904</td>\n      <td>São Gonçalo</td>\n      <td>PERCENTUAL_VARIACAO_PERMANENCIA_RESIDENCIAS_ME...</td>\n      <td>1.694933e-02</td>\n    </tr>\n    <tr>\n      <th>72</th>\n      <td>-8.14</td>\n      <td>0.0</td>\n      <td>22</td>\n      <td>925</td>\n      <td>3549904</td>\n      <td>São José dos Campos</td>\n      <td>PERCENTUAL_VARIACAO_PERMANENCIA_RESIDENCIAS_ME...</td>\n      <td>1.035291e-05</td>\n    </tr>\n    <tr>\n      <th>74</th>\n      <td>-5.93</td>\n      <td>0.0</td>\n      <td>22</td>\n      <td>930</td>\n      <td>2111300</td>\n      <td>São Luís</td>\n      <td>PERCENTUAL_VARIACAO_PERMANENCIA_RESIDENCIAS_ME...</td>\n      <td>3.922102e-02</td>\n    </tr>\n    <tr>\n      <th>78</th>\n      <td>-7.82</td>\n      <td>0.0</td>\n      <td>22</td>\n      <td>925</td>\n      <td>2211001</td>\n      <td>Teresina</td>\n      <td>PERCENTUAL_VARIACAO_PERMANENCIA_RESIDENCIAS_ME...</td>\n      <td>2.246697e-05</td>\n    </tr>\n    <tr>\n      <th>80</th>\n      <td>-7.34</td>\n      <td>0.0</td>\n      <td>22</td>\n      <td>930</td>\n      <td>3170206</td>\n      <td>Uberlândia</td>\n      <td>PERCENTUAL_VARIACAO_PERMANENCIA_RESIDENCIAS_ME...</td>\n      <td>8.311724e-03</td>\n    </tr>\n  </tbody>\n</table>\n</div>"
     },
     "execution_count": 19,
     "metadata": {},
     "output_type": "execute_result"
    }
   ],
   "source": [
    "df_test_stationary_diff[(df_test_stationary_diff.COLUMN == 'PERCENTUAL_VARIACAO_PERMANENCIA_RESIDENCIAS_MEDIA_7_DIAS') & (df_test_stationary_diff['WHITE_NOISE_P_VALUE'] < 0.05)]"
   ],
   "metadata": {
    "collapsed": false,
    "ExecuteTime": {
     "end_time": "2024-03-15T14:10:45.556162Z",
     "start_time": "2024-03-15T14:10:45.519859Z"
    }
   }
  },
  {
   "cell_type": "code",
   "execution_count": 20,
   "outputs": [
    {
     "data": {
      "text/plain": "    Test Statistic  P-value  Lags Used  No of Observations  \\\n3            -6.82      0.0         22                 999   \n7            -6.14      0.0         22                1015   \n21           -5.61      0.0         22                1018   \n31           -5.57      0.0         22                1016   \n37           -5.49      0.0         22                1015   \n47           -5.37      0.0         22                1006   \n73           -5.13      0.0         22                1002   \n75           -6.45      0.0         22                1007   \n79           -6.18      0.0         22                1002   \n\n    CODIGO_MUNICIPIO_7            MUNICIPIO COLUMN  WHITE_NOISE_P_VALUE  \n3              2800308              Aracaju     r0         1.024345e-09  \n7              1501402                Belém     r0         1.548704e-05  \n21             3301702      Duque de Caxias     r0         3.167234e-02  \n31             3518800            Guarulhos     r0         3.321348e-02  \n37             2507507          João Pessoa     r0         4.330790e-04  \n47             2408102                Natal     r0         8.544162e-03  \n73             3549904  São José dos Campos     r0         4.438482e-03  \n75             2111300             São Luís     r0         2.550056e-03  \n79             2211001             Teresina     r0         1.033779e-03  ",
      "text/html": "<div>\n<style scoped>\n    .dataframe tbody tr th:only-of-type {\n        vertical-align: middle;\n    }\n\n    .dataframe tbody tr th {\n        vertical-align: top;\n    }\n\n    .dataframe thead th {\n        text-align: right;\n    }\n</style>\n<table border=\"1\" class=\"dataframe\">\n  <thead>\n    <tr style=\"text-align: right;\">\n      <th></th>\n      <th>Test Statistic</th>\n      <th>P-value</th>\n      <th>Lags Used</th>\n      <th>No of Observations</th>\n      <th>CODIGO_MUNICIPIO_7</th>\n      <th>MUNICIPIO</th>\n      <th>COLUMN</th>\n      <th>WHITE_NOISE_P_VALUE</th>\n    </tr>\n  </thead>\n  <tbody>\n    <tr>\n      <th>3</th>\n      <td>-6.82</td>\n      <td>0.0</td>\n      <td>22</td>\n      <td>999</td>\n      <td>2800308</td>\n      <td>Aracaju</td>\n      <td>r0</td>\n      <td>1.024345e-09</td>\n    </tr>\n    <tr>\n      <th>7</th>\n      <td>-6.14</td>\n      <td>0.0</td>\n      <td>22</td>\n      <td>1015</td>\n      <td>1501402</td>\n      <td>Belém</td>\n      <td>r0</td>\n      <td>1.548704e-05</td>\n    </tr>\n    <tr>\n      <th>21</th>\n      <td>-5.61</td>\n      <td>0.0</td>\n      <td>22</td>\n      <td>1018</td>\n      <td>3301702</td>\n      <td>Duque de Caxias</td>\n      <td>r0</td>\n      <td>3.167234e-02</td>\n    </tr>\n    <tr>\n      <th>31</th>\n      <td>-5.57</td>\n      <td>0.0</td>\n      <td>22</td>\n      <td>1016</td>\n      <td>3518800</td>\n      <td>Guarulhos</td>\n      <td>r0</td>\n      <td>3.321348e-02</td>\n    </tr>\n    <tr>\n      <th>37</th>\n      <td>-5.49</td>\n      <td>0.0</td>\n      <td>22</td>\n      <td>1015</td>\n      <td>2507507</td>\n      <td>João Pessoa</td>\n      <td>r0</td>\n      <td>4.330790e-04</td>\n    </tr>\n    <tr>\n      <th>47</th>\n      <td>-5.37</td>\n      <td>0.0</td>\n      <td>22</td>\n      <td>1006</td>\n      <td>2408102</td>\n      <td>Natal</td>\n      <td>r0</td>\n      <td>8.544162e-03</td>\n    </tr>\n    <tr>\n      <th>73</th>\n      <td>-5.13</td>\n      <td>0.0</td>\n      <td>22</td>\n      <td>1002</td>\n      <td>3549904</td>\n      <td>São José dos Campos</td>\n      <td>r0</td>\n      <td>4.438482e-03</td>\n    </tr>\n    <tr>\n      <th>75</th>\n      <td>-6.45</td>\n      <td>0.0</td>\n      <td>22</td>\n      <td>1007</td>\n      <td>2111300</td>\n      <td>São Luís</td>\n      <td>r0</td>\n      <td>2.550056e-03</td>\n    </tr>\n    <tr>\n      <th>79</th>\n      <td>-6.18</td>\n      <td>0.0</td>\n      <td>22</td>\n      <td>1002</td>\n      <td>2211001</td>\n      <td>Teresina</td>\n      <td>r0</td>\n      <td>1.033779e-03</td>\n    </tr>\n  </tbody>\n</table>\n</div>"
     },
     "execution_count": 20,
     "metadata": {},
     "output_type": "execute_result"
    }
   ],
   "source": [
    "df_test_stationary_diff[(df_test_stationary_diff.COLUMN == 'r0') & (df_test_stationary_diff['WHITE_NOISE_P_VALUE'] < 0.05)]"
   ],
   "metadata": {
    "collapsed": false,
    "ExecuteTime": {
     "end_time": "2024-03-15T14:10:45.581791Z",
     "start_time": "2024-03-15T14:10:45.558191Z"
    }
   }
  },
  {
   "cell_type": "markdown",
   "source": [
    "## Saving data"
   ],
   "metadata": {
    "collapsed": false
   }
  },
  {
   "cell_type": "code",
   "execution_count": 21,
   "outputs": [],
   "source": [
    "df_diff.to_csv('../data/df_treated_time_series.csv')"
   ],
   "metadata": {
    "collapsed": false,
    "ExecuteTime": {
     "end_time": "2024-03-15T14:10:47.046020Z",
     "start_time": "2024-03-15T14:10:45.583959Z"
    }
   }
  },
  {
   "cell_type": "code",
   "execution_count": 22,
   "outputs": [],
   "source": [
    "df_test_stationary_diff.to_csv('../data/df_test_stationary_and_white_noise.csv')"
   ],
   "metadata": {
    "collapsed": false,
    "ExecuteTime": {
     "end_time": "2024-03-15T14:10:47.053872Z",
     "start_time": "2024-03-15T14:10:47.047615Z"
    }
   }
  }
 ],
 "metadata": {
  "kernelspec": {
   "display_name": "Python 3",
   "language": "python",
   "name": "python3"
  },
  "language_info": {
   "codemirror_mode": {
    "name": "ipython",
    "version": 2
   },
   "file_extension": ".py",
   "mimetype": "text/x-python",
   "name": "python",
   "nbconvert_exporter": "python",
   "pygments_lexer": "ipython2",
   "version": "2.7.6"
  }
 },
 "nbformat": 4,
 "nbformat_minor": 0
}
